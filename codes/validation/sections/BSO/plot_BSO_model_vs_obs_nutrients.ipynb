{
 "cells": [
  {
   "cell_type": "code",
   "execution_count": 58,
   "metadata": {},
   "outputs": [
    {
     "name": "stdout",
     "output_type": "stream",
     "text": [
      "computer =  blogin1\n",
      "working directory set to /home/hbkoziel/pyfesom\n"
     ]
    }
   ],
   "source": [
    "import os\n",
    "from os.path import expanduser\n",
    "import socket\n",
    "import sys\n",
    "\n",
    "\n",
    "# BELOW IS SYSTEM/PATH CONFIGURATION #\n",
    "my_home = expanduser(\"~\")\n",
    "running_system = socket.gethostname()\n",
    "# Configure machine's names here #\n",
    "systemHLRN = 'blogin1'\n",
    "systemLOCAL = 'Laurents-MacBook-Pro.local'\n",
    "my_home = expanduser(\"~\")\n",
    "# Define local pass #\n",
    "if running_system == systemLOCAL:\n",
    "    print \"computer = \", running_system\n",
    "    wd_path = os.path.join(my_home,\"Documents\",\"projects\", \"pyfesom\")\n",
    "elif running_system[0:1] == \"b\" or running_system == systemHLRN:\n",
    "    print \"computer = \", running_system\n",
    "    wd_path = os.path.join(my_home,\"pyfesom\")\n",
    "else:\n",
    "    print 'please configure your local machine : type socket.gethostname()'\n",
    "print \"working directory set to\", wd_path\n",
    "os.chdir(wd_path)\n",
    "sys.path.append(\"codes/modules\")\n",
    "#########################################"
   ]
  },
  {
   "cell_type": "code",
   "execution_count": 59,
   "metadata": {},
   "outputs": [],
   "source": [
    "import matplotlib.pyplot as plt\n",
    "import numpy as np\n",
    "import pandas as pd"
   ]
  },
  {
   "cell_type": "markdown",
   "metadata": {},
   "source": [
    "# AUTOMATIC DEFINITION OF PATHS"
   ]
  },
  {
   "cell_type": "code",
   "execution_count": 60,
   "metadata": {},
   "outputs": [],
   "source": [
    "datapath = wd_path+'/data/'\n",
    "savepath    = wd_path+'/figures/insitu/'"
   ]
  },
  {
   "cell_type": "markdown",
   "metadata": {},
   "source": [
    "# loading the data"
   ]
  },
  {
   "cell_type": "code",
   "execution_count": 61,
   "metadata": {},
   "outputs": [
    {
     "name": "stdout",
     "output_type": "stream",
     "text": [
      "/home/hbkoziel/pyfesom/data/BSO_nuts/BSO_nutrients_1980-2016_light.csv\n"
     ]
    },
    {
     "data": {
      "text/html": [
       "<div>\n",
       "<style scoped>\n",
       "    .dataframe tbody tr th:only-of-type {\n",
       "        vertical-align: middle;\n",
       "    }\n",
       "\n",
       "    .dataframe tbody tr th {\n",
       "        vertical-align: top;\n",
       "    }\n",
       "\n",
       "    .dataframe thead th {\n",
       "        text-align: right;\n",
       "    }\n",
       "</style>\n",
       "<table border=\"1\" class=\"dataframe\">\n",
       "  <thead>\n",
       "    <tr style=\"text-align: right;\">\n",
       "      <th></th>\n",
       "      <th>Cruise</th>\n",
       "      <th>Station</th>\n",
       "      <th>lon</th>\n",
       "      <th>lat</th>\n",
       "      <th>Bot_Depth</th>\n",
       "      <th>Depth</th>\n",
       "      <th>po</th>\n",
       "      <th>Si</th>\n",
       "      <th>N</th>\n",
       "    </tr>\n",
       "    <tr>\n",
       "      <th>time</th>\n",
       "      <th></th>\n",
       "      <th></th>\n",
       "      <th></th>\n",
       "      <th></th>\n",
       "      <th></th>\n",
       "      <th></th>\n",
       "      <th></th>\n",
       "      <th></th>\n",
       "      <th></th>\n",
       "    </tr>\n",
       "  </thead>\n",
       "  <tbody>\n",
       "    <tr>\n",
       "      <th>1980-06-22 11:00:00</th>\n",
       "      <td>1980005</td>\n",
       "      <td>558</td>\n",
       "      <td>20.0</td>\n",
       "      <td>70.5</td>\n",
       "      <td>129</td>\n",
       "      <td>0.0</td>\n",
       "      <td>0.31</td>\n",
       "      <td>2.2</td>\n",
       "      <td>1.2</td>\n",
       "    </tr>\n",
       "    <tr>\n",
       "      <th>1980-06-22 11:00:00</th>\n",
       "      <td>1980005</td>\n",
       "      <td>558</td>\n",
       "      <td>20.0</td>\n",
       "      <td>70.5</td>\n",
       "      <td>129</td>\n",
       "      <td>5.0</td>\n",
       "      <td>0.26</td>\n",
       "      <td>2.1</td>\n",
       "      <td>1.2</td>\n",
       "    </tr>\n",
       "    <tr>\n",
       "      <th>1980-06-22 11:00:00</th>\n",
       "      <td>1980005</td>\n",
       "      <td>558</td>\n",
       "      <td>20.0</td>\n",
       "      <td>70.5</td>\n",
       "      <td>129</td>\n",
       "      <td>10.0</td>\n",
       "      <td>0.28</td>\n",
       "      <td>2.2</td>\n",
       "      <td>1.2</td>\n",
       "    </tr>\n",
       "    <tr>\n",
       "      <th>1980-06-22 11:00:00</th>\n",
       "      <td>1980005</td>\n",
       "      <td>558</td>\n",
       "      <td>20.0</td>\n",
       "      <td>70.5</td>\n",
       "      <td>129</td>\n",
       "      <td>20.0</td>\n",
       "      <td>0.27</td>\n",
       "      <td>2.2</td>\n",
       "      <td>1.2</td>\n",
       "    </tr>\n",
       "    <tr>\n",
       "      <th>1980-06-22 11:00:00</th>\n",
       "      <td>1980005</td>\n",
       "      <td>558</td>\n",
       "      <td>20.0</td>\n",
       "      <td>70.5</td>\n",
       "      <td>129</td>\n",
       "      <td>30.0</td>\n",
       "      <td>0.27</td>\n",
       "      <td>2.2</td>\n",
       "      <td>1.3</td>\n",
       "    </tr>\n",
       "  </tbody>\n",
       "</table>\n",
       "</div>"
      ],
      "text/plain": [
       "                      Cruise  Station   lon   lat  Bot_Depth  Depth    po  \\\n",
       "time                                                                        \n",
       "1980-06-22 11:00:00  1980005      558  20.0  70.5        129    0.0  0.31   \n",
       "1980-06-22 11:00:00  1980005      558  20.0  70.5        129    5.0  0.26   \n",
       "1980-06-22 11:00:00  1980005      558  20.0  70.5        129   10.0  0.28   \n",
       "1980-06-22 11:00:00  1980005      558  20.0  70.5        129   20.0  0.27   \n",
       "1980-06-22 11:00:00  1980005      558  20.0  70.5        129   30.0  0.27   \n",
       "\n",
       "                      Si    N  \n",
       "time                           \n",
       "1980-06-22 11:00:00  2.2  1.2  \n",
       "1980-06-22 11:00:00  2.1  1.2  \n",
       "1980-06-22 11:00:00  2.2  1.2  \n",
       "1980-06-22 11:00:00  2.2  1.2  \n",
       "1980-06-22 11:00:00  2.2  1.3  "
      ]
     },
     "execution_count": 61,
     "metadata": {},
     "output_type": "execute_result"
    }
   ],
   "source": [
    "BSO_obs = datapath+'BSO_nuts/BSO_nutrients_1980-2016_light.csv'\n",
    "print BSO_obs\n",
    "df_obs = pd.read_csv(BSO_obs, header=0, sep = ';',na_values=[''], decimal=\",\", index_col='time', parse_dates=True)\n",
    "df_obs.head()"
   ]
  },
  {
   "cell_type": "code",
   "execution_count": 62,
   "metadata": {},
   "outputs": [
    {
     "data": {
      "text/html": [
       "<div>\n",
       "<style scoped>\n",
       "    .dataframe tbody tr th:only-of-type {\n",
       "        vertical-align: middle;\n",
       "    }\n",
       "\n",
       "    .dataframe tbody tr th {\n",
       "        vertical-align: top;\n",
       "    }\n",
       "\n",
       "    .dataframe thead th {\n",
       "        text-align: right;\n",
       "    }\n",
       "</style>\n",
       "<table border=\"1\" class=\"dataframe\">\n",
       "  <thead>\n",
       "    <tr style=\"text-align: right;\">\n",
       "      <th></th>\n",
       "      <th>DIN_0_50m</th>\n",
       "      <th>DIN_50_500m</th>\n",
       "      <th>DIN_ALL_DEPTHS</th>\n",
       "    </tr>\n",
       "    <tr>\n",
       "      <th>time</th>\n",
       "      <th></th>\n",
       "      <th></th>\n",
       "      <th></th>\n",
       "    </tr>\n",
       "  </thead>\n",
       "  <tbody>\n",
       "    <tr>\n",
       "      <th>1980-01-01</th>\n",
       "      <td>8.845323</td>\n",
       "      <td>9.925855</td>\n",
       "      <td>9.655722</td>\n",
       "    </tr>\n",
       "    <tr>\n",
       "      <th>1980-02-01</th>\n",
       "      <td>9.614650</td>\n",
       "      <td>10.076662</td>\n",
       "      <td>9.961159</td>\n",
       "    </tr>\n",
       "    <tr>\n",
       "      <th>1980-03-01</th>\n",
       "      <td>10.010266</td>\n",
       "      <td>10.260735</td>\n",
       "      <td>10.198118</td>\n",
       "    </tr>\n",
       "    <tr>\n",
       "      <th>1980-04-01</th>\n",
       "      <td>10.288135</td>\n",
       "      <td>10.503408</td>\n",
       "      <td>10.449590</td>\n",
       "    </tr>\n",
       "    <tr>\n",
       "      <th>1980-05-01</th>\n",
       "      <td>6.770838</td>\n",
       "      <td>10.262804</td>\n",
       "      <td>9.389813</td>\n",
       "    </tr>\n",
       "  </tbody>\n",
       "</table>\n",
       "</div>"
      ],
      "text/plain": [
       "            DIN_0_50m  DIN_50_500m  DIN_ALL_DEPTHS\n",
       "time                                              \n",
       "1980-01-01   8.845323     9.925855        9.655722\n",
       "1980-02-01   9.614650    10.076662        9.961159\n",
       "1980-03-01  10.010266    10.260735       10.198118\n",
       "1980-04-01  10.288135    10.503408       10.449590\n",
       "1980-05-01   6.770838    10.262804        9.389813"
      ]
     },
     "execution_count": 62,
     "metadata": {},
     "output_type": "execute_result"
    }
   ],
   "source": [
    "BSO_DIN_model = datapath+'BSO_nuts/BSO_DIN_model.csv'\n",
    "df_model_din = pd.read_csv(BSO_DIN_model, header=0, sep = ',',na_values=[''], decimal=\".\", index_col='time', parse_dates=True)\n",
    "df_model_din.head()"
   ]
  },
  {
   "cell_type": "code",
   "execution_count": 63,
   "metadata": {},
   "outputs": [
    {
     "data": {
      "text/html": [
       "<div>\n",
       "<style scoped>\n",
       "    .dataframe tbody tr th:only-of-type {\n",
       "        vertical-align: middle;\n",
       "    }\n",
       "\n",
       "    .dataframe tbody tr th {\n",
       "        vertical-align: top;\n",
       "    }\n",
       "\n",
       "    .dataframe thead th {\n",
       "        text-align: right;\n",
       "    }\n",
       "</style>\n",
       "<table border=\"1\" class=\"dataframe\">\n",
       "  <thead>\n",
       "    <tr style=\"text-align: right;\">\n",
       "      <th></th>\n",
       "      <th>DSI_0_50m</th>\n",
       "      <th>DSI_50_500m</th>\n",
       "      <th>DSI_ALL_DEPTHS</th>\n",
       "    </tr>\n",
       "    <tr>\n",
       "      <th>time</th>\n",
       "      <th></th>\n",
       "      <th></th>\n",
       "      <th></th>\n",
       "    </tr>\n",
       "  </thead>\n",
       "  <tbody>\n",
       "    <tr>\n",
       "      <th>1980-01-01</th>\n",
       "      <td>4.966287</td>\n",
       "      <td>5.246417</td>\n",
       "      <td>5.176385</td>\n",
       "    </tr>\n",
       "    <tr>\n",
       "      <th>1980-02-01</th>\n",
       "      <td>5.168779</td>\n",
       "      <td>5.242611</td>\n",
       "      <td>5.224153</td>\n",
       "    </tr>\n",
       "    <tr>\n",
       "      <th>1980-03-01</th>\n",
       "      <td>5.267277</td>\n",
       "      <td>5.281955</td>\n",
       "      <td>5.278285</td>\n",
       "    </tr>\n",
       "    <tr>\n",
       "      <th>1980-04-01</th>\n",
       "      <td>5.359302</td>\n",
       "      <td>5.408779</td>\n",
       "      <td>5.396409</td>\n",
       "    </tr>\n",
       "    <tr>\n",
       "      <th>1980-05-01</th>\n",
       "      <td>3.262100</td>\n",
       "      <td>5.239344</td>\n",
       "      <td>4.745033</td>\n",
       "    </tr>\n",
       "  </tbody>\n",
       "</table>\n",
       "</div>"
      ],
      "text/plain": [
       "            DSI_0_50m  DSI_50_500m  DSI_ALL_DEPTHS\n",
       "time                                              \n",
       "1980-01-01   4.966287     5.246417        5.176385\n",
       "1980-02-01   5.168779     5.242611        5.224153\n",
       "1980-03-01   5.267277     5.281955        5.278285\n",
       "1980-04-01   5.359302     5.408779        5.396409\n",
       "1980-05-01   3.262100     5.239344        4.745033"
      ]
     },
     "execution_count": 63,
     "metadata": {},
     "output_type": "execute_result"
    }
   ],
   "source": [
    "BSO_DSI_model = datapath+'BSO_nuts/BSO_DSI_model.csv'\n",
    "df_model_dsi = pd.read_csv(BSO_DSI_model, header=0, sep = ',',na_values=[''], decimal=\".\", index_col='time', parse_dates=True)\n",
    "df_model_dsi.head()"
   ]
  },
  {
   "cell_type": "code",
   "execution_count": 64,
   "metadata": {},
   "outputs": [
    {
     "data": {
      "text/html": [
       "<div>\n",
       "<style scoped>\n",
       "    .dataframe tbody tr th:only-of-type {\n",
       "        vertical-align: middle;\n",
       "    }\n",
       "\n",
       "    .dataframe tbody tr th {\n",
       "        vertical-align: top;\n",
       "    }\n",
       "\n",
       "    .dataframe thead th {\n",
       "        text-align: right;\n",
       "    }\n",
       "</style>\n",
       "<table border=\"1\" class=\"dataframe\">\n",
       "  <thead>\n",
       "    <tr style=\"text-align: right;\">\n",
       "      <th></th>\n",
       "      <th>DSI_0_50m</th>\n",
       "      <th>DSI_50_500m</th>\n",
       "      <th>DSI_ALL_DEPTHS</th>\n",
       "      <th>DIN_0_50m</th>\n",
       "      <th>DIN_50_500m</th>\n",
       "      <th>DIN_ALL_DEPTHS</th>\n",
       "    </tr>\n",
       "    <tr>\n",
       "      <th>time</th>\n",
       "      <th></th>\n",
       "      <th></th>\n",
       "      <th></th>\n",
       "      <th></th>\n",
       "      <th></th>\n",
       "      <th></th>\n",
       "    </tr>\n",
       "  </thead>\n",
       "  <tbody>\n",
       "    <tr>\n",
       "      <th>1980-01-01</th>\n",
       "      <td>4.966287</td>\n",
       "      <td>5.246417</td>\n",
       "      <td>5.176385</td>\n",
       "      <td>8.845323</td>\n",
       "      <td>9.925855</td>\n",
       "      <td>9.655722</td>\n",
       "    </tr>\n",
       "    <tr>\n",
       "      <th>1980-02-01</th>\n",
       "      <td>5.168779</td>\n",
       "      <td>5.242611</td>\n",
       "      <td>5.224153</td>\n",
       "      <td>9.614650</td>\n",
       "      <td>10.076662</td>\n",
       "      <td>9.961159</td>\n",
       "    </tr>\n",
       "    <tr>\n",
       "      <th>1980-03-01</th>\n",
       "      <td>5.267277</td>\n",
       "      <td>5.281955</td>\n",
       "      <td>5.278285</td>\n",
       "      <td>10.010266</td>\n",
       "      <td>10.260735</td>\n",
       "      <td>10.198118</td>\n",
       "    </tr>\n",
       "    <tr>\n",
       "      <th>1980-04-01</th>\n",
       "      <td>5.359302</td>\n",
       "      <td>5.408779</td>\n",
       "      <td>5.396409</td>\n",
       "      <td>10.288135</td>\n",
       "      <td>10.503408</td>\n",
       "      <td>10.449590</td>\n",
       "    </tr>\n",
       "    <tr>\n",
       "      <th>1980-05-01</th>\n",
       "      <td>3.262100</td>\n",
       "      <td>5.239344</td>\n",
       "      <td>4.745033</td>\n",
       "      <td>6.770838</td>\n",
       "      <td>10.262804</td>\n",
       "      <td>9.389813</td>\n",
       "    </tr>\n",
       "  </tbody>\n",
       "</table>\n",
       "</div>"
      ],
      "text/plain": [
       "            DSI_0_50m  DSI_50_500m  DSI_ALL_DEPTHS  DIN_0_50m  DIN_50_500m  \\\n",
       "time                                                                         \n",
       "1980-01-01   4.966287     5.246417        5.176385   8.845323     9.925855   \n",
       "1980-02-01   5.168779     5.242611        5.224153   9.614650    10.076662   \n",
       "1980-03-01   5.267277     5.281955        5.278285  10.010266    10.260735   \n",
       "1980-04-01   5.359302     5.408779        5.396409  10.288135    10.503408   \n",
       "1980-05-01   3.262100     5.239344        4.745033   6.770838    10.262804   \n",
       "\n",
       "            DIN_ALL_DEPTHS  \n",
       "time                        \n",
       "1980-01-01        9.655722  \n",
       "1980-02-01        9.961159  \n",
       "1980-03-01       10.198118  \n",
       "1980-04-01       10.449590  \n",
       "1980-05-01        9.389813  "
      ]
     },
     "execution_count": 64,
     "metadata": {},
     "output_type": "execute_result"
    }
   ],
   "source": [
    "df_model = pd.concat([df_model_dsi, df_model_din], axis=1, sort=False)\n",
    "df_model.head()"
   ]
  },
  {
   "cell_type": "markdown",
   "metadata": {},
   "source": [
    "# Resampling"
   ]
  },
  {
   "cell_type": "markdown",
   "metadata": {},
   "source": [
    "## observations"
   ]
  },
  {
   "cell_type": "code",
   "execution_count": 65,
   "metadata": {},
   "outputs": [],
   "source": [
    "df_obs_0_50m = df_obs[df_obs.Depth <= 50]\n",
    "df_obs_50_500m = df_obs[df_obs.Depth > 50]\n",
    "\n",
    "df_obs_monthly_0_50m = df_obs_0_50m.resample('M').mean()\n",
    "df_obs_monthly_50_500m = df_obs_50_500m.resample('M').mean()\n",
    "df_obs_monthly_all_depth = df_obs.resample('M').mean()\n",
    "\n",
    "df_obs_winter_monthly_0_50m = df_obs_monthly_0_50m[df_obs_monthly_0_50m.index.month.isin([11,12,1,2,3,4])]\n",
    "df_obs_winter_monthly_50_500m = df_obs_monthly_50_500m[df_obs_monthly_50_500m.index.month.isin([11,12,1,2,3,4])]\n",
    "df_obs_winter_monthly_alldepth = df_obs_monthly_all_depth[df_obs_monthly_all_depth.index.month.isin([11,12,1,2,3,4])]\n",
    "\n",
    "df_obs_winter_0_50m = df_obs_winter_monthly_0_50m.resample('YS').mean()\n",
    "df_obs_winter_50_500m = df_obs_winter_monthly_50_500m.resample('YS').mean()\n",
    "df_obs_winter_alldepth = df_obs_winter_monthly_alldepth.resample('YS').mean()\n",
    "\n",
    "df_obs_yearly_0_50m = df_obs_monthly_0_50m.resample('YS').mean()\n",
    "df_obs_yearly_50_500m = df_obs_monthly_50_500m.resample('YS').mean()\n",
    "df_obs_yearly_alldepth = df_obs_monthly_all_depth.resample('YS').mean()\n",
    "df_obs_yearly_alldepth_std = df_obs_monthly_all_depth.resample('YS').std()"
   ]
  },
  {
   "cell_type": "markdown",
   "metadata": {},
   "source": [
    "## model"
   ]
  },
  {
   "cell_type": "code",
   "execution_count": 66,
   "metadata": {},
   "outputs": [],
   "source": [
    "df_model_winter_monthly = df_model[df_model.index.month.isin([11,12,1,2,3,4])]\n",
    "df_model_winter = df_model_winter_monthly.resample('YS').mean()\n",
    "df_model_yearly = df_model.resample('YS').mean()\n",
    "df_model_yearly_std = df_model.resample('YS').std()"
   ]
  },
  {
   "cell_type": "markdown",
   "metadata": {},
   "source": [
    "# plot DIN"
   ]
  },
  {
   "cell_type": "code",
   "execution_count": null,
   "metadata": {},
   "outputs": [
    {
     "data": {
      "text/plain": [
       "<matplotlib.legend.Legend at 0x2ab348bbc650>"
      ]
     },
     "execution_count": 67,
     "metadata": {},
     "output_type": "execute_result"
    }
   ],
   "source": [
    "fig, ((ax1, ax2), (ax3, ax4)) = plt.subplots(2, 2, sharex=True, sharey=True,\n",
    "                        gridspec_kw={'hspace': 0.1, 'wspace': 0.1},figsize=(10, 10))\n",
    "plt.style.use('default')\n",
    "fig.suptitle('Nitrates concentration at BSO')\n",
    "\n",
    "ax1.plot(df_obs_winter_50_500m.N)\n",
    "ax1.plot(df_model_winter.DIN_50_500m)\n",
    "ax1.set_ylabel('[/mu L-1]')\n",
    "ax1.grid(True)\n",
    "#ax1.set_ylim(8,13)\n",
    "ax1.title.set_text('Winter (NDJFM) averaged at depth >50m')\n",
    "\n",
    "\n",
    "ax2.plot(df_obs_winter_alldepth.N)\n",
    "ax2.plot(df_model_winter.DIN_ALL_DEPTHS)\n",
    "ax2.grid(True)\n",
    "ax2.title.set_text('Winter (NDJFM) averaged all depths')\n",
    "\n",
    "ax3.plot(df_obs_winter_0_50m.N)\n",
    "ax3.plot(df_model_winter.DIN_0_50m)\n",
    "ax3.set_xlabel('time (year)')\n",
    "ax3.set_ylabel('[/mu L-1]')\n",
    "ax3.tick_params(labelrotation=45)\n",
    "ax3.grid(True)\n",
    "ax3.title.set_text('Yearly averaged at depth >50m')\n",
    "\n",
    "ax4.plot(df_obs_yearly_50_500m.N, label='obs')\n",
    "ax4.plot(df_model_yearly.DIN_50_500m,label='model')\n",
    "ax4.set_xlabel('time (year)')\n",
    "ax4.tick_params(labelrotation=45)\n",
    "ax4.grid(True)\n",
    "ax4.title.set_text('Yearly averaged all depths')\n",
    "\n",
    "plt.legend()\n",
    "#plt.savefig(savepath+'BSO_nitrates_obs_vs_model.png', dpi = 150, bbox_inches='tight') \n",
    "      "
   ]
  },
  {
   "cell_type": "markdown",
   "metadata": {},
   "source": [
    "# plot DSI"
   ]
  },
  {
   "cell_type": "code",
   "execution_count": null,
   "metadata": {},
   "outputs": [],
   "source": [
    "fig, ((ax1, ax2), (ax3, ax4)) = plt.subplots(2, 2, sharex=True, sharey=True,\n",
    "                        gridspec_kw={'hspace': 0.1, 'wspace': 0.1},figsize=(10, 10))\n",
    "plt.style.use('default')\n",
    "fig.suptitle('Silicates concentration at BSO')\n",
    "\n",
    "ax1.plot(df_obs_winter_50_500m.Si)\n",
    "ax1.plot(df_model_winter.DSI_50_500m)\n",
    "ax1.set_ylabel('[/mu L-1]')\n",
    "ax1.grid(True)\n",
    "#ax1.set_ylim(8,13)\n",
    "ax1.title.set_text('Winter (NDJFM) averaged at depth >50m')\n",
    "\n",
    "\n",
    "ax2.plot(df_obs_winter_alldepth.Si)\n",
    "ax2.plot(df_model_winter.DSI_ALL_DEPTHS)\n",
    "ax2.grid(True)\n",
    "ax2.title.set_text('Winter (NDJFM) averaged all depths')\n",
    "\n",
    "ax3.plot(df_obs_winter_0_50m.Si)\n",
    "ax3.plot(df_model_winter.DSI_0_50m)\n",
    "ax3.set_xlabel('time (year)')\n",
    "ax3.set_ylabel('[/mu L-1]')\n",
    "ax3.tick_params(labelrotation=45)\n",
    "ax3.grid(True)\n",
    "ax3.title.set_text('Yearly averaged at depth >50m')\n",
    "\n",
    "ax4.plot(df_obs_yearly_50_500m.Si,label='obs')\n",
    "ax4.plot(df_model_yearly.DSI_ALL_DEPTHS,label='model')\n",
    "ax4.set_xlabel('time (year)')\n",
    "ax4.tick_params(labelrotation=45)\n",
    "ax4.grid(True)\n",
    "ax4.title.set_text('Yearly averaged all depths')\n",
    "\n",
    "plt.legend()\n",
    "#plt.savefig(savepath+'BSO_silicates_obs_vs_model.png', dpi = 150, bbox_inches='tight') \n",
    "      "
   ]
  },
  {
   "cell_type": "markdown",
   "metadata": {},
   "source": [
    "# exporting"
   ]
  },
  {
   "cell_type": "code",
   "execution_count": null,
   "metadata": {},
   "outputs": [],
   "source": [
    "dates = pd.date_range('1980', freq=\"YS\", periods= len(np.arange(1980,2016)))\n",
    "df=pd.DataFrame()\n",
    "df['time'] = dates\n",
    "df.set_index('time', inplace= True)"
   ]
  },
  {
   "cell_type": "code",
   "execution_count": null,
   "metadata": {},
   "outputs": [],
   "source": [
    "df['DIN_obs'] = df_obs_yearly_alldepth['N']\n",
    "df['DIN_obs_std'] = df_obs_yearly_alldepth_std['N']\n",
    "df['DSI_obs'] = df_obs_yearly_alldepth['Si']\n",
    "df['DSI_obs_std'] = df_obs_yearly_alldepth_std['Si']"
   ]
  },
  {
   "cell_type": "code",
   "execution_count": null,
   "metadata": {},
   "outputs": [],
   "source": [
    "df['DIN_model'] = df_model_yearly['DIN_ALL_DEPTHS']\n",
    "df['DIN_model_std'] = df_model_yearly_std['DIN_ALL_DEPTHS']\n",
    "df['DSI_model'] = df_model_yearly['DSI_ALL_DEPTHS']\n",
    "df['DSI_model_std'] = df_model_yearly_std['DSI_ALL_DEPTHS']"
   ]
  },
  {
   "cell_type": "code",
   "execution_count": null,
   "metadata": {},
   "outputs": [],
   "source": [
    "df.to_pickle('~/pyfesom/codes/transects/BSO_nut')"
   ]
  },
  {
   "cell_type": "code",
   "execution_count": null,
   "metadata": {},
   "outputs": [],
   "source": [
    "df_model_yearly"
   ]
  },
  {
   "cell_type": "code",
   "execution_count": null,
   "metadata": {},
   "outputs": [],
   "source": []
  }
 ],
 "metadata": {
  "kernelspec": {
   "display_name": "Python 2",
   "language": "python",
   "name": "python2"
  },
  "language_info": {
   "codemirror_mode": {
    "name": "ipython",
    "version": 2
   },
   "file_extension": ".py",
   "mimetype": "text/x-python",
   "name": "python",
   "nbconvert_exporter": "python",
   "pygments_lexer": "ipython2",
   "version": "2.7.16"
  }
 },
 "nbformat": 4,
 "nbformat_minor": 2
}
