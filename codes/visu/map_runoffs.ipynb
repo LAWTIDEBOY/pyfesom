{
 "cells": [
  {
   "cell_type": "code",
   "execution_count": 9,
   "metadata": {},
   "outputs": [
    {
     "name": "stdout",
     "output_type": "stream",
     "text": [
      "computer =  ollie0\n",
      "working directory set to /home/ollie/loziel/pyfesom\n"
     ]
    }
   ],
   "source": [
    "import os\n",
    "from os.path import expanduser\n",
    "import socket\n",
    "import sys\n",
    "import glob\n",
    "\n",
    "# BELOW IS SYSTEM/PATH CONFIGURATION #\n",
    "my_home = expanduser(\"~\")\n",
    "running_system = socket.gethostname()\n",
    "# Configure machine's names here #\n",
    "systemOLLIE = 'ollie0'\n",
    "systemHLRN = 'blogin1'\n",
    "systemLOCAL = 'Laurents-MacBook-Pro.local'\n",
    "my_home = expanduser(\"~\")\n",
    "# Define local pass #\n",
    "if running_system == systemLOCAL:\n",
    "    print \"computer = \", running_system\n",
    "    wd_path = os.path.join(my_home,\"Documents\",\"projects\", \"pyfesom\")\n",
    "elif running_system[0:1] == \"o\" or running_system[0:1] == \"b\" or running_system == systemHLRN or running_system == systemOLLIE:\n",
    "    print \"computer = \", running_system\n",
    "    wd_path = os.path.join(my_home,\"pyfesom\")\n",
    "else:\n",
    "    print 'please configure your local machine : type socket.gethostname()'\n",
    "print \"working directory set to\", wd_path\n",
    "os.chdir(wd_path)\n",
    "sys.path.append(\"codes/modules\") # add custom Vibe 's modules\n",
    "#sys.path.append(\"pyfesom\") # add standard 's modules\n",
    "#########################################"
   ]
  },
  {
   "cell_type": "code",
   "execution_count": 10,
   "metadata": {},
   "outputs": [],
   "source": [
    "import matplotlib.pyplot as plt\n",
    "from mpl_toolkits.basemap import Basemap\n",
    "from pylab import *\n",
    "import pyfesom as pf\n",
    "#from load_mesh_data_new import *\n",
    "import numpy as np\n",
    "import datetime as dt\n",
    "from PiecewiseNorm import PiecewiseNorm\n",
    "from netCDF4 import Dataset\n",
    "#import cmocean as cmaps\n",
    "from matplotlib.colors import ListedColormap\n",
    "import colormaps as cmaps"
   ]
  },
  {
   "cell_type": "code",
   "execution_count": 11,
   "metadata": {},
   "outputs": [
    {
     "name": "stdout",
     "output_type": "stream",
     "text": [
      "directory /work/ollie/loziel/figures/runoff/ already existing\n"
     ]
    }
   ],
   "source": [
    "# PLOT CONFIGURATION #\n",
    "\n",
    "# load colormaps #\n",
    "cmap = ListedColormap(cmaps.viridis.colors)\n",
    "# choose simulation\n",
    "runid='Arc12'\n",
    "# choose depth\n",
    "get3d = False\n",
    "# variable ID\n",
    "var_id= 'tr18'\n",
    "\n",
    "########################\n",
    "\n",
    "# AUTOMATIC DEFINITION OF PATHS\n",
    "resultpath = '/work/ollie/loziel/mesh/meshArc4.5_notrotated/runoff/'\n",
    "savepath    = '/work/ollie/loziel/figures/runoff/'\n",
    "meshpath    = '/work/ollie/loziel/mesh/meshArc4.5_notrotated/'\n",
    "\n",
    "\n",
    "# Create figure directory if it does not exist\n",
    "if os.path.exists(savepath) == False:\n",
    "    try:\n",
    "        os.mkdir(savepath)\n",
    "        print (\"Creation of the directory %s successfull\" % savepath)\n",
    "    except OSError:\n",
    "        print (\"Creation of the directory %s failed\" % savepath)\n",
    "else:\n",
    "    print (\"directory %s already existing\" % savepath)"
   ]
  },
  {
   "cell_type": "code",
   "execution_count": 12,
   "metadata": {},
   "outputs": [
    {
     "name": "stdout",
     "output_type": "stream",
     "text": [
      "Load 2d part of the grid in 36 second(s)\n"
     ]
    }
   ],
   "source": [
    "mesh = pf.load_mesh(meshpath, abg = [0., 0., 0.], usepickle=False,get3d=get3d)"
   ]
  },
  {
   "cell_type": "code",
   "execution_count": 13,
   "metadata": {},
   "outputs": [
    {
     "data": {
      "text/plain": [
       "\n",
       "FESOM mesh:\n",
       "path                  = /work/ollie/loziel/mesh/meshArc4.5_notrotated\n",
       "alpha, beta, gamma    = 0.0, 0.0, 0.0\n",
       "number of 2d nodes    = 753179\n",
       "number of 2d elements = 1480268\n",
       "number of 3d nodes    = 0\n",
       "\n",
       "        "
      ]
     },
     "execution_count": 13,
     "metadata": {},
     "output_type": "execute_result"
    }
   ],
   "source": [
    "mesh"
   ]
  },
  {
   "cell_type": "code",
   "execution_count": 14,
   "metadata": {
    "collapsed": true
   },
   "outputs": [],
   "source": [
    "elem2=mesh.elem[mesh.no_cyclic_elem,:]"
   ]
  },
  {
   "cell_type": "code",
   "execution_count": null,
   "metadata": {
    "collapsed": true
   },
   "outputs": [],
   "source": [
    "# choose date\n",
    "first_year = 1958\n",
    "last_year  = 2019\n",
    "years      = np.arange(first_year,last_year+1,1)\n",
    "months =np.linspace(0,11,12).astype(int)"
   ]
  },
  {
   "cell_type": "code",
   "execution_count": null,
   "metadata": {},
   "outputs": [
    {
     "name": "stdout",
     "output_type": "stream",
     "text": [
      "1958\n",
      "/work/ollie/loziel/mesh/meshArc4.5_notrotated/runoff/runoff_JRA55_monthly_1958.nc\n",
      "Number of nans in tracer:  0\n",
      "Number of inf in tracer:  0\n",
      "Mean of surface:  4.97575019887e-06\n",
      "Max and min:  0.00653110931192 0.0\n",
      "ftriplot, number of dummy points: 0\n"
     ]
    },
    {
     "name": "stderr",
     "output_type": "stream",
     "text": [
      "/global/AWIsoft/intel/2018/intelpython2/lib/python2.7/site-packages/mpl_toolkits/basemap/__init__.py:1767: MatplotlibDeprecationWarning: The get_axis_bgcolor function was deprecated in version 2.0. Use get_facecolor instead.\n",
      "  axisbgc = ax.get_axis_bgcolor()\n"
     ]
    },
    {
     "name": "stdout",
     "output_type": "stream",
     "text": [
      "1958\n",
      "/work/ollie/loziel/mesh/meshArc4.5_notrotated/runoff/runoff_JRA55_monthly_1958.nc\n",
      "Number of nans in tracer:  0\n",
      "Number of inf in tracer:  0\n",
      "Mean of surface:  3.68312151721e-06\n",
      "Max and min:  0.00954455565647 0.0\n",
      "ftriplot, number of dummy points: 0\n",
      "1958\n",
      "/work/ollie/loziel/mesh/meshArc4.5_notrotated/runoff/runoff_JRA55_monthly_1958.nc\n",
      "Number of nans in tracer:  0\n",
      "Number of inf in tracer:  0\n",
      "Mean of surface:  2.89690417936e-06\n",
      "Max and min:  0.0134464667965 0.0\n",
      "ftriplot, number of dummy points: 0\n",
      "1958\n",
      "/work/ollie/loziel/mesh/meshArc4.5_notrotated/runoff/runoff_JRA55_monthly_1958.nc\n",
      "Number of nans in tracer:  0\n",
      "Number of inf in tracer:  0\n",
      "Mean of surface:  4.27383474157e-06\n",
      "Max and min:  0.0175601485799 0.0\n",
      "ftriplot, number of dummy points: 0\n",
      "1958\n",
      "/work/ollie/loziel/mesh/meshArc4.5_notrotated/runoff/runoff_JRA55_monthly_1958.nc\n",
      "Number of nans in tracer:  0\n",
      "Number of inf in tracer:  0\n",
      "Mean of surface:  1.15654214073e-05\n",
      "Max and min:  0.0209649506715 0.0\n",
      "ftriplot, number of dummy points: 0\n",
      "1958\n",
      "/work/ollie/loziel/mesh/meshArc4.5_notrotated/runoff/runoff_JRA55_monthly_1958.nc\n",
      "Number of nans in tracer:  0\n",
      "Number of inf in tracer:  0\n",
      "Mean of surface:  1.78007910785e-05\n",
      "Max and min:  0.0211063777406 0.0\n",
      "ftriplot, number of dummy points: 0\n",
      "1958\n",
      "/work/ollie/loziel/mesh/meshArc4.5_notrotated/runoff/runoff_JRA55_monthly_1958.nc\n",
      "Number of nans in tracer:  0\n",
      "Number of inf in tracer:  0\n",
      "Mean of surface:  1.67839083282e-05\n",
      "Max and min:  0.0191553172893 0.0\n",
      "ftriplot, number of dummy points: 0\n",
      "1958\n",
      "/work/ollie/loziel/mesh/meshArc4.5_notrotated/runoff/runoff_JRA55_monthly_1958.nc\n",
      "Number of nans in tracer:  0\n",
      "Number of inf in tracer:  0\n",
      "Mean of surface:  1.24052342211e-05\n",
      "Max and min:  0.0163310647585 0.0\n",
      "ftriplot, number of dummy points: 0\n",
      "1958\n",
      "/work/ollie/loziel/mesh/meshArc4.5_notrotated/runoff/runoff_JRA55_monthly_1958.nc\n",
      "Number of nans in tracer:  0\n",
      "Number of inf in tracer:  0\n",
      "Mean of surface:  1.19580877168e-05\n",
      "Max and min:  0.013010770625 0.0\n"
     ]
    }
   ],
   "source": [
    "for year in years:\n",
    "    for mo in months:\n",
    "        # loop over years\n",
    "        print year\n",
    "        ncfile = resultpath+'runoff_JRA55_monthly_'+str(year)+'.nc'\n",
    "        print ncfile\n",
    "        f      = Dataset(ncfile, 'r')\n",
    "        runoff    = f.variables['runoff'][mo,0:mesh.n2d]\n",
    "        ##################\n",
    "        data2 = runoff\n",
    "        print 'Number of nans in tracer: ',np.count_nonzero(np.isnan(data2))\n",
    "        print 'Number of inf in tracer: ',np.count_nonzero(np.isinf(data2))\n",
    "        print 'Mean of surface: ',np.mean(data2)\n",
    "        print 'Max and min: ',np.max(data2),np.min(data2)\n",
    "        \n",
    "        \n",
    "        contours = [0, 0.001, 0.0001]\n",
    "        contours = np.arange(contours[0], contours[1]+contours[2], contours[2])\n",
    "        #contours=np.array([0.01, 0.05, 0.1, 0.2, 0.3, 0.4, 0.5, 0.6, 0.7, 0.8])\n",
    "        fig = plt.figure(figsize=(10, 15), facecolor='w', edgecolor='k')\n",
    "        #fig.suptitle('Density (kg m$^{-3}$)')\n",
    "        fig.subplots_adjust(wspace=0.02,hspace=0.02)\n",
    "        elem2=mesh.elem[mesh.no_cyclic_elem,:]\n",
    "\n",
    "        d=data2[elem2].mean(axis=1)\n",
    "        k = [i for (i, val) in enumerate(d) if not np.isnan(val)]\n",
    "        elem2=elem2[k,:]\n",
    "        print 'ftriplot, number of dummy points:', len(d)-len(k)\t\t\n",
    "        map = Basemap(projection='nplaea',boundinglat=65,lon_0=0,resolution='l')\n",
    "        x, y = map(mesh.x2, mesh.y2)\n",
    "        #map.drawcoastlines()\n",
    "        plabels=[False,False,False,False]\n",
    "        mlabels=[False,False,False,False]    \n",
    "        map.drawparallels(np.arange(-80.,81.,20.), labels=plabels)\n",
    "        map.drawmeridians(np.arange(-180.,181.,20.),labels=mlabels) #[0,1,0,0]\n",
    "        map.drawmapboundary(fill_color='0.9')\n",
    "        map.fillcontinents(color='.5',lake_color='.7')\n",
    "        eps=(contours.max()-contours.min())/100.\n",
    "        data2[data2<=contours.min()]=contours.min()+eps\n",
    "        data2[data2>=contours.max()]=contours.max()-eps\n",
    "        im=plt.tricontourf(x, y, elem2, data2, levels=contours, cmap=cmap, norm=PiecewiseNorm(contours))\n",
    "\n",
    "        cbar_ax = fig.add_axes([0.14, 0.2, 0.75, 0.02])\n",
    "        cb = fig.colorbar(im, cax=cbar_ax, orientation='horizontal')\n",
    "        cb.set_label(label='runoff', size='large')\n",
    "        cb.ax.tick_params(labelsize='large')\n",
    "        #plt.show() \n",
    "        if mo < 9:\n",
    "            plt.savefig(savepath+'runoff_'+str(year)+'0'+str(mo+1)+'.png', dpi = 150, bbox_inches='tight')\n",
    "        else:\n",
    "            plt.savefig(savepath+'runoff_'+str(year)+str(mo+1)+'.png', dpi = 150, bbox_inches='tight')\n",
    "        plt.close()"
   ]
  },
  {
   "cell_type": "code",
   "execution_count": null,
   "metadata": {
    "collapsed": true
   },
   "outputs": [],
   "source": []
  }
 ],
 "metadata": {
  "kernelspec": {
   "display_name": "Python 2",
   "language": "python",
   "name": "python2"
  },
  "language_info": {
   "codemirror_mode": {
    "name": "ipython",
    "version": 2
   },
   "file_extension": ".py",
   "mimetype": "text/x-python",
   "name": "python",
   "nbconvert_exporter": "python",
   "pygments_lexer": "ipython2",
   "version": "2.7.14"
  }
 },
 "nbformat": 4,
 "nbformat_minor": 4
}
