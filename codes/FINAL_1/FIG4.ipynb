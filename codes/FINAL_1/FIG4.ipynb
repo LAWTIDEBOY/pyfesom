{
 "cells": [
  {
   "cell_type": "code",
   "execution_count": 1,
   "metadata": {},
   "outputs": [],
   "source": [
    "import os\n",
    "from os.path import expanduser\n",
    "import socket\n",
    "import sys\n",
    "import glob\n",
    "\n",
    "# BELOW IS SYSTEM/PATH CONFIGURATION #\n",
    "my_home = expanduser(\"~\")\n",
    "running_system = socket.gethostname()\n",
    "# Configure machine's names here #\n",
    "systemHLRN = 'blogin1'\n",
    "systemLOCAL = 'Laurents-MacBook-Pro.local'\n",
    "my_home = expanduser(\"~\")\n",
    "# Define local pass #\n",
    "wd_path = '/home/hbkoziel/pyfesom/'\n",
    "save_path = wd_path+'/figures/Arc12/FINAL/'\n",
    "\n",
    "#sys.path.append(\"codes/modules\") # add custom Vibe 's modules\n",
    "sys.path.append('../..') # add standard 's modules\n",
    "sys.path.append('../modules')\n",
    "#########################################"
   ]
  },
  {
   "cell_type": "code",
   "execution_count": 2,
   "metadata": {},
   "outputs": [
    {
     "name": "stdout",
     "output_type": "stream",
     "text": [
      "No joblib\n",
      "no cmocean\n"
     ]
    }
   ],
   "source": [
    "import pyfesom as pf\n",
    "import matplotlib.pyplot as plt\n",
    "from matplotlib import cm\n",
    "from mpl_toolkits.basemap import Basemap\n",
    "import numpy as np\n",
    "from netCDF4 import Dataset\n",
    "import os\n",
    "import time\n",
    "\n",
    "import xarray as xr\n",
    "import pandas as pd\n",
    "sys.path.append('/home/hbkoziel/pyfesom/pyfesom/cmocean/')\n",
    "import cmocean as cmap"
   ]
  },
  {
   "cell_type": "code",
   "execution_count": 3,
   "metadata": {},
   "outputs": [
    {
     "name": "stdout",
     "output_type": "stream",
     "text": [
      "/home/hbkoziel/pyfesom/data/mesh/meshArc4.5/pickle_mesh\n",
      "2\n",
      "The usepickle == True)\n",
      "The pickle file for python 2 exists.\n",
      "The mesh will be loaded from /home/hbkoziel/pyfesom/data/mesh/meshArc4.5/pickle_mesh\n"
     ]
    }
   ],
   "source": [
    "# Loading mesh for run\n",
    "\n",
    "mesh_id    = 'meshArc4.5'\n",
    "meshpath   = '/home/hbkoziel/pyfesom/data/mesh/'+mesh_id+'/'            # Defining path where mesh is stored\n",
    "mesh = pf.load_mesh(meshpath, usepickle=True, get3d=True)                                    # Loading mesh, stores it in mesh.****  \n",
    "#mesh = pf.fesom_mesh(meshpath, get3d=True)\n",
    "#mesh.zlevs = -mesh.zlevs                                            # Depth is made negative\n",
    "\n",
    "tracername = 'VNF'\n",
    "first_year = 1985\n",
    "last_year  = 2015\n",
    "years      = np.arange(first_year,last_year+1,1)\n",
    "runid\t= 'Arc12'\n",
    "\n",
    "data_path  = '/scratch/usr/hbkoziel/'+runid+'/netcdf/'"
   ]
  },
  {
   "cell_type": "code",
   "execution_count": 4,
   "metadata": {},
   "outputs": [
    {
     "ename": "ValueError",
     "evalue": "conflicting sizes for dimension 'time': length 31 on 'time' and length 372 on u'VNF'",
     "output_type": "error",
     "traceback": [
      "\u001b[0;31m--------------------------------------------------------------------------\u001b[0m",
      "\u001b[0;31mValueError\u001b[0m                               Traceback (most recent call last)",
      "\u001b[0;32m<ipython-input-4-a11a217c6bd7>\u001b[0m in \u001b[0;36m<module>\u001b[0;34m()\u001b[0m\n\u001b[1;32m      1\u001b[0m \u001b[0mtime\u001b[0m \u001b[0;34m=\u001b[0m \u001b[0mpd\u001b[0m\u001b[0;34m.\u001b[0m\u001b[0mdate_range\u001b[0m\u001b[0;34m(\u001b[0m\u001b[0;34m'1985-01-01'\u001b[0m\u001b[0;34m,\u001b[0m \u001b[0mfreq\u001b[0m\u001b[0;34m=\u001b[0m\u001b[0;34m\"Y\"\u001b[0m\u001b[0;34m,\u001b[0m \u001b[0mperiods\u001b[0m\u001b[0;34m=\u001b[0m \u001b[0mlen\u001b[0m\u001b[0;34m(\u001b[0m\u001b[0mnp\u001b[0m\u001b[0;34m.\u001b[0m\u001b[0marange\u001b[0m\u001b[0;34m(\u001b[0m\u001b[0;36m1985\u001b[0m\u001b[0;34m,\u001b[0m\u001b[0;36m2016\u001b[0m\u001b[0;34m,\u001b[0m\u001b[0;36m1\u001b[0m\u001b[0;34m)\u001b[0m\u001b[0;34m)\u001b[0m\u001b[0;34m)\u001b[0m\u001b[0;34m\u001b[0m\u001b[0m\n\u001b[1;32m      2\u001b[0m \u001b[0mdata\u001b[0m \u001b[0;34m=\u001b[0m \u001b[0mxr\u001b[0m\u001b[0;34m.\u001b[0m\u001b[0mopen_mfdataset\u001b[0m\u001b[0;34m(\u001b[0m\u001b[0mdata_path\u001b[0m\u001b[0;34m+\u001b[0m\u001b[0mtracername\u001b[0m\u001b[0;34m+\u001b[0m\u001b[0;34m'*.nc'\u001b[0m\u001b[0;34m,\u001b[0m \u001b[0mconcat_dim\u001b[0m\u001b[0;34m=\u001b[0m\u001b[0;34m'time'\u001b[0m\u001b[0;34m)\u001b[0m\u001b[0;34m\u001b[0m\u001b[0m\n\u001b[0;32m----> 3\u001b[0;31m \u001b[0mdata\u001b[0m\u001b[0;34m[\u001b[0m\u001b[0;34m'time'\u001b[0m\u001b[0;34m]\u001b[0m \u001b[0;34m=\u001b[0m \u001b[0mtime\u001b[0m\u001b[0;34m\u001b[0m\u001b[0m\n\u001b[0m",
      "\u001b[0;32m/sw/tools/anaconda2/2019.10/skl/lib/python2.7/site-packages/xarray/core/dataset.pyc\u001b[0m in \u001b[0;36m__setitem__\u001b[0;34m(self, key, value)\u001b[0m\n\u001b[1;32m    987\u001b[0m                                       'to set Dataset values')\n\u001b[1;32m    988\u001b[0m \u001b[0;34m\u001b[0m\u001b[0m\n\u001b[0;32m--> 989\u001b[0;31m         \u001b[0mself\u001b[0m\u001b[0;34m.\u001b[0m\u001b[0mupdate\u001b[0m\u001b[0;34m(\u001b[0m\u001b[0;34m{\u001b[0m\u001b[0mkey\u001b[0m\u001b[0;34m:\u001b[0m \u001b[0mvalue\u001b[0m\u001b[0;34m}\u001b[0m\u001b[0;34m)\u001b[0m\u001b[0;34m\u001b[0m\u001b[0m\n\u001b[0m\u001b[1;32m    990\u001b[0m \u001b[0;34m\u001b[0m\u001b[0m\n\u001b[1;32m    991\u001b[0m     \u001b[0;32mdef\u001b[0m \u001b[0m__delitem__\u001b[0m\u001b[0;34m(\u001b[0m\u001b[0mself\u001b[0m\u001b[0;34m,\u001b[0m \u001b[0mkey\u001b[0m\u001b[0;34m)\u001b[0m\u001b[0;34m:\u001b[0m\u001b[0;34m\u001b[0m\u001b[0m\n",
      "\u001b[0;32m/sw/tools/anaconda2/2019.10/skl/lib/python2.7/site-packages/xarray/core/dataset.pyc\u001b[0m in \u001b[0;36mupdate\u001b[0;34m(self, other, inplace)\u001b[0m\n\u001b[1;32m   2528\u001b[0m         \"\"\"\n\u001b[1;32m   2529\u001b[0m         \u001b[0minplace\u001b[0m \u001b[0;34m=\u001b[0m \u001b[0m_check_inplace\u001b[0m\u001b[0;34m(\u001b[0m\u001b[0minplace\u001b[0m\u001b[0;34m,\u001b[0m \u001b[0mdefault\u001b[0m\u001b[0;34m=\u001b[0m\u001b[0mTrue\u001b[0m\u001b[0;34m)\u001b[0m\u001b[0;34m\u001b[0m\u001b[0m\n\u001b[0;32m-> 2530\u001b[0;31m         \u001b[0mvariables\u001b[0m\u001b[0;34m,\u001b[0m \u001b[0mcoord_names\u001b[0m\u001b[0;34m,\u001b[0m \u001b[0mdims\u001b[0m \u001b[0;34m=\u001b[0m \u001b[0mdataset_update_method\u001b[0m\u001b[0;34m(\u001b[0m\u001b[0mself\u001b[0m\u001b[0;34m,\u001b[0m \u001b[0mother\u001b[0m\u001b[0;34m)\u001b[0m\u001b[0;34m\u001b[0m\u001b[0m\n\u001b[0m\u001b[1;32m   2531\u001b[0m \u001b[0;34m\u001b[0m\u001b[0m\n\u001b[1;32m   2532\u001b[0m         return self._replace_vars_and_dims(variables, coord_names, dims,\n",
      "\u001b[0;32m/sw/tools/anaconda2/2019.10/skl/lib/python2.7/site-packages/xarray/core/merge.pyc\u001b[0m in \u001b[0;36mdataset_update_method\u001b[0;34m(dataset, other)\u001b[0m\n\u001b[1;32m    578\u001b[0m \u001b[0;34m\u001b[0m\u001b[0m\n\u001b[1;32m    579\u001b[0m     return merge_core([dataset, other], priority_arg=1,\n\u001b[0;32m--> 580\u001b[0;31m                       indexes=dataset.indexes)\n\u001b[0m",
      "\u001b[0;32m/sw/tools/anaconda2/2019.10/skl/lib/python2.7/site-packages/xarray/core/merge.pyc\u001b[0m in \u001b[0;36mmerge_core\u001b[0;34m(objs, compat, join, priority_arg, explicit_coords, indexes)\u001b[0m\n\u001b[1;32m    442\u001b[0m     \u001b[0massert_unique_multiindex_level_names\u001b[0m\u001b[0;34m(\u001b[0m\u001b[0mvariables\u001b[0m\u001b[0;34m)\u001b[0m\u001b[0;34m\u001b[0m\u001b[0m\n\u001b[1;32m    443\u001b[0m \u001b[0;34m\u001b[0m\u001b[0m\n\u001b[0;32m--> 444\u001b[0;31m     \u001b[0mdims\u001b[0m \u001b[0;34m=\u001b[0m \u001b[0mcalculate_dimensions\u001b[0m\u001b[0;34m(\u001b[0m\u001b[0mvariables\u001b[0m\u001b[0;34m)\u001b[0m\u001b[0;34m\u001b[0m\u001b[0m\n\u001b[0m\u001b[1;32m    445\u001b[0m \u001b[0;34m\u001b[0m\u001b[0m\n\u001b[1;32m    446\u001b[0m     \u001b[0;32mif\u001b[0m \u001b[0mexplicit_coords\u001b[0m \u001b[0;32mis\u001b[0m \u001b[0;32mnot\u001b[0m \u001b[0mNone\u001b[0m\u001b[0;34m:\u001b[0m\u001b[0;34m\u001b[0m\u001b[0m\n",
      "\u001b[0;32m/sw/tools/anaconda2/2019.10/skl/lib/python2.7/site-packages/xarray/core/dataset.pyc\u001b[0m in \u001b[0;36mcalculate_dimensions\u001b[0;34m(variables)\u001b[0m\n\u001b[1;32m    108\u001b[0m                 raise ValueError('conflicting sizes for dimension %r: '\n\u001b[1;32m    109\u001b[0m                                  \u001b[0;34m'length %s on %r and length %s on %r'\u001b[0m \u001b[0;34m%\u001b[0m\u001b[0;34m\u001b[0m\u001b[0m\n\u001b[0;32m--> 110\u001b[0;31m                                  (dim, size, k, dims[dim], last_used[dim]))\n\u001b[0m\u001b[1;32m    111\u001b[0m     \u001b[0;32mreturn\u001b[0m \u001b[0mdims\u001b[0m\u001b[0;34m\u001b[0m\u001b[0m\n\u001b[1;32m    112\u001b[0m \u001b[0;34m\u001b[0m\u001b[0m\n",
      "\u001b[0;31mValueError\u001b[0m: conflicting sizes for dimension 'time': length 31 on 'time' and length 372 on u'VNF'"
     ]
    }
   ],
   "source": [
    "time = pd.date_range('1985-01-01', freq=\"Y\", periods= len(np.arange(1985,2016,1)))\n",
    "data = xr.open_mfdataset(data_path+tracername+'*.nc', concat_dim='time')\n",
    "data['time'] = time"
   ]
  },
  {
   "cell_type": "code",
   "execution_count": null,
   "metadata": {},
   "outputs": [],
   "source": [
    "ANPP_sel = data.ANPP.sel(time=slice(str(first_year)+'-01-01', str(last_year)+'-12-31'))\n",
    "ANPP_sel = ANPP_sel.compute()\n",
    "ANPP_mean = ANPP_sel.mean(dim='time')\n",
    "ANPP_mean = ANPP_mean.compute()\n",
    "\n",
    "pf = np.polyfit(years, ANPP_sel, 1)\n",
    "ANPP_trend = pf[0]"
   ]
  },
  {
   "cell_type": "code",
   "execution_count": null,
   "metadata": {},
   "outputs": [],
   "source": [
    "import pyfesom as pf\n",
    "\n",
    "data0, elem_no_nan = pf.get_data(ANPP_mean,mesh,0)\n",
    "data1, elem_no_nan = pf.get_data(ANPP_trend,mesh,0)\n",
    "\n",
    "data2=np.copy(data1)\n",
    "data2 = data2 *12.01 / 1000\n",
    "\n",
    "\n",
    "data3 = data1 / data0\n",
    "data4=np.copy(data3)\n",
    "data4 = data4 *100\n",
    "\n",
    "# data0, elem_no_nan = pf.get_data(ANPP_mean,mesh,0)\n",
    "# data1, elem_no_nan = pf.get_data(ANPP_trend,mesh,0)\n",
    "# data2 = data1 / data0\n",
    "\n",
    "# data2=np.copy(data2)\n",
    "# data2 = data2 *100"
   ]
  },
  {
   "cell_type": "code",
   "execution_count": null,
   "metadata": {},
   "outputs": [],
   "source": [
    "fig = plt.figure(figsize=(15, 15), facecolor='w', edgecolor='k')\n",
    "\n",
    "ax1      = fig.add_subplot(121)\n",
    "\n",
    "contours = np.arange(-2, 2, .01)\n",
    "m = Basemap(projection='nplaea',boundinglat=70,lon_0=0,resolution='l')\n",
    "x, y = m(mesh.x2, mesh.y2)\n",
    "#map.drawcoastlines()\n",
    "plabels=[False,False,False,False]\n",
    "mlabels=[False,False,False,False]    \n",
    "m.drawparallels(np.arange(-80.,81.,20.), labels=plabels)\n",
    "m.drawmeridians(np.arange(-180.,181.,20.),labels=mlabels) #[0,1,0,0]\n",
    "m.drawmapboundary(fill_color='0.7')\n",
    "m.fillcontinents(color='.5',lake_color='.7')\n",
    "\n",
    "#eps=(contours.max()-contours.min())/100.\n",
    "#data2[data2<=contours.min()]=contours.min()+eps\n",
    "#data2[data2>=contours.max()]=contours.max()-eps\n",
    "\n",
    "im=plt.tricontourf(x, y, elem_no_nan, data2, levels=contours, cmap=cmap.cm.balance, extend='both')\n",
    "\n",
    "plt.annotate(str(first_year)+'-'+str(last_year), xy=(0.6, 0.9), xycoords='axes fraction', fontsize = 20,\n",
    "                     fontweight = 'bold', bbox={'facecolor': 'white', 'alpha': 0.5, 'pad': 10})\n",
    "\n",
    "\n",
    "label = 'ANPP trend (gC m$^{-2}$ yr$^{-1}$)'\n",
    "#plt.title(year)\n",
    "cbar=m.colorbar(im,\"bottom\", size=\"5%\", pad=\"2%\")\n",
    "cbar.set_label(label, fontsize=16)\n",
    "cbar.ax.tick_params(labelsize=16)\n",
    "\n",
    "\n",
    "\n",
    "\n",
    "\n",
    "\n",
    "ax2      = fig.add_subplot(122)\n",
    "\n",
    "contours = np.arange(-30, 30, 0.5)\n",
    "m = Basemap(projection='nplaea',boundinglat=70,lon_0=0,resolution='l')\n",
    "x, y = m(mesh.x2, mesh.y2)\n",
    "#map.drawcoastlines()\n",
    "plabels=[False,False,False,False]\n",
    "mlabels=[False,False,False,False]    \n",
    "m.drawparallels(np.arange(-80.,81.,20.), labels=plabels)\n",
    "m.drawmeridians(np.arange(-180.,181.,20.),labels=mlabels) #[0,1,0,0]\n",
    "m.drawmapboundary(fill_color='0.7')\n",
    "m.fillcontinents(color='.5',lake_color='.7')\n",
    "\n",
    "#eps=(contours.max()-contours.min())/100.\n",
    "#data2[data2<=contours.min()]=contours.min()+eps\n",
    "#data2[data2>=contours.max()]=contours.max()-eps\n",
    "\n",
    "im=plt.tricontourf(x, y, elem_no_nan, data4, levels=contours, cmap=cmap.cm.balance, extend='both')\n",
    "\n",
    "plt.annotate(str(first_year)+'-'+str(last_year), xy=(0.6, 0.9), xycoords='axes fraction', fontsize = 20,\n",
    "                     fontweight = 'bold', bbox={'facecolor': 'white', 'alpha': 0.5, 'pad': 10})\n",
    "\n",
    "\n",
    "label = 'ANPP trend (% yr$^{-1}$)'\n",
    "#plt.title(year)\n",
    "cbar=m.colorbar(im,\"bottom\", size=\"5%\", pad=\"2%\")\n",
    "cbar.set_label(label, fontsize=16)\n",
    "cbar.ax.tick_params(labelsize=16)\n",
    "\n",
    "plt.savefig(save_path+'FIG4.png', dpi = 300, bbox_inches='tight') "
   ]
  },
  {
   "cell_type": "code",
   "execution_count": null,
   "metadata": {},
   "outputs": [],
   "source": []
  }
 ],
 "metadata": {
  "kernelspec": {
   "display_name": "Python 2",
   "language": "python",
   "name": "python2"
  },
  "language_info": {
   "codemirror_mode": {
    "name": "ipython",
    "version": 2
   },
   "file_extension": ".py",
   "mimetype": "text/x-python",
   "name": "python",
   "nbconvert_exporter": "python",
   "pygments_lexer": "ipython2",
   "version": "2.7.16"
  }
 },
 "nbformat": 4,
 "nbformat_minor": 2
}
