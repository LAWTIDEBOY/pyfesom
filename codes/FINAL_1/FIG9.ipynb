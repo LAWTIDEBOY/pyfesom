{
 "cells": [
  {
   "cell_type": "code",
   "execution_count": 4,
   "metadata": {},
   "outputs": [],
   "source": [
    "import os\n",
    "from os.path import expanduser\n",
    "import socket\n",
    "import sys\n",
    "import glob\n",
    "\n",
    "# BELOW IS SYSTEM/PATH CONFIGURATION #\n",
    "my_home = expanduser(\"~\")\n",
    "running_system = socket.gethostname()\n",
    "# Configure machine's names here #\n",
    "systemHLRN = 'blogin1'\n",
    "systemLOCAL = 'Laurents-MacBook-Pro.local'\n",
    "my_home = expanduser(\"~\")\n",
    "# Define local pass #\n",
    "wd_path = '/home/hbkoziel/pyfesom/'\n",
    "save_path = wd_path+'/figures/Arc12/FINAL/'\n",
    "\n",
    "#sys.path.append(\"codes/modules\") # add custom Vibe 's modules\n",
    "sys.path.append('../..') # add standard 's modules\n",
    "sys.path.append('../modules')\n",
    "#########################################"
   ]
  },
  {
   "cell_type": "code",
   "execution_count": 6,
   "metadata": {},
   "outputs": [],
   "source": [
    "import pyfesom as pf\n",
    "import matplotlib.pyplot as plt\n",
    "from matplotlib import cm\n",
    "from mpl_toolkits.basemap import Basemap\n",
    "import numpy as np\n",
    "from netCDF4 import Dataset\n",
    "import os\n",
    "import time\n",
    "\n",
    "import xarray as xr\n",
    "import pandas as pd\n",
    "sys.path.append('/home/hbkoziel/pyfesom/pyfesom/cmocean/')\n",
    "import cmocean as cmap"
   ]
  },
  {
   "cell_type": "code",
   "execution_count": 7,
   "metadata": {},
   "outputs": [
    {
     "name": "stdout",
     "output_type": "stream",
     "text": [
      "/home/hbkoziel/pyfesom/data/mesh/meshArc4.5/pickle_mesh\n",
      "2\n",
      "The usepickle == True)\n",
      "The pickle file for python 2 exists.\n",
      "The mesh will be loaded from /home/hbkoziel/pyfesom/data/mesh/meshArc4.5/pickle_mesh\n"
     ]
    }
   ],
   "source": [
    "# Loading mesh for run\n",
    "\n",
    "mesh_id    = 'meshArc4.5'\n",
    "meshpath   = '/home/hbkoziel/pyfesom/data/mesh/'+mesh_id+'/'            # Defining path where mesh is stored\n",
    "mesh = pf.load_mesh(meshpath, usepickle=True, get3d=True)                                    # Loading mesh, stores it in mesh.****  \n",
    "#mesh = pf.fesom_mesh(meshpath, get3d=True)\n",
    "#mesh.zlevs = -mesh.zlevs                                            # Depth is made negative\n",
    "\n",
    "tracername = 'VNF'\n",
    "first_year = 1985\n",
    "last_year  = 2015\n",
    "years      = np.arange(first_year,last_year+1,1)\n",
    "runid\t= 'Arc12'\n",
    "\n",
    "data_path  = '/scratch/usr/hbkoziel/'+runid+'/netcdf/'"
   ]
  },
  {
   "cell_type": "code",
   "execution_count": 8,
   "metadata": {},
   "outputs": [
    {
     "name": "stdout",
     "output_type": "stream",
     "text": [
      "loading index...\n",
      "LOADING DONE\n",
      "SORTING...\n",
      "CLEANING DONE...\n"
     ]
    }
   ],
   "source": [
    "print('loading index...')\n",
    "df = pd.read_csv('/home/hbkoziel/awi-models/data/mesh/meshArc4.5/bioregion_index_latlon.csv', delimiter=',',header=0)\n",
    "print('LOADING DONE')\n",
    "df.sort_values(by ='Unique_ID',inplace=True)\n",
    "index = df[\"Unique_ID\"]\n",
    "index_unique = df.Unique_ID.unique().tolist()\n",
    "index_unique.pop(-1)\n",
    "print('SORTING...')\n",
    "names = df.Name.unique().tolist()\n",
    "names.pop(-1)\n",
    "names[3]='Beaufort Sea - shelf'\n",
    "names[4]='Amundsen-Viscount'\n",
    "names.append('All Arctic Ocean (>66N)')\n",
    "print('CLEANING DONE...')\n",
    "ind_bio = df.full_index[df.Unique_ID == 24]"
   ]
  },
  {
   "cell_type": "code",
   "execution_count": 9,
   "metadata": {},
   "outputs": [],
   "source": [
    "ncfile      = meshpath+'Arc4.5.initial.mesh.diag.nc'\n",
    "f           = Dataset(ncfile, 'r')\n",
    "NodalAreaModel = f.variables['cluster_area'][:]"
   ]
  },
  {
   "cell_type": "code",
   "execution_count": 10,
   "metadata": {},
   "outputs": [],
   "source": [
    "ind_fram = (np.array(mesh.x2>-10) & np.array(mesh.x2<10) & np.array(mesh.y2>80) & np.array(mesh.y2<85))\n",
    "ind_east = (np.array(mesh.x2<115) & np.array(mesh.x2>85) & np.array(mesh.y2<88) & np.array(mesh.y2>85))"
   ]
  },
  {
   "cell_type": "code",
   "execution_count": 11,
   "metadata": {},
   "outputs": [],
   "source": [
    "# tracername = 'cur50m'\n",
    "# time = pd.date_range('1985-01-01', freq=\"MS\", periods= 12*len(np.arange(1985,2016,1)))\n",
    "# data = xr.open_mfdataset(data_path+tracername+'*.nc', concat_dim='time')\n",
    "# data['time'] = time\n",
    "\n",
    "# CUR_sel = data.cur50m.sel(time=slice(str(first_year)+'-01-01', str(last_year)+'-12-31'))\n",
    "# CUR_sel = CUR_sel.compute()\n",
    "\n",
    "# # CUR_march = CUR_sel[data['time.month']==3]\n",
    "# # CUR_march = CUR_march.compute()\n",
    "\n",
    "# CUR_yrly = CUR_sel.resample(time = 'Y').mean(dim = 'time')\n",
    "# CUR_yrly = CUR_yrly.compute()\n",
    "\n",
    "# #ind_curr = np.array(CUR_sept_mean >= 0.03)\n",
    "\n",
    "# # pf = np.polyfit(years, CUR_sept, 1)\n",
    "# # CUR_trend = pf[0]"
   ]
  },
  {
   "cell_type": "code",
   "execution_count": 12,
   "metadata": {},
   "outputs": [],
   "source": [
    "tracername = 'VNF'\n",
    "first_year = 1985\n",
    "last_year  = 2015\n",
    "years      = np.arange(first_year,last_year+1,1)\n",
    "dates = pd.date_range('1985', freq=\"MS\", periods= 12*len(np.arange(1985,2016,1)))\n",
    "#time = pd.date_range('1985-01-01', freq=\"MS\", periods= 12*len(np.arange(1985,2016,1)))\n",
    "data = xr.open_mfdataset(data_path+tracername+'*.nc', concat_dim='time')\n",
    "data['time'] = dates\n",
    "ANPP_sel = data.w.sel(time=slice(str(first_year)+'-01-01', str(last_year)+'-12-31'))\n",
    "ANPP_sel = ANPP_sel.compute()\n",
    "#ANPP_sel = ANPP_sel.where(ANPP_sel > 0)\n",
    "\n",
    "ANPP_yrly = ANPP_sel.resample(time = 'Y').mean(dim = 'time')\n",
    "ANPP_yrly = ANPP_yrly.compute()\n",
    " \n",
    "\n",
    "ts_yerm  = np.sum(ANPP_yrly[:,ind_east]*NodalAreaModel[ind_east],axis=1)/np.sum(NodalAreaModel[ind_east])\n",
    "\n",
    "#ts_yerm = ts_yerm / np.std(ANPP_yrly[:,ind_curr])\n",
    "pf1 = np.polyfit(years, ts_yerm, 1)\n",
    "ANPP_trend31 = pf1[0]\n"
   ]
  },
  {
   "cell_type": "code",
   "execution_count": 23,
   "metadata": {},
   "outputs": [
    {
     "name": "stderr",
     "output_type": "stream",
     "text": [
      "/sw/tools/anaconda2/2019.10/skl/lib/python2.7/site-packages/statsmodels/base/model.py:1294: RuntimeWarning: invalid value encountered in divide\n",
      "  return self.params / self.bse\n",
      "/sw/tools/anaconda2/2019.10/skl/lib/python2.7/site-packages/scipy/stats/_distn_infrastructure.py:877: RuntimeWarning: invalid value encountered in greater\n",
      "  return (self.a < x) & (x < self.b)\n",
      "/sw/tools/anaconda2/2019.10/skl/lib/python2.7/site-packages/scipy/stats/_distn_infrastructure.py:877: RuntimeWarning: invalid value encountered in less\n",
      "  return (self.a < x) & (x < self.b)\n",
      "/sw/tools/anaconda2/2019.10/skl/lib/python2.7/site-packages/scipy/stats/_distn_infrastructure.py:1831: RuntimeWarning: invalid value encountered in less_equal\n",
      "  cond2 = cond0 & (x <= self.a)\n"
     ]
    },
    {
     "ename": "NameError",
     "evalue": "name 'pval' is not defined",
     "output_type": "error",
     "traceback": [
      "\u001b[0;31m---------------------------------------------------------------------------\u001b[0m",
      "\u001b[0;31mNameError\u001b[0m                                 Traceback (most recent call last)",
      "\u001b[0;32m<ipython-input-23-1ef58269c594>\u001b[0m in \u001b[0;36m<module>\u001b[0;34m()\u001b[0m\n\u001b[1;32m      4\u001b[0m \u001b[0;32mfor\u001b[0m \u001b[0mi\u001b[0m \u001b[0;32min\u001b[0m \u001b[0mrange\u001b[0m\u001b[0;34m(\u001b[0m\u001b[0;36m0\u001b[0m\u001b[0;34m,\u001b[0m\u001b[0mlen\u001b[0m\u001b[0;34m(\u001b[0m\u001b[0mmesh\u001b[0m\u001b[0;34m.\u001b[0m\u001b[0mx2\u001b[0m\u001b[0;34m)\u001b[0m\u001b[0;34m+\u001b[0m\u001b[0;36m1\u001b[0m\u001b[0;34m)\u001b[0m\u001b[0;34m:\u001b[0m\u001b[0;34m\u001b[0m\u001b[0m\n\u001b[1;32m      5\u001b[0m     \u001b[0msmry\u001b[0m \u001b[0;34m=\u001b[0m \u001b[0mlinreg\u001b[0m\u001b[0;34m(\u001b[0m\u001b[0myears\u001b[0m\u001b[0;34m,\u001b[0m \u001b[0mnp\u001b[0m\u001b[0;34m.\u001b[0m\u001b[0marray\u001b[0m\u001b[0;34m(\u001b[0m\u001b[0mANPP_yrly\u001b[0m\u001b[0;34m[\u001b[0m\u001b[0;34m:\u001b[0m\u001b[0;34m,\u001b[0m\u001b[0mi\u001b[0m\u001b[0;34m]\u001b[0m\u001b[0;34m)\u001b[0m\u001b[0;34m)\u001b[0m\u001b[0;34m\u001b[0m\u001b[0m\n\u001b[0;32m----> 6\u001b[0;31m     \u001b[0mpval\u001b[0m\u001b[0;34m[\u001b[0m\u001b[0mi\u001b[0m\u001b[0;34m]\u001b[0m \u001b[0;34m=\u001b[0m \u001b[0msmry\u001b[0m\u001b[0;34m.\u001b[0m\u001b[0mpvalues\u001b[0m\u001b[0;34m[\u001b[0m\u001b[0;36m1\u001b[0m\u001b[0;34m]\u001b[0m\u001b[0;34m\u001b[0m\u001b[0m\n\u001b[0m",
      "\u001b[0;31mNameError\u001b[0m: name 'pval' is not defined"
     ]
    }
   ],
   "source": [
    "from utils import linreg\n",
    "#from utils import ols\n",
    "#ols = ols(ANPP_yrly[:,ind_east[1]], 'slope')\n",
    "for i in range(0,len(mesh.x2)+1):\n",
    "    smry = linreg(years, np.array(ANPP_yrly[:,i]))\n",
    "    pval[i] = smry.pvalues[1]"
   ]
  },
  {
   "cell_type": "code",
   "execution_count": 35,
   "metadata": {},
   "outputs": [
    {
     "name": "stdout",
     "output_type": "stream",
     "text": [
      "False\n"
     ]
    },
    {
     "data": {
      "text/plain": [
       "[<matplotlib.lines.Line2D at 0x2aabe9579e50>]"
      ]
     },
     "execution_count": 35,
     "metadata": {},
     "output_type": "execute_result"
    },
    {
     "data": {
      "image/png": "[encoded data removed]",
      "text/plain": [
       "<Figure size 432x288 with 1 Axes>"
      ]
     },
     "metadata": {
      "needs_background": "light"
     },
     "output_type": "display_data"
    }
   ],
   "source": [
    "i = 2\n",
    "print ind_east[i]\n",
    "plt.plot(years, np.array(ANPP_yrly[:,ind_east[100]]))"
   ]
  },
  {
   "cell_type": "code",
   "execution_count": null,
   "metadata": {},
   "outputs": [],
   "source": [
    "plt.style.use('seaborn')\n",
    "plt.style.use('seaborn-talk')\n",
    "plt.plot(years,ts_yerm, color = 'tab:blue')\n",
    "plt.title('upward vertical fluxes')"
   ]
  },
  {
   "cell_type": "code",
   "execution_count": null,
   "metadata": {},
   "outputs": [],
   "source": [
    "smry.pvalues"
   ]
  },
  {
   "cell_type": "code",
   "execution_count": null,
   "metadata": {},
   "outputs": [],
   "source": []
  },
  {
   "cell_type": "code",
   "execution_count": null,
   "metadata": {},
   "outputs": [],
   "source": [
    "import pyfesom as pf\n",
    "\n",
    "data, elem_no_nan = pf.get_data(ANPP_trend,mesh,0)"
   ]
  },
  {
   "cell_type": "code",
   "execution_count": null,
   "metadata": {},
   "outputs": [],
   "source": [
    "print np.mean(ANPP_trend[ind_east])"
   ]
  },
  {
   "cell_type": "code",
   "execution_count": null,
   "metadata": {},
   "outputs": [],
   "source": [
    "#fig = plt.figure()\n",
    "fig = plt.figure(figsize=(8, 8), facecolor='w', edgecolor='k')\n",
    "#fig, axs = plt.subplots(1, 1, constrained_layout=True, figsize=(15, 15), facecolor='w', edgecolor='k')\n",
    "\n",
    "#axs[0]      = fig.add_subplot(211)\n",
    "contours = np.arange(-5, 5.1, .1)\n",
    "m = Basemap(projection='nplaea',boundinglat=70,lon_0=0,resolution='l')\n",
    "x, y = m(mesh.x2, mesh.y2)\n",
    "#map.drawcoastlines()\n",
    "plabels=[False,False,False,False]\n",
    "mlabels=[False,False,False,False]    \n",
    "m.drawparallels(np.arange(-80.,81.,20.), labels=plabels)\n",
    "m.drawmeridians(np.arange(-180.,181.,20.),labels=mlabels) #[0,1,0,0]\n",
    "m.drawmapboundary(fill_color='0.7')\n",
    "m.fillcontinents(color='.5',lake_color='.7')\n",
    "#eps=(contours.max()-contours.min())/100.\n",
    "#data2[data2<=contours.min()]=contours.min()+eps\n",
    "#data2[data2>=contours.max()]=contours.max()-eps\n",
    "im=plt.tricontourf(x, y, elem_no_nan, data, levels=contours, cmap=cmap.cm.balance, extend='both')\n",
    "plt.annotate('1985-2015', xy=(0.6, 0.9), xycoords='axes fraction', fontsize = 20,\n",
    "                     fontweight = 'bold', bbox={'facecolor': 'white', 'alpha': 0.5, 'pad': 10})\n",
    "\n",
    "# subplot for colorbar\n",
    "#cbar = fig.colorbar(im, ax=axs[:1], shrink=0.5, location='bottom')\n",
    "cbar=m.colorbar(im,\"bottom\", size=\"5%\", pad=\"2%\")\n",
    "label = 'VNF'\n",
    "cbar.set_label(label, fontsize=14)\n",
    "cbar.ax.tick_params(labelsize=12)\n",
    "# cbar.ax.tick_params(labelsize=16) \n",
    "# cbar.set_label(label, fontsize=16)\n",
    "\n",
    "\n",
    "lat_1 = 85\n",
    "lat_2 = 88\n",
    "lon_1 = 85\n",
    "lon_2 = 115\n",
    "\n",
    "lati = np.append(np.linspace(lat_1,lat_2,10),np.ones(10)*lat_2)\n",
    "lati = np.append(lati,np.linspace(lat_2,lat_1,10))\n",
    "lati = np.append(lati,np.ones(10)*lat_1)\n",
    "\n",
    "loni = np.append(np.ones(10)*lon_1,np.linspace(lon_1,lon_2,10))\n",
    "loni = np.append(loni,np.ones(10)*lon_2)\n",
    "loni = np.append(loni,np.linspace(lon_2,lon_1,10))\n",
    "\n",
    "xi, yi = m(loni, lati)\n",
    "plt.plot(xi,yi,'k',lw=2)\n",
    "\n",
    "\n",
    "#plt.savefig(save_path+'FIG9.png', dpi = 300, bbox_inches='tight') "
   ]
  },
  {
   "cell_type": "code",
   "execution_count": null,
   "metadata": {},
   "outputs": [],
   "source": [
    "ind_fram = (np.array(mesh.x2<115) & np.array(mesh.x2>85) & np.array(mesh.y2<88) & np.array(mesh.y2>85))\n",
    "ANPP_trend.size\n",
    "trendX = np.empty(ANPP_trend.size)\n",
    "trendX[:] = np.nan\n",
    "trendX[ind_fram]=ANPP_trend[ind_fram]\n",
    "data, elem_no_nan = pf.get_data(trendX,mesh,0)\n",
    "\n",
    "#fig = plt.figure()\n",
    "fig = plt.figure(figsize=(8, 8), facecolor='w', edgecolor='k')\n",
    "#fig, axs = plt.subplots(1, 1, constrained_layout=True, figsize=(15, 15), facecolor='w', edgecolor='k')\n",
    "\n",
    "#axs[0]      = fig.add_subplot(211)\n",
    "contours = np.arange(-5, 5.1, .1)\n",
    "m = Basemap(projection='nplaea',boundinglat=70,lon_0=0,resolution='l')\n",
    "x, y = m(mesh.x2, mesh.y2)\n",
    "#map.drawcoastlines()\n",
    "plabels=[False,False,False,False]\n",
    "mlabels=[False,False,False,False]    \n",
    "m.drawparallels(np.arange(-80.,81.,20.), labels=plabels)\n",
    "m.drawmeridians(np.arange(-180.,181.,20.),labels=mlabels) #[0,1,0,0]\n",
    "m.drawmapboundary(fill_color='0.7')\n",
    "m.fillcontinents(color='.5',lake_color='.7')\n",
    "#eps=(contours.max()-contours.min())/100.\n",
    "#data2[data2<=contours.min()]=contours.min()+eps\n",
    "#data2[data2>=contours.max()]=contours.max()-eps\n",
    "im=plt.tricontourf(x, y, elem_no_nan, data, levels=contours, cmap=cmap.cm.balance, extend='both')\n",
    "plt.annotate('1985-2015', xy=(0.6, 0.9), xycoords='axes fraction', fontsize = 20,\n",
    "                     fontweight = 'bold', bbox={'facecolor': 'white', 'alpha': 0.5, 'pad': 10})\n",
    "\n",
    "# subplot for colorbar\n",
    "#cbar = fig.colorbar(im, ax=axs[:1], shrink=0.5, location='bottom')\n",
    "cbar=m.colorbar(im,\"bottom\", size=\"5%\", pad=\"2%\")\n",
    "label = 'VNF'\n",
    "cbar.set_label(label, fontsize=14)\n",
    "cbar.ax.tick_params(labelsize=12)\n",
    "# cbar.ax.tick_params(labelsize=16) \n",
    "# cbar.set_label(label, fontsize=16)\n",
    "\n",
    "\n",
    "lat_1 = 85\n",
    "lat_2 = 88\n",
    "lon_1 = 85\n",
    "lon_2 = 115\n",
    "\n",
    "lati = np.append(np.linspace(lat_1,lat_2,10),np.ones(10)*lat_2)\n",
    "lati = np.append(lati,np.linspace(lat_2,lat_1,10))\n",
    "lati = np.append(lati,np.ones(10)*lat_1)\n",
    "\n",
    "loni = np.append(np.ones(10)*lon_1,np.linspace(lon_1,lon_2,10))\n",
    "loni = np.append(loni,np.ones(10)*lon_2)\n",
    "loni = np.append(loni,np.linspace(lon_2,lon_1,10))\n",
    "\n",
    "xi, yi = m(loni, lati)\n",
    "plt.plot(xi,yi,'k',lw=2)\n",
    "\n",
    "\n",
    "#plt.savefig(save_path+'FIG9.png', dpi = 300, bbox_inches='tight') "
   ]
  },
  {
   "cell_type": "code",
   "execution_count": null,
   "metadata": {},
   "outputs": [],
   "source": []
  },
  {
   "cell_type": "code",
   "execution_count": null,
   "metadata": {},
   "outputs": [],
   "source": []
  },
  {
   "cell_type": "code",
   "execution_count": null,
   "metadata": {},
   "outputs": [],
   "source": []
  }
 ],
 "metadata": {
  "kernelspec": {
   "display_name": "Python 2",
   "language": "python",
   "name": "python2"
  },
  "language_info": {
   "codemirror_mode": {
    "name": "ipython",
    "version": 2
   },
   "file_extension": ".py",
   "mimetype": "text/x-python",
   "name": "python",
   "nbconvert_exporter": "python",
   "pygments_lexer": "ipython2",
   "version": "2.7.16"
  }
 },
 "nbformat": 4,
 "nbformat_minor": 2
}
