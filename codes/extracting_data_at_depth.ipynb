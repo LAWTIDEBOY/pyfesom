{
 "cells": [
  {
   "cell_type": "markdown",
   "metadata": {},
   "source": [
    "# extract data at depths from a non-layerwise simulation"
   ]
  },
  {
   "cell_type": "code",
   "execution_count": 1,
   "metadata": {},
   "outputs": [
    {
     "ename": "ImportError",
     "evalue": "No module named pyfesom",
     "output_type": "error",
     "traceback": [
      "\u001b[0;31m---------------------------------------------------------------------------\u001b[0m",
      "\u001b[0;31mImportError\u001b[0m                               Traceback (most recent call last)",
      "\u001b[0;32m<ipython-input-1-65cb381b68c3>\u001b[0m in \u001b[0;36m<module>\u001b[0;34m()\u001b[0m\n\u001b[1;32m      3\u001b[0m \u001b[0msys\u001b[0m\u001b[0;34m.\u001b[0m\u001b[0mpath\u001b[0m\u001b[0;34m.\u001b[0m\u001b[0mappend\u001b[0m\u001b[0;34m(\u001b[0m\u001b[0;34m\"/home/ollie/jhauck/py_fesom/modules/\"\u001b[0m\u001b[0;34m)\u001b[0m\u001b[0;34m\u001b[0m\u001b[0m\n\u001b[1;32m      4\u001b[0m \u001b[0;32mimport\u001b[0m \u001b[0mos\u001b[0m\u001b[0;34m\u001b[0m\u001b[0m\n\u001b[0;32m----> 5\u001b[0;31m \u001b[0;32mimport\u001b[0m \u001b[0mpyfesom\u001b[0m \u001b[0;32mas\u001b[0m \u001b[0mpf\u001b[0m\u001b[0;34m\u001b[0m\u001b[0m\n\u001b[0m\u001b[1;32m      6\u001b[0m \u001b[0;32mimport\u001b[0m \u001b[0mnumpy\u001b[0m \u001b[0;32mas\u001b[0m \u001b[0mnp\u001b[0m\u001b[0;34m\u001b[0m\u001b[0m\n\u001b[1;32m      7\u001b[0m \u001b[0;32mfrom\u001b[0m \u001b[0mnetCDF4\u001b[0m \u001b[0;32mimport\u001b[0m \u001b[0mDataset\u001b[0m\u001b[0;34m,\u001b[0m \u001b[0mMFDataset\u001b[0m\u001b[0;34m\u001b[0m\u001b[0m\n",
      "\u001b[0;31mImportError\u001b[0m: No module named pyfesom"
     ]
    }
   ],
   "source": [
    "import sys\n",
    "sys.path.append(\"../pyfesom/\") # add pyfesom to search path\n",
    "sys.path.append(\"/home/ollie/jhauck/py_fesom/modules/\")\n",
    "import os\n",
    "import pyfesom as pf\n",
    "import numpy as np\n",
    "from netCDF4 import Dataset, MFDataset\n",
    "from load_mesh_data_new import load_mesh"
   ]
  },
  {
   "cell_type": "code",
   "execution_count": 2,
   "metadata": {},
   "outputs": [
    {
     "name": "stdout",
     "output_type": "stream",
     "text": [
      "usepickle =  False\n",
      "abg =  [0, 0, 0]\n",
      "no pickle\n",
      "Load 2d part of the grid in 5 second(s)\n",
      "Load 3d part of the grid in 13 seconds\n"
     ]
    }
   ],
   "source": [
    "# run specifics\n",
    "runname      = 'test_o2'\n",
    "resultpath   = '/work/ollie/ncara/fesom/fesom-1.4-recom/'+runname+'/'\n",
    "variable     = 'bgc22'\n",
    "year = 1980\n",
    "\n",
    "# load mesh\n",
    "meshpath     = '/work/ollie/jhauck/input/meshes/core_new_384/'\n",
    "mesh = load_mesh(meshpath,abg=[0,0,0],get3d=True)\n",
    "mesh.zlevs = -mesh.zlevs # depth is made negative"
   ]
  },
  {
   "cell_type": "code",
   "execution_count": 3,
   "metadata": {},
   "outputs": [
    {
     "name": "stdout",
     "output_type": "stream",
     "text": [
      "['__class__', '__delattr__', '__dict__', '__doc__', '__format__', '__getattribute__', '__hash__', '__init__', '__module__', '__new__', '__reduce__', '__reduce_ex__', '__repr__', '__setattr__', '__sizeof__', '__str__', '__subclasshook__', '__weakref__', 'alpha', 'aux3dfile', 'beta', 'e2d', 'elem', 'elm2dfile', 'gamma', 'n2d', 'n32', 'n3d', 'nlev', 'no_cyclic_elem', 'nod2dfile', 'nod3dfile', 'nodes', 'path', 'read2d', 'read3d', 'reso', 'topo', 'voltri', 'x2', 'x3', 'y2', 'y3', 'z3', 'zlevs']\n",
      "[    0.   -10.   -20.   -30.   -40.   -50.   -60.   -70.   -80.   -90.\n",
      "  -100.  -115.  -135.  -160.  -190.  -230.  -280.  -340.  -410.  -490.\n",
      "  -580.  -680.  -790.  -910. -1040. -1180. -1330. -1500. -1700. -1920.\n",
      " -2150. -2400. -2650. -2900. -3150. -3400. -3650. -3900. -4150. -4400.\n",
      " -4650. -4900. -5150. -5400. -5650. -5900.]\n",
      "(126859, 47)\n",
      "[      1  126860  253719  380578  503947  625098  744228  859699  973093\n",
      " 1085036 1195664 1305023 1413225 1519729    -999    -999    -999    -999\n",
      "    -999    -999    -999    -999    -999    -999    -999    -999    -999\n",
      "    -999    -999    -999    -999    -999    -999    -999    -999    -999\n",
      "    -999    -999    -999    -999    -999    -999    -999    -999    -999\n",
      "    -999    -999]\n"
     ]
    }
   ],
   "source": [
    "# some helpful mesh info\n",
    "print dir(mesh)\n",
    "print mesh.zlevs # in a zlevel mesh, the depth levels are the same for each surface node!\n",
    "print mesh.n32.shape\n",
    "print mesh.n32[0,:] # nodes at depth of surface node 0"
   ]
  },
  {
   "cell_type": "code",
   "execution_count": 4,
   "metadata": {},
   "outputs": [
    {
     "name": "stdout",
     "output_type": "stream",
     "text": [
      "(3668773,)\n",
      "2.23e-16\n",
      "364.484\n"
     ]
    }
   ],
   "source": [
    "# load variable\n",
    "fl = Dataset(resultpath+variable+'_fesom_'+str(year)+'0101.nc')\n",
    "\n",
    "# load data, calculate annual mean\n",
    "data_mean = fl.variables[variable][:,:].mean(axis=0)\n",
    "print data_mean.shape # one vector with all 3D nodes\n",
    "print np.min(data_mean)\n",
    "print np.max(data_mean)"
   ]
  },
  {
   "cell_type": "code",
   "execution_count": 5,
   "metadata": {},
   "outputs": [
    {
     "name": "stdout",
     "output_type": "stream",
     "text": [
      "Load data at 0m\n",
      "0\n",
      "For depth 0 model level 0.0 will be used\n",
      "Load data at 5m\n",
      "0\n",
      "For depth 5 model level 0.0 will be used\n",
      "Load data at 10m\n",
      "0\n",
      "For depth 10 model level 0.0 will be used\n"
     ]
    }
   ],
   "source": [
    "# extract data at a list of levels \n",
    "# (if defined as mesh.zlevs, this corresponds to a re-organisation of the data to layerwise output)\n",
    "\n",
    "depth_list = [-0,-5,-10]\n",
    "#depth_list = mesh.zlevs\n",
    "\n",
    "level_data = np.zeros((mesh.n2d,len(depth_list)))\n",
    "#elem_no_nan = np.zeros((mesh.n2d,len(depth_list)))\n",
    "for i in range(len(depth_list)):\n",
    "    print 'Load data at '+str(depth_list[i])+'m'\n",
    "    #level_data1, elem_no_nan1 = pf.get_data_sigma(data_mean,mesh,depth_list[i]) # for sigma mesh\n",
    "    level_data1, elem_no_nan1 = pf.get_data(data_mean,mesh,depth_list[i])\n",
    "    level_data[:,i]  = level_data1"
   ]
  },
  {
   "cell_type": "code",
   "execution_count": 6,
   "metadata": {},
   "outputs": [
    {
     "name": "stdout",
     "output_type": "stream",
     "text": [
      "Some info of data at depth level -10.0m :\n",
      "[ 330.78952026  322.16625977  318.37698364 ...,  333.00286865  206.09089661\n",
      "  206.28025818]\n",
      "Min 168.792373657\n",
      "Max 363.723602295\n"
     ]
    }
   ],
   "source": [
    "dd=1\n",
    "\n",
    "print 'Some info of data at depth level '+str(mesh.zlevs[dd])+'m :'\n",
    "print level_data[:,dd]\n",
    "print 'Min '+str(np.min(level_data[:,dd]))\n",
    "print 'Max '+str(np.max(level_data[:,dd]))"
   ]
  },
  {
   "cell_type": "code",
   "execution_count": null,
   "metadata": {
    "collapsed": true
   },
   "outputs": [],
   "source": []
  },
  {
   "cell_type": "code",
   "execution_count": null,
   "metadata": {
    "collapsed": true
   },
   "outputs": [],
   "source": []
  },
  {
   "cell_type": "code",
   "execution_count": null,
   "metadata": {
    "collapsed": true
   },
   "outputs": [],
   "source": []
  },
  {
   "cell_type": "code",
   "execution_count": null,
   "metadata": {
    "collapsed": true
   },
   "outputs": [],
   "source": []
  },
  {
   "cell_type": "code",
   "execution_count": null,
   "metadata": {
    "collapsed": true
   },
   "outputs": [],
   "source": []
  },
  {
   "cell_type": "code",
   "execution_count": null,
   "metadata": {
    "collapsed": true
   },
   "outputs": [],
   "source": []
  },
  {
   "cell_type": "code",
   "execution_count": null,
   "metadata": {
    "collapsed": true
   },
   "outputs": [],
   "source": []
  }
 ],
 "metadata": {
  "kernelspec": {
   "display_name": "Python 2",
   "language": "python",
   "name": "python2"
  },
  "language_info": {
   "codemirror_mode": {
    "name": "ipython",
    "version": 2
   },
   "file_extension": ".py",
   "mimetype": "text/x-python",
   "name": "python",
   "nbconvert_exporter": "python",
   "pygments_lexer": "ipython2",
   "version": "2.7.16"
  }
 },
 "nbformat": 4,
 "nbformat_minor": 2
}
