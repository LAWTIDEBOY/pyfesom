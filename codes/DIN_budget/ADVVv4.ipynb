{
 "cells": [
  {
   "cell_type": "code",
   "execution_count": 1,
   "metadata": {},
   "outputs": [
    {
     "name": "stdout",
     "output_type": "stream",
     "text": [
      "No joblib\n",
      "no cmocean\n"
     ]
    }
   ],
   "source": [
    "import sys \n",
    "#sys.path.append(\"codes/modules\") # add custom Vibe 's modules\n",
    "#sys.path.append(\"../..\") # add standard 's modules\n",
    "# sys.path.append('/home/hbkoziel/pyfesom/codes/modules')\n",
    "sys.path.append('../..') # add standard 's modules\n",
    "sys.path.append('../modules')\n",
    "\n",
    "import pyfesom as pf\n",
    "import matplotlib.pyplot as plt\n",
    "from matplotlib import cm\n",
    "from mpl_toolkits.basemap import Basemap\n",
    "import numpy as np\n",
    "from netCDF4 import Dataset\n",
    "import os\n",
    "import time"
   ]
  },
  {
   "cell_type": "code",
   "execution_count": 2,
   "metadata": {},
   "outputs": [
    {
     "name": "stdout",
     "output_type": "stream",
     "text": [
      "/scratch/usr/hbkoziel/mesh/meshArc4.5/pickle_mesh\n",
      "2\n",
      "The usepickle == True)\n",
      "The pickle file for python 2 exists.\n",
      "The mesh will be loaded from /scratch/usr/hbkoziel/mesh/meshArc4.5/pickle_mesh\n"
     ]
    }
   ],
   "source": [
    "# Loading mesh for run\n",
    "\n",
    "mesh_id    = 'meshArc4.5'\n",
    "meshpath   = '/scratch/usr/hbkoziel/mesh/'+mesh_id+'/'            # Defining path where mesh is stored\n",
    "mesh = pf.load_mesh(meshpath, usepickle=True, get3d=True)                                    # Loading mesh, stores it in mesh.****  \n",
    "#mesh = pf.fesom_mesh(meshpath, get3d=True)\n",
    "#mesh.zlevs = -mesh.zlevs                                            # Depth is made negative\n",
    "\n",
    "tracername = 'VADVv4'\n",
    "first_year = 2000\n",
    "last_year  = 2000\n",
    "years      = np.arange(first_year,last_year+1,1)\n",
    "runid\t= 'Arc12'\n",
    "months =np.linspace(0,11,12).astype(int)"
   ]
  },
  {
   "cell_type": "code",
   "execution_count": 3,
   "metadata": {},
   "outputs": [],
   "source": [
    "# ==============================================================================\n",
    "# Settings for netcdf file\n",
    "\n",
    "save_netcdf       = True                                            # Saves the interpolated field in netcdf file\n",
    "delete_old_netcdf = True                                            # If a netcdf file with the same name exists it will be deleted\n",
    "input_directory  = '/scratch/usr/hbkvsk12/hlrn3_work2/results/'+runid+'/' # Where the netcdf is saved\n",
    "output_directory  = '/scratch/usr/hbkoziel/'+runid+'/netcdf_monthly/'\n",
    "plot_netcdf       = False                                         # Reads DIN from the created netcdf file, else it plots the interpolated field (should be the same)"
   ]
  },
  {
   "cell_type": "code",
   "execution_count": 4,
   "metadata": {},
   "outputs": [],
   "source": [
    "# from derivative import derivative\n",
    "\n",
    "# bafux_2d, bafuy_2d = derivative(mesh)\n",
    "# f0 = 2*7.2921e-5 * np.sin(mesh.y2/180.*np.pi)"
   ]
  },
  {
   "cell_type": "code",
   "execution_count": 5,
   "metadata": {},
   "outputs": [
    {
     "data": {
      "text/plain": [
       "array([ -0.,  10.,  20.,  30.,  40.,  50.,  60.,  70.,  80.,  90., 100.])"
      ]
     },
     "execution_count": 5,
     "metadata": {},
     "output_type": "execute_result"
    }
   ],
   "source": [
    "# ncfile      = meshpath+'Arc4.5.initial.mesh.diag.nc'\n",
    "# f           = Dataset(ncfile, 'r')\n",
    "# NodalVol = f.variables['cluster_vol'][:]\n",
    "# f.close()\n",
    "depth = mesh.zlevs\n",
    "ind_max_depth = 11\n",
    "depth[0:ind_max_depth]"
   ]
  },
  {
   "cell_type": "code",
   "execution_count": 6,
   "metadata": {},
   "outputs": [],
   "source": [
    "# np.diff(depth)\n",
    "# mesh.n32[0,0:11]-1"
   ]
  },
  {
   "cell_type": "code",
   "execution_count": 7,
   "metadata": {},
   "outputs": [
    {
     "name": "stdout",
     "output_type": "stream",
     "text": [
      "2000\n",
      "looping over months\n",
      "0\n",
      "Looping over nodes\n",
      "1\n",
      "Looping over nodes\n",
      "2\n",
      "Looping over nodes\n",
      "3\n",
      "Looping over nodes\n",
      "4\n",
      "Looping over nodes\n",
      "5\n",
      "Looping over nodes\n",
      "6\n",
      "Looping over nodes\n",
      "7\n",
      "Looping over nodes\n",
      "8\n",
      "Looping over nodes\n",
      "9\n",
      "Looping over nodes\n",
      "10\n",
      "Looping over nodes\n",
      "11\n",
      "Looping over nodes\n",
      "New netcdf file ( VADVv4.2000.monthly.nc ) has been created.\n",
      "Location: /scratch/usr/hbkoziel/Arc12/netcdf_monthly/\n"
     ]
    }
   ],
   "source": [
    "for ind in range(0,len(years)):\n",
    "    ncfile       = input_directory+runid+'.'+str(years[ind])+'.oce.mean.nc'\n",
    "    f           = Dataset(ncfile, 'r')\n",
    "    netcdf_name = tracername+'.'+str(years[ind])+'.monthly.nc'\n",
    "    \n",
    "    print years[ind]\n",
    "    # ==============================================================================\n",
    "    # Loading data\n",
    "#     print 'Loading data'\n",
    "#     w       = f.variables['w'][:].mean(axis=0)\n",
    "#     din     = f.variables['tr01'][:].mean(axis=0)\n",
    "    \n",
    "    WDN = np.zeros((len(months),len(mesh.x2)))\n",
    "    print 'looping over months'\n",
    "    for mo in months:\n",
    "        print mo\n",
    "        if mo ==0: \n",
    "            dayind = (range(0,15))\n",
    "            month='JAN'\n",
    "        if mo ==1: \n",
    "            dayind = (range(15,30))\n",
    "            month='FEV'\n",
    "        if mo ==2: \n",
    "            dayind = (range(30,45))\n",
    "            month='MAR'\n",
    "        if mo ==3: \n",
    "            dayind = (range(45,60))\n",
    "            month='APR'\n",
    "        elif mo ==4: \n",
    "            dayind = (range(60,75))\n",
    "            month='MAY'\n",
    "        elif mo ==5: \n",
    "            dayind = (range(75,90))\n",
    "            month='JUN'\n",
    "        elif mo ==6: \n",
    "            dayind = (range(90,105))\n",
    "            month='JUL'\n",
    "        elif mo ==7:\n",
    "            dayind = (range(105,120))\n",
    "            month='AUG'\n",
    "        elif mo ==8: \n",
    "            dayind = (range(120,135))\n",
    "            month='SEP'\n",
    "        elif mo ==9: \n",
    "            dayind = (range(135,150))\n",
    "            month='OCT'\n",
    "        elif mo ==10: \n",
    "            dayind = (range(150,165))\n",
    "            month='NOV'\n",
    "        elif mo ==11: \n",
    "            dayind = (range(165,167))\n",
    "            month='DEC'\n",
    "        \n",
    "        #print 'loading variable from netcdf file...'\n",
    "        if years[ind]<2000:\n",
    "            w    = f.variables['w'][mo,:]\n",
    "            din    = f.variables['tr01'][mo,:]\n",
    "        else:\n",
    "            w    = f.variables['w'][dayind,:].mean(axis=0)\n",
    "            din    = f.variables['tr01'][dayind,:].mean(axis=0)\n",
    "            \n",
    "        wDN_node = np.zeros(len(mesh.x2))\n",
    "        print 'Looping over nodes'\n",
    "        for i in range(0,len(mesh.x2)):\n",
    "            d_ind   = mesh.n32[i,0:ind_max_depth]-1\n",
    "            #wDN_node[i] = np.mean(w[d_ind[1:]]*np.diff(din[d_ind])/np.diff(depth[:ind_max_depth]))\n",
    "            wDN_node[i] = np.trapz(np.diff(din[d_ind]*w[d_ind])/np.diff(depth[:ind_max_depth]),depth[:ind_max_depth-1])\n",
    "\n",
    "        WDN[mo,:] = 24 * 3600 * wDN_node # convertion seconds to day\n",
    "        \n",
    "    tracershape = np.shape(WDN)\n",
    "\n",
    "    # ==============================================================================\n",
    "    # Testing if a netcdf file with the same name exists, if yes, it must be removed\n",
    "    # to save a new one.\n",
    "\n",
    "    if os.path.isfile(output_directory+netcdf_name) and delete_old_netcdf:\n",
    "      os.remove(output_directory+netcdf_name)\n",
    "      print \"The netcdf file \"+netcdf_name+\" has been deleted to make room for your file of the same name.\"\n",
    "    elif os.path.isfile(netcdf_name):\n",
    "      statement = \"The netcdf file \"+netcdf_name+\" already exists! It must be removed for a new one to be created. This can be done by changing your settings.\"\n",
    "      sys.exit(statement)\n",
    "\n",
    "    if not os.path.isdir(output_directory):\n",
    "      os.makedirs(output_directory)\n",
    "      print 'Directory '+output_directory+' has been created'\n",
    "\n",
    "    # ==============================================================================\n",
    "    # Creating netcdf file\n",
    "    if save_netcdf:  \n",
    "      import time\n",
    "      w_nc_fid = Dataset(output_directory+netcdf_name, 'w', format='NETCDF4_CLASSIC')      # Create and open new netcdf file to write to\n",
    "      w_nc_fid.description = u'VADV' \n",
    "      w_nc_fid.history     = 'Created ' + time.ctime(time.time())\n",
    "\n",
    "      nod2d    = w_nc_fid.createDimension('nod2d', mesh.n2d)               # Create dimension: number of 3d nodes\n",
    "      time\t   = w_nc_fid.createDimension('time', tracershape[0]) \n",
    "\n",
    "      w_nc_var = w_nc_fid.createVariable('VADV', 'f4',('time','nod2d'))           # 'DIN' is name of saved variable/ 'f8' sets presicion to 64-bit floating point\n",
    "      w_nc_var.setncatts({'long_name': u'VADV',\\\n",
    "                          'units': u'mmol/m2/day'})\n",
    "      w_nc_fid.variables['VADV'][:] = WDN   \n",
    " \n",
    "        \n",
    "      w_nc_fid.close()                                                     # close the new file                \n",
    "\n",
    "      cwd = os.getcwd()\n",
    "      print \"New netcdf file (\",netcdf_name,\") has been created.\"\n",
    "      print \"Location: \"+output_directory\n",
    "    else:\n",
    "      print 'You have specified not to save your field in netcdf file'\n",
    "    \n",
    "#     # Loop over depths\n",
    "#     for d in range(0,100+1,10):\n",
    "#         ind_lev = np.max(np.argwhere(mesh.zlevs == d))\n",
    "#         ind_depth = np.array(mesh.n32[:,ind_lev])"
   ]
  },
  {
   "cell_type": "code",
   "execution_count": 8,
   "metadata": {},
   "outputs": [],
   "source": [
    "# plt.plot((w[d_ind].data),-(depth[:11]))\n",
    "\n",
    "# print np.mean(np.diff(w[d_ind])/np.diff(depth[:11]))\n",
    "# print np.trapz(np.diff(w[d_ind])/np.diff(depth[:11]))"
   ]
  },
  {
   "cell_type": "code",
   "execution_count": 9,
   "metadata": {},
   "outputs": [],
   "source": [
    "# sys.path.append('/home/hbkoziel/pyfesom/pyfesom/cmocean/')\n",
    "# import cmocean as cmap\n",
    "\n",
    "# fig = plt.figure(figsize=(15, 15), facecolor='w', edgecolor='k')\n",
    "\n",
    "# #MLD_sept_mean[MLD_sept_mean == 0] = np.nan\n",
    "# data, elem_no_nan = pf.get_data(12*30*uDN_node/ind_cnt,mesh,0)\n",
    "# ax1      = fig.add_subplot(111)\n",
    "# contours = np.arange(-1, 1, .1)\n",
    "# m = Basemap(projection='nplaea',boundinglat=70,lon_0=0,resolution='l')\n",
    "# x, y = m(mesh.x2, mesh.y2)\n",
    "# plabels=[False,False,False,False]\n",
    "# mlabels=[False,False,False,False]    \n",
    "# m.drawparallels(np.arange(-80.,81.,20.), labels=plabels)\n",
    "# m.drawmeridians(np.arange(-180.,181.,20.),labels=mlabels) #[0,1,0,0]\n",
    "# m.drawmapboundary(fill_color='0.7')\n",
    "# m.fillcontinents(color='.5',lake_color='.7')\n",
    "# im=plt.tricontourf(x, y, elem_no_nan, (data) , levels=contours, cmap=cmap.cm.balance, extend='both')\n",
    "# label = 'Nutrient limitation occurence [%]'\n",
    "# cbar=m.colorbar(im,\"bottom\", size=\"5%\", pad=\"2%\")\n",
    "# cbar.set_label(label, fontsize=14)\n",
    "# cbar.ax.tick_params(labelsize=12)\n",
    "# plt.title('Nutrient limitation', fontsize=16)"
   ]
  },
  {
   "cell_type": "code",
   "execution_count": null,
   "metadata": {},
   "outputs": [],
   "source": []
  }
 ],
 "metadata": {
  "kernelspec": {
   "display_name": "Python 2",
   "language": "python",
   "name": "python2"
  },
  "language_info": {
   "codemirror_mode": {
    "name": "ipython",
    "version": 2
   },
   "file_extension": ".py",
   "mimetype": "text/x-python",
   "name": "python",
   "nbconvert_exporter": "python",
   "pygments_lexer": "ipython2",
   "version": "2.7.16"
  }
 },
 "nbformat": 4,
 "nbformat_minor": 2
}
