{
 "cells": [
  {
   "cell_type": "code",
   "execution_count": 37,
   "metadata": {},
   "outputs": [],
   "source": [
    "import os\n",
    "import sys\n",
    "\n",
    "# Define local pass #\n",
    "#wd_path = '/home/hbkoziel/pyfesom/'\n",
    "\n",
    "sys.path.append('../..') # add standard 's modules\n",
    "sys.path.append('../modules')\n",
    "#sys.path.append(wd_path)\n",
    "#########################################"
   ]
  },
  {
   "cell_type": "code",
   "execution_count": 38,
   "metadata": {},
   "outputs": [],
   "source": [
    "import pyfesom as pf\n",
    "import matplotlib.pyplot as plt\n",
    "from matplotlib import cm\n",
    "#sys.path.append('/home/hbkoziel/pyfesom/pyfesom/cmocean/')\n",
    "#import cmocean as cmap\n",
    "#from mpl_toolkits.basemap import Basemap\n",
    "import numpy as np\n",
    "from netCDF4 import Dataset\n",
    "import time\n",
    "#import seaborn as sns\n",
    "\n",
    "import xarray as xr\n",
    "import pandas as pd"
   ]
  },
  {
   "cell_type": "code",
   "execution_count": 39,
   "metadata": {},
   "outputs": [
    {
     "name": "stdout",
     "output_type": "stream",
     "text": [
      "/scratch/usr/hbkoziel/mesh/meshArc4.5/pickle_mesh\n",
      "2\n",
      "The usepickle == True)\n",
      "The pickle file for python 2 exists.\n",
      "The mesh will be loaded from /scratch/usr/hbkoziel/mesh/meshArc4.5/pickle_mesh\n"
     ]
    }
   ],
   "source": [
    "# Loading mesh for run\n",
    "\n",
    "mesh_id    = 'meshArc4.5'\n",
    "meshpath   = '/scratch/usr/hbkoziel/mesh/'+mesh_id+'/'            # Defining path where mesh is stored\n",
    "mesh = pf.load_mesh(meshpath, usepickle=True, get3d=False)                                    # Loading mesh, stores it in mesh.****  \n",
    "#mesh = pf.fesom_mesh(meshpath, get3d=True)\n",
    "#mesh.zlevs = -mesh.zlevs                                            # Depth is made negative\n",
    "\n",
    "first_year = 1985\n",
    "last_year  = 2015\n",
    "years      = np.arange(first_year,last_year+1,1)\n",
    "runid\t= 'Arc12'\n",
    "\n",
    "data_path  = '/scratch/usr/hbkoziel/'+runid+'/netcdf_monthly/'"
   ]
  },
  {
   "cell_type": "code",
   "execution_count": 40,
   "metadata": {},
   "outputs": [
    {
     "name": "stdout",
     "output_type": "stream",
     "text": [
      "loading index...\n",
      "LOADING DONE\n",
      "SORTING...\n",
      "CLEANING DONE...\n"
     ]
    }
   ],
   "source": [
    "print('loading index...')\n",
    "df = pd.read_csv(meshpath+'/bioregion_index_latlon.csv', delimiter=',',header=0)\n",
    "print('LOADING DONE')\n",
    "df.sort_values(by ='Unique_ID',inplace=True)\n",
    "index = df[\"Unique_ID\"]\n",
    "index_unique = df.Unique_ID.unique().tolist()\n",
    "index_unique.pop(-1)\n",
    "print('SORTING...')\n",
    "names = df.Name.unique().tolist()\n",
    "names.pop(-1)\n",
    "names[3]='Beaufort Sea - shelf'\n",
    "names[4]='Amundsen-Viscount'\n",
    "names.append('All Arctic Ocean (>66N)')\n",
    "print('CLEANING DONE...')"
   ]
  },
  {
   "cell_type": "code",
   "execution_count": 41,
   "metadata": {},
   "outputs": [],
   "source": [
    "ncfile      = meshpath+'Arc4.5.initial.mesh.diag.nc'\n",
    "f           = Dataset(ncfile, 'r')\n",
    "NodalAreaModel = f.variables['cluster_area'][:]"
   ]
  },
  {
   "cell_type": "code",
   "execution_count": 42,
   "metadata": {},
   "outputs": [
    {
     "name": "stdout",
     "output_type": "stream",
     "text": [
      "tr01\n",
      "tr10\n",
      "mixlay\n",
      "cur100m\n",
      "w100m\n",
      "eke\n",
      "NPP\n",
      "icecon\n",
      "PARmld\n",
      "PAR3D\n",
      "DINmld\n"
     ]
    }
   ],
   "source": [
    "ind_bio = df.full_index[df.Unique_ID == 24]\n",
    "\n",
    "tracerlist = ['tr01','tr10','mixlay','cur100m','w100m','eke','NPP','icecon','PARmld','PAR3D','DINmld']\n",
    "\n",
    "df2 = pd.DataFrame()\n",
    "\n",
    "for ind in range(0,len(tracerlist)):\n",
    "    print tracerlist[ind]\n",
    "    dates = pd.date_range('1985', freq=\"MS\", periods= 12*len(np.arange(1985,2016,1)))\n",
    "    data = xr.open_mfdataset(data_path+tracerlist[ind]+'*.nc', concat_dim='time')\n",
    "    data['time'] = dates\n",
    "    \n",
    "    data_sel = data[tracerlist[ind]].sel(time=slice(str(first_year)+'-01-01', str(last_year)+'-12-31'))\n",
    "    data_sel = data_sel.compute()\n",
    "    data_reg = np.sum(data_sel[:,ind_bio]*NodalAreaModel[ind_bio],axis=1)/np.sum(NodalAreaModel[ind_bio])\n",
    "    df2[tracerlist[ind]] = data_reg.data\n",
    "\n",
    "df2['time'] = dates\n",
    "df2.set_index('time', inplace= True)\n",
    "\n",
    "df2['cur100m'] *= 100 # conversion m/s in cm/s\n",
    "df2['tr10'] = 12 * df2['tr10'] / 1000 # conversion of Zoo biomass in mmol/m3 in ug/m3\n",
    "\n",
    "# Rename variables and units\n",
    "df3 = df2.rename({'tr01': 'DINsurf',\\\n",
    "                  'tr10': 'ZB',\\\n",
    "                  'eke': 'EKE',\\\n",
    "                  'mixlay': 'MLD',\\\n",
    "                  'icecon': 'SIC',\\\n",
    "                  'PAR3D': 'PARsurf'},\\\n",
    "           axis=1)\n",
    "df3.head()\n",
    "\n",
    "df3.to_pickle('Eurasian_basin_monthly')"
   ]
  },
  {
   "cell_type": "code",
   "execution_count": 43,
   "metadata": {},
   "outputs": [
    {
     "name": "stdout",
     "output_type": "stream",
     "text": [
      "ANPP\n",
      "WAPE\n",
      "SAPE\n"
     ]
    }
   ],
   "source": [
    "tracerlist = {'ANPP','WAPE','SAPE'}\n",
    "df4 = pd.DataFrame()\n",
    "\n",
    "for tracername in tracerlist:\n",
    "    print tracername\n",
    "    dates = pd.date_range('1985', freq=\"YS\", periods= len(np.arange(1985,2016,1)))\n",
    "    \n",
    "    if tracername == 'ANPP':\n",
    "        data = xr.open_mfdataset(data_path+tracername+'*.nc', concat_dim='time')\n",
    "        data['time'] = dates\n",
    "        data_sel = data[tracername].sel(time=slice(str(first_year)+'-01-01', str(last_year)+'-12-31'))\n",
    "        data_sel = data_sel.compute()\n",
    "        data_reg = np.sum(data_sel[:,ind_bio]*NodalAreaModel[ind_bio],axis=1)\n",
    "        df4[tracername] = data_reg.data *12 / 10**15\n",
    "    elif tracername == 'WAPE':\n",
    "        data = xr.open_mfdataset(data_path+tracername+'*monthly.nc', concat_dim='time')\n",
    "        data['time'] = dates\n",
    "        data_sel = data['APE'].sel(time=slice(str(first_year)+'-01-01', str(last_year)+'-12-31'))\n",
    "        data_sel = data_sel.compute()\n",
    "        data_reg = np.sum(data_sel[:,ind_bio]*NodalAreaModel[ind_bio],axis=1)/np.sum(NodalAreaModel[ind_bio])\n",
    "        df4[tracername] = data_reg.data\n",
    "        data_sel = data['HLD'].sel(time=slice(str(first_year)+'-01-01', str(last_year)+'-12-31'))\n",
    "        data_sel = data_sel.compute()\n",
    "        data_reg = np.sum(data_sel[:,ind_bio]*NodalAreaModel[ind_bio],axis=1)/np.sum(NodalAreaModel[ind_bio])\n",
    "        df4['WHLD'] = data_reg.data\n",
    "    elif tracername == 'SAPE':\n",
    "        data = xr.open_mfdataset(data_path+tracername+'*monthly.nc', concat_dim='time')\n",
    "        data['time'] = dates\n",
    "        data_sel = data['APE'].sel(time=slice(str(first_year)+'-01-01', str(last_year)+'-12-31'))\n",
    "        data_sel = data_sel.compute()\n",
    "        data_reg = np.sum(data_sel[:,ind_bio]*NodalAreaModel[ind_bio],axis=1)/np.sum(NodalAreaModel[ind_bio])\n",
    "        df4[tracername] = data_reg.data\n",
    "        data_sel = data['HLD'].sel(time=slice(str(first_year)+'-01-01', str(last_year)+'-12-31'))\n",
    "        data_sel = data_sel.compute()\n",
    "        data_reg = np.sum(data_sel[:,ind_bio]*NodalAreaModel[ind_bio],axis=1)/np.sum(NodalAreaModel[ind_bio])\n",
    "        df4['SHLD'] = data_reg.data \n",
    "\n",
    "df4['time'] = dates\n",
    "df4.set_index('time', inplace= True)\n",
    "\n",
    "df4.to_pickle('Eurasian_basin_yearly')"
   ]
  },
  {
   "cell_type": "code",
   "execution_count": 44,
   "metadata": {},
   "outputs": [
    {
     "name": "stdout",
     "output_type": "stream",
     "text": [
      "tr01\n",
      "tr10\n",
      "mixlay\n",
      "cur100m\n",
      "w100m\n",
      "eke\n",
      "NPP\n",
      "icecon\n",
      "PARmld\n",
      "PAR3D\n",
      "DINmld\n"
     ]
    }
   ],
   "source": [
    "ind_bio = df.full_index[df.Unique_ID == 25]\n",
    "\n",
    "tracerlist = ['tr01','tr10','mixlay','cur100m','w100m','eke','NPP','icecon','PARmld','PAR3D','DINmld']\n",
    "\n",
    "df2 = pd.DataFrame()\n",
    "\n",
    "for ind in range(0,len(tracerlist)):\n",
    "    print tracerlist[ind]\n",
    "    dates = pd.date_range('1985', freq=\"MS\", periods= 12*len(np.arange(1985,2016,1)))\n",
    "    data = xr.open_mfdataset(data_path+tracerlist[ind]+'*.nc', concat_dim='time')\n",
    "    data['time'] = dates\n",
    "    \n",
    "    data_sel = data[tracerlist[ind]].sel(time=slice(str(first_year)+'-01-01', str(last_year)+'-12-31'))\n",
    "    data_sel = data_sel.compute()\n",
    "    data_reg = np.sum(data_sel[:,ind_bio]*NodalAreaModel[ind_bio],axis=1)/np.sum(NodalAreaModel[ind_bio])\n",
    "    df2[tracerlist[ind]] = data_reg.data\n",
    "\n",
    "df2['time'] = dates\n",
    "df2.set_index('time', inplace= True)\n",
    "\n",
    "df2['cur100m'] *= 100 # conversion m/s in cm/s\n",
    "df2['tr10'] = 12 * df2['tr10'] / 1000 # conversion of Zoo biomass in mmol/m3 in ug/m3\n",
    "\n",
    "# Rename variables and units\n",
    "df3 = df2.rename({'tr01': 'DINsurf',\\\n",
    "                  'tr10': 'ZB',\\\n",
    "                  'eke': 'EKE',\\\n",
    "                  'mixlay': 'MLD',\\\n",
    "                  'icecon': 'SIC',\\\n",
    "                  'PAR3D': 'PARsurf'},\\\n",
    "           axis=1)\n",
    "df3.head()\n",
    "\n",
    "df3.to_pickle('Amerasian_basin_monthly')"
   ]
  },
  {
   "cell_type": "code",
   "execution_count": 45,
   "metadata": {},
   "outputs": [
    {
     "name": "stdout",
     "output_type": "stream",
     "text": [
      "ANPP\n",
      "WAPE\n",
      "SAPE\n"
     ]
    }
   ],
   "source": [
    "tracerlist = {'ANPP','WAPE','SAPE'}\n",
    "df4 = pd.DataFrame()\n",
    "\n",
    "for tracername in tracerlist:\n",
    "    print tracername\n",
    "    dates = pd.date_range('1985', freq=\"YS\", periods= len(np.arange(1985,2016,1)))\n",
    "    \n",
    "    if tracername == 'ANPP':\n",
    "        data = xr.open_mfdataset(data_path+tracername+'*.nc', concat_dim='time')\n",
    "        data['time'] = dates\n",
    "        data_sel = data[tracername].sel(time=slice(str(first_year)+'-01-01', str(last_year)+'-12-31'))\n",
    "        data_sel = data_sel.compute()\n",
    "        data_reg = np.sum(data_sel[:,ind_bio]*NodalAreaModel[ind_bio],axis=1)\n",
    "        df4[tracername] = data_reg.data *12 / 10**15\n",
    "    elif tracername == 'WAPE':\n",
    "        data = xr.open_mfdataset(data_path+tracername+'*monthly.nc', concat_dim='time')\n",
    "        data['time'] = dates\n",
    "        data_sel = data['APE'].sel(time=slice(str(first_year)+'-01-01', str(last_year)+'-12-31'))\n",
    "        data_sel = data_sel.compute()\n",
    "        data_reg = np.sum(data_sel[:,ind_bio]*NodalAreaModel[ind_bio],axis=1)/np.sum(NodalAreaModel[ind_bio])\n",
    "        df4[tracername] = data_reg.data\n",
    "        data_sel = data['HLD'].sel(time=slice(str(first_year)+'-01-01', str(last_year)+'-12-31'))\n",
    "        data_sel = data_sel.compute()\n",
    "        data_reg = np.sum(data_sel[:,ind_bio]*NodalAreaModel[ind_bio],axis=1)/np.sum(NodalAreaModel[ind_bio])\n",
    "        df4['WHLD'] = data_reg.data\n",
    "    elif tracername == 'SAPE':\n",
    "        data = xr.open_mfdataset(data_path+tracername+'*monthly.nc', concat_dim='time')\n",
    "        data['time'] = dates\n",
    "        data_sel = data['APE'].sel(time=slice(str(first_year)+'-01-01', str(last_year)+'-12-31'))\n",
    "        data_sel = data_sel.compute()\n",
    "        data_reg = np.sum(data_sel[:,ind_bio]*NodalAreaModel[ind_bio],axis=1)/np.sum(NodalAreaModel[ind_bio])\n",
    "        df4[tracername] = data_reg.data\n",
    "        data_sel = data['HLD'].sel(time=slice(str(first_year)+'-01-01', str(last_year)+'-12-31'))\n",
    "        data_sel = data_sel.compute()\n",
    "        data_reg = np.sum(data_sel[:,ind_bio]*NodalAreaModel[ind_bio],axis=1)/np.sum(NodalAreaModel[ind_bio])\n",
    "        df4['SHLD'] = data_reg.data \n",
    "\n",
    "df4['time'] = dates\n",
    "df4.set_index('time', inplace= True)\n",
    "\n",
    "df4.to_pickle('Amerasian_basin_yearly')"
   ]
  },
  {
   "cell_type": "code",
   "execution_count": 46,
   "metadata": {},
   "outputs": [
    {
     "name": "stdout",
     "output_type": "stream",
     "text": [
      "tr01\n",
      "tr10\n",
      "mixlay\n",
      "cur100m\n",
      "w100m\n",
      "eke\n",
      "NPP\n",
      "icecon\n",
      "PARmld\n",
      "PAR3D\n",
      "DINmld\n"
     ]
    }
   ],
   "source": [
    "ind1 = (np.array(mesh.topo > 300) & np.array(mesh.topo < 800))\n",
    "ind2 = ~(np.array(mesh.y2 < 75) & np.array(np.abs(mesh.x2) < 80))\n",
    "ind3 = ~(np.array(mesh.y2 < 66) & np.array(np.abs(mesh.x2) >= 80))\n",
    "ind4 = ~(np.array(mesh.y2 < 80) & np.array(mesh.x2 < -20) & np.array(mesh.x2 > -100))\n",
    "ind5 = ~(np.array(mesh.y2 < 80) & np.array(mesh.x2 > -20) & np.array(mesh.x2 < 0))\n",
    "ind6 = ~(np.array(mesh.y2 < 80) & np.array(mesh.x2 > 20) & np.array(mesh.x2 < 60))\n",
    "\n",
    "ind_bio=ind1&ind2&ind3&ind4&ind5&ind6\n",
    "\n",
    "tracerlist = ['tr01','tr10','mixlay','cur100m','w100m','eke','NPP','icecon','PARmld','PAR3D','DINmld']\n",
    "\n",
    "df2 = pd.DataFrame()\n",
    "\n",
    "for ind in range(0,len(tracerlist)):\n",
    "    print tracerlist[ind]\n",
    "    dates = pd.date_range('1985', freq=\"MS\", periods= 12*len(np.arange(1985,2016,1)))\n",
    "    data = xr.open_mfdataset(data_path+tracerlist[ind]+'*.nc', concat_dim='time')\n",
    "    data['time'] = dates\n",
    "    \n",
    "    data_sel = data[tracerlist[ind]].sel(time=slice(str(first_year)+'-01-01', str(last_year)+'-12-31'))\n",
    "    data_sel = data_sel.compute()\n",
    "    data_sel = data_sel[:,:mesh.n2d]\n",
    "    data_reg = np.sum(data_sel[:,ind_bio]*NodalAreaModel[ind_bio],axis=1)/np.sum(NodalAreaModel[ind_bio])\n",
    "    df2[tracerlist[ind]] = data_reg.data\n",
    "\n",
    "df2['time'] = dates\n",
    "df2.set_index('time', inplace= True)\n",
    "\n",
    "df2['cur100m'] *= 100 # conversion m/s in cm/s\n",
    "df2['tr10'] = 12 * df2['tr10'] / 1000 # conversion of Zoo biomass in mmol/m3 in ug/m3\n",
    "\n",
    "# Rename variables and units\n",
    "df3 = df2.rename({'tr01': 'DINsurf',\\\n",
    "                  'tr10': 'ZB',\\\n",
    "                  'eke': 'EKE',\\\n",
    "                  'mixlay': 'MLD',\\\n",
    "                  'icecon': 'SIC',\\\n",
    "                  'PAR3D': 'PARsurf'},\\\n",
    "           axis=1)\n",
    "df3.head()\n",
    "\n",
    "df3.to_pickle('Slope_basin_monthly')"
   ]
  },
  {
   "cell_type": "code",
   "execution_count": null,
   "metadata": {},
   "outputs": [],
   "source": []
  },
  {
   "cell_type": "code",
   "execution_count": null,
   "metadata": {},
   "outputs": [],
   "source": []
  },
  {
   "cell_type": "code",
   "execution_count": 47,
   "metadata": {},
   "outputs": [
    {
     "name": "stdout",
     "output_type": "stream",
     "text": [
      "ANPP\n",
      "WAPE\n",
      "SAPE\n"
     ]
    }
   ],
   "source": [
    "tracerlist = {'ANPP','WAPE','SAPE'}\n",
    "df4 = pd.DataFrame()\n",
    "\n",
    "for tracername in tracerlist:\n",
    "    print tracername\n",
    "    dates = pd.date_range('1985', freq=\"YS\", periods= len(np.arange(1985,2016,1)))\n",
    "    \n",
    "    if tracername == 'ANPP':\n",
    "        data = xr.open_mfdataset(data_path+tracername+'*.nc', concat_dim='time')\n",
    "        data['time'] = dates\n",
    "        data_sel = data[tracername].sel(time=slice(str(first_year)+'-01-01', str(last_year)+'-12-31'))\n",
    "        data_sel = data_sel.compute()\n",
    "        data_reg = np.sum(data_sel[:,ind_bio]*NodalAreaModel[ind_bio],axis=1)\n",
    "        df4[tracername] = data_reg.data *12 / 10**15\n",
    "    elif tracername == 'WAPE':\n",
    "        data = xr.open_mfdataset(data_path+tracername+'*monthly.nc', concat_dim='time')\n",
    "        data['time'] = dates\n",
    "        data_sel = data['APE'].sel(time=slice(str(first_year)+'-01-01', str(last_year)+'-12-31'))\n",
    "        data_sel = data_sel.compute()\n",
    "        data_reg = np.sum(data_sel[:,ind_bio]*NodalAreaModel[ind_bio],axis=1)/np.sum(NodalAreaModel[ind_bio])\n",
    "        df4[tracername] = data_reg.data\n",
    "        data_sel = data['HLD'].sel(time=slice(str(first_year)+'-01-01', str(last_year)+'-12-31'))\n",
    "        data_sel = data_sel.compute()\n",
    "        data_reg = np.sum(data_sel[:,ind_bio]*NodalAreaModel[ind_bio],axis=1)/np.sum(NodalAreaModel[ind_bio])\n",
    "        df4['WHLD'] = data_reg.data\n",
    "    elif tracername == 'SAPE':\n",
    "        data = xr.open_mfdataset(data_path+tracername+'*monthly.nc', concat_dim='time')\n",
    "        data['time'] = dates\n",
    "        data_sel = data['APE'].sel(time=slice(str(first_year)+'-01-01', str(last_year)+'-12-31'))\n",
    "        data_sel = data_sel.compute()\n",
    "        data_reg = np.sum(data_sel[:,ind_bio]*NodalAreaModel[ind_bio],axis=1)/np.sum(NodalAreaModel[ind_bio])\n",
    "        df4[tracername] = data_reg.data\n",
    "        data_sel = data['HLD'].sel(time=slice(str(first_year)+'-01-01', str(last_year)+'-12-31'))\n",
    "        data_sel = data_sel.compute()\n",
    "        data_reg = np.sum(data_sel[:,ind_bio]*NodalAreaModel[ind_bio],axis=1)/np.sum(NodalAreaModel[ind_bio])\n",
    "        df4['SHLD'] = data_reg.data \n",
    "\n",
    "df4['time'] = dates\n",
    "df4.set_index('time', inplace= True)\n",
    "df4.to_pickle('Slope_basin_yearly')"
   ]
  },
  {
   "cell_type": "code",
   "execution_count": 48,
   "metadata": {},
   "outputs": [
    {
     "data": {
      "text/plain": [
       "<matplotlib.axes._subplots.AxesSubplot at 0x2aedf21f5e90>"
      ]
     },
     "execution_count": 48,
     "metadata": {},
     "output_type": "execute_result"
    },
    {
     "data": {
      "image/png": "[encoded data removed]",
      "text/plain": [
       "<Figure size 576x396 with 1 Axes>"
      ]
     },
     "metadata": {},
     "output_type": "display_data"
    }
   ],
   "source": [
    "df_eu_yr = pd.read_pickle('Eurasian_basin_yearly')\n",
    "df_am_yr = pd.read_pickle('Amerasian_basin_yearly')\n",
    "df_sl_yr = pd.read_pickle('Slope_basin_yearly')\n",
    "\n",
    "plt.style.use('seaborn')\n",
    "#\n",
    "\n",
    "df_am_yr[\"SAPE\"].plot()\n",
    "df_eu_yr[\"SAPE\"].plot()\n",
    "df_sl_yr[\"SAPE\"].plot()\n",
    "#plt.ylim(50000,780000)"
   ]
  },
  {
   "cell_type": "code",
   "execution_count": null,
   "metadata": {},
   "outputs": [],
   "source": []
  }
 ],
 "metadata": {
  "kernelspec": {
   "display_name": "Python 2",
   "language": "python",
   "name": "python2"
  },
  "language_info": {
   "codemirror_mode": {
    "name": "ipython",
    "version": 2
   },
   "file_extension": ".py",
   "mimetype": "text/x-python",
   "name": "python",
   "nbconvert_exporter": "python",
   "pygments_lexer": "ipython2",
   "version": "2.7.16"
  }
 },
 "nbformat": 4,
 "nbformat_minor": 2
}
