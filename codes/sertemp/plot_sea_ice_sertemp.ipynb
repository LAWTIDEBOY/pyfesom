{
 "cells": [
  {
   "cell_type": "code",
   "execution_count": 26,
   "metadata": {},
   "outputs": [
    {
     "name": "stdout",
     "output_type": "stream",
     "text": [
      "computer =  bfn1001\n",
      "working directory set to /home/hbkoziel/pyfesom\n"
     ]
    }
   ],
   "source": [
    "import os\n",
    "from os.path import expanduser\n",
    "import socket\n",
    "import sys\n",
    "import glob\n",
    "\n",
    "# BELOW IS SYSTEM/PATH CONFIGURATION #\n",
    "my_home = expanduser(\"~\")\n",
    "running_system = socket.gethostname()\n",
    "# Configure machine's names here #\n",
    "systemHLRN = 'blogin1'\n",
    "systemLOCAL = 'Laurents-MacBook-Pro.local'\n",
    "my_home = expanduser(\"~\")\n",
    "# Define local pass #\n",
    "if running_system == systemLOCAL:\n",
    "    print \"computer = \", running_system\n",
    "    wd_path = os.path.join(my_home,\"Documents\",\"projects\", \"pyfesom\")\n",
    "elif running_system[0:1] == \"b\" or running_system == systemHLRN:\n",
    "    print \"computer = \", running_system\n",
    "    wd_path = os.path.join(my_home,\"pyfesom\")\n",
    "else:\n",
    "    print 'please configure your local machine : type socket.gethostname()'\n",
    "print \"working directory set to\", wd_path\n",
    "os.chdir(wd_path)\n",
    "sys.path.append(\"codes/modules\") # add custom Vibe 's modules\n",
    "#sys.path.append(\"pyfesom\") # add standard 's modules\n",
    "#########################################"
   ]
  },
  {
   "cell_type": "code",
   "execution_count": 27,
   "metadata": {},
   "outputs": [],
   "source": [
    "import matplotlib.pyplot as plt\n",
    "from mpl_toolkits.basemap import Basemap\n",
    "from pylab import *\n",
    "import pyfesom as pf\n",
    "#from load_mesh_data_new import *\n",
    "import numpy as np\n",
    "import datetime as dt\n",
    "from PiecewiseNorm import PiecewiseNorm\n",
    "from netCDF4 import Dataset\n",
    "import cmocean as cmaps\n",
    "#from matplotlib.colors import ListedColormap"
   ]
  },
  {
   "cell_type": "code",
   "execution_count": 28,
   "metadata": {},
   "outputs": [
    {
     "name": "stdout",
     "output_type": "stream",
     "text": [
      "directory /home/hbkoziel/pyfesom/figures/Arc12/ already existing\n"
     ]
    }
   ],
   "source": [
    "# PLOT CONFIGURATION #\n",
    "\n",
    "# load colormaps #\n",
    "cmap = cmaps.cm.balance\n",
    "# figure export \n",
    "export_plot = True\n",
    "# figure export definition\n",
    "dpicnt=150\n",
    "# choose simulation\n",
    "runid='Arc12'\n",
    "# choose date\n",
    "first_year = 1980\n",
    "last_year  = 2015\n",
    "years      = np.arange(first_year,last_year+1,1)\n",
    "months =np.linspace(0,11,12).astype(int)\n",
    "# choose depth\n",
    "get3d = False\n",
    "# load the given biological tracer #\n",
    "var_id= 'area'\n",
    "\n",
    "########################\n",
    "\n",
    "# AUTOMATIC DEFINITION OF PATHS\n",
    "resultpath = '/scratch/usr/hbkvsk12/hlrn3_work2/results/'+runid+'/Oldfiles/'\n",
    "savepath    = wd_path+'/figures/'+runid+'/'\n",
    "meshpath    = wd_path+'/data/mesh/meshArc4.5/'\n",
    "outputpath = '/scratch/usr/hbkoziel/Arc12/'\n",
    "\n",
    "# Create figure directory if it does not exist\n",
    "if os.path.exists(savepath) == False:\n",
    "    try:\n",
    "        os.mkdir(savepath)\n",
    "        print (\"Creation of the directory %s successfull\" % savepath)\n",
    "    except OSError:\n",
    "        print (\"Creation of the directory %s failed\" % savepath)\n",
    "else:\n",
    "    print (\"directory %s already existing\" % savepath)"
   ]
  },
  {
   "cell_type": "code",
   "execution_count": 29,
   "metadata": {},
   "outputs": [
    {
     "name": "stdout",
     "output_type": "stream",
     "text": [
      "/home/hbkoziel/pyfesom/data/mesh/meshArc4.5/pickle_mesh\n",
      "2\n",
      "The usepickle == True)\n",
      "The pickle file for python 2 exists.\n",
      "The mesh will be loaded from /home/hbkoziel/pyfesom/data/mesh/meshArc4.5/pickle_mesh\n"
     ]
    }
   ],
   "source": [
    "mesh = pf.load_mesh(meshpath, usepickle=True,get3d=get3d)\n",
    "#mesh = fesom_mesh(meshpath, get3d = get3d)\n",
    "#mesh = load_mesh(meshpath)"
   ]
  },
  {
   "cell_type": "code",
   "execution_count": 30,
   "metadata": {},
   "outputs": [
    {
     "data": {
      "text/plain": [
       "\n",
       "FESOM mesh:\n",
       "path                  = /gfs2/work/hbkvsk12/mesh/meshArc4.5\n",
       "alpha, beta, gamma    = 50, 15, -90\n",
       "number of 2d nodes    = 753179\n",
       "number of 2d elements = 1480268\n",
       "number of 3d nodes    = 16950142\n",
       "\n",
       "        "
      ]
     },
     "execution_count": 30,
     "metadata": {},
     "output_type": "execute_result"
    }
   ],
   "source": [
    "mesh"
   ]
  },
  {
   "cell_type": "code",
   "execution_count": 31,
   "metadata": {},
   "outputs": [],
   "source": [
    "ncfile      = meshpath+'Arc4.5.initial.mesh.diag.nc'\n",
    "f           = Dataset(ncfile, 'r')\n",
    "NodalAreaModel = f.variables['cluster_area'][:]"
   ]
  },
  {
   "cell_type": "code",
   "execution_count": 32,
   "metadata": {},
   "outputs": [
    {
     "name": "stdout",
     "output_type": "stream",
     "text": [
      "1980\n",
      "1981\n",
      "1982\n",
      "1983\n",
      "1984\n",
      "1985\n",
      "1986\n",
      "1987\n",
      "1988\n",
      "1989\n",
      "1990\n",
      "1991\n",
      "1992\n",
      "1993\n",
      "1994\n",
      "1995\n",
      "1996\n",
      "1997\n",
      "1998\n",
      "1999\n",
      "2000\n",
      "2001\n",
      "2002\n",
      "2003\n",
      "2004\n",
      "2005\n",
      "2006\n",
      "2007\n",
      "2008\n",
      "2009\n",
      "2010\n",
      "2011\n",
      "2012\n",
      "2013\n",
      "2014\n",
      "2015\n",
      "Number of nans in tracer:  0\n",
      "Number of inf in tracer:  0\n",
      "Mean of surface:  0.48076930499\n",
      "Max and min:  0.999800629086 0.0\n"
     ]
    }
   ],
   "source": [
    "#X = genfromtxt(outputpath+'ICE_APR_1990_2015_trend.csv', delimiter=';')\n",
    "mo=6\n",
    "if mo ==4: \n",
    "    dayind = (range(45,59))\n",
    "    month='APR'\n",
    "elif mo ==5: \n",
    "    dayind = (range(60,74))\n",
    "    month='MAY'\n",
    "elif mo ==6: \n",
    "    dayind = (range(75,89))\n",
    "    month='JUN'\n",
    "elif mo ==7: \n",
    "    dayind = (range(90,105))\n",
    "    month='JUL'\n",
    "elif mo ==8:\n",
    "    dayind = (range(106,120))\n",
    "    month='AUG'\n",
    "elif mo ==9: \n",
    "    dayind = (range(121,135))\n",
    "    month='SEP'\n",
    "    \n",
    "# initlialyze\n",
    "ICECON = np.zeros((len(years),len(mesh.x2)))\n",
    "ICEAREA = np.zeros((len(years),len(mesh.x2)))\n",
    "\n",
    "# loop over years\n",
    "for ind in range(0,len(years)):\n",
    "     print years[ind]\n",
    "     ncfile = resultpath+runid+'.'+str(years[ind])+'.ice.mean.nc'\n",
    "     #print ncfile\n",
    "     f      = Dataset(ncfile, 'r')\n",
    "     if years[ind]<2000:\n",
    "         ice    = f.variables[var_id][mo,0:mesh.n2d]\n",
    "     else:\n",
    "         ice    = f.variables[var_id][dayind,0:mesh.n2d].mean(axis=0)\n",
    "     arcsurf_ind = np.nonzero((mesh.y2>66.) & (ice>0.1))\n",
    "     ICEAREA[ind,:]=np.sum(NodalAreaModel[arcsurf_ind])\n",
    "     ICECON[ind,:] = ice\n",
    "\n",
    "data2 = ICECON.mean(axis=0)\n",
    "print 'Number of nans in tracer: ',np.count_nonzero(np.isnan(data2))\n",
    "print 'Number of inf in tracer: ',np.count_nonzero(np.isinf(data2))\n",
    "print 'Mean of surface: ',np.mean(data2[0:len(mesh.x2)])\n",
    "print 'Max and min: ',np.max(data2),np.min(data2)"
   ]
  },
  {
   "cell_type": "code",
   "execution_count": null,
   "metadata": {},
   "outputs": [],
   "source": []
  },
  {
   "cell_type": "code",
   "execution_count": 33,
   "metadata": {},
   "outputs": [
    {
     "name": "stdout",
     "output_type": "stream",
     "text": [
      "(753179,)\n",
      "(36,)\n"
     ]
    },
    {
     "data": {
      "image/png": "[encoded data removed]",
      "text/plain": [
       "<Figure size 432x288 with 1 Axes>"
      ]
     },
     "metadata": {
      "needs_background": "light"
     },
     "output_type": "display_data"
    }
   ],
   "source": [
    "icecon=ICECON.mean(axis=1)\n",
    "print data2.shape\n",
    "print icecon.shape\n",
    "plt.plot(years,icecon,'.-')\n",
    "plt.grid(True)\n",
    "plt.xlabel('time (years)')\n",
    "plt.ylabel('Sea-ice con (%)')\n",
    "plt.title(month)\n",
    "plt.savefig(savepath+'sertemp/SEAICECON_trend_'+str(first_year)+'_'+str(last_year)+'.png', dpi = dpicnt, bbox_inches='tight') \n",
    "     "
   ]
  },
  {
   "cell_type": "code",
   "execution_count": 34,
   "metadata": {},
   "outputs": [
    {
     "data": {
      "image/png": "[encoded data removed]",
      "text/plain": [
       "<Figure size 432x288 with 1 Axes>"
      ]
     },
     "metadata": {
      "needs_background": "light"
     },
     "output_type": "display_data"
    }
   ],
   "source": [
    "icearea=ICEAREA.mean(axis=1)/1e6\n",
    "plt.plot(years,icearea,'.-')\n",
    "plt.grid(True)\n",
    "plt.xlabel('time (years)')\n",
    "plt.ylabel('Sea-ice area (km^2)')\n",
    "plt.title(month)\n",
    "plt.savefig(savepath+'sertemp/SEAICEAREA_trend_'+str(first_year)+'_'+str(last_year)+'.png', dpi = dpicnt, bbox_inches='tight') \n",
    "     "
   ]
  },
  {
   "cell_type": "code",
   "execution_count": null,
   "metadata": {},
   "outputs": [],
   "source": []
  }
 ],
 "metadata": {
  "kernelspec": {
   "display_name": "Python 2",
   "language": "python",
   "name": "python2"
  },
  "language_info": {
   "codemirror_mode": {
    "name": "ipython",
    "version": 2
   },
   "file_extension": ".py",
   "mimetype": "text/x-python",
   "name": "python",
   "nbconvert_exporter": "python",
   "pygments_lexer": "ipython2",
   "version": "2.7.15"
  }
 },
 "nbformat": 4,
 "nbformat_minor": 2
}
