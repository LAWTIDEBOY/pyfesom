{
 "cells": [
  {
   "cell_type": "code",
   "execution_count": 72,
   "metadata": {},
   "outputs": [
    {
     "name": "stdout",
     "output_type": "stream",
     "text": [
      "computer =  bfn1001\n",
      "working directory set to /home/hbkoziel/pyfesom\n"
     ]
    }
   ],
   "source": [
    "import os\n",
    "from os.path import expanduser\n",
    "import socket\n",
    "import sys\n",
    "import glob\n",
    "\n",
    "# BELOW IS SYSTEM/PATH CONFIGURATION #\n",
    "my_home = expanduser(\"~\")\n",
    "running_system = socket.gethostname()\n",
    "# Configure machine's names here #\n",
    "systemHLRN = 'blogin1'\n",
    "systemLOCAL = 'Laurents-MacBook-Pro.local'\n",
    "my_home = expanduser(\"~\")\n",
    "# Define local pass #\n",
    "if running_system == systemLOCAL:\n",
    "    print \"computer = \", running_system\n",
    "    wd_path = os.path.join(my_home,\"Documents\",\"projects\", \"pyfesom\")\n",
    "elif running_system[0:1] == \"b\" or running_system == systemHLRN:\n",
    "    print \"computer = \", running_system\n",
    "    wd_path = os.path.join(my_home,\"pyfesom\")\n",
    "else:\n",
    "    print 'please configure your local machine : type socket.gethostname()'\n",
    "print \"working directory set to\", wd_path\n",
    "os.chdir(wd_path)\n",
    "sys.path.append(\"codes/modules\") # add custom Vibe 's modules\n",
    "#sys.path.append(\"pyfesom\") # add standard 's modules\n",
    "#########################################"
   ]
  },
  {
   "cell_type": "code",
   "execution_count": 73,
   "metadata": {},
   "outputs": [],
   "source": [
    "import matplotlib.pyplot as plt\n",
    "from mpl_toolkits.basemap import Basemap\n",
    "from pylab import *\n",
    "import pyfesom as pf\n",
    "#from load_mesh_data_new import *\n",
    "import numpy as np\n",
    "import datetime as dt\n",
    "from PiecewiseNorm import PiecewiseNorm\n",
    "from netCDF4 import Dataset\n",
    "#import cmocean as cmaps\n",
    "import pandas as pd\n",
    "#from matplotlib.colors import ListedColormap"
   ]
  },
  {
   "cell_type": "code",
   "execution_count": 74,
   "metadata": {},
   "outputs": [
    {
     "name": "stdout",
     "output_type": "stream",
     "text": [
      "directory /home/hbkoziel/pyfesom/figures/Arc12/ already existing\n"
     ]
    }
   ],
   "source": [
    "# PLOT CONFIGURATION #\n",
    "\n",
    "# figure export \n",
    "export_plot = True\n",
    "# figure export definition\n",
    "dpicnt=150\n",
    "# choose simulation\n",
    "runid='Arc12'\n",
    "# choose date\n",
    "first_year = 1980\n",
    "last_year  = 2015\n",
    "years      = np.arange(first_year,last_year+1,1)\n",
    "months =np.linspace(0,11,12).astype(int)\n",
    "# choose depth\n",
    "get3d = False\n",
    "# load the given biological tracer #\n",
    "var_id= 'area'\n",
    "\n",
    "########################\n",
    "\n",
    "# AUTOMATIC DEFINITION OF PATHS\n",
    "resultpath = '/scratch/usr/hbkvsk12/hlrn3_work2/results/'+runid+'/Oldfiles/'\n",
    "savepath    = wd_path+'/figures/'+runid+'/'\n",
    "meshpath    = wd_path+'/data/mesh/meshArc4.5/'\n",
    "outputpath = '/scratch/usr/hbkoziel/Arc12/'\n",
    "\n",
    "# Create figure directory if it does not exist\n",
    "if os.path.exists(savepath) == False:\n",
    "    try:\n",
    "        os.mkdir(savepath)\n",
    "        print (\"Creation of the directory %s successfull\" % savepath)\n",
    "    except OSError:\n",
    "        print (\"Creation of the directory %s failed\" % savepath)\n",
    "else:\n",
    "    print (\"directory %s already existing\" % savepath)"
   ]
  },
  {
   "cell_type": "code",
   "execution_count": 75,
   "metadata": {},
   "outputs": [
    {
     "name": "stdout",
     "output_type": "stream",
     "text": [
      "/home/hbkoziel/pyfesom/data/mesh/meshArc4.5/pickle_mesh\n",
      "2\n",
      "The usepickle == True)\n",
      "The pickle file for python 2 exists.\n",
      "The mesh will be loaded from /home/hbkoziel/pyfesom/data/mesh/meshArc4.5/pickle_mesh\n"
     ]
    }
   ],
   "source": [
    "mesh = pf.load_mesh(meshpath, usepickle=True,get3d=get3d)\n",
    "#mesh = fesom_mesh(meshpath, get3d = get3d)\n",
    "#mesh = load_mesh(meshpath)"
   ]
  },
  {
   "cell_type": "code",
   "execution_count": 76,
   "metadata": {},
   "outputs": [
    {
     "data": {
      "text/plain": [
       "\n",
       "FESOM mesh:\n",
       "path                  = /gfs2/work/hbkvsk12/mesh/meshArc4.5\n",
       "alpha, beta, gamma    = 50, 15, -90\n",
       "number of 2d nodes    = 753179\n",
       "number of 2d elements = 1480268\n",
       "number of 3d nodes    = 16950142\n",
       "\n",
       "        "
      ]
     },
     "execution_count": 76,
     "metadata": {},
     "output_type": "execute_result"
    }
   ],
   "source": [
    "mesh"
   ]
  },
  {
   "cell_type": "code",
   "execution_count": 77,
   "metadata": {},
   "outputs": [],
   "source": [
    "ncfile      = meshpath+'Arc4.5.initial.mesh.diag.nc'\n",
    "f           = Dataset(ncfile, 'r')\n",
    "NodalAreaModel = f.variables['cluster_area'][:]"
   ]
  },
  {
   "cell_type": "code",
   "execution_count": 78,
   "metadata": {},
   "outputs": [],
   "source": [
    "def trim_axs(axs, N):\n",
    "    \"\"\"\n",
    "    Reduce *axs* to *N* Axes. All further Axes are removed from the figure.\n",
    "    \"\"\"\n",
    "    axs = axs.flat\n",
    "    for ax in axs[N:]:\n",
    "        ax.remove()\n",
    "    return axs[:N]"
   ]
  },
  {
   "cell_type": "code",
   "execution_count": null,
   "metadata": {},
   "outputs": [
    {
     "name": "stdout",
     "output_type": "stream",
     "text": [
      "JAN\n",
      "FEV\n",
      "MAR\n",
      "APR\n",
      "MAY\n",
      "JUN\n",
      "JUL\n",
      "AUG\n",
      "SEP\n",
      "OCT\n",
      "NOV\n",
      "DEC\n"
     ]
    }
   ],
   "source": [
    "#X = genfromtxt(outputpath+'ICE_APR_1990_2015_trend.csv', delimiter=';')\n",
    "#fig, axs = plt.subplots(3,2, sharex=True, sharey=True)\n",
    "figsize = (10, 8)\n",
    "rows,cols = 4,3\n",
    "months = range(0,12)\n",
    "\n",
    "axs = plt.figure(figsize=figsize, constrained_layout=True).subplots(rows,cols)\n",
    "axs = trim_axs(axs, len(months))\n",
    "\n",
    "for ax, mo in zip(axs, months):\n",
    "    if mo ==0: \n",
    "        dayind = (range(0,15))\n",
    "        month='JAN'\n",
    "    if mo ==1: \n",
    "        dayind = (range(15,30))\n",
    "        month='FEV'\n",
    "    if mo ==2: \n",
    "        dayind = (range(30,45))\n",
    "        month='MAR'\n",
    "    if mo ==3: \n",
    "        dayind = (range(45,60))\n",
    "        month='APR'\n",
    "    elif mo ==4: \n",
    "        dayind = (range(60,75))\n",
    "        month='MAY'\n",
    "    elif mo ==5: \n",
    "        dayind = (range(75,90))\n",
    "        month='JUN'\n",
    "    elif mo ==6: \n",
    "        dayind = (range(90,105))\n",
    "        month='JUL'\n",
    "    elif mo ==7:\n",
    "        dayind = (range(105,120))\n",
    "        month='AUG'\n",
    "    elif mo ==8: \n",
    "        dayind = (range(120,135))\n",
    "        month='SEP'\n",
    "    elif mo ==9: \n",
    "        dayind = (range(135,150))\n",
    "        month='OCT'\n",
    "    elif mo ==10: \n",
    "        dayind = (range(150,165))\n",
    "        month='NOV'\n",
    "    elif mo ==11: \n",
    "        dayind = (range(165,174))\n",
    "        month='DEC'\n",
    "    \n",
    "    print month\n",
    "    \n",
    "    # initlialyze\n",
    "    ICECON = np.zeros((len(years),len(mesh.x2)))\n",
    "    ICEAREA = np.zeros((len(years),len(mesh.x2)))\n",
    "\n",
    "    # loop over years\n",
    "    for ind in range(0,len(years)):\n",
    "         #print years[ind]\n",
    "         if years[ind] == 2015 and mo == 11: # exception for the end of the time-series\n",
    "            dayind = range(165,167)\n",
    "            \n",
    "         ncfile = resultpath+runid+'.'+str(years[ind])+'.ice.mean.nc'\n",
    "         #print ncfile\n",
    "         f      = Dataset(ncfile, 'r')\n",
    "         if years[ind]<2000:\n",
    "             ice    = f.variables[var_id][mo,0:mesh.n2d]\n",
    "         else:\n",
    "             ice    = f.variables[var_id][dayind,0:mesh.n2d].mean(axis=0)\n",
    "             #ice    = ice / (len(dayind))\n",
    "         arcsurf_ind = np.nonzero((mesh.y2>45.) & (ice>0.1))\n",
    "         ICEAREA[ind,:]=np.sum(NodalAreaModel[arcsurf_ind])\n",
    "         ICECON[ind,:] =np.mean(ice[mesh.y2>66.])\n",
    "    \n",
    "    if mo < 9:\n",
    "        BSOfile = wd_path+'/data/NSIDC/N_0'+str(mo+1)+'_extent_v3.0.csv'\n",
    "        #print BSOfile\n",
    "        df = pd.read_csv(BSOfile, header=0, sep = ',',na_values=['-9999'], decimal=\".\",skipinitialspace=True)\n",
    "    else:\n",
    "        BSOfile = wd_path+'/data/NSIDC/N_'+str(mo+1)+'_extent_v3.0.csv'\n",
    "        #print BSOfile\n",
    "        df = pd.read_csv(BSOfile, header=0, sep = ',',na_values=['-9999'], decimal=\".\",skipinitialspace=True)\n",
    "    icearea=ICEAREA.mean(axis=1)/1e6\n",
    "    ax.plot(years,icearea,'.-')\n",
    "    ax.plot(df.year,df.extent*1e6,'.-r')\n",
    "    ax.grid(True)\n",
    "    ax.set_xlabel('time (years)')\n",
    "    ax.set_ylabel('Sea-ice extent ($km^2$)')\n",
    "    ax.set_title(month)\n",
    "    legend(['FESOM','NSIDC'])\n",
    "    \n",
    "plt.savefig(savepath+'sertemp/SEAICEEXTENT_trend_'+str(first_year)+'_'+str(last_year)+'.png', dpi = dpicnt, bbox_inches='tight')      "
   ]
  }
 ],
 "metadata": {
  "kernelspec": {
   "display_name": "Python 2",
   "language": "python",
   "name": "python2"
  },
  "language_info": {
   "codemirror_mode": {
    "name": "ipython",
    "version": 2
   },
   "file_extension": ".py",
   "mimetype": "text/x-python",
   "name": "python",
   "nbconvert_exporter": "python",
   "pygments_lexer": "ipython2",
   "version": "2.7.16"
  }
 },
 "nbformat": 4,
 "nbformat_minor": 2
}
