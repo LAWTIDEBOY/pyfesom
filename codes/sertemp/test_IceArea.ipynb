{
 "cells": [
  {
   "cell_type": "code",
   "execution_count": 5,
   "metadata": {},
   "outputs": [
    {
     "name": "stdout",
     "output_type": "stream",
     "text": [
      "computer =  bfn1001\n",
      "working directory set to /home/hbkoziel/pyfesom\n",
      "The *usepickle = True* and the pickle file (*pickle_mesh*) exists.\n",
      " We load the mesh from it.\n",
      "The *usepickle = True* and the pickle file (*pickle_mesh*) exists.\n",
      " We load the mesh from it.\n",
      "1980\n"
     ]
    },
    {
     "name": "stderr",
     "output_type": "stream",
     "text": [
      "/home/hbkoziel/.conda/envs/pyfesom-docs/lib/python2.7/site-packages/ipykernel_launcher.py:87: RuntimeWarning: invalid value encountered in greater\n",
      "/home/hbkoziel/.conda/envs/pyfesom-docs/lib/python2.7/site-packages/ipykernel_launcher.py:88: RuntimeWarning: invalid value encountered in greater\n"
     ]
    },
    {
     "name": "stdout",
     "output_type": "stream",
     "text": [
      "1981\n",
      "1982\n",
      "1983\n",
      "1984\n",
      "1985\n",
      "1986\n",
      "1987\n",
      "1988\n",
      "1989\n",
      "1990\n",
      "1991\n",
      "1992\n",
      "1993\n",
      "1994\n",
      "1995\n",
      "1996\n",
      "1997\n",
      "1998\n",
      "1999\n",
      "2000\n",
      "2001\n",
      "2002\n",
      "2003\n",
      "2004\n",
      "2005\n",
      "2006\n",
      "2007\n",
      "2008\n",
      "2009\n",
      "2010\n",
      "2011\n",
      "2012\n",
      "2013\n",
      "2014\n",
      "2015\n"
     ]
    }
   ],
   "source": [
    "import os\n",
    "from os.path import expanduser\n",
    "import socket\n",
    "import sys\n",
    "import glob\n",
    "\n",
    "# BELOW IS SYSTEM/PATH CONFIGURATION #\n",
    "my_home = expanduser(\"~\")\n",
    "running_system = socket.gethostname()\n",
    "# Configure machine's names here #\n",
    "systemHLRN = 'blogin1'\n",
    "systemLOCAL = 'Laurents-MacBook-Pro.local'\n",
    "my_home = expanduser(\"~\")\n",
    "# Define local pass #\n",
    "if running_system == systemLOCAL:\n",
    "    print \"computer = \", running_system\n",
    "    wd_path = os.path.join(my_home,\"Documents\",\"projects\", \"pyfesom\")\n",
    "elif running_system[0:1] == \"b\" or running_system == systemHLRN:\n",
    "    print \"computer = \", running_system\n",
    "    wd_path = os.path.join(my_home,\"pyfesom\")\n",
    "else:\n",
    "    print 'please configure your local machine : type socket.gethostname()'\n",
    "print \"working directory set to\", wd_path\n",
    "os.chdir(wd_path)\n",
    "sys.path.append(\"codes/modules\") # add custom Vibe 's modules\n",
    "#sys.path.append(\"pyfesom\") # add standard 's modules\n",
    "#########################################\n",
    "\n",
    "import matplotlib.pyplot as plt\n",
    "from mpl_toolkits.basemap import Basemap\n",
    "from pylab import *\n",
    "import pyfesom as pf\n",
    "from load_mesh_data_new import *\n",
    "import numpy as np\n",
    "import datetime as dt\n",
    "from PiecewiseNorm import PiecewiseNorm\n",
    "from netCDF4 import Dataset\n",
    "import cmocean as cmaps\n",
    "#from matplotlib.colors import ListedColormap\n",
    "\n",
    "\n",
    "# Calculates total global NPP for each year and plots it\n",
    "\n",
    "runid='Arc12'\n",
    "first_year = 1980\n",
    "last_year  = 2015\n",
    "years      = np.arange(first_year,last_year+1,1)\n",
    "\n",
    "meshpath  = '/scratch/usr/hbkvsk12/hlrn3_work2/mesh/meshArc4.5/'\n",
    "meshpath1 = '/scratch/usr/hbkvsk12/hlrn3_work2/mesh/meshArc20/'\n",
    "mesh      = load_mesh(meshpath)\n",
    "mesh1     = load_mesh(meshpath1)\n",
    "\n",
    "ncfile      = meshpath+'Arc4.5.initial.mesh.diag.nc'\n",
    "f           = Dataset(ncfile, 'r')\n",
    "NodalAreaModel = f.variables['cluster_area'][:]\n",
    "arcsurf_ind = np.nonzero((mesh.y2>66.))\n",
    "\n",
    "ncfile      = meshpath1+'Arc20.initial.mesh.diag.nc'\n",
    "f           = Dataset(ncfile, 'r')\n",
    "NodalAreaSat = f.variables['cluster_area'][:]\n",
    "arcsurf_ind1 = np.nonzero((mesh1.y2>66.))\n",
    "\n",
    "ice_id='area'\n",
    "\n",
    "IceArea = np.zeros(len(years))\n",
    "IceCon = np.zeros(len(years))\n",
    "IceArea1 = np.zeros(len(years))\n",
    "IceCon1 = np.zeros(len(years))\n",
    "for ind in range(0,len(years)):\n",
    "    print years[ind]\n",
    "    ncfile  = '/scratch/usr/hbkvsk12/hlrn3_work2/results/'+runid+'/Oldfiles/'+runid+'.'+str(years[ind])+'.ice.mean.nc'\n",
    "    f       = Dataset(ncfile, 'r') \n",
    "    if years[ind]<2000:\n",
    "         h_sept  = f.variables[ice_id][8,:] #Sep\n",
    "    else:\n",
    "         h_sept  = f.variables[ice_id][122:136,:].mean(axis=0) #Sep\n",
    "    \n",
    "    arcsurf_ind = np.nonzero((mesh.y2>66.) & (h_sept>0.1))\n",
    "    IceArea[ind]=np.sum(NodalAreaModel[arcsurf_ind])\n",
    "    IceCon[ind]=np.mean(h_sept[mesh.y2>66.])\n",
    "    \n",
    "    \n",
    "    ncfile  = '/scratch/usr/hbkvsk12/hlrn3_work2/data/Ice/SepSeaiceMeshArc20.nc'\n",
    "    var_id  = 'SepSeaice'+str(years[ind])\n",
    "    f       = Dataset(ncfile, 'r') \n",
    "    sat1    = np.squeeze(f.variables[var_id][0:mesh1.n2d]) #Sep\n",
    "    arcsurf_ind = np.nonzero((mesh1.y2>66.) & (sat1>0.1))\n",
    "    IceArea1[ind]=np.sum(NodalAreaSat[arcsurf_ind])\n",
    "    IceCon1[ind]=np.nanmean(sat1[mesh1.y2>66.])\n",
    "\n",
    "IceArea, IceArea1 = IceArea/1e6, IceArea1/1e6\n",
    "############ Plot the ice ############\n",
    "tot=np.mean(IceArea)\n",
    "tot1=np.mean(IceArea1)"
   ]
  },
  {
   "cell_type": "code",
   "execution_count": 6,
   "metadata": {},
   "outputs": [
    {
     "name": "stdout",
     "output_type": "stream",
     "text": [
      "(36,)\n"
     ]
    }
   ],
   "source": [
    "nsidc=array([12.2,\n",
    "12.43,\n",
    "12.48,\n",
    "12.3,\n",
    "12.15,\n",
    "12.22,\n",
    "11.98,\n",
    "12.49,\n",
    "11.94,\n",
    "12.24,\n",
    "11.64,\n",
    "12.11,\n",
    "12.15,\n",
    "11.87,\n",
    "12.02,\n",
    "11.44,\n",
    "12.08,\n",
    "11.74,\n",
    "11.71,\n",
    "11.78,\n",
    "11.67,\n",
    "11.46,\n",
    "11.58,\n",
    "11.6,\n",
    "11.45,\n",
    "11.16,\n",
    "10.92,\n",
    "11.22,\n",
    "11.21,\n",
    "11.32,\n",
    "10.59,\n",
    "10.75,\n",
    "10.67,\n",
    "11.36,\n",
    "11.03,\n",
    "10.88])\n",
    "print nsidc.shape"
   ]
  },
  {
   "cell_type": "code",
   "execution_count": 7,
   "metadata": {},
   "outputs": [
    {
     "data": {
      "image/png": "[encoded data removed]",
      "text/plain": [
       "<Figure size 432x288 with 2 Axes>"
      ]
     },
     "metadata": {
      "needs_background": "light"
     },
     "output_type": "display_data"
    }
   ],
   "source": [
    "fig, axs = plt.subplots(2, sharex=True)\n",
    "                        \n",
    "                        \n",
    "axs[0].plot(years,IceArea, label='4km')\n",
    "axs[0].plot(years,IceArea1, label='20km')\n",
    "axs[0].plot(years,nsidc*1e6, label='nsidc')\n",
    "axs[0].legend(loc='best')\n",
    "axs[0].set_title('Sea Ice extent')\n",
    "\n",
    "axs[1].plot(years,IceCon)\n",
    "axs[1].plot(years,IceCon1)\n",
    "axs[1].set_title('Sea Ice concentration')\n",
    "\n",
    "plt.show()"
   ]
  },
  {
   "cell_type": "code",
   "execution_count": 8,
   "metadata": {},
   "outputs": [
    {
     "data": {
      "text/plain": [
       "0.30852333793647663"
      ]
     },
     "execution_count": 8,
     "metadata": {},
     "output_type": "execute_result"
    }
   ],
   "source": [
    "np.nanmean(sat1[mesh1.y2>66.])"
   ]
  },
  {
   "cell_type": "code",
   "execution_count": 10,
   "metadata": {},
   "outputs": [
    {
     "name": "stdout",
     "output_type": "stream",
     "text": [
      "/scratch/usr/hbkvsk12/hlrn3_work2/results/Arc12/Oldfiles/Arc12.2015.ice.mean.nc\n"
     ]
    }
   ],
   "source": [
    "ncfile  = '/scratch/usr/hbkvsk12/hlrn3_work2/results/'+runid+'/Oldfiles/'+runid+'.'+str(years[ind])+'.ice.mean.nc'\n",
    "print ncfile"
   ]
  },
  {
   "cell_type": "code",
   "execution_count": null,
   "metadata": {},
   "outputs": [],
   "source": []
  }
 ],
 "metadata": {
  "kernelspec": {
   "display_name": "Python 2",
   "language": "python",
   "name": "python2"
  },
  "language_info": {
   "codemirror_mode": {
    "name": "ipython",
    "version": 2
   },
   "file_extension": ".py",
   "mimetype": "text/x-python",
   "name": "python",
   "nbconvert_exporter": "python",
   "pygments_lexer": "ipython2",
   "version": "2.7.15"
  }
 },
 "nbformat": 4,
 "nbformat_minor": 2
}
