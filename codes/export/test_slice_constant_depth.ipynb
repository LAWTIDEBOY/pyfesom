{
 "cells": [
  {
   "cell_type": "code",
   "execution_count": 4,
   "metadata": {},
   "outputs": [
    {
     "name": "stdout",
     "output_type": "stream",
     "text": [
      "computer =  bfn1001\n",
      "working directory set to /home/hbkoziel/awi-models\n"
     ]
    }
   ],
   "source": [
    "import os\n",
    "from os.path import expanduser\n",
    "import socket\n",
    "import sys\n",
    "\n",
    "\n",
    "# BELOW IS SYSTEM/PATH CONFIGURATION #\n",
    "my_home = expanduser(\"~\")\n",
    "running_system = socket.gethostname()\n",
    "# Configure machine's names here #\n",
    "systemHLRN = 'blogin1'\n",
    "systemLOCAL = 'Laurents-MacBook-Pro.local'\n",
    "my_home = expanduser(\"~\")\n",
    "# Define local pass #\n",
    "if running_system == systemLOCAL:\n",
    "    print \"computer = \", running_system\n",
    "    wd_path = os.path.join(my_home,\"Documents\",\"projects\", \"awi-models\")\n",
    "elif running_system[0:1] == \"b\" or running_system == systemHLRN:\n",
    "    print \"computer = \", running_system\n",
    "    wd_path = os.path.join(my_home,\"awi-models\")\n",
    "else:\n",
    "    print 'please configure your local machine : type socket.gethostname()'\n",
    "print \"working directory set to\", wd_path\n",
    "os.chdir(wd_path)\n",
    "# IMPORT PY-FESOM MODULES\n",
    "sys.path.append(\"codes/pyfesom-master/\") # add pyfesom to search path\n",
    "sys.path.append(\"codes/modules\")\n",
    "#########################################"
   ]
  },
  {
   "cell_type": "code",
   "execution_count": 10,
   "metadata": {},
   "outputs": [],
   "source": [
    "import pyfesom as pf\n",
    "import matplotlib.pyplot as plt\n",
    "from matplotlib import cm\n",
    "from mpl_toolkits.basemap import Basemap\n",
    "from pylab import *\n",
    "from load_mesh_data_new import *\n",
    "import numpy as np\n",
    "import datetime as dt\n",
    "from PiecewiseNorm import PiecewiseNorm\n",
    "from netCDF4 import Dataset\n",
    "import colormaps as cmaps\n",
    "from matplotlib.colors import ListedColormap"
   ]
  },
  {
   "cell_type": "code",
   "execution_count": 6,
   "metadata": {},
   "outputs": [
    {
     "name": "stdout",
     "output_type": "stream",
     "text": [
      "directory /home/hbkoziel/awi-models/figures/Arc12/ already existing\n"
     ]
    }
   ],
   "source": [
    "# PLOT CONFIGURATION #\n",
    "\n",
    "# load colormaps #\n",
    "cmap = cm.RdBu_r\n",
    "# figure export \n",
    "export_plot = True\n",
    "# figure export definition\n",
    "dpicnt=150\n",
    "# choose simulation\n",
    "runid='Arc12'\n",
    "# choose date\n",
    "first_year = 1990\n",
    "last_year  = 2015\n",
    "years      = np.arange(first_year,last_year+1,1)\n",
    "months =np.linspace(0,11,12).astype(int)\n",
    "# choose depth\n",
    "get3d = True\n",
    "# load the given biological tracer #\n",
    "mld_id, par_id   ='mixlay', 'PAR3D_mean'\n",
    "# export CSV\n",
    "export_csv = True\n",
    "\n",
    "########################\n",
    "\n",
    "# AUTOMATIC DEFINITION OF PATHS\n",
    "resultpath = '/scratch/usr/hbkvsk12/hlrn3_work2/results/'+runid+'/Oldfiles/'\n",
    "savepath    = wd_path+'/figures/'+runid+'/'\n",
    "meshpath    = wd_path+'/data/mesh/meshArc4.5/'\n",
    "outputpath = '/scratch/usr/hbkoziel/Arc12/'\n",
    "\n",
    "# Create figure directory if it does not exist\n",
    "if os.path.exists(savepath) == False:\n",
    "    try:\n",
    "        os.mkdir(savepath)\n",
    "        print (\"Creation of the directory %s successfull\" % savepath)\n",
    "    except OSError:\n",
    "        print (\"Creation of the directory %s failed\" % savepath)\n",
    "else:\n",
    "    print (\"directory %s already existing\" % savepath)"
   ]
  },
  {
   "cell_type": "code",
   "execution_count": 7,
   "metadata": {},
   "outputs": [
    {
     "name": "stdout",
     "output_type": "stream",
     "text": [
      "The *usepickle = True* and the pickle file (*pickle_mesh*) exists.\n",
      " We load the mesh from it.\n"
     ]
    }
   ],
   "source": [
    "mesh = load_mesh(meshpath, usepickle=True,get3d=True)"
   ]
  },
  {
   "cell_type": "code",
   "execution_count": 8,
   "metadata": {},
   "outputs": [
    {
     "data": {
      "text/plain": [
       "\n",
       "FESOM mesh:\n",
       "path                  = /gfs2/work/hbkvsk12/mesh/meshArc4.5\n",
       "alpha, beta, gamma    = 50, 15, -90\n",
       "number of 2d nodes    = 753179\n",
       "number of 2d elements = 1480268\n",
       "number of 3d nodes    = 16950142\n",
       "\n",
       "        "
      ]
     },
     "execution_count": 8,
     "metadata": {},
     "output_type": "execute_result"
    }
   ],
   "source": [
    "mesh"
   ]
  },
  {
   "cell_type": "code",
   "execution_count": 9,
   "metadata": {},
   "outputs": [],
   "source": [
    "mesh.zlevs = -mesh.zlevs # depth is made negative"
   ]
  },
  {
   "cell_type": "code",
   "execution_count": 11,
   "metadata": {},
   "outputs": [
    {
     "name": "stdout",
     "output_type": "stream",
     "text": [
      "4\n",
      "1990\n"
     ]
    },
    {
     "ename": "NameError",
     "evalue": "name 'ind' is not defined",
     "output_type": "error",
     "traceback": [
      "\u001b[0;31m---------------------------------------------------------------------------\u001b[0m",
      "\u001b[0;31mNameError\u001b[0m                                 Traceback (most recent call last)",
      "\u001b[0;32m<ipython-input-11-218f5ce7d98a>\u001b[0m in \u001b[0;36m<module>\u001b[0;34m()\u001b[0m\n\u001b[1;32m      7\u001b[0m         \u001b[0mncfile\u001b[0m  \u001b[0;34m=\u001b[0m \u001b[0mresultpath\u001b[0m\u001b[0;34m+\u001b[0m\u001b[0mrunid\u001b[0m\u001b[0;34m+\u001b[0m\u001b[0;34m'.'\u001b[0m\u001b[0;34m+\u001b[0m\u001b[0mstr\u001b[0m\u001b[0;34m(\u001b[0m\u001b[0myears\u001b[0m\u001b[0;34m[\u001b[0m\u001b[0mye\u001b[0m\u001b[0;34m]\u001b[0m\u001b[0;34m)\u001b[0m\u001b[0;34m+\u001b[0m\u001b[0;34m'.bio.mean.nc'\u001b[0m\u001b[0;34m\u001b[0m\u001b[0m\n\u001b[1;32m      8\u001b[0m         \u001b[0mf\u001b[0m       \u001b[0;34m=\u001b[0m \u001b[0mDataset\u001b[0m\u001b[0;34m(\u001b[0m\u001b[0mncfile\u001b[0m\u001b[0;34m,\u001b[0m \u001b[0;34m'r'\u001b[0m\u001b[0;34m)\u001b[0m\u001b[0;34m\u001b[0m\u001b[0m\n\u001b[0;32m----> 9\u001b[0;31m         \u001b[0mpar\u001b[0m     \u001b[0;34m=\u001b[0m \u001b[0mf\u001b[0m\u001b[0;34m.\u001b[0m\u001b[0mvariables\u001b[0m\u001b[0;34m[\u001b[0m\u001b[0mpar_id\u001b[0m\u001b[0;34m]\u001b[0m\u001b[0;34m[\u001b[0m\u001b[0mind\u001b[0m\u001b[0;34m,\u001b[0m\u001b[0;34m:\u001b[0m\u001b[0;34m]\u001b[0m\u001b[0;34m\u001b[0m\u001b[0m\n\u001b[0m\u001b[1;32m     10\u001b[0m         \u001b[0mncfile\u001b[0m  \u001b[0;34m=\u001b[0m \u001b[0mresultpath\u001b[0m\u001b[0;34m+\u001b[0m\u001b[0mrunid\u001b[0m\u001b[0;34m+\u001b[0m\u001b[0;34m'.'\u001b[0m\u001b[0;34m+\u001b[0m\u001b[0mstr\u001b[0m\u001b[0;34m(\u001b[0m\u001b[0myears\u001b[0m\u001b[0;34m[\u001b[0m\u001b[0mye\u001b[0m\u001b[0;34m]\u001b[0m\u001b[0;34m)\u001b[0m\u001b[0;34m+\u001b[0m\u001b[0;34m'.oce.diag.nc'\u001b[0m\u001b[0;34m\u001b[0m\u001b[0m\n\u001b[1;32m     11\u001b[0m         \u001b[0mf\u001b[0m       \u001b[0;34m=\u001b[0m \u001b[0mDataset\u001b[0m\u001b[0;34m(\u001b[0m\u001b[0mncfile\u001b[0m\u001b[0;34m,\u001b[0m \u001b[0;34m'r'\u001b[0m\u001b[0;34m)\u001b[0m\u001b[0;34m\u001b[0m\u001b[0m\n",
      "\u001b[0;31mNameError\u001b[0m: name 'ind' is not defined"
     ]
    }
   ],
   "source": [
    "PAR  = np.zeros((len(years),len(mesh.x2)))\n",
    "for mo in range(4,9):\n",
    "    print mo\n",
    "    for ye in range(0,len(years)):\n",
    "     print years[ye]\n",
    "     if years[ye] < 2000:\n",
    "        ncfile  = resultpath+runid+'.'+str(years[ye])+'.bio.mean.nc'\n",
    "        f       = Dataset(ncfile, 'r')    \n",
    "        par     = f.variables[par_id][ind,:]\n",
    "        ncfile  = resultpath+runid+'.'+str(years[ye])+'.oce.diag.nc'\n",
    "        f       = Dataset(ncfile, 'r')  \n",
    "        mld     = f.variables[mld_id][ind,:]\n",
    "\n",
    "     else:\n",
    "        if ind ==4: dayind = (range(45,59))\n",
    "        elif ind ==5: dayind = (range(60,74))\n",
    "        elif ind ==6: dayind = (range(75,89))\n",
    "        elif ind ==7: dayind = (range(90,105))\n",
    "        elif ind ==8: dayind = (range(106,120))\n",
    "        elif ind ==9: dayind = (range(121,135))\n",
    "            \n",
    "        ncfile  = resultpath+runid+'.'+str(years[ye])+'.bio.mean.nc'\n",
    "        f       = Dataset(ncfile, 'r')    \n",
    "        par     = f.variables[par_id][dayind,:].mean(axis=0)\n",
    "        ncfile  = resultpath+runid+'.'+str(years[ye])+'.oce.diag.nc'\n",
    "        f       = Dataset(ncfile, 'r')  \n",
    "        mld     = f.variables[mld_id][dayind,:].mean(axis=0)\n",
    "        \n",
    "     depth_list = [-0,-10,-20]\n",
    "        \n",
    "     for i in range(len(depth_list)):\n",
    "\n",
    "        print 'Load data at '+str(depth_list[i])+'m'\n",
    "        level_data1, elem_no_nan1 = pf.get_data(par,mesh,depth_list[i])\n",
    "        level_data[:,i]  = level_data1\n",
    "        \n",
    "     data_int=np.trapz(level_data,depth_list,axis=1)\n",
    "     PAR[ye,:]=data_int\n",
    "    data2=PAR.mean(axis=1)\n",
    "    print 'Number of nans in tracer: ',np.count_nonzero(np.isnan(data2))\n",
    "    print 'Number of inf in tracer: ',np.count_nonzero(np.isinf(data2))\n",
    "    print 'Mean of surface: ',np.mean(data2[0:len(mesh.x2)])\n",
    "    print 'Max and min: ',np.max(data2),np.min(data2)\n",
    "\n",
    "    if export_csv == True:\n",
    "        np.savetxt(outputpath+'PARmld_SEP_'+str(first_year)+'_'+str(last_year)+'_trend.csv', PAR, delimiter=\";\")\n",
    "        np.savetxt(outputpath+'PARmld_SEP_'+str(first_year)+'_'+str(last_year)+'_mean.csv', data2, delimiter=\";\")\n",
    "        print 'exporting done ...'"
   ]
  },
  {
   "cell_type": "code",
   "execution_count": 20,
   "metadata": {},
   "outputs": [
    {
     "name": "stdout",
     "output_type": "stream",
     "text": [
      "(753179, 3)\n"
     ]
    }
   ],
   "source": [
    "print level_data.shape"
   ]
  },
  {
   "cell_type": "code",
   "execution_count": 21,
   "metadata": {},
   "outputs": [],
   "source": [
    "data_int=np.trapz(level_data,depth_list,axis=1)"
   ]
  },
  {
   "cell_type": "code",
   "execution_count": 22,
   "metadata": {},
   "outputs": [
    {
     "data": {
      "text/plain": [
       "(753179,)"
      ]
     },
     "execution_count": 22,
     "metadata": {},
     "output_type": "execute_result"
    }
   ],
   "source": [
    "data_int.shape"
   ]
  },
  {
   "cell_type": "code",
   "execution_count": 32,
   "metadata": {},
   "outputs": [
    {
     "data": {
      "text/plain": [
       "array([], dtype=float64)"
      ]
     },
     "execution_count": 32,
     "metadata": {},
     "output_type": "execute_result"
    }
   ],
   "source": [
    "depth_list"
   ]
  },
  {
   "cell_type": "code",
   "execution_count": null,
   "metadata": {},
   "outputs": [],
   "source": []
  }
 ],
 "metadata": {
  "kernelspec": {
   "display_name": "Python 2",
   "language": "python",
   "name": "python2"
  },
  "language_info": {
   "codemirror_mode": {
    "name": "ipython",
    "version": 2
   },
   "file_extension": ".py",
   "mimetype": "text/x-python",
   "name": "python",
   "nbconvert_exporter": "python",
   "pygments_lexer": "ipython2",
   "version": "2.7.15"
  }
 },
 "nbformat": 4,
 "nbformat_minor": 2
}
