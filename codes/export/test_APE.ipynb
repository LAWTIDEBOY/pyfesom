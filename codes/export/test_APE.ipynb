{
 "cells": [
  {
   "cell_type": "code",
   "execution_count": 1,
   "metadata": {},
   "outputs": [
    {
     "name": "stdout",
     "output_type": "stream",
     "text": [
      "No joblib\n",
      "no cmocean\n"
     ]
    }
   ],
   "source": [
    "import sys \n",
    "#sys.path.append(\"codes/modules\") # add custom Vibe 's modules\n",
    "sys.path.append('../..') # add standard 's modules\n",
    "sys.path.append('../modules')\n",
    "\n",
    "import pyfesom as pf\n",
    "import matplotlib.pyplot as plt\n",
    "from matplotlib import cm\n",
    "from mpl_toolkits.basemap import Basemap\n",
    "import numpy as np\n",
    "from netCDF4 import Dataset\n",
    "import os\n",
    "import time\n",
    "\n",
    "sys.path.append('/home/hbkoziel/pyfesom/pyfesom/python-gsw/')\n",
    "import gsw"
   ]
  },
  {
   "cell_type": "code",
   "execution_count": 2,
   "metadata": {},
   "outputs": [],
   "source": [
    "def Turner_Rsubrho(SA, CT, p):\n",
    "    SA, CT, p = np.broadcast_arrays(SA, CT, p, subok=True)\n",
    "    p_mid = 0.5 * (p[0:-1, ...] + p[1:, ...])\n",
    "    SA_mid = 0.5 * (SA[0:-1, ...] + SA[1:, ...])\n",
    "    CT_mid = 0.5 * (CT[0:-1, ...] + CT[1:, ...])\n",
    "\n",
    "    dSA = SA[0:-1, ...] - SA[1:, ...]\n",
    "    dCT = CT[0:-1, ...] - CT[1:, ...]\n",
    "    [rho, alpha, beta] = gsw.rho_alpha_beta(SA_mid, CT_mid, p_mid)\n",
    "    #Tu = np.arctan2((alpha * dCT + beta * dSA), (alpha * dCT - beta * dSA))\n",
    "    #Tu = Tu * (180 / np.pi)\n",
    "\n",
    "    Rsubrho = np.zeros_like(dSA) + np.NaN\n",
    "    Inz = dSA != 0\n",
    "    Rsubrho[Inz] = (alpha[Inz] * dCT[Inz]) / (beta[Inz] * dSA[Inz])\n",
    "    return Rsubrho, rho"
   ]
  },
  {
   "cell_type": "code",
   "execution_count": 3,
   "metadata": {},
   "outputs": [
    {
     "name": "stdout",
     "output_type": "stream",
     "text": [
      "/home/hbkoziel/pyfesom/data/mesh/meshArc4.5/pickle_mesh\n",
      "2\n",
      "The usepickle == True)\n",
      "The pickle file for python 2 exists.\n",
      "The mesh will be loaded from /home/hbkoziel/pyfesom/data/mesh/meshArc4.5/pickle_mesh\n"
     ]
    }
   ],
   "source": [
    "# Loading mesh for run\n",
    "\n",
    "mesh_id    = 'meshArc4.5'\n",
    "meshpath   = '/home/hbkoziel/pyfesom/data/mesh/'+mesh_id+'/'            # Defining path where mesh is stored\n",
    "mesh = pf.load_mesh(meshpath, usepickle=True, get3d=True)                                    # Loading mesh, stores it in mesh.****  \n",
    "#mesh = pf.fesom_mesh(meshpath, get3d=True)\n",
    "#mesh.zlevs = -mesh.zlevs                                            # Depth is made negative\n",
    "\n",
    "tracername = 'SAPE'\n",
    "first_year = 1985\n",
    "last_year  = 2015\n",
    "years      = np.arange(first_year,last_year+1,1)\n",
    "runid\t= 'Arc12'"
   ]
  },
  {
   "cell_type": "code",
   "execution_count": 4,
   "metadata": {},
   "outputs": [],
   "source": [
    "pressure = gsw.p_from_z(-mesh.z3, mesh.y3, geo_strf_dyn_height=0)"
   ]
  },
  {
   "cell_type": "code",
   "execution_count": 5,
   "metadata": {},
   "outputs": [],
   "source": [
    "# ==============================================================================\n",
    "# Settings for netcdf file\n",
    "\n",
    "save_netcdf       = True                                            # Saves the interpolated field in netcdf file\n",
    "delete_old_netcdf = True                                            # If a netcdf file with the same name exists it will be deleted\n",
    "input_directory  = '/scratch/usr/hbkoziel/'+runid+'/netcdf/'       # Where the netcdf is saved\n",
    "output_directory  = '/scratch/usr/hbkoziel/'+runid+'/netcdf/'\n",
    "plot_netcdf       = True                                           # Reads DIN from the created netcdf file, else it plots the interpolated field (should be the same)"
   ]
  },
  {
   "cell_type": "code",
   "execution_count": 6,
   "metadata": {},
   "outputs": [
    {
     "name": "stdout",
     "output_type": "stream",
     "text": [
      "1985\n"
     ]
    }
   ],
   "source": [
    "ind = 0\n",
    "netcdf_name       = tracername+'.'+str(years[ind])+'.monthly.nc'\n",
    "print years[ind]"
   ]
  },
  {
   "cell_type": "code",
   "execution_count": 7,
   "metadata": {},
   "outputs": [],
   "source": [
    "ncfile1\t= input_directory+'temp.'+str(years[ind])+'.monthly.nc'\n",
    "f1\t= Dataset(ncfile1,'r')\n",
    "t\t= f1.variables['temp'][8,:]\n",
    "f1.close()\n",
    "    \n",
    "ncfile2\t= input_directory+'salt.'+str(years[ind])+'.monthly.nc'\n",
    "f2\t= Dataset(ncfile2,'r')\n",
    "s\t= f2.variables['salt'][8,:]\n",
    "f2.close()\n",
    "    \n",
    "ncfile3\t= input_directory+'mixlay.'+str(years[ind])+'.monthly.nc'\n",
    "f3\t= Dataset(ncfile3,'r')\n",
    "mld\t= f3.variables['mixlay'][8,:]\n",
    "f3.close()"
   ]
  },
  {
   "cell_type": "code",
   "execution_count": 15,
   "metadata": {},
   "outputs": [
    {
     "name": "stdout",
     "output_type": "stream",
     "text": [
      "83.3177611097944\n",
      "3400.0\n"
     ]
    }
   ],
   "source": [
    "i = 600000\n",
    "print mesh.y2[i]\n",
    "print mesh.topo[i]"
   ]
  },
  {
   "cell_type": "code",
   "execution_count": 17,
   "metadata": {},
   "outputs": [],
   "source": [
    "ind_depth = np.array(mesh.n32[i,0:20]) # depth max 580m\n",
    "ind_depth = np.reshape(ind_depth, ind_depth.size)\n",
    "\n",
    "z = pressure[ind_depth]\n",
    "            \n",
    "tt = t[ind_depth]\n",
    "tt = np.reshape(tt, tt.size)\n",
    "ss = s[ind_depth]\n",
    "ss = np.reshape(ss, ss.size)\n",
    "[Ro1,ro] = Turner_Rsubrho(ss,tt,z)\n",
    "hl_ind = (np.abs(0.1-Ro1)).argmin(axis=0)\n",
    "HLD = mesh.z3[ind_depth[hl_ind]]"
   ]
  },
  {
   "cell_type": "code",
   "execution_count": 31,
   "metadata": {},
   "outputs": [
    {
     "data": {
      "text/plain": [
       "[<matplotlib.lines.Line2D at 0x2aab03906350>]"
      ]
     },
     "execution_count": 31,
     "metadata": {},
     "output_type": "execute_result"
    },
    {
     "data": {
      "image/png": "[encoded data removed]",
      "text/plain": [
       "<Figure size 432x288 with 1 Axes>"
      ]
     },
     "metadata": {
      "needs_background": "light"
     },
     "output_type": "display_data"
    }
   ],
   "source": [
    "plt.plot((ro-ro[hl_ind])*9.81*100,-z[:-1],'.-')"
   ]
  },
  {
   "cell_type": "code",
   "execution_count": 30,
   "metadata": {},
   "outputs": [
    {
     "data": {
      "text/plain": [
       "100.0"
      ]
     },
     "execution_count": 30,
     "metadata": {},
     "output_type": "execute_result"
    }
   ],
   "source": [
    "HLD"
   ]
  },
  {
   "cell_type": "code",
   "execution_count": 83,
   "metadata": {},
   "outputs": [
    {
     "data": {
      "text/plain": [
       "47895.23351114257"
      ]
     },
     "execution_count": 83,
     "metadata": {},
     "output_type": "execute_result"
    }
   ],
   "source": [
    "0.5*np.trapz(HLD*9.81*(ro[0:hl_ind+1]-ro[hl_ind]),-mesh.z3[ind_depth[:hl_ind+1]])"
   ]
  },
  {
   "cell_type": "code",
   "execution_count": 33,
   "metadata": {},
   "outputs": [
    {
     "data": {
      "text/plain": [
       "[<matplotlib.lines.Line2D at 0x2aab03943a90>]"
      ]
     },
     "execution_count": 33,
     "metadata": {},
     "output_type": "execute_result"
    },
    {
     "data": {
      "image/png": "[encoded data removed]",
      "text/plain": [
       "<Figure size 432x288 with 1 Axes>"
      ]
     },
     "metadata": {
      "needs_background": "light"
     },
     "output_type": "display_data"
    }
   ],
   "source": [
    "plt.plot(HLD*9.81*(ro[0:hl_ind+1]-ro[hl_ind]),-mesh.z3[ind_depth[:hl_ind+1]])"
   ]
  },
  {
   "cell_type": "code",
   "execution_count": 38,
   "metadata": {},
   "outputs": [
    {
     "data": {
      "text/plain": [
       "[<matplotlib.lines.Line2D at 0x2aab03c6e850>]"
      ]
     },
     "execution_count": 38,
     "metadata": {},
     "output_type": "execute_result"
    },
    {
     "data": {
      "image/png": "[encoded data removed]",
      "text/plain": [
       "<Figure size 432x288 with 1 Axes>"
      ]
     },
     "metadata": {
      "needs_background": "light"
     },
     "output_type": "display_data"
    }
   ],
   "source": [
    "plt.plot(1000*(ro[0:hl_ind+1]-ro[hl_ind]),-z[:hl_ind+1])"
   ]
  },
  {
   "cell_type": "code",
   "execution_count": 96,
   "metadata": {},
   "outputs": [
    {
     "data": {
      "text/plain": [
       "array([  0.        ,  10.108057  ,  20.21660999,  30.32565889,\n",
       "        40.43520361,  50.54524407,  60.6557802 ,  70.76681191,\n",
       "        80.87833912,  90.99036174, 101.1028797 , 116.27258522,\n",
       "       136.50059215, 161.78838495, 192.13781799, 232.61065161,\n",
       "       283.21281234, 343.95169917, 414.83617737, 495.87657109])"
      ]
     },
     "execution_count": 96,
     "metadata": {},
     "output_type": "execute_result"
    }
   ],
   "source": [
    "z"
   ]
  },
  {
   "cell_type": "code",
   "execution_count": 97,
   "metadata": {},
   "outputs": [
    {
     "data": {
      "text/plain": [
       "array([0.00000000e+00, 1.02172816e+02, 4.08711320e+02, 9.19645587e+02,\n",
       "       1.63500569e+03, 2.55482170e+03, 3.67912367e+03, 5.00794167e+03,\n",
       "       6.54130574e+03, 8.27924593e+03, 1.02217923e+04, 1.35193141e+04,\n",
       "       1.86324117e+04, 2.61754815e+04, 3.69169411e+04, 5.41077152e+04,\n",
       "       8.02094971e+04, 1.18302771e+05, 1.72089054e+05, 2.45893574e+05])"
      ]
     },
     "execution_count": 97,
     "metadata": {},
     "output_type": "execute_result"
    }
   ],
   "source": [
    "z[:]**2"
   ]
  },
  {
   "cell_type": "code",
   "execution_count": 94,
   "metadata": {},
   "outputs": [
    {
     "data": {
      "text/plain": [
       "[<matplotlib.lines.Line2D at 0x2aab03db5d90>]"
      ]
     },
     "execution_count": 94,
     "metadata": {},
     "output_type": "execute_result"
    },
    {
     "data": {
      "image/png": "[encoded data removed]",
      "text/plain": [
       "<Figure size 432x288 with 1 Axes>"
      ]
     },
     "metadata": {
      "needs_background": "light"
     },
     "output_type": "display_data"
    }
   ],
   "source": [
    "dz2 = z[:-1]**2 - z[1:]**2\n",
    "plt.plot(dz2)\n",
    "plt.plot(z)"
   ]
  },
  {
   "cell_type": "code",
   "execution_count": 84,
   "metadata": {},
   "outputs": [
    {
     "name": "stdout",
     "output_type": "stream",
     "text": [
      "4.545180719914582\n",
      "35089.786024008055\n"
     ]
    }
   ],
   "source": [
    "pe = np.sum(0.5 * 9.81 * (ro[:hl_ind]-ro[hl_ind]) * dz2[:hl_ind])\n",
    "print np.log10(pe)\n",
    "print pe"
   ]
  },
  {
   "cell_type": "code",
   "execution_count": 92,
   "metadata": {},
   "outputs": [
    {
     "name": "stdout",
     "output_type": "stream",
     "text": [
      "4.98132229064826\n",
      "95790.46702228514\n"
     ]
    }
   ],
   "source": [
    "pe2 = np.trapz(HLD*9.81*(ro[0:hl_ind+1]-ro[hl_ind]),-mesh.z3[ind_depth[:hl_ind+1]])\n",
    "print np.log10(pe2)\n",
    "print pe2"
   ]
  },
  {
   "cell_type": "code",
   "execution_count": 93,
   "metadata": {},
   "outputs": [
    {
     "name": "stdout",
     "output_type": "stream",
     "text": [
      "4.271603053433205\n",
      "18689.731119623553\n"
     ]
    }
   ],
   "source": [
    "pe3 = np.trapz(HLD*9.81*(ro[0:hl_ind]-ro[1:hl_ind+1]),-mesh.z3[ind_depth[:hl_ind]])\n",
    "print np.log10(pe3)\n",
    "print pe3"
   ]
  },
  {
   "cell_type": "code",
   "execution_count": 99,
   "metadata": {},
   "outputs": [
    {
     "data": {
      "text/plain": [
       "100.0"
      ]
     },
     "execution_count": 99,
     "metadata": {},
     "output_type": "execute_result"
    }
   ],
   "source": [
    "HLD"
   ]
  },
  {
   "cell_type": "code",
   "execution_count": null,
   "metadata": {},
   "outputs": [],
   "source": []
  }
 ],
 "metadata": {
  "kernelspec": {
   "display_name": "Python 2",
   "language": "python",
   "name": "python2"
  },
  "language_info": {
   "codemirror_mode": {
    "name": "ipython",
    "version": 2
   },
   "file_extension": ".py",
   "mimetype": "text/x-python",
   "name": "python",
   "nbconvert_exporter": "python",
   "pygments_lexer": "ipython2",
   "version": "2.7.16"
  }
 },
 "nbformat": 4,
 "nbformat_minor": 2
}
