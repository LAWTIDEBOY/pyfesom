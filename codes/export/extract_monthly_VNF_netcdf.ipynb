{
 "cells": [
  {
   "cell_type": "code",
   "execution_count": 8,
   "metadata": {},
   "outputs": [],
   "source": [
    "import sys \n",
    "#sys.path.append(\"codes/modules\") # add custom Vibe 's modules\n",
    "sys.path.append('../..') # add standard 's modules\n",
    "sys.path.append('../modules')\n",
    "\n",
    "import pyfesom as pf\n",
    "import matplotlib.pyplot as plt\n",
    "from matplotlib import cm\n",
    "from mpl_toolkits.basemap import Basemap\n",
    "import numpy as np\n",
    "from netCDF4 import Dataset\n",
    "import os\n",
    "import time"
   ]
  },
  {
   "cell_type": "code",
   "execution_count": 9,
   "metadata": {},
   "outputs": [],
   "source": [
    "# ==============================================================================\n",
    "# Running this file loads tracers from old FESOM-REcoM2 output file (oce.mean.nc)\n",
    "# and saves each tracer in an individual file\n",
    "#\n",
    "#  Input:\n",
    "#  - mesh_id: Name of mesh, will be added to the netcdf name\n",
    "#  - meshpath: Speciefies where the target mesh is stored\n",
    "#  - save_netcdf: If true, netcdf will be created\n",
    "#  - delete_old_netcdf: If a netcdf file with the same name exists, a new cannot \n",
    "#    be made. If set to true, an old netcdf with the same name will be deleted\n",
    "#\n",
    "#  Output:\n",
    "#  - netcdf file for each tracer in the old file\n",
    "#\n",
    "#  During running, keep an eye on the output in the terminal, to see if it \n",
    "#  makes sense. \n",
    "#\n",
    "# =============================================================================="
   ]
  },
  {
   "cell_type": "code",
   "execution_count": 10,
   "metadata": {},
   "outputs": [
    {
     "name": "stdout",
     "output_type": "stream",
     "text": [
      "/home/hbkoziel/pyfesom/data/mesh/meshArc4.5/pickle_mesh\n",
      "2\n",
      "The usepickle == True)\n",
      "The pickle file for python 2 exists.\n",
      "The mesh will be loaded from /home/hbkoziel/pyfesom/data/mesh/meshArc4.5/pickle_mesh\n"
     ]
    }
   ],
   "source": [
    "# Loading mesh for run\n",
    "\n",
    "mesh_id    = 'meshArc4.5'\n",
    "meshpath   = '/home/hbkoziel/pyfesom/data/mesh/'+mesh_id+'/'            # Defining path where mesh is stored\n",
    "mesh = pf.load_mesh(meshpath, usepickle=True, get3d=True)                                    # Loading mesh, stores it in mesh.****  \n",
    "#mesh = pf.fesom_mesh(meshpath, get3d=True)\n",
    "#mesh.zlevs = -mesh.zlevs                                            # Depth is made negative\n",
    "\n",
    "tracername = 'VNF'\n",
    "first_year = 1985\n",
    "last_year  = 2015\n",
    "years      = np.arange(first_year,last_year+1,1)\n",
    "runid\t= 'Arc12'"
   ]
  },
  {
   "cell_type": "code",
   "execution_count": 11,
   "metadata": {},
   "outputs": [
    {
     "data": {
      "text/plain": [
       "\n",
       "FESOM mesh:\n",
       "path                  = /gfs2/work/hbkvsk12/mesh/meshArc4.5\n",
       "alpha, beta, gamma    = 50, 15, -90\n",
       "number of 2d nodes    = 753179\n",
       "number of 2d elements = 1480268\n",
       "number of 3d nodes    = 16950142\n",
       "\n",
       "        "
      ]
     },
     "execution_count": 11,
     "metadata": {},
     "output_type": "execute_result"
    }
   ],
   "source": [
    "mesh"
   ]
  },
  {
   "cell_type": "code",
   "execution_count": 12,
   "metadata": {},
   "outputs": [],
   "source": [
    "# ==============================================================================\n",
    "# Settings for netcdf file\n",
    "\n",
    "save_netcdf       = True                                            # Saves the interpolated field in netcdf file\n",
    "delete_old_netcdf = True                                            # If a netcdf file with the same name exists it will be deleted\n",
    "input_directory  = '/scratch/usr/hbkoziel/'+runid+'/netcdf/'       # Where the netcdf is saved\n",
    "output_directory  = '/scratch/usr/hbkoziel/'+runid+'/netcdf/'\n",
    "plot_netcdf       = True                                           # Reads DIN from the created netcdf file, else it plots the interpolated field (should be the same)"
   ]
  },
  {
   "cell_type": "code",
   "execution_count": 13,
   "metadata": {},
   "outputs": [
    {
     "name": "stdout",
     "output_type": "stream",
     "text": [
      "1985\n",
      "The netcdf file VNF.1985.monthly.nc has been deleted to make room for your file of the same name.\n",
      "New netcdf file ( VNF.1985.monthly.nc ) has been created.\n",
      "Location: /scratch/usr/hbkoziel/Arc12/netcdf/\n",
      "1986\n",
      "The netcdf file VNF.1986.monthly.nc has been deleted to make room for your file of the same name.\n",
      "New netcdf file ( VNF.1986.monthly.nc ) has been created.\n",
      "Location: /scratch/usr/hbkoziel/Arc12/netcdf/\n",
      "1987\n",
      "The netcdf file VNF.1987.monthly.nc has been deleted to make room for your file of the same name.\n",
      "New netcdf file ( VNF.1987.monthly.nc ) has been created.\n",
      "Location: /scratch/usr/hbkoziel/Arc12/netcdf/\n",
      "1988\n",
      "The netcdf file VNF.1988.monthly.nc has been deleted to make room for your file of the same name.\n",
      "New netcdf file ( VNF.1988.monthly.nc ) has been created.\n",
      "Location: /scratch/usr/hbkoziel/Arc12/netcdf/\n",
      "1989\n",
      "The netcdf file VNF.1989.monthly.nc has been deleted to make room for your file of the same name.\n",
      "New netcdf file ( VNF.1989.monthly.nc ) has been created.\n",
      "Location: /scratch/usr/hbkoziel/Arc12/netcdf/\n",
      "1990\n",
      "The netcdf file VNF.1990.monthly.nc has been deleted to make room for your file of the same name.\n",
      "New netcdf file ( VNF.1990.monthly.nc ) has been created.\n",
      "Location: /scratch/usr/hbkoziel/Arc12/netcdf/\n",
      "1991\n",
      "The netcdf file VNF.1991.monthly.nc has been deleted to make room for your file of the same name.\n",
      "New netcdf file ( VNF.1991.monthly.nc ) has been created.\n",
      "Location: /scratch/usr/hbkoziel/Arc12/netcdf/\n",
      "1992\n",
      "The netcdf file VNF.1992.monthly.nc has been deleted to make room for your file of the same name.\n",
      "New netcdf file ( VNF.1992.monthly.nc ) has been created.\n",
      "Location: /scratch/usr/hbkoziel/Arc12/netcdf/\n",
      "1993\n",
      "The netcdf file VNF.1993.monthly.nc has been deleted to make room for your file of the same name.\n",
      "New netcdf file ( VNF.1993.monthly.nc ) has been created.\n",
      "Location: /scratch/usr/hbkoziel/Arc12/netcdf/\n",
      "1994\n",
      "The netcdf file VNF.1994.monthly.nc has been deleted to make room for your file of the same name.\n",
      "New netcdf file ( VNF.1994.monthly.nc ) has been created.\n",
      "Location: /scratch/usr/hbkoziel/Arc12/netcdf/\n",
      "1995\n",
      "The netcdf file VNF.1995.monthly.nc has been deleted to make room for your file of the same name.\n",
      "New netcdf file ( VNF.1995.monthly.nc ) has been created.\n",
      "Location: /scratch/usr/hbkoziel/Arc12/netcdf/\n",
      "1996\n",
      "The netcdf file VNF.1996.monthly.nc has been deleted to make room for your file of the same name.\n",
      "New netcdf file ( VNF.1996.monthly.nc ) has been created.\n",
      "Location: /scratch/usr/hbkoziel/Arc12/netcdf/\n",
      "1997\n",
      "The netcdf file VNF.1997.monthly.nc has been deleted to make room for your file of the same name.\n",
      "New netcdf file ( VNF.1997.monthly.nc ) has been created.\n",
      "Location: /scratch/usr/hbkoziel/Arc12/netcdf/\n",
      "1998\n",
      "The netcdf file VNF.1998.monthly.nc has been deleted to make room for your file of the same name.\n",
      "New netcdf file ( VNF.1998.monthly.nc ) has been created.\n",
      "Location: /scratch/usr/hbkoziel/Arc12/netcdf/\n",
      "1999\n",
      "The netcdf file VNF.1999.monthly.nc has been deleted to make room for your file of the same name.\n",
      "New netcdf file ( VNF.1999.monthly.nc ) has been created.\n",
      "Location: /scratch/usr/hbkoziel/Arc12/netcdf/\n",
      "2000\n",
      "The netcdf file VNF.2000.monthly.nc has been deleted to make room for your file of the same name.\n",
      "New netcdf file ( VNF.2000.monthly.nc ) has been created.\n",
      "Location: /scratch/usr/hbkoziel/Arc12/netcdf/\n",
      "2001\n",
      "The netcdf file VNF.2001.monthly.nc has been deleted to make room for your file of the same name.\n",
      "New netcdf file ( VNF.2001.monthly.nc ) has been created.\n",
      "Location: /scratch/usr/hbkoziel/Arc12/netcdf/\n",
      "2002\n",
      "The netcdf file VNF.2002.monthly.nc has been deleted to make room for your file of the same name.\n",
      "New netcdf file ( VNF.2002.monthly.nc ) has been created.\n",
      "Location: /scratch/usr/hbkoziel/Arc12/netcdf/\n",
      "2003\n",
      "The netcdf file VNF.2003.monthly.nc has been deleted to make room for your file of the same name.\n",
      "New netcdf file ( VNF.2003.monthly.nc ) has been created.\n",
      "Location: /scratch/usr/hbkoziel/Arc12/netcdf/\n",
      "2004\n",
      "The netcdf file VNF.2004.monthly.nc has been deleted to make room for your file of the same name.\n",
      "New netcdf file ( VNF.2004.monthly.nc ) has been created.\n",
      "Location: /scratch/usr/hbkoziel/Arc12/netcdf/\n",
      "2005\n",
      "The netcdf file VNF.2005.monthly.nc has been deleted to make room for your file of the same name.\n",
      "New netcdf file ( VNF.2005.monthly.nc ) has been created.\n",
      "Location: /scratch/usr/hbkoziel/Arc12/netcdf/\n",
      "2006\n",
      "The netcdf file VNF.2006.monthly.nc has been deleted to make room for your file of the same name.\n",
      "New netcdf file ( VNF.2006.monthly.nc ) has been created.\n",
      "Location: /scratch/usr/hbkoziel/Arc12/netcdf/\n",
      "2007\n",
      "The netcdf file VNF.2007.monthly.nc has been deleted to make room for your file of the same name.\n",
      "New netcdf file ( VNF.2007.monthly.nc ) has been created.\n",
      "Location: /scratch/usr/hbkoziel/Arc12/netcdf/\n",
      "2008\n",
      "The netcdf file VNF.2008.monthly.nc has been deleted to make room for your file of the same name.\n",
      "New netcdf file ( VNF.2008.monthly.nc ) has been created.\n",
      "Location: /scratch/usr/hbkoziel/Arc12/netcdf/\n",
      "2009\n",
      "The netcdf file VNF.2009.monthly.nc has been deleted to make room for your file of the same name.\n",
      "New netcdf file ( VNF.2009.monthly.nc ) has been created.\n",
      "Location: /scratch/usr/hbkoziel/Arc12/netcdf/\n",
      "2010\n",
      "The netcdf file VNF.2010.monthly.nc has been deleted to make room for your file of the same name.\n",
      "New netcdf file ( VNF.2010.monthly.nc ) has been created.\n",
      "Location: /scratch/usr/hbkoziel/Arc12/netcdf/\n",
      "2011\n",
      "The netcdf file VNF.2011.monthly.nc has been deleted to make room for your file of the same name.\n",
      "New netcdf file ( VNF.2011.monthly.nc ) has been created.\n",
      "Location: /scratch/usr/hbkoziel/Arc12/netcdf/\n",
      "2012\n",
      "The netcdf file VNF.2012.monthly.nc has been deleted to make room for your file of the same name.\n",
      "New netcdf file ( VNF.2012.monthly.nc ) has been created.\n",
      "Location: /scratch/usr/hbkoziel/Arc12/netcdf/\n",
      "2013\n",
      "The netcdf file VNF.2013.monthly.nc has been deleted to make room for your file of the same name.\n",
      "New netcdf file ( VNF.2013.monthly.nc ) has been created.\n",
      "Location: /scratch/usr/hbkoziel/Arc12/netcdf/\n",
      "2014\n",
      "The netcdf file VNF.2014.monthly.nc has been deleted to make room for your file of the same name.\n",
      "New netcdf file ( VNF.2014.monthly.nc ) has been created.\n",
      "Location: /scratch/usr/hbkoziel/Arc12/netcdf/\n",
      "2015\n",
      "The netcdf file VNF.2015.monthly.nc has been deleted to make room for your file of the same name.\n",
      "New netcdf file ( VNF.2015.monthly.nc ) has been created.\n",
      "Location: /scratch/usr/hbkoziel/Arc12/netcdf/\n"
     ]
    }
   ],
   "source": [
    "for ind in range(0,len(years)):\n",
    "    netcdf_name       = tracername+'.'+str(years[ind])+'.monthly.nc'\n",
    "    print years[ind]\n",
    "    # ==============================================================================\n",
    "    # Loading data\n",
    "\n",
    "    ncfile1\t= input_directory+'tr01.'+str(years[ind])+'.monthly.nc'\n",
    "    f1\t= Dataset(ncfile1,'r')\n",
    "    \n",
    "    ncfile2\t= input_directory+'w.'+str(years[ind])+'.monthly.nc'\n",
    "    f2\t= Dataset(ncfile2,'r')\n",
    "    \n",
    "    ncfile3\t= input_directory+'mixlay.'+str(years[ind])+'.monthly.nc'\n",
    "    f3\t= Dataset(ncfile3,'r')\n",
    "    \n",
    "    tracer = np.zeros((len(range(0,12,1)),len(mesh.x2)))\n",
    "    tracer1 = np.zeros((len(range(0,12,1)),len(mesh.x2)))\n",
    "    tracer2 = np.zeros((len(range(0,12,1)),len(mesh.x2)))\n",
    "    for mo in range(0,12,1):\n",
    "        din\t= f1.variables['tr01'][mo,:]\n",
    "        w\t= f2.variables['w'][mo,:]\n",
    "        mld\t= f3.variables['mixlay'][mo,:]\n",
    "        t = np.zeros(len(mesh.x2))\n",
    "        d = np.zeros(len(mesh.x2))\n",
    "        ww = np.zeros(len(mesh.x2))\n",
    "        for i in range(0,len(mesh.x2)):\n",
    "            if ((mesh.y2[i] >= 70) & (mesh.topo[i]>500)):\n",
    "                # print 'derive Upward Nitrate Fluxes'\n",
    "                ind_mld = np.max(np.argwhere(mesh.zlevs <= mld[i]))\n",
    "                ind_depth = np.array(mesh.n32[i,ind_mld]) # depth max 580m\n",
    "                t[i] = (din[ind_depth] * w[ind_depth] * 3600 * 24 * 30) \n",
    "                d[i] = din[ind_depth]\n",
    "                ww[i] = w[ind_depth] * 3600 * 24 * 30\n",
    "                # conversion fron micro mmole /m2 /s1 -> mmole /m2 /month\n",
    "        tracer[mo,:] = t\n",
    "        tracer1[mo,:] = d\n",
    "        tracer2[mo,:] = ww\n",
    "    tracershape = np.shape(tracer)\n",
    "    \n",
    "    # ==============================================================================\n",
    "    # Testing if a netcdf file with the same name exists, if yes, it must be removed\n",
    "    # to save a new one.\n",
    "\n",
    "    if os.path.isfile(output_directory+netcdf_name) and delete_old_netcdf:\n",
    "      os.remove(output_directory+netcdf_name)\n",
    "      print \"The netcdf file \"+netcdf_name+\" has been deleted to make room for your file of the same name.\"\n",
    "    elif os.path.isfile(netcdf_name):\n",
    "      statement = \"The netcdf file \"+netcdf_name+\" already exists! It must be removed for a new one to be created. This can be done by changing your settings.\"\n",
    "      sys.exit(statement)\n",
    "\n",
    "    if not os.path.isdir(output_directory):\n",
    "      os.makedirs(output_directory)\n",
    "      print 'Directory '+output_directory+' has been created'\n",
    "\n",
    "    # ==============================================================================\n",
    "    # Creating netcdf file\n",
    "    if save_netcdf:  \n",
    "      import time\n",
    "      w_nc_fid = Dataset(output_directory+netcdf_name, 'w', format='NETCDF4_CLASSIC')      # Create and open new netcdf file to write to\n",
    "      w_nc_fid.description = 'Vertical Nitrate fluxes at the base of the MLD' \n",
    "      w_nc_fid.history     = 'Created ' + time.ctime(time.time())\n",
    "\n",
    "      nod2d    = w_nc_fid.createDimension('nod2d', mesh.n2d)               # Create dimension: number of 3d nodes\n",
    "      time\t   = w_nc_fid.createDimension('time', tracershape[0]) \n",
    "\n",
    "      w_nc_var = w_nc_fid.createVariable(tracername, 'f8',('time','nod2d'))           # 'DIN' is name of saved variable                                    # 'f8' sets presicion to 64-bit floating point\n",
    "      w_nc_var.setncatts({'long_name': u'Vertical Nitrate fluxes',\\\n",
    "                          'units': u'mmol /m2 /month'})\n",
    "      w_nc_fid.variables[tracername][:] = tracer \n",
    "    \n",
    "      w_nc_var = w_nc_fid.createVariable('DIN', 'f8',('time','nod2d'))           # 'DIN' is name of saved variable                                    # 'f8' sets presicion to 64-bit floating point\n",
    "      w_nc_var.setncatts({'long_name': u'DIN',\\\n",
    "                          'units': u'mmol /m3'})\n",
    "      w_nc_fid.variables['DIN'][:] = tracer1 \n",
    "        \n",
    "      w_nc_var = w_nc_fid.createVariable('w', 'f8',('time','nod2d'))           # 'DIN' is name of saved variable                                    # 'f8' sets presicion to 64-bit floating point\n",
    "      w_nc_var.setncatts({'long_name': u'w',\\\n",
    "                          'units': u'm /month'})\n",
    "      w_nc_fid.variables['w'][:] = tracer2 \n",
    "    \n",
    "      w_nc_fid.close()                                                     # close the new file                \n",
    "\n",
    "      cwd = os.getcwd()\n",
    "      print \"New netcdf file (\",netcdf_name,\") has been created.\"\n",
    "      print \"Location: \"+output_directory\n",
    "    else:\n",
    "      print 'You have specified not to save your field in netcdf file'"
   ]
  },
  {
   "cell_type": "code",
   "execution_count": 23,
   "metadata": {},
   "outputs": [
    {
     "data": {
      "text/plain": [
       "[<matplotlib.lines.Line2D at 0x2aab054a93d0>]"
      ]
     },
     "execution_count": 23,
     "metadata": {},
     "output_type": "execute_result"
    },
    {
     "data": {
      "image/png": "[encoded data removed]",
      "text/plain": [
       "<Figure size 432x288 with 1 Axes>"
      ]
     },
     "metadata": {
      "needs_background": "light"
     },
     "output_type": "display_data"
    }
   ],
   "source": [
    "plt.plot(t,'.')"
   ]
  },
  {
   "cell_type": "code",
   "execution_count": 21,
   "metadata": {},
   "outputs": [
    {
     "data": {
      "text/plain": [
       "-14.858354974421673"
      ]
     },
     "execution_count": 21,
     "metadata": {},
     "output_type": "execute_result"
    }
   ],
   "source": [
    "w[ind_depth] * 3600 * 24 * 30"
   ]
  },
  {
   "cell_type": "code",
   "execution_count": 24,
   "metadata": {},
   "outputs": [
    {
     "data": {
      "text/plain": [
       "[<matplotlib.lines.Line2D at 0x2aab030b4210>]"
      ]
     },
     "execution_count": 24,
     "metadata": {},
     "output_type": "execute_result"
    },
    {
     "data": {
      "image/png": "[encoded data removed]",
      "text/plain": [
       "<Figure size 432x288 with 1 Axes>"
      ]
     },
     "metadata": {
      "needs_background": "light"
     },
     "output_type": "display_data"
    }
   ],
   "source": [
    "plt.plot(w,'.')"
   ]
  },
  {
   "cell_type": "code",
   "execution_count": 25,
   "metadata": {},
   "outputs": [
    {
     "data": {
      "text/plain": [
       "[<matplotlib.lines.Line2D at 0x2aab05575710>]"
      ]
     },
     "execution_count": 25,
     "metadata": {},
     "output_type": "execute_result"
    },
    {
     "data": {
      "image/png": "[encoded data removed]",
      "text/plain": [
       "<Figure size 432x288 with 1 Axes>"
      ]
     },
     "metadata": {
      "needs_background": "light"
     },
     "output_type": "display_data"
    }
   ],
   "source": [
    "plt.plot(d,'.')"
   ]
  },
  {
   "cell_type": "code",
   "execution_count": null,
   "metadata": {},
   "outputs": [],
   "source": []
  }
 ],
 "metadata": {
  "kernelspec": {
   "display_name": "Python 2",
   "language": "python",
   "name": "python2"
  },
  "language_info": {
   "codemirror_mode": {
    "name": "ipython",
    "version": 2
   },
   "file_extension": ".py",
   "mimetype": "text/x-python",
   "name": "python",
   "nbconvert_exporter": "python",
   "pygments_lexer": "ipython2",
   "version": "2.7.16"
  }
 },
 "nbformat": 4,
 "nbformat_minor": 2
}
