{
 "cells": [
  {
   "cell_type": "code",
   "execution_count": 39,
   "metadata": {},
   "outputs": [
    {
     "name": "stdout",
     "output_type": "stream",
     "text": [
      "computer =  blogin1\n",
      "working directory set to /home/hbkoziel/awi-models\n"
     ]
    }
   ],
   "source": [
    "import os\n",
    "from os.path import expanduser\n",
    "import socket\n",
    "import sys\n",
    "\n",
    "\n",
    "# BELOW IS SYSTEM/PATH CONFIGURATION #\n",
    "my_home = expanduser(\"~\")\n",
    "running_system = socket.gethostname()\n",
    "# Configure machine's names here #\n",
    "systemHLRN = 'blogin1'\n",
    "systemLOCAL = 'Laurents-MacBook-Pro.local'\n",
    "my_home = expanduser(\"~\")\n",
    "# Define local pass #\n",
    "if running_system == systemLOCAL:\n",
    "    print \"computer = \", running_system\n",
    "    wd_path = os.path.join(my_home,\"Documents\",\"projects\", \"awi-models\")\n",
    "elif running_system[0:1] == \"b\" or running_system == systemHLRN:\n",
    "    print \"computer = \", running_system\n",
    "    wd_path = os.path.join(my_home,\"awi-models\")\n",
    "else:\n",
    "    print 'please configure your local machine : type socket.gethostname()'\n",
    "print \"working directory set to\", wd_path\n",
    "os.chdir(wd_path)\n",
    "# IMPORT PY-FESOM MODULES\n",
    "sys.path.append(\"codes/modules\")\n",
    "sys.path.append(\"codes/pyfesom-master/\") # add pyfesom to search path\n",
    "#########################################"
   ]
  },
  {
   "cell_type": "code",
   "execution_count": 40,
   "metadata": {},
   "outputs": [],
   "source": [
    "import matplotlib.pyplot as plt\n",
    "from mpl_toolkits.basemap import Basemap\n",
    "from pylab import *\n",
    "from load_mesh_data_new import *\n",
    "import numpy as np\n",
    "import datetime as dt\n",
    "from PiecewiseNorm import PiecewiseNorm\n",
    "from netCDF4 import Dataset\n",
    "#import colormaps as cmaps\n",
    "from matplotlib.colors import ListedColormap\n",
    "import pyfesom as pf"
   ]
  },
  {
   "cell_type": "code",
   "execution_count": 41,
   "metadata": {},
   "outputs": [
    {
     "name": "stdout",
     "output_type": "stream",
     "text": [
      "directory /home/hbkoziel/awi-models/figures/Arc12/ already existing\n"
     ]
    }
   ],
   "source": [
    "# PLOT CONFIGURATION #\n",
    "\n",
    "# load colormaps #\n",
    "cmap = plt.get_cmap('RdBu_r')\n",
    "# figure export \n",
    "export_plot = True\n",
    "# figure export definition\n",
    "dpicnt=150\n",
    "# choose simulation\n",
    "runid='Arc12'\n",
    "# choose date\n",
    "first_year = 1980\n",
    "last_year  = 2015\n",
    "years      = np.arange(first_year,last_year+1,1)\n",
    "months =np.linspace(0,11,12).astype(int)\n",
    "# choose depth\n",
    "get3d = False\n",
    "# load the given biological tracer #\n",
    "var_id1, var_id2 = 'diags_bio1_mean','diags_bio2_mean'\n",
    "# export CSV\n",
    "export_csv = True\n",
    "########################\n",
    "\n",
    "# AUTOMATIC DEFINITION OF PATHS\n",
    "resultpath = '/scratch/usr/hbkvsk12/hlrn3_work2/results/'+runid+'/Oldfiles/'\n",
    "savepath    = wd_path+'/figures/'+runid+'/'\n",
    "meshpath    = wd_path+'/data/mesh/meshArc4.5/'\n",
    "outputpath = '/scratch/usr/hbkoziel/Arc12/CSV/'\n",
    "\n",
    "# Create figure directory if it does not exist\n",
    "if os.path.exists(savepath) == False:\n",
    "    try:\n",
    "        os.mkdir(savepath)\n",
    "        print (\"Creation of the directory %s successfull\" % savepath)\n",
    "    except OSError:\n",
    "        print (\"Creation of the directory %s failed\" % savepath)\n",
    "else:\n",
    "    print (\"directory %s already existing\" % savepath)"
   ]
  },
  {
   "cell_type": "code",
   "execution_count": 42,
   "metadata": {},
   "outputs": [
    {
     "name": "stdout",
     "output_type": "stream",
     "text": [
      "Load 2d part of the grid in 3 second(s)\n"
     ]
    }
   ],
   "source": [
    "mesh = fesom_mesh(meshpath, get3d = get3d)"
   ]
  },
  {
   "cell_type": "code",
   "execution_count": 43,
   "metadata": {},
   "outputs": [
    {
     "name": "stdout",
     "output_type": "stream",
     "text": [
      "1980\n",
      "1981\n",
      "1982\n",
      "1983\n",
      "1984\n",
      "1985\n",
      "1986\n",
      "1987\n",
      "1988\n",
      "1989\n",
      "1990\n",
      "1991\n",
      "1992\n",
      "1993\n",
      "1994\n",
      "1995\n",
      "1996\n",
      "1997\n",
      "1998\n",
      "1999\n",
      "2000\n",
      "2001\n",
      "2002\n",
      "2003\n",
      "2004\n",
      "2005\n",
      "2006\n",
      "2007\n",
      "2008\n",
      "2009\n",
      "2010\n",
      "2011\n",
      "2012\n",
      "2013\n",
      "2014\n",
      "2015\n",
      "Number of nans in tracer:  0\n",
      "Number of inf in tracer:  0\n",
      "Mean of surface:  44700.6676017\n",
      "Max and min:  396160.868934 -34.843835467\n",
      "exporting done ...\n"
     ]
    }
   ],
   "source": [
    "CHL  = np.zeros((len(years),len(mesh.x2)))\n",
    "\n",
    "for ye in range(0,len(years)):\n",
    "    print years[ye]\n",
    "    ncfile  = resultpath+runid+'.'+str(years[ye])+'.bio.mean.nc'\n",
    "    f       = Dataset(ncfile, 'r')    \n",
    "    if years[ye] < 2000:\n",
    "        chl1     = f.variables[var_id1][:,0:mesh.n2d]\n",
    "        chl2     = f.variables[var_id2][:,0:mesh.n2d]\n",
    "        chl=(chl1+chl2)*12.01\n",
    "        time = np.arange(0,360,30)\n",
    "        data_int = np.trapz(chl,time,axis=0)\n",
    "    elif years[ye] >= 2000 and years[ye] < 2015:\n",
    "        chl1     = f.variables[var_id1][:,0:mesh.n2d]\n",
    "        chl2     = f.variables[var_id2][:,0:mesh.n2d]\n",
    "        chl=(chl1+chl2)*12.01\n",
    "        time = np.arange(0,350,2)\n",
    "        data_int = np.trapz(chl,time,axis=0)\n",
    "    else:\n",
    "        chl1     = f.variables[var_id1][:,0:mesh.n2d]\n",
    "        chl2     = f.variables[var_id2][:,0:mesh.n2d]\n",
    "        chl=(chl1+chl2)*12.01\n",
    "        time = np.arange(0,334,2)\n",
    "        data_int = np.trapz(chl,time,axis=0)\n",
    "        \n",
    "    CHL[ye,:]=data_int\n",
    "    \n",
    "data2=CHL.mean(axis=0)\n",
    "print 'Number of nans in tracer: ',np.count_nonzero(np.isnan(data2))\n",
    "print 'Number of inf in tracer: ',np.count_nonzero(np.isinf(data2))\n",
    "print 'Mean of surface: ',np.mean(data2[0:len(mesh.x2)])\n",
    "print 'Max and min: ',np.max(data2),np.min(data2)\n",
    "    \n",
    "    \n",
    "result_fit = np.ma.polyfit(years,CHL,1)\n",
    "trend = result_fit[0,:]\n",
    "    \n",
    "if export_csv == True:\n",
    "    np.savetxt(outputpath+'NPPannual_'+str(first_year)+'_'+str(last_year)+'_timeseries.csv', CHL, delimiter=\";\")\n",
    "    np.savetxt(outputpath+'NPPannual_'+str(first_year)+'_'+str(last_year)+'_mean.csv', data2, delimiter=\";\")\n",
    "    np.savetxt(outputpath+'NPPannual_'+str(first_year)+'_'+str(last_year)+'_trend.csv', trend, delimiter=\";\")\n",
    "    print 'exporting done ...'"
   ]
  }
 ],
 "metadata": {
  "kernelspec": {
   "display_name": "Python 2",
   "language": "python",
   "name": "python2"
  },
  "language_info": {
   "codemirror_mode": {
    "name": "ipython",
    "version": 2
   },
   "file_extension": ".py",
   "mimetype": "text/x-python",
   "name": "python",
   "nbconvert_exporter": "python",
   "pygments_lexer": "ipython2",
   "version": "2.7.16"
  }
 },
 "nbformat": 4,
 "nbformat_minor": 2
}
