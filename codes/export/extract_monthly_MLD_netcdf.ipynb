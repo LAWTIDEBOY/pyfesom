{
 "cells": [
  {
   "cell_type": "code",
   "execution_count": 1,
   "metadata": {},
   "outputs": [
    {
     "name": "stdout",
     "output_type": "stream",
     "text": [
      "No joblib\n",
      "no cmocean\n"
     ]
    }
   ],
   "source": [
    "import sys \n",
    "#sys.path.append(\"codes/modules\") # add custom Vibe 's modules\n",
    "sys.path.append('../..') # add standard 's modules\n",
    "sys.path.append('../modules')\n",
    "\n",
    "import pyfesom as pf\n",
    "import matplotlib.pyplot as plt\n",
    "from matplotlib import cm\n",
    "from mpl_toolkits.basemap import Basemap\n",
    "import numpy as np\n",
    "from netCDF4 import Dataset\n",
    "import os\n",
    "import time\n",
    "\n",
    "sys.path.append('/home/hbkoziel/pyfesom/pyfesom/python-gsw/')\n",
    "import gsw\n",
    "from tqdm import tqdm_notebook as tqdm"
   ]
  },
  {
   "cell_type": "code",
   "execution_count": 2,
   "metadata": {},
   "outputs": [],
   "source": [
    "# ==============================================================================\n",
    "# Running this file loads tracers from old FESOM-REcoM2 output file (oce.mean.nc)\n",
    "# and saves each tracer in an individual file\n",
    "# \n",
    "#  Input:\n",
    "#  - mesh_id: Name of mesh, will be added to the netcdf name\n",
    "#  - meshpath: Speciefies where the target mesh is stored\n",
    "#  - save_netcdf: If true, netcdf will be created\n",
    "#  - delete_old_netcdf: If a netcdf file with the same name exists, a new cannot \n",
    "#    be made. If set to true, an old netcdf with the same name will be deleted\n",
    "#\n",
    "#  Output:\n",
    "#  - netcdf file for each tracer in the old file\n",
    "#  \n",
    "#  During running, keep an eye on the output in the terminal, to see if it \n",
    "#  makes sense. \n",
    "#\n",
    "# =============================================================================="
   ]
  },
  {
   "cell_type": "code",
   "execution_count": 3,
   "metadata": {},
   "outputs": [],
   "source": [
    "def dens0(T,S):\n",
    "    T68 = T * 1.00024\n",
    "    a0,a1,a2,a3,a4,a5 = 999.842594, 6.793952e-2, -9.095290e-3, 1.001685e-4, -1.120083e-6, 6.536332e-9\n",
    "    sw_smow = a0 + (a1 + (a2 + (a3 + (a4 + a5*T68)*T68)*T68)*T68)*T68\n",
    "    #     UNESCO 1983 eqn(13) p17.\n",
    "    \n",
    "    b0, b1, b2, b3, b4 =  8.24493e-1, -4.0899e-3, 7.6438e-5, -8.2467e-7, 5.3875e-9\n",
    "    c0, c1, c2 = -5.72466e-3, 1.0227e-4, -1.6546e-6\n",
    "    d0 = 4.8314e-4\n",
    "    dens = sw_smow + (b0 + (b1 + (b2 + (b3 + b4*T68)*T68)*T68)*T68)*S + (c0 + (c1 + c2*T68)*T68)*S*np.sqrt(S) + d0*S**2\n",
    "    return dens"
   ]
  },
  {
   "cell_type": "code",
   "execution_count": 4,
   "metadata": {},
   "outputs": [
    {
     "name": "stdout",
     "output_type": "stream",
     "text": [
      "/scratch/usr/hbkoziel/mesh/meshArc4.5/pickle_mesh\n",
      "2\n",
      "The usepickle == True)\n",
      "The pickle file for python 2 exists.\n",
      "The mesh will be loaded from /scratch/usr/hbkoziel/mesh/meshArc4.5/pickle_mesh\n"
     ]
    }
   ],
   "source": [
    "# Loading mesh for run\n",
    "\n",
    "mesh_id    = 'meshArc4.5'\n",
    "meshpath   = '/scratch/usr/hbkoziel/mesh/'+mesh_id+'/'            # Defining path where mesh is stored\n",
    "mesh = pf.load_mesh(meshpath, usepickle=True, get3d=True)                                    # Loading mesh, stores it in mesh.****  \n",
    "#mesh = pf.fesom_mesh(meshpath, get3d=True)\n",
    "#mesh.zlevs = -mesh.zlevs                                            # Depth is made negative\n",
    "\n",
    "tracername = 'MLD2'\n",
    "first_year = 2010\n",
    "last_year  = 2015\n",
    "years      = np.arange(first_year,last_year+1,1)\n",
    "runid\t= 'Arc12'"
   ]
  },
  {
   "cell_type": "code",
   "execution_count": 5,
   "metadata": {},
   "outputs": [
    {
     "data": {
      "text/plain": [
       "\n",
       "FESOM mesh:\n",
       "path                  = /home/hbkoziel/pyfesom/data/mesh/meshArc4.5\n",
       "alpha, beta, gamma    = 50, 15, -90\n",
       "number of 2d nodes    = 753179\n",
       "number of 2d elements = 1480268\n",
       "number of 3d nodes    = 16950142\n",
       "\n",
       "        "
      ]
     },
     "execution_count": 5,
     "metadata": {},
     "output_type": "execute_result"
    }
   ],
   "source": [
    "mesh"
   ]
  },
  {
   "cell_type": "code",
   "execution_count": 6,
   "metadata": {},
   "outputs": [],
   "source": [
    "pressure = gsw.p_from_z(-mesh.z3, mesh.y3, geo_strf_dyn_height=0)"
   ]
  },
  {
   "cell_type": "code",
   "execution_count": 7,
   "metadata": {},
   "outputs": [],
   "source": [
    "# ==============================================================================\n",
    "# Settings for netcdf file\n",
    "\n",
    "save_netcdf       = True                                            # Saves the interpolated field in netcdf file\n",
    "delete_old_netcdf = True                                            # If a netcdf file with the same name exists it will be deleted\n",
    "input_directory  = '/scratch/usr/hbkoziel/'+runid+'/netcdf_monthly/'       # Where the netcdf is saved\n",
    "output_directory  = '/scratch/usr/hbkoziel/'+runid+'/netcdf_monthly/'"
   ]
  },
  {
   "cell_type": "code",
   "execution_count": 8,
   "metadata": {},
   "outputs": [
    {
     "name": "stdout",
     "output_type": "stream",
     "text": [
      "2010\n",
      "calculating rho...\n",
      "done...\n",
      "0\n",
      "1\n",
      "2\n",
      "3\n",
      "4\n",
      "5\n",
      "6\n",
      "7\n",
      "8\n",
      "9\n",
      "10\n",
      "11\n",
      "The netcdf file MLD2.2010.monthly.nc has been deleted to make room for your file of the same name.\n",
      "New netcdf file ( MLD2.2010.monthly.nc ) has been created.\n",
      "Location: /scratch/usr/hbkoziel/Arc12/netcdf_monthly/\n",
      "2011\n",
      "calculating rho...\n",
      "done...\n",
      "0\n",
      "1\n",
      "2\n",
      "3\n",
      "4\n",
      "5\n",
      "6\n",
      "7\n",
      "8\n",
      "9\n",
      "10\n",
      "11\n",
      "The netcdf file MLD2.2011.monthly.nc has been deleted to make room for your file of the same name.\n",
      "New netcdf file ( MLD2.2011.monthly.nc ) has been created.\n",
      "Location: /scratch/usr/hbkoziel/Arc12/netcdf_monthly/\n",
      "2012\n",
      "calculating rho...\n",
      "done...\n",
      "0\n",
      "1\n",
      "2\n",
      "3\n",
      "4\n",
      "5\n",
      "6\n",
      "7\n",
      "8\n",
      "9\n",
      "10\n",
      "11\n",
      "The netcdf file MLD2.2012.monthly.nc has been deleted to make room for your file of the same name.\n",
      "New netcdf file ( MLD2.2012.monthly.nc ) has been created.\n",
      "Location: /scratch/usr/hbkoziel/Arc12/netcdf_monthly/\n",
      "2013\n",
      "calculating rho...\n",
      "done...\n",
      "0\n",
      "1\n",
      "2\n",
      "3\n",
      "4\n",
      "5\n",
      "6\n",
      "7\n",
      "8\n",
      "9\n",
      "10\n",
      "11\n",
      "The netcdf file MLD2.2013.monthly.nc has been deleted to make room for your file of the same name.\n",
      "New netcdf file ( MLD2.2013.monthly.nc ) has been created.\n",
      "Location: /scratch/usr/hbkoziel/Arc12/netcdf_monthly/\n",
      "2014\n",
      "calculating rho...\n",
      "done...\n",
      "0\n",
      "1\n",
      "2\n",
      "3\n",
      "4\n",
      "5\n",
      "6\n",
      "7\n",
      "8\n",
      "9\n",
      "10\n",
      "11\n",
      "The netcdf file MLD2.2014.monthly.nc has been deleted to make room for your file of the same name.\n",
      "New netcdf file ( MLD2.2014.monthly.nc ) has been created.\n",
      "Location: /scratch/usr/hbkoziel/Arc12/netcdf_monthly/\n",
      "2015\n",
      "calculating rho...\n",
      "done...\n",
      "0\n",
      "1\n",
      "2\n",
      "3\n",
      "4\n",
      "5\n",
      "6\n",
      "7\n",
      "8\n",
      "9\n",
      "10\n",
      "11\n",
      "The netcdf file MLD2.2015.monthly.nc has been deleted to make room for your file of the same name.\n",
      "New netcdf file ( MLD2.2015.monthly.nc ) has been created.\n",
      "Location: /scratch/usr/hbkoziel/Arc12/netcdf_monthly/\n"
     ]
    }
   ],
   "source": [
    "for ind in range(0,len(years)):\n",
    "    netcdf_name       = tracername+'.'+str(years[ind])+'.monthly.nc'\n",
    "    print years[ind]\n",
    "    # ==============================================================================\n",
    "    # Loading data\n",
    "\n",
    "    ncfile1\t= input_directory+'temp.'+str(years[ind])+'.monthly.nc'\n",
    "    f1\t= Dataset(ncfile1,'r')\n",
    "    t\t= f1.variables['temp'][:]\n",
    "    f1.close()\n",
    "    \n",
    "    ncfile2\t= input_directory+'salt.'+str(years[ind])+'.monthly.nc'\n",
    "    f2\t= Dataset(ncfile2,'r')\n",
    "    s\t= f2.variables['salt'][:,:]\n",
    "    f2.close()\n",
    "    \n",
    "    print('calculating rho...')\n",
    "    #sa = gsw.SA_from_SP()\n",
    "    #ct = gsw.CT_from_pt(SA, pt)\n",
    "    # ro = gsw.rho(s,t,np.zeros(np.shape(s)))\n",
    "    ro = dens0(t,s)\n",
    "    print('done...')\n",
    "    MLD = np.zeros((12,len(mesh.x2)))\n",
    "    for month in range(0,12):\n",
    "        print(month)\n",
    "        for i in range(0,len(mesh.x2)):\n",
    "                max_depth = mesh.topo[i]\n",
    "                ind_depth = np.array(mesh.n32[i,:]) # depth max 580m\n",
    "                ind_depth = np.reshape(ind_depth, ind_depth.size)\n",
    "                ind_depth = ind_depth[ind_depth > -999] -1\n",
    "                \n",
    "                zzi = np.arange(0,max_depth)\n",
    "                rho_int = np.interp(zzi,mesh.z3[ind_depth],ro[month,ind_depth])\n",
    "#                 z = pressure[ind_depth]\n",
    "\n",
    "#                 tt = t[month,ind_depth]\n",
    "#                 tt = np.reshape(tt, tt.size)\n",
    "#                 ss = s[month,ind_depth]\n",
    "#                 ss = np.reshape(ss, ss.size)\n",
    "#                 ro = gsw.rho(ss,tt,z)\n",
    "                #hl_ind = (np.abs(ro[month,ind_depth]-ro[month,ind_depth[0]]-0.3)).argmin(axis=0)\n",
    "                #MLD[month,i] = mesh.z3[ind_depth[hl_ind]]\n",
    "                MLD[month,i] = (np.abs(rho_int - rho_int[0] - 0.125)).argmin()\n",
    "        \n",
    "            \n",
    "    tracershape = np.shape(MLD)\n",
    "    \n",
    "    # ==============================================================================\n",
    "    # Testing if a netcdf file with the same name exists, if yes, it must be removed\n",
    "    # to save a new one.\n",
    "\n",
    "    if os.path.isfile(output_directory+netcdf_name) and delete_old_netcdf:\n",
    "      os.remove(output_directory+netcdf_name)\n",
    "      print \"The netcdf file \"+netcdf_name+\" has been deleted to make room for your file of the same name.\"\n",
    "    elif os.path.isfile(netcdf_name):\n",
    "      statement = \"The netcdf file \"+netcdf_name+\" already exists! It must be removed for a new one to be created. This can be done by changing your settings.\"\n",
    "      sys.exit(statement)\n",
    "\n",
    "    if not os.path.isdir(output_directory):\n",
    "      os.makedirs(output_directory)\n",
    "      print 'Directory '+output_directory+' has been created'\n",
    "\n",
    "    # ==============================================================================\n",
    "    # Creating netcdf file\n",
    "    if save_netcdf:  \n",
    "      import time\n",
    "      w_nc_fid = Dataset(output_directory+netcdf_name, 'w', format='NETCDF4_CLASSIC')      # Create and open new netcdf file to write to\n",
    "      w_nc_fid.description = 'MLD with 0.125 kg/m3 criterion'\n",
    "      w_nc_fid.history     = 'Created ' + time.ctime(time.time())\n",
    "\n",
    "      nod2d    = w_nc_fid.createDimension('nod2d', mesh.n2d)               # Create dimension: number of 3d nodes\n",
    "      time\t   = w_nc_fid.createDimension('time', tracershape[0])\n",
    "        \n",
    "      w_nc_var = w_nc_fid.createVariable('MLD', 'f4',('time','nod2d'))           # 'DIN' is name of saved variable                                                                    # 'f8' sets presicion to 64-bit floating point\n",
    "      w_nc_var.setncatts({'long_name': u'MLD',\\\n",
    "                          'units': u'm'})\n",
    "      w_nc_fid.variables['MLD'][:] = MLD  \n",
    "    \n",
    "      w_nc_fid.close()                                                     # close the new file                \n",
    "\n",
    "      cwd = os.getcwd()\n",
    "      print \"New netcdf file (\",netcdf_name,\") has been created.\"\n",
    "      print \"Location: \"+output_directory\n",
    "    else:\n",
    "      print 'You have specified not to save your field in netcdf file'"
   ]
  },
  {
   "cell_type": "code",
   "execution_count": 9,
   "metadata": {},
   "outputs": [
    {
     "name": "stdout",
     "output_type": "stream",
     "text": [
      "(12, 16950142)\n",
      "[ 753178 1506357 2259536 2958164 3631792 4278615 4900405 5508357 6105548\n",
      " 6693273 7272020 7841465]\n"
     ]
    }
   ],
   "source": [
    "print np.shape(ro)\n",
    "print ind_depth"
   ]
  },
  {
   "cell_type": "code",
   "execution_count": 10,
   "metadata": {},
   "outputs": [
    {
     "ename": "NameError",
     "evalue": "name 'data' is not defined",
     "output_type": "error",
     "traceback": [
      "\u001b[0;31m---------------------------------------------------------------------------\u001b[0m",
      "\u001b[0;31mNameError\u001b[0m                                 Traceback (most recent call last)",
      "\u001b[0;32m<ipython-input-10-23bf16453848>\u001b[0m in \u001b[0;36m<module>\u001b[0;34m()\u001b[0m\n\u001b[1;32m      3\u001b[0m \u001b[0max1\u001b[0m      \u001b[0;34m=\u001b[0m \u001b[0mfig\u001b[0m\u001b[0;34m.\u001b[0m\u001b[0madd_subplot\u001b[0m\u001b[0;34m(\u001b[0m\u001b[0;36m121\u001b[0m\u001b[0;34m)\u001b[0m\u001b[0;34m\u001b[0m\u001b[0m\n\u001b[1;32m      4\u001b[0m \u001b[0;31m#hadv[ind_all] = np.nan\u001b[0m\u001b[0;34m\u001b[0m\u001b[0;34m\u001b[0m\u001b[0m\n\u001b[0;32m----> 5\u001b[0;31m \u001b[0;32mdel\u001b[0m\u001b[0;34m(\u001b[0m\u001b[0mdata\u001b[0m\u001b[0;34m)\u001b[0m\u001b[0;34m\u001b[0m\u001b[0m\n\u001b[0m\u001b[1;32m      6\u001b[0m \u001b[0mdata\u001b[0m \u001b[0;34m=\u001b[0m \u001b[0mMLD\u001b[0m\u001b[0;34m[\u001b[0m\u001b[0;36m8\u001b[0m\u001b[0;34m,\u001b[0m\u001b[0;34m:\u001b[0m\u001b[0;34m]\u001b[0m\u001b[0;34m\u001b[0m\u001b[0m\n\u001b[1;32m      7\u001b[0m \u001b[0mcontours\u001b[0m \u001b[0;34m=\u001b[0m \u001b[0mnp\u001b[0m\u001b[0;34m.\u001b[0m\u001b[0marange\u001b[0m\u001b[0;34m(\u001b[0m\u001b[0;36m0\u001b[0m\u001b[0;34m,\u001b[0m \u001b[0;36m201\u001b[0m\u001b[0;34m,\u001b[0m \u001b[0;36m1\u001b[0m\u001b[0;34m)\u001b[0m\u001b[0;34m\u001b[0m\u001b[0m\n",
      "\u001b[0;31mNameError\u001b[0m: name 'data' is not defined"
     ]
    },
    {
     "data": {
      "image/png": "[encoded data removed]",
      "text/plain": [
       "<Figure size 1080x720 with 1 Axes>"
      ]
     },
     "metadata": {},
     "output_type": "display_data"
    }
   ],
   "source": [
    "fig = plt.figure(figsize=(15, 10), facecolor='w', edgecolor='k')\n",
    "\n",
    "ax1      = fig.add_subplot(121)\n",
    "#hadv[ind_all] = np.nan\n",
    "del(data)\n",
    "data = MLD[8,:]\n",
    "contours = np.arange(0, 201, 1)\n",
    "eps=(contours.max()-contours.min())/100.\n",
    "data[data<=contours.min()]=contours.min()+eps\n",
    "data[data>=contours.max()]=contours.max()-eps\n",
    "data, elem_no_nan = pf.get_data(data,mesh,0)\n",
    "m = Basemap(projection='nplaea',boundinglat=73,lon_0=0,resolution='l')\n",
    "x, y = m(mesh.x2, mesh.y2)\n",
    "plabels=[False,False,False,False]\n",
    "mlabels=[False,False,False,False]    \n",
    "m.drawparallels(np.arange(-80.,81.,20.), labels=plabels)\n",
    "m.drawmeridians(np.arange(-180.,181.,20.),labels=mlabels) #[0,1,0,0]\n",
    "m.drawmapboundary(fill_color='0.7')\n",
    "m.fillcontinents(color='.5',lake_color='.7')\n",
    "im=plt.tricontourf(x, y, elem_no_nan, (data) , levels=contours, cmap=cm.inferno, extend='both')\n",
    "label = 'MLD v2 [m]'\n",
    "cbar=m.colorbar(im,\"bottom\", size=\"5%\", pad=\"2%\", ticks=np.arange(0,201,20))\n",
    "cbar.set_label(label, fontsize=14)\n",
    "cbar.ax.tick_params(labelsize=12)\n",
    "\n",
    "ax2      = fig.add_subplot(122)\n",
    "#hadv[ind_all] = np.nan\n",
    "del(data)\n",
    "data = MLD[8,:]\n",
    "contours = np.arange(0, 41, 1)\n",
    "eps=(contours.max()-contours.min())/100.\n",
    "data[data<=contours.min()]=contours.min()+eps\n",
    "data[data>=contours.max()]=contours.max()-eps\n",
    "data, elem_no_nan = pf.get_data(data,mesh,0)\n",
    "m = Basemap(projection='nplaea',boundinglat=73,lon_0=0,resolution='l')\n",
    "x, y = m(mesh.x2, mesh.y2)\n",
    "plabels=[False,False,False,False]\n",
    "mlabels=[False,False,False,False]    \n",
    "m.drawparallels(np.arange(-80.,81.,20.), labels=plabels)\n",
    "m.drawmeridians(np.arange(-180.,181.,20.),labels=mlabels) #[0,1,0,0]\n",
    "m.drawmapboundary(fill_color='0.7')\n",
    "m.fillcontinents(color='.5',lake_color='.7')\n",
    "im=plt.tricontourf(x, y, elem_no_nan, (data) , levels=contours, cmap=cm.inferno, extend='both')\n",
    "label = 'MLD v2 [m]'\n",
    "cbar=m.colorbar(im,\"bottom\", size=\"5%\", pad=\"2%\", ticks=np.arange(0,41,2))\n",
    "cbar.set_label(label, fontsize=14)\n",
    "cbar.ax.tick_params(labelsize=12)"
   ]
  },
  {
   "cell_type": "code",
   "execution_count": null,
   "metadata": {},
   "outputs": [],
   "source": [
    "fig = plt.figure(figsize=(15, 10), facecolor='w', edgecolor='k')\n",
    "\n",
    "ax1      = fig.add_subplot(121)\n",
    "#hadv[ind_all] = np.nan\n",
    "del(data)\n",
    "data = MLD[2,:]\n",
    "contours = np.arange(0, 201, 1)\n",
    "eps=(contours.max()-contours.min())/100.\n",
    "data[data<=contours.min()]=contours.min()+eps\n",
    "data[data>=contours.max()]=contours.max()-eps\n",
    "data, elem_no_nan = pf.get_data(data,mesh,0)\n",
    "m = Basemap(projection='nplaea',boundinglat=73,lon_0=0,resolution='l')\n",
    "x, y = m(mesh.x2, mesh.y2)\n",
    "plabels=[False,False,False,False]\n",
    "mlabels=[False,False,False,False]    \n",
    "m.drawparallels(np.arange(-80.,81.,20.), labels=plabels)\n",
    "m.drawmeridians(np.arange(-180.,181.,20.),labels=mlabels) #[0,1,0,0]\n",
    "m.drawmapboundary(fill_color='0.7')\n",
    "m.fillcontinents(color='.5',lake_color='.7')\n",
    "im=plt.tricontourf(x, y, elem_no_nan, (data) , levels=contours, cmap=cm.inferno, extend='both')\n",
    "label = 'MLD v2 [m]'\n",
    "cbar=m.colorbar(im,\"bottom\", size=\"5%\", pad=\"2%\", ticks=np.arange(0,201,20))\n",
    "cbar.set_label(label, fontsize=14)\n",
    "cbar.ax.tick_params(labelsize=12)\n",
    "\n",
    "ax2      = fig.add_subplot(122)\n",
    "#hadv[ind_all] = np.nan\n",
    "del(data)\n",
    "data = MLD[2,:]\n",
    "contours = np.arange(0, 41, 1)\n",
    "eps=(contours.max()-contours.min())/100.\n",
    "data[data<=contours.min()]=contours.min()+eps\n",
    "data[data>=contours.max()]=contours.max()-eps\n",
    "data, elem_no_nan = pf.get_data(data,mesh,0)\n",
    "m = Basemap(projection='nplaea',boundinglat=73,lon_0=0,resolution='l')\n",
    "x, y = m(mesh.x2, mesh.y2)\n",
    "plabels=[False,False,False,False]\n",
    "mlabels=[False,False,False,False]    \n",
    "m.drawparallels(np.arange(-80.,81.,20.), labels=plabels)\n",
    "m.drawmeridians(np.arange(-180.,181.,20.),labels=mlabels) #[0,1,0,0]\n",
    "m.drawmapboundary(fill_color='0.7')\n",
    "m.fillcontinents(color='.5',lake_color='.7')\n",
    "im=plt.tricontourf(x, y, elem_no_nan, (data) , levels=contours, cmap=cm.inferno, extend='both')\n",
    "label = 'MLD v2 [m]'\n",
    "cbar=m.colorbar(im,\"bottom\", size=\"5%\", pad=\"2%\", ticks=np.arange(0,41,2))\n",
    "cbar.set_label(label, fontsize=14)\n",
    "cbar.ax.tick_params(labelsize=12)"
   ]
  },
  {
   "cell_type": "code",
   "execution_count": null,
   "metadata": {},
   "outputs": [],
   "source": [
    "fig = plt.figure(figsize=(10, 10), facecolor='w', edgecolor='k')\n",
    "plt.plot(ro[month,ind_depth])"
   ]
  },
  {
   "cell_type": "code",
   "execution_count": null,
   "metadata": {},
   "outputs": [],
   "source": [
    "np.shape(s)\n",
    "#np.shape(t)"
   ]
  },
  {
   "cell_type": "code",
   "execution_count": null,
   "metadata": {},
   "outputs": [],
   "source": [
    "ro = dens0(t,s)"
   ]
  },
  {
   "cell_type": "code",
   "execution_count": null,
   "metadata": {},
   "outputs": [],
   "source": [
    "np.shape(ro)"
   ]
  },
  {
   "cell_type": "code",
   "execution_count": null,
   "metadata": {},
   "outputs": [],
   "source": [
    "fig = plt.figure(figsize=(10, 10), facecolor='w', edgecolor='k')\n",
    "plt.plot(ro[month,ind_depth],-mesh.z3[ind_depth])"
   ]
  },
  {
   "cell_type": "code",
   "execution_count": null,
   "metadata": {},
   "outputs": [],
   "source": [
    "hl_ind = (np.abs(ro[month,ind_depth]-ro[month,ind_depth[0]]-0.125)).argmin(axis=0)\n",
    "hl_ind"
   ]
  },
  {
   "cell_type": "code",
   "execution_count": null,
   "metadata": {},
   "outputs": [],
   "source": [
    "mesh.z3[ind_depth[hl_ind]]"
   ]
  },
  {
   "cell_type": "code",
   "execution_count": null,
   "metadata": {},
   "outputs": [],
   "source": [
    "ro[month,ind_depth]"
   ]
  },
  {
   "cell_type": "code",
   "execution_count": null,
   "metadata": {},
   "outputs": [],
   "source": []
  }
 ],
 "metadata": {
  "kernelspec": {
   "display_name": "Python 2",
   "language": "python",
   "name": "python2"
  },
  "language_info": {
   "codemirror_mode": {
    "name": "ipython",
    "version": 2
   },
   "file_extension": ".py",
   "mimetype": "text/x-python",
   "name": "python",
   "nbconvert_exporter": "python",
   "pygments_lexer": "ipython2",
   "version": "2.7.16"
  }
 },
 "nbformat": 4,
 "nbformat_minor": 2
}
