{
 "cells": [
  {
   "cell_type": "code",
   "execution_count": 119,
   "metadata": {},
   "outputs": [],
   "source": [
    "import sys \n",
    "#sys.path.append(\"codes/modules\") # add custom Vibe 's modules\n",
    "#sys.path.append(\"../..\") # add standard 's modules\n",
    "# sys.path.append('/home/hbkoziel/pyfesom/codes/modules')\n",
    "sys.path.append('../..') # add standard 's modules\n",
    "sys.path.append('../modules')\n",
    "\n",
    "import pyfesom as pf\n",
    "import matplotlib.pyplot as plt\n",
    "from matplotlib import cm\n",
    "from mpl_toolkits.basemap import Basemap\n",
    "import numpy as np\n",
    "from netCDF4 import Dataset\n",
    "import os\n",
    "import time"
   ]
  },
  {
   "cell_type": "code",
   "execution_count": 120,
   "metadata": {},
   "outputs": [
    {
     "name": "stdout",
     "output_type": "stream",
     "text": [
      "/scratch/usr/hbkoziel/mesh/meshArc4.5/pickle_mesh\n",
      "2\n",
      "The usepickle == True)\n",
      "The pickle file for python 2 exists.\n",
      "The mesh will be loaded from /scratch/usr/hbkoziel/mesh/meshArc4.5/pickle_mesh\n"
     ]
    }
   ],
   "source": [
    "# Loading mesh for run\n",
    "\n",
    "mesh_id    = 'meshArc4.5'\n",
    "meshpath   = '/scratch/usr/hbkoziel/mesh/'+mesh_id+'/'            # Defining path where mesh is stored\n",
    "mesh = pf.load_mesh(meshpath, usepickle=True, get3d=True)                                    # Loading mesh, stores it in mesh.****  \n",
    "#mesh = pf.fesom_mesh(meshpath, get3d=True)\n",
    "#mesh.zlevs = -mesh.zlevs                                            # Depth is made negative"
   ]
  },
  {
   "cell_type": "code",
   "execution_count": 121,
   "metadata": {},
   "outputs": [],
   "source": [
    "runid\t= 'Arc12'\n",
    "save_netcdf       = True                                            # Saves the interpolated field in netcdf file\n",
    "delete_old_netcdf = True                                            # If a netcdf file with the same name exists it will be deleted\n",
    "input_directory  = '/scratch/usr/hbkvsk12/hlrn3_work2/results/'+runid+'/' # Where the netcdf is saved\n",
    "output_directory  = '/scratch/usr/hbkoziel/'+runid+'/DIN_budgetv2/'\n",
    "plot_netcdf       = False   "
   ]
  },
  {
   "cell_type": "code",
   "execution_count": 122,
   "metadata": {},
   "outputs": [
    {
     "data": {
      "text/plain": [
       "array([  -0.,   10.,   20.,   30.,   40.,   50.,   60.,   70.,   80.,\n",
       "         90.,  100.,  115.,  135.,  160.,  190.,  230.,  280.,  340.,\n",
       "        410.,  490.,  580.,  680.,  790.,  910., 1040., 1180., 1330.,\n",
       "       1500., 1700., 1920., 2150., 2400., 2650., 2900., 3150., 3400.,\n",
       "       3650., 3900., 4150., 4400., 4650., 4900., 5150., 5400., 5650.,\n",
       "       5900.])"
      ]
     },
     "execution_count": 122,
     "metadata": {},
     "output_type": "execute_result"
    }
   ],
   "source": [
    "year = 2014\n",
    "doy = int(250)\n",
    "dayind = int(doy*.5)\n",
    "depths = mesh.zlevs\n",
    "ind_max_depth = 18\n",
    "depths"
   ]
  },
  {
   "cell_type": "markdown",
   "metadata": {},
   "source": [
    "# FFT - spectral analysis of  advective nutrient fluxes - doy = 250 (i=125) of 2014"
   ]
  },
  {
   "cell_type": "markdown",
   "metadata": {},
   "source": [
    "## 1- derive vertical eddy component"
   ]
  },
  {
   "cell_type": "code",
   "execution_count": 123,
   "metadata": {},
   "outputs": [],
   "source": [
    "ncfile       = input_directory+runid+'.2014.oce.mean.nc'\n",
    "f           = Dataset(ncfile, 'r')\n",
    "\n",
    "w_mean    = f.variables['w'][dayind-22:dayind+22,:].mean(axis=0)\n",
    "din_mean    = f.variables['tr01'][dayind-22:dayind+22,:].mean(axis=0)\n",
    "\n",
    "w = f.variables['w'][dayind,:] - w_mean\n",
    "din = f.variables['tr01'][dayind,:] - din_mean\n",
    "\n",
    "wdn = np.zeros((len(mesh.x2),ind_max_depth-2)) * np.nan\n",
    "for i in range(0,len(mesh.x2)):\n",
    "    d_ind   = mesh.n32[i,0:ind_max_depth-1]-1\n",
    "    wd = (w[d_ind[1:]]*np.diff(din[d_ind])/np.diff(depths[:ind_max_depth-1]))\n",
    "    wd[d_ind[:-1] < -99] = np.nan\n",
    "    wdn[i,:] = 24 * 3600 * wd\n",
    "    \n",
    "wdn_100m = wdn[:,10]"
   ]
  },
  {
   "cell_type": "markdown",
   "metadata": {},
   "source": [
    "# 2- Interpolate on regular grid"
   ]
  },
  {
   "cell_type": "code",
   "execution_count": 124,
   "metadata": {},
   "outputs": [],
   "source": [
    "lon = np.linspace(-180, 180, 360*60)\n",
    "lat = np.linspace(-90, 90, 20*60)\n",
    "lons, lats = np.meshgrid(lon,lat)"
   ]
  },
  {
   "cell_type": "code",
   "execution_count": 125,
   "metadata": {},
   "outputs": [
    {
     "name": "stdout",
     "output_type": "stream",
     "text": [
      "For depth 0 model level -0.0 will be used\n"
     ]
    }
   ],
   "source": [
    "level_data, elem_no_nan = pf.get_data(wdn_100m,mesh,0)\n",
    "nearest = pf.fesom2regular(level_data, mesh, lons, lats, how='nn')"
   ]
  },
  {
   "cell_type": "markdown",
   "metadata": {},
   "source": [
    "# 3- Derive Fourrier Transform"
   ]
  },
  {
   "cell_type": "code",
   "execution_count": 126,
   "metadata": {},
   "outputs": [
    {
     "data": {
      "text/plain": [
       "(1200, 21600)"
      ]
     },
     "execution_count": 126,
     "metadata": {},
     "output_type": "execute_result"
    }
   ],
   "source": [
    "np.shape(nearest)"
   ]
  },
  {
   "cell_type": "code",
   "execution_count": 127,
   "metadata": {},
   "outputs": [
    {
     "data": {
      "text/plain": [
       "(1200, 21600)"
      ]
     },
     "execution_count": 127,
     "metadata": {},
     "output_type": "execute_result"
    }
   ],
   "source": [
    "field = nearest\n",
    "np.shape(field)"
   ]
  },
  {
   "cell_type": "code",
   "execution_count": 130,
   "metadata": {},
   "outputs": [],
   "source": [
    "# Total meridional distance from 70# Stepping through longitudes\n",
    "L = 2222"
   ]
  },
  {
   "cell_type": "code",
   "execution_count": 131,
   "metadata": {},
   "outputs": [],
   "source": [
    "field = nearest\n",
    "spw_cnt = 0.\n",
    "field_spw_mean = np.zeros(len(lat)/2+1)\n",
    "# Stepping through longitudes\n",
    "for lo in range(0,len(lon)):\n",
    "    spw_cnt = spw_cnt + 1.\n",
    "    field_f = np.array(field[:,lo]) # Select section along longitudes\n",
    "    N = len(field_f) # Number of measurements\n",
    "    x = np.arange(N)*L/N        # N values for x-axis, from 0 to L-deltax [m]\n",
    "    dx = x[1]-x[0]\n",
    "    \n",
    "    #======================================================================================\n",
    "    # Remove the mean\n",
    "    field_f2=field_f-np.nansum(field_f)/N\n",
    "    \n",
    "    #======================================================================================\n",
    "    # Apply the window\n",
    "    field_f3  = field_f2*np.hanning(N)\n",
    "    field_f3 = np.nan_to_num(field_f3)\n",
    "    \n",
    "    #======================================================================================\n",
    "    # Creating fft with window\n",
    "    field_ff3    = np.fft.fft(field_f3)\n",
    "    fft_fre = np.fft.fftfreq(n=(N),d=dx)\n",
    "    \n",
    "    #======================================================================================\n",
    "    # Windowed spectrum\n",
    "    c1=np.sum(np.hanning(N)**2)/N\n",
    "    field_c2=np.nansum(field_f3*field_f3)/np.nansum(field_f2*field_f2)\n",
    "    \n",
    "    #======================================================================================\n",
    "    # Windowed spectrum\n",
    "    field_sp_aux=field_ff3*np.conj(field_ff3)\n",
    "    \n",
    "    #======================================================================================\n",
    "    # Reflection to have sp(|k|), we will use k for |k| in comments.\n",
    "    field_spw=field_sp_aux[0:N/2+1]                          # Only first half of values\n",
    "    \n",
    "    i_end = N-1\n",
    "    for i in range(1,int(N/2)+1):\n",
    "        field_spw[i] = field_spw[i] + field_sp_aux[i_end]\n",
    "        i_end = i_end - 1\n",
    "        \n",
    "    field_spw=field_spw/(N*N)\n",
    "    field_spw=field_spw/c1\n",
    "                         \n",
    "    field_spw_mean = field_spw_mean + field_spw\n",
    "\n",
    "field_spw_mean = field_spw_mean/spw_cnt"
   ]
  },
  {
   "cell_type": "code",
   "execution_count": 132,
   "metadata": {},
   "outputs": [
    {
     "data": {
      "text/plain": [
       "[<matplotlib.lines.Line2D at 0x2b6038fe7590>]"
      ]
     },
     "execution_count": 132,
     "metadata": {},
     "output_type": "execute_result"
    },
    {
     "data": {
      "image/png": "[encoded data removed]",
      "text/plain": [
       "<Figure size 576x396 with 1 Axes>"
      ]
     },
     "metadata": {},
     "output_type": "display_data"
    }
   ],
   "source": [
    "plt.plot(np.real(field_spw_mean))"
   ]
  },
  {
   "cell_type": "code",
   "execution_count": null,
   "metadata": {},
   "outputs": [],
   "source": []
  },
  {
   "cell_type": "code",
   "execution_count": 133,
   "metadata": {},
   "outputs": [],
   "source": [
    "#xfre = abs(fft_fre[0:N/2.+1])\n",
    "xfre = abs(fft_fre[0:601])"
   ]
  },
  {
   "cell_type": "code",
   "execution_count": 134,
   "metadata": {},
   "outputs": [],
   "source": [
    "logfield = np.log10(np.real(field_spw_mean[1:-1]))"
   ]
  },
  {
   "cell_type": "code",
   "execution_count": 135,
   "metadata": {},
   "outputs": [],
   "source": [
    "logfre = np.log10(xfre[1:-1])"
   ]
  },
  {
   "cell_type": "code",
   "execution_count": 195,
   "metadata": {},
   "outputs": [
    {
     "name": "stdout",
     "output_type": "stream",
     "text": [
      "13 100 -1.2997205671618612\n"
     ]
    }
   ],
   "source": [
    "starti = 13#3\n",
    "endi    = 100#25 \n",
    "m_field,c_field = np.polyfit(logfre[starti:endi], logfield[starti:endi], 1)\n",
    "\n",
    "print starti, endi, m_field\n",
    "field_ys = 10.**c_field * xfre[starti:endi]**m_field"
   ]
  },
  {
   "cell_type": "code",
   "execution_count": 196,
   "metadata": {},
   "outputs": [
    {
     "data": {
      "text/plain": [
       "[<matplotlib.lines.Line2D at 0x2b5ec630be90>]"
      ]
     },
     "execution_count": 196,
     "metadata": {},
     "output_type": "execute_result"
    },
    {
     "data": {
      "image/png": "[encoded data removed]",
      "text/plain": [
       "<Figure size 576x288 with 1 Axes>"
      ]
     },
     "metadata": {},
     "output_type": "display_data"
    }
   ],
   "source": [
    "plt.figure(4,figsize=(8,4))\n",
    "plt.style.use('seaborn')\n",
    "\n",
    "plt.loglog(abs(fft_fre[0:601]),field_spw_mean,label='vertical eddy DIN flux')"
   ]
  },
  {
   "cell_type": "code",
   "execution_count": 208,
   "metadata": {},
   "outputs": [
    {
     "data": {
      "text/plain": [
       "(1e-07, 0.001)"
      ]
     },
     "execution_count": 208,
     "metadata": {},
     "output_type": "execute_result"
    },
    {
     "data": {
      "image/png": "[encoded data removed]",
      "text/plain": [
       "<Figure size 576x288 with 1 Axes>"
      ]
     },
     "metadata": {},
     "output_type": "display_data"
    }
   ],
   "source": [
    "plt.figure(4,figsize=(8,4))\n",
    "plt.style.use('seaborn')\n",
    "\n",
    "plt.loglog(abs(fft_fre[0:601])*1000,field_spw_mean,'k')\n",
    "#plt.loglog(xfre[4:33],sst_ys[4:33],'r')\n",
    "plt.loglog(xfre[starti:endi+10]*1000,field_ys[starti:endi+10],'--k')\n",
    "plt.text(100,10**(-5),r'~k$^{-1}$', fontsize=20)\n",
    "plt.ylabel(r'Eddy vertical DIN flux [mmol DIN $^{2}$ m$^{-4}$]')\n",
    "plt.xlabel(r'wavenumber k [km$^{-1}$]')\n",
    "plt.xlim(1,500)\n",
    "plt.ylim(10**-7,10**-3)"
   ]
  },
  {
   "cell_type": "code",
   "execution_count": 212,
   "metadata": {},
   "outputs": [],
   "source": [
    "np.savez('FFT_EDYV',xfre=xfre,field_ys=field_ys,fft_fre=fft_fre,field_spw_mean=field_spw_mean,\\\n",
    "         starti=starti,endi=endi,m_field=m_field,c_field=c_field,logfield=logfield,logfre=logfre)"
   ]
  },
  {
   "cell_type": "code",
   "execution_count": 211,
   "metadata": {},
   "outputs": [
    {
     "data": {
      "text/plain": [
       "(1e-07, 0.001)"
      ]
     },
     "execution_count": 211,
     "metadata": {},
     "output_type": "execute_result"
    },
    {
     "data": {
      "image/png": "[encoded data removed]",
      "text/plain": [
       "<Figure size 576x288 with 1 Axes>"
      ]
     },
     "metadata": {},
     "output_type": "display_data"
    }
   ],
   "source": [
    "plt.figure(4,figsize=(8,4))\n",
    "plt.style.use('seaborn')\n",
    "\n",
    "plt.loglog(abs(fft_fre[0:601])*1000,field_spw_mean,'b')\n",
    "#plt.loglog(xfre[4:33],sst_ys[4:33],'r')\n",
    "plt.loglog(xfre[starti:endi+10]*1000,field_ys[starti:endi+10],'--b')\n",
    "plt.text(100,10**(-5),r'~k$^{-1}$', fontsize=20, color='b')\n",
    "plt.ylabel(r'Eddy vertical DIN flux [mmol DIN $^{2}$ m$^{-4}$]')\n",
    "plt.xlabel(r'wavenumber k [km$^{-1}$]')\n",
    "plt.xlim(1,500)\n",
    "plt.ylim(10**-7,10**-3)"
   ]
  },
  {
   "cell_type": "code",
   "execution_count": null,
   "metadata": {},
   "outputs": [],
   "source": []
  }
 ],
 "metadata": {
  "kernelspec": {
   "display_name": "Python 2",
   "language": "python",
   "name": "python2"
  },
  "language_info": {
   "codemirror_mode": {
    "name": "ipython",
    "version": 2
   },
   "file_extension": ".py",
   "mimetype": "text/x-python",
   "name": "python",
   "nbconvert_exporter": "python",
   "pygments_lexer": "ipython2",
   "version": "2.7.16"
  }
 },
 "nbformat": 4,
 "nbformat_minor": 2
}
