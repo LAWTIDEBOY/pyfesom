{
 "cells": [
  {
   "cell_type": "code",
   "execution_count": 5,
   "metadata": {},
   "outputs": [],
   "source": [
    "import os\n",
    "from os.path import expanduser\n",
    "import socket\n",
    "import sys\n",
    "import glob\n",
    "\n",
    "# BELOW IS SYSTEM/PATH CONFIGURATION #\n",
    "my_home = expanduser(\"~\")\n",
    "running_system = socket.gethostname()\n",
    "# Configure machine's names here #\n",
    "systemHLRN = 'blogin1'\n",
    "systemLOCAL = 'Laurents-MacBook-Pro.local'\n",
    "my_home = expanduser(\"~\")\n",
    "# Define local pass #\n",
    "wd_path = '/home/hbkoziel/pyfesom/'\n",
    "save_path = wd_path+'/figures/Arc12/FINAL/'\n",
    "\n",
    "#sys.path.append(\"codes/modules\") # add custom Vibe 's modules\n",
    "#sys.path.append('../..') # add standard 's modules\n",
    "# sys.path.append(wd_path+'/pyfesom/cmocean')\n",
    "# sys.path.append(wd_path+'/pyfesom/python-gsw')\n",
    "#########################################"
   ]
  },
  {
   "cell_type": "code",
   "execution_count": 6,
   "metadata": {},
   "outputs": [],
   "source": [
    "import sys\n",
    "sys.path.append(wd_path)\n",
    "import pyfesom as pf\n",
    "import matplotlib.pyplot as plt\n",
    "from matplotlib import cm\n",
    "from mpl_toolkits.basemap import Basemap\n",
    "import numpy as np\n",
    "from netCDF4 import Dataset\n",
    "import os\n",
    "import time\n",
    "\n",
    "import xarray as xr\n",
    "import pandas as pd\n",
    "sys.path.append(wd_path+'/pyfesom/cmocean/')\n",
    "import cmocean as cmap"
   ]
  },
  {
   "cell_type": "code",
   "execution_count": 7,
   "metadata": {},
   "outputs": [
    {
     "name": "stdout",
     "output_type": "stream",
     "text": [
      "[1980 1981 1982 1983 1984 1985 1986 1987 1988 1989 1990 1991 1992 1993\n",
      " 1994 1995 1996 1997 1998 1999 2000 2001 2002 2003 2004 2005 2006 2007\n",
      " 2008 2009 2010 2011 2012 2013 2014 2015]\n",
      "[ 0  1  2  3  4  5  6  7  8  9 10 11]\n"
     ]
    }
   ],
   "source": [
    "# PLOT CONFIGURATION #\n",
    "\n",
    "# load colormaps #\n",
    "cmap = cmap.cm.balance\n",
    "# figure export \n",
    "export_plot = True\n",
    "# figure export definition\n",
    "dpicnt=150\n",
    "# choose simulation\n",
    "runid='Arc12'\n",
    "# choose date\n",
    "first_year = 1980\n",
    "last_year  = 2015\n",
    "years      = np.arange(first_year,last_year+1,1)\n",
    "months =np.linspace(0,11,12).astype(int)\n",
    "print years\n",
    "print months\n",
    "# choose depth\n",
    "get3d = True\n",
    "# load the given biological tracer #\n",
    "#var_id= 'tr01' #DIN\n",
    "var_id= 'tr18' #DSI\n",
    "########################\n",
    "\n",
    "# DEFINITION OF PATHS\n",
    "resultpath = '/scratch/usr/hbkvsk12/hlrn3_work2/results/'+runid+'/Oldfiles/'\n",
    "savepath    = wd_path+'/figures/'+runid+'/'\n",
    "meshpath    = '/home/hbkoziel/pyfesom/data/mesh/meshArc4.5'\n",
    "outputpath = '/scratch/usr/hbkoziel/Arc12/pybins/'"
   ]
  },
  {
   "cell_type": "code",
   "execution_count": 8,
   "metadata": {},
   "outputs": [
    {
     "name": "stdout",
     "output_type": "stream",
     "text": [
      "/home/hbkoziel/pyfesom/data/mesh/meshArc4.5/pickle_mesh\n",
      "2\n",
      "The usepickle == True)\n",
      "The pickle file for python 2 exists.\n",
      "The mesh will be loaded from /home/hbkoziel/pyfesom/data/mesh/meshArc4.5/pickle_mesh\n"
     ]
    }
   ],
   "source": [
    "mesh = pf.load_mesh(meshpath, usepickle=True,get3d=get3d)"
   ]
  },
  {
   "cell_type": "code",
   "execution_count": 9,
   "metadata": {},
   "outputs": [
    {
     "name": "stdout",
     "output_type": "stream",
     "text": [
      "1980\n",
      "1981\n",
      "1982\n",
      "1983\n",
      "1984\n",
      "1985\n",
      "1986\n",
      "1987\n",
      "1988\n",
      "1989\n",
      "1990\n",
      "1991\n",
      "1992\n",
      "1993\n",
      "1994\n",
      "1995\n",
      "1996\n",
      "1997\n",
      "1998\n",
      "1999\n",
      "2000\n",
      "2001\n",
      "2002\n",
      "2003\n",
      "2004\n",
      "2005\n",
      "2006\n",
      "2007\n",
      "2008\n",
      "2009\n",
      "2010\n",
      "2011\n",
      "2012\n",
      "2013\n",
      "2014\n",
      "2015\n"
     ]
    }
   ],
   "source": [
    "DATA = np.empty((21, 80))\n",
    "#DATA[:]=np.nan\n",
    "#DATA = []\n",
    "lon_start = 20\n",
    "lat_start = 69.5\n",
    "lon_end   = 20\n",
    "lat_end   = 75\n",
    "npoints = 80\n",
    "lonlat = pf.transect_get_lonlat(lon_start, lat_start, lon_end, lat_end, npoints=npoints)\n",
    "dist   = pf.transect_get_distance(lonlat) # get's distances between starting point and present point\n",
    "nodes  = pf.transect_get_nodes(lonlat, mesh)\n",
    "dist   = pf.transect_get_distance(lonlat)\n",
    "profile = pf.transect_get_profile(nodes, mesh)\n",
    "\n",
    "for year in years:\n",
    "    print year\n",
    "    ncfile = resultpath+runid+'.'+str(year)+'.oce.mean.nc'\n",
    "    f      = Dataset(ncfile, 'r')\n",
    "    for mo in months:\n",
    "\n",
    "        if mo ==0: \n",
    "            dayind = (range(0,15))\n",
    "            month='JAN'\n",
    "        if mo ==1: \n",
    "            dayind = (range(15,30))\n",
    "            month='FEV'\n",
    "        if mo ==2: \n",
    "            dayind = (range(30,45))\n",
    "            month='MAR'\n",
    "        if mo ==3: \n",
    "            dayind = (range(45,60))\n",
    "            month='APR'\n",
    "        elif mo ==4: \n",
    "            dayind = (range(60,75))\n",
    "            month='MAY'\n",
    "        elif mo ==5: \n",
    "            dayind = (range(75,90))\n",
    "            month='JUN'\n",
    "        elif mo ==6: \n",
    "            dayind = (range(90,105))\n",
    "            month='JUL'\n",
    "        elif mo ==7:\n",
    "            dayind = (range(105,120))\n",
    "            month='AUG'\n",
    "        elif mo ==8: \n",
    "            dayind = (range(120,135))\n",
    "            month='SEP'\n",
    "        elif mo ==9: \n",
    "            dayind = (range(135,150))\n",
    "            month='OCT'\n",
    "        elif mo ==10: \n",
    "            dayind = (range(150,165))\n",
    "            month='NOV'\n",
    "        elif mo ==11: \n",
    "            dayind = (range(165,167))\n",
    "            month='DEC'\n",
    "        #print month\n",
    "        #print 'loading variable from netcdf file...'\n",
    "        if year<2000:\n",
    "            data    = f.variables[var_id][mo,:]\n",
    "        else:\n",
    "            data    = f.variables[var_id][dayind,:].mean(axis=0)\n",
    "        \n",
    "        #print 'loading section data...'\n",
    "        \n",
    "        section = pf.transect_get_data(data, profile)\n",
    "        #print 'concatenation...'\n",
    "        #DATA[i,:,:] = DATA[i,:,:] + section[:,0:21]\n",
    "        #DATA = np.append(DATA, section[:,0:21], axis=2)\n",
    "        #DATA.append(section[:,0:21])\n",
    "        DATA = np.dstack([DATA,section[:,:21].T])"
   ]
  },
  {
   "cell_type": "code",
   "execution_count": 10,
   "metadata": {},
   "outputs": [],
   "source": [
    "DATA[DATA>33]=np.nan"
   ]
  },
  {
   "cell_type": "code",
   "execution_count": 11,
   "metadata": {},
   "outputs": [],
   "source": [
    "DATA2 = DATA[:,:,1:]"
   ]
  },
  {
   "cell_type": "code",
   "execution_count": 12,
   "metadata": {},
   "outputs": [],
   "source": [
    "outfile = outputpath+'BSO_DSI.npy'\n",
    "np.save(outfile, DATA2.data, allow_pickle=True, fix_imports=True)"
   ]
  },
  {
   "cell_type": "code",
   "execution_count": 13,
   "metadata": {},
   "outputs": [],
   "source": [
    "#outfile = outputpath+'BSOdepth.npy'\n",
    "#np.save(outfile, depth, allow_pickle=True, fix_imports=True)"
   ]
  },
  {
   "cell_type": "code",
   "execution_count": 14,
   "metadata": {},
   "outputs": [],
   "source": [
    "#outfile = outputpath+'BSOlonlat.npy'\n",
    "#np.save(outfile, lonlat, allow_pickle=True, fix_imports=True)"
   ]
  },
  {
   "cell_type": "code",
   "execution_count": null,
   "metadata": {},
   "outputs": [],
   "source": []
  }
 ],
 "metadata": {
  "kernelspec": {
   "display_name": "Python 2",
   "language": "python",
   "name": "python2"
  },
  "language_info": {
   "codemirror_mode": {
    "name": "ipython",
    "version": 2
   },
   "file_extension": ".py",
   "mimetype": "text/x-python",
   "name": "python",
   "nbconvert_exporter": "python",
   "pygments_lexer": "ipython2",
   "version": "2.7.16"
  }
 },
 "nbformat": 4,
 "nbformat_minor": 2
}
