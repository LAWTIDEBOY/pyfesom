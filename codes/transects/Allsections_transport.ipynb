{
 "cells": [
  {
   "cell_type": "code",
   "execution_count": 1,
   "metadata": {},
   "outputs": [],
   "source": [
    "import sys\n",
    "# the mock-0.3.1 dir contains testcase.py, testutils.py & mock.py\n",
    "wd_path = '/home/hbkoziel/pyfesom/modules'\n",
    "sys.path.append(wd_path)\n",
    "\n",
    "import matplotlib.pyplot as plt\n",
    "from mpl_toolkits.basemap import Basemap\n",
    "import numpy as np\n",
    "from load_mesh_data_new import load_mesh\n",
    "import time\n",
    "from netCDF4 import Dataset\n",
    "import sys\n",
    "from DefSecNew import DefSec\n",
    "from vec_rotate_r2g import vec_rotate_r2g\n",
    "import pickle\n",
    "\n",
    "runid='Arc12'\n",
    "meshpath='/scratch/usr/hbkoziel/mesh/meshArc4.5/'\n",
    "resultpath = '/scratch/usr/hbkvsk12/hlrn3_work2/results/'+runid+'/Oldfiles/'"
   ]
  },
  {
   "cell_type": "code",
   "execution_count": 2,
   "metadata": {},
   "outputs": [
    {
     "name": "stdout",
     "output_type": "stream",
     "text": [
      "Loading mesh\n",
      "The *usepickle = True* and the pickle file (*pickle_mesh*) exists.\n",
      " We load the mesh from it.\n",
      "18.6 seconds process time\n",
      "Starting calculations\n",
      "Searching for section\n"
     ]
    },
    {
     "ename": "IndexError",
     "evalue": "only integers, slices (`:`), ellipsis (`...`), numpy.newaxis (`None`) and integer or boolean arrays are valid indices",
     "output_type": "error",
     "traceback": [
      "\u001b[0;31m---------------------------------------------------------------------------\u001b[0m",
      "\u001b[0;31mIndexError\u001b[0m                                Traceback (most recent call last)",
      "\u001b[0;32m<ipython-input-2-d8bf915d5583>\u001b[0m in \u001b[0;36m<module>\u001b[0;34m()\u001b[0m\n\u001b[1;32m     29\u001b[0m \u001b[0;32mprint\u001b[0m \u001b[0;34m(\u001b[0m\u001b[0;34m'Starting calculations'\u001b[0m\u001b[0;34m)\u001b[0m\u001b[0;34m\u001b[0m\u001b[0m\n\u001b[1;32m     30\u001b[0m \u001b[0;34m\u001b[0m\u001b[0m\n\u001b[0;32m---> 31\u001b[0;31m \u001b[0mn1_all\u001b[0m\u001b[0;34m,\u001b[0m\u001b[0mn2_all\u001b[0m\u001b[0;34m,\u001b[0m\u001b[0mintcoef_all\u001b[0m\u001b[0;34m,\u001b[0m\u001b[0mvol_el_all\u001b[0m\u001b[0;34m,\u001b[0m\u001b[0mk_all\u001b[0m\u001b[0;34m,\u001b[0m\u001b[0mm_all\u001b[0m\u001b[0;34m,\u001b[0m\u001b[0mnvec_all\u001b[0m\u001b[0;34m=\u001b[0m\u001b[0mDefSec\u001b[0m\u001b[0;34m(\u001b[0m\u001b[0mnum_section\u001b[0m\u001b[0;34m,\u001b[0m\u001b[0mmesh\u001b[0m\u001b[0;34m,\u001b[0m\u001b[0mpos\u001b[0m\u001b[0;34m)\u001b[0m\u001b[0;34m\u001b[0m\u001b[0m\n\u001b[0m\u001b[1;32m     32\u001b[0m \u001b[0;34m\u001b[0m\u001b[0m\n\u001b[1;32m     33\u001b[0m \u001b[0;32mprint\u001b[0m \u001b[0;34m'start to read and analyze data ... '\u001b[0m\u001b[0;34m\u001b[0m\u001b[0m\n",
      "\u001b[0;32m/home/hbkoziel/pyfesom/modules/DefSecNew.pyc\u001b[0m in \u001b[0;36mDefSec\u001b[0;34m(num_section, mesh, pos)\u001b[0m\n\u001b[1;32m    124\u001b[0m       \u001b[0;32mif\u001b[0m \u001b[0msuccess\u001b[0m\u001b[0;34m==\u001b[0m\u001b[0;36m0\u001b[0m\u001b[0;34m:\u001b[0m\u001b[0;34m\u001b[0m\u001b[0m\n\u001b[1;32m    125\u001b[0m         \u001b[0;31m# tri(tricount) contains the number of the proper triangle.\u001b[0m\u001b[0;34m\u001b[0m\u001b[0;34m\u001b[0m\u001b[0m\n\u001b[0;32m--> 126\u001b[0;31m         \u001b[0melnodes\u001b[0m\u001b[0;34m=\u001b[0m\u001b[0melem0\u001b[0m\u001b[0;34m[\u001b[0m\u001b[0;34m:\u001b[0m\u001b[0;34m,\u001b[0m\u001b[0mtri\u001b[0m\u001b[0;34m[\u001b[0m\u001b[0mtricount\u001b[0m\u001b[0;34m-\u001b[0m\u001b[0;36m1\u001b[0m\u001b[0;34m]\u001b[0m\u001b[0;34m]\u001b[0m\u001b[0;34m\u001b[0m\u001b[0m\n\u001b[0m\u001b[1;32m    127\u001b[0m         \u001b[0ma2\u001b[0m\u001b[0;34m=\u001b[0m\u001b[0;34m(\u001b[0m\u001b[0;34m(\u001b[0m\u001b[0melnodes\u001b[0m\u001b[0;34m!=\u001b[0m\u001b[0mnode1\u001b[0m\u001b[0;34m)\u001b[0m \u001b[0;34m&\u001b[0m \u001b[0;34m(\u001b[0m\u001b[0melnodes\u001b[0m\u001b[0;34m!=\u001b[0m\u001b[0mnode2\u001b[0m\u001b[0;34m)\u001b[0m\u001b[0;34m)\u001b[0m\u001b[0;34m\u001b[0m\u001b[0m\n\u001b[1;32m    128\u001b[0m         \u001b[0mnode3\u001b[0m\u001b[0;34m=\u001b[0m\u001b[0melnodes\u001b[0m\u001b[0;34m[\u001b[0m\u001b[0ma2\u001b[0m\u001b[0;34m]\u001b[0m\u001b[0;34m\u001b[0m\u001b[0m\n",
      "\u001b[0;31mIndexError\u001b[0m: only integers, slices (`:`), ellipsis (`...`), numpy.newaxis (`None`) and integer or boolean arrays are valid indices"
     ]
    }
   ],
   "source": [
    "din_id, dsi_id, u_id, v_id = 'tr01', 'tr18', 'u', 'v'\n",
    "\n",
    "first_year = 2000\t\n",
    "last_year  = 2000\n",
    "years      = np.arange(first_year,last_year+1,1)\n",
    "\n",
    "alpha, beta, gamma=[50, 15, -90]\n",
    "\n",
    "almost_black = [(38.,38.,38.)]\n",
    "r,g,b = almost_black[0]\n",
    "almost_black[0]=(r / 255., g / 255., b / 255.)\n",
    "ab = almost_black[0]\n",
    "\n",
    "xstart = np.array([-169.8, -62.0, -20.5, 20.0])\n",
    "ystart = np.array([  66.1,  66.5,  79.0, 78.5])\n",
    "xend   = np.array([-167.8, -50.0,  18.0, 20.1])\n",
    "yend   = np.array([  65.7,  66.5,  79.0, 73.6])\n",
    "pos    = np.array([xstart,ystart,xend,yend])\n",
    "\n",
    "reso = 10\n",
    "num_rec = 175\n",
    "num_section=4\n",
    "\n",
    "print ('Loading mesh')\n",
    "t0 = time.clock()\n",
    "mesh = load_mesh(meshpath, abg = [50, 15, -90], get3d = True, usepickle = True)\n",
    "#mesh = load_mesh(meshpath, abg = [50, 15, -90], get3d = True, usepickle = False)\n",
    "print time.clock() - t0, \"seconds process time\"\n",
    "print ('Starting calculations')\n",
    "\n",
    "n1_all,n2_all,intcoef_all,vol_el_all,k_all,m_all,nvec_all=DefSec(num_section,mesh,pos)      \n",
    "\n",
    "print 'start to read and analyze data ... '  \n",
    "transp    = np.zeros(shape=(len(years)*num_rec,3,num_section))\n",
    "transpdin = np.zeros(shape=(len(years)*num_rec,3,num_section))\n",
    "transpdsi = np.zeros(shape=(len(years)*num_rec,3,num_section))  \n",
    "\n",
    "depth = -mesh.zlevs"
   ]
  },
  {
   "cell_type": "code",
   "execution_count": null,
   "metadata": {},
   "outputs": [],
   "source": []
  }
 ],
 "metadata": {
  "kernelspec": {
   "display_name": "Python 2",
   "language": "python",
   "name": "python2"
  },
  "language_info": {
   "codemirror_mode": {
    "name": "ipython",
    "version": 2
   },
   "file_extension": ".py",
   "mimetype": "text/x-python",
   "name": "python",
   "nbconvert_exporter": "python",
   "pygments_lexer": "ipython2",
   "version": "2.7.16"
  }
 },
 "nbformat": 4,
 "nbformat_minor": 2
}
