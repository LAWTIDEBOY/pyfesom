{
 "cells": [
  {
   "cell_type": "code",
   "execution_count": 1,
   "metadata": {},
   "outputs": [],
   "source": [
    "import os\n",
    "from os.path import expanduser\n",
    "import socket\n",
    "import sys\n",
    "import glob\n",
    "\n",
    "# BELOW IS SYSTEM/PATH CONFIGURATION #\n",
    "my_home = expanduser(\"~\")\n",
    "running_system = socket.gethostname()\n",
    "# Configure machine's names here #\n",
    "systemHLRN = 'blogin1'\n",
    "systemLOCAL = 'Laurents-MacBook-Pro.local'\n",
    "my_home = expanduser(\"~\")\n",
    "# Define local pass #\n",
    "wd_path = '/home/hbkoziel/pyfesom/'\n",
    "\n",
    "#sys.path.append(\"codes/modules\") # add custom Vibe 's modules\n",
    "sys.path.append('../..') # add standard 's modules\n",
    "sys.path.append('../modules')\n",
    "#########################################"
   ]
  },
  {
   "cell_type": "code",
   "execution_count": 2,
   "metadata": {},
   "outputs": [
    {
     "name": "stdout",
     "output_type": "stream",
     "text": [
      "No joblib\n",
      "no cmocean\n"
     ]
    }
   ],
   "source": [
    "import pyfesom as pf\n",
    "import matplotlib.pyplot as plt\n",
    "from matplotlib import cm\n",
    "from mpl_toolkits.basemap import Basemap\n",
    "import numpy as np\n",
    "from netCDF4 import Dataset\n",
    "import os\n",
    "import time\n",
    "\n",
    "import xarray as xr\n",
    "import pandas as pd\n",
    "sys.path.append('/home/hbkoziel/pyfesom/pyfesom/cmocean/')\n",
    "import cmocean as cmap"
   ]
  },
  {
   "cell_type": "code",
   "execution_count": 3,
   "metadata": {},
   "outputs": [
    {
     "name": "stdout",
     "output_type": "stream",
     "text": [
      "/home/hbkoziel/pyfesom/data/mesh/meshArc4.5/pickle_mesh\n",
      "2\n",
      "The usepickle == True\n",
      "The pickle file for python 2 DO NOT exists\n",
      "The mesh will be saved to /home/hbkoziel/pyfesom/data/mesh/meshArc4.5/pickle_mesh\n"
     ]
    },
    {
     "ename": "IOError",
     "evalue": "The path \"/home/hbkoziel/pyfesom/data/mesh/meshArc4.5\" does not exists",
     "output_type": "error",
     "traceback": [
      "\u001b[0;31m---------------------------------------------------------------------------\u001b[0m",
      "\u001b[0;31mIOError\u001b[0m                                   Traceback (most recent call last)",
      "\u001b[0;32m<ipython-input-3-b50fa59ea867>\u001b[0m in \u001b[0;36m<module>\u001b[0;34m()\u001b[0m\n\u001b[1;32m      3\u001b[0m \u001b[0mmesh_id\u001b[0m    \u001b[0;34m=\u001b[0m \u001b[0;34m'meshArc4.5'\u001b[0m\u001b[0;34m\u001b[0m\u001b[0m\n\u001b[1;32m      4\u001b[0m \u001b[0mmeshpath\u001b[0m   \u001b[0;34m=\u001b[0m \u001b[0;34m'/home/hbkoziel/pyfesom/data/mesh/'\u001b[0m\u001b[0;34m+\u001b[0m\u001b[0mmesh_id\u001b[0m\u001b[0;34m+\u001b[0m\u001b[0;34m'/'\u001b[0m            \u001b[0;31m# Defining path where mesh is stored\u001b[0m\u001b[0;34m\u001b[0m\u001b[0m\n\u001b[0;32m----> 5\u001b[0;31m \u001b[0mmesh\u001b[0m \u001b[0;34m=\u001b[0m \u001b[0mpf\u001b[0m\u001b[0;34m.\u001b[0m\u001b[0mload_mesh\u001b[0m\u001b[0;34m(\u001b[0m\u001b[0mmeshpath\u001b[0m\u001b[0;34m,\u001b[0m \u001b[0musepickle\u001b[0m\u001b[0;34m=\u001b[0m\u001b[0mTrue\u001b[0m\u001b[0;34m,\u001b[0m \u001b[0mget3d\u001b[0m\u001b[0;34m=\u001b[0m\u001b[0mTrue\u001b[0m\u001b[0;34m)\u001b[0m                                    \u001b[0;31m# Loading mesh, stores it in mesh.****\u001b[0m\u001b[0;34m\u001b[0m\u001b[0m\n\u001b[0m\u001b[1;32m      6\u001b[0m \u001b[0;31m#mesh = pf.fesom_mesh(meshpath, get3d=True)\u001b[0m\u001b[0;34m\u001b[0m\u001b[0;34m\u001b[0m\u001b[0m\n\u001b[1;32m      7\u001b[0m \u001b[0;31m#mesh.zlevs = -mesh.zlevs                                            # Depth is made negative\u001b[0m\u001b[0;34m\u001b[0m\u001b[0;34m\u001b[0m\u001b[0m\n",
      "\u001b[0;32m/home/hbkoziel/pyfesom/pyfesom/load_mesh_data.pyc\u001b[0m in \u001b[0;36mload_mesh\u001b[0;34m(path, abg, get3d, usepickle, usejoblib)\u001b[0m\n\u001b[1;32m     88\u001b[0m         \u001b[0;32mprint\u001b[0m\u001b[0;34m(\u001b[0m\u001b[0;34m'The mesh will be saved to {}'\u001b[0m\u001b[0;34m.\u001b[0m\u001b[0mformat\u001b[0m\u001b[0;34m(\u001b[0m\u001b[0mpickle_file\u001b[0m\u001b[0;34m)\u001b[0m\u001b[0;34m)\u001b[0m\u001b[0;34m\u001b[0m\u001b[0m\n\u001b[1;32m     89\u001b[0m \u001b[0;34m\u001b[0m\u001b[0m\n\u001b[0;32m---> 90\u001b[0;31m         \u001b[0mmesh\u001b[0m \u001b[0;34m=\u001b[0m \u001b[0mfesom_mesh\u001b[0m\u001b[0;34m(\u001b[0m\u001b[0mpath\u001b[0m\u001b[0;34m=\u001b[0m\u001b[0mpath\u001b[0m\u001b[0;34m,\u001b[0m \u001b[0mabg\u001b[0m\u001b[0;34m=\u001b[0m\u001b[0mabg\u001b[0m\u001b[0;34m,\u001b[0m \u001b[0mget3d\u001b[0m\u001b[0;34m=\u001b[0m\u001b[0mget3d\u001b[0m\u001b[0;34m)\u001b[0m\u001b[0;34m\u001b[0m\u001b[0m\n\u001b[0m\u001b[1;32m     91\u001b[0m         \u001b[0mlogging\u001b[0m\u001b[0;34m.\u001b[0m\u001b[0minfo\u001b[0m\u001b[0;34m(\u001b[0m\u001b[0;34m'Use pickle to save the mesh information'\u001b[0m\u001b[0;34m)\u001b[0m\u001b[0;34m\u001b[0m\u001b[0m\n\u001b[1;32m     92\u001b[0m         \u001b[0;32mprint\u001b[0m\u001b[0;34m(\u001b[0m\u001b[0;34m'Save mesh to binary format'\u001b[0m\u001b[0;34m)\u001b[0m\u001b[0;34m\u001b[0m\u001b[0m\n",
      "\u001b[0;32m/home/hbkoziel/pyfesom/pyfesom/load_mesh_data.pyc\u001b[0m in \u001b[0;36m__init__\u001b[0;34m(self, path, abg, get3d)\u001b[0m\n\u001b[1;32m    185\u001b[0m \u001b[0;34m\u001b[0m\u001b[0m\n\u001b[1;32m    186\u001b[0m         \u001b[0;32mif\u001b[0m \u001b[0;32mnot\u001b[0m \u001b[0mos\u001b[0m\u001b[0;34m.\u001b[0m\u001b[0mpath\u001b[0m\u001b[0;34m.\u001b[0m\u001b[0mexists\u001b[0m\u001b[0;34m(\u001b[0m\u001b[0mself\u001b[0m\u001b[0;34m.\u001b[0m\u001b[0mpath\u001b[0m\u001b[0;34m)\u001b[0m\u001b[0;34m:\u001b[0m\u001b[0;34m\u001b[0m\u001b[0m\n\u001b[0;32m--> 187\u001b[0;31m             \u001b[0;32mraise\u001b[0m \u001b[0mIOError\u001b[0m\u001b[0;34m(\u001b[0m\u001b[0;34m\"The path \\\"{}\\\" does not exists\"\u001b[0m\u001b[0;34m.\u001b[0m\u001b[0mformat\u001b[0m\u001b[0;34m(\u001b[0m\u001b[0mself\u001b[0m\u001b[0;34m.\u001b[0m\u001b[0mpath\u001b[0m\u001b[0;34m)\u001b[0m\u001b[0;34m)\u001b[0m\u001b[0;34m\u001b[0m\u001b[0m\n\u001b[0m\u001b[1;32m    188\u001b[0m \u001b[0;34m\u001b[0m\u001b[0m\n\u001b[1;32m    189\u001b[0m \u001b[0;34m\u001b[0m\u001b[0m\n",
      "\u001b[0;31mIOError\u001b[0m: The path \"/home/hbkoziel/pyfesom/data/mesh/meshArc4.5\" does not exists"
     ]
    }
   ],
   "source": [
    "# Loading mesh for run\n",
    "\n",
    "mesh_id    = 'meshArc4.5'\n",
    "meshpath   = '/home/hbkoziel/pyfesom/data/mesh/'+mesh_id+'/'            # Defining path where mesh is stored\n",
    "mesh = pf.load_mesh(meshpath, usepickle=True, get3d=True)                                    # Loading mesh, stores it in mesh.****  \n",
    "#mesh = pf.fesom_mesh(meshpath, get3d=True)\n",
    "#mesh.zlevs = -mesh.zlevs                                            # Depth is made negative\n",
    "\n",
    "tracername = 'ANPP'\n",
    "first_year = 1985\n",
    "last_year  = 2015\n",
    "years      = np.arange(first_year,last_year+1,1)\n",
    "runid\t= 'Arc12'\n",
    "\n",
    "data_path  = '/scratch/usr/hbkoziel/'+runid+'/netcdf/'"
   ]
  },
  {
   "cell_type": "code",
   "execution_count": null,
   "metadata": {},
   "outputs": [],
   "source": [
    "time = pd.date_range('1985-01-01', freq=\"Y\", periods= len(np.arange(1985,2016,1)))\n",
    "data = xr.open_mfdataset(data_path+tracername+'*.nc', concat_dim='time')\n",
    "data['time'] = time"
   ]
  },
  {
   "cell_type": "code",
   "execution_count": null,
   "metadata": {},
   "outputs": [],
   "source": [
    "data"
   ]
  },
  {
   "cell_type": "code",
   "execution_count": null,
   "metadata": {},
   "outputs": [],
   "source": [
    "ANPP_sel = data.ANPP.sel(time=slice(str(first_year)+'-01-01', str(last_year)+'-12-31'))\n",
    "ANPP_sel = ANPP_sel.compute()\n",
    "ANPP_mean = ANPP_sel.mean(dim='time')\n",
    "ANPP_mean = ANPP_mean.compute()\n",
    "ANPP_min = ANPP_sel.min(dim='time')\n",
    "ANPP_min = ANPP_min.compute()\n",
    "ANPP_std = ANPP_sel.std(dim='time')\n",
    "ANPP_std = ANPP_mean.compute()"
   ]
  },
  {
   "cell_type": "code",
   "execution_count": null,
   "metadata": {},
   "outputs": [],
   "source": [
    "pf = np.polyfit(years, ANPP_sel, 1)"
   ]
  },
  {
   "cell_type": "code",
   "execution_count": null,
   "metadata": {},
   "outputs": [],
   "source": [
    "ANPP_trend = pf[0]"
   ]
  },
  {
   "cell_type": "code",
   "execution_count": null,
   "metadata": {},
   "outputs": [],
   "source": [
    "import pyfesom as pf\n",
    "data, elem_no_nan = pf.get_data(ANPP_trend,mesh,0)\n",
    "\n",
    "data2=np.copy(data)\n",
    "data2 = data2 *12.01 / 1000\n",
    "print 'Number of nans in tracer: ',np.count_nonzero(np.isnan(data2))\n",
    "print 'Number of inf in tracer: ',np.count_nonzero(np.isinf(data2))\n",
    "print 'Mean of surface: ',np.mean(data2)\n",
    "print 'Max and min: ',np.max(data2),np.min(data2)"
   ]
  },
  {
   "cell_type": "code",
   "execution_count": null,
   "metadata": {},
   "outputs": [],
   "source": [
    "contours = np.arange(-2, 2, .01)\n",
    "\n",
    "fig = plt.figure(figsize=(10, 15), facecolor='w', edgecolor='k')\n",
    "#fig.suptitle('Density (kg m$^{-3}$)')\n",
    "#fig.subplots_adjust(wspace=0.02,hspace=0.02)\n",
    "\n",
    "m = Basemap(projection='nplaea',boundinglat=70,lon_0=0,resolution='l')\n",
    "x, y = m(mesh.x2, mesh.y2)\n",
    "#map.drawcoastlines()\n",
    "plabels=[False,False,False,False]\n",
    "mlabels=[False,False,False,False]    \n",
    "m.drawparallels(np.arange(-80.,81.,20.), labels=plabels)\n",
    "m.drawmeridians(np.arange(-180.,181.,20.),labels=mlabels) #[0,1,0,0]\n",
    "m.drawmapboundary(fill_color='0.7')\n",
    "m.fillcontinents(color='.5',lake_color='.7')\n",
    "\n",
    "#eps=(contours.max()-contours.min())/100.\n",
    "#data2[data2<=contours.min()]=contours.min()+eps\n",
    "#data2[data2>=contours.max()]=contours.max()-eps\n",
    "\n",
    "im=plt.tricontourf(x, y, elem_no_nan, data2, levels=contours, cmap=cmap.cm.balance, extend='both')\n",
    "\n",
    "plt.annotate(str(first_year)+'-'+str(last_year), xy=(0.7, 0.9), xycoords='axes fraction', fontsize = 20,\n",
    "                     fontweight = 'bold', bbox={'facecolor': 'white', 'alpha': 0.5, 'pad': 10})\n",
    "\n",
    "\n",
    "label = 'ANPP trend (gC m$^{-2}$ yr$^{-1}$)'\n",
    "#plt.title(year)\n",
    "cbar=m.colorbar(im,\"bottom\", size=\"5%\", pad=\"2%\")\n",
    "cbar.set_label(label, fontsize=16)\n",
    "cbar.ax.tick_params(labelsize=16)\n",
    "\n",
    "plt.savefig(wd_path+'figures/'+runid+'/trend/ANPP.png', dpi = 200, bbox_inches='tight')\n",
    "plt.show()"
   ]
  },
  {
   "cell_type": "code",
   "execution_count": null,
   "metadata": {},
   "outputs": [],
   "source": [
    "data, elem_no_nan = pf.get_data(ANPP_mean,mesh,0)\n",
    "\n",
    "data2=np.copy(data)\n",
    "data2 = data2 *12.01 / 1000\n",
    "\n",
    "print 'Number of nans in tracer: ',np.count_nonzero(np.isnan(data2))\n",
    "print 'Number of inf in tracer: ',np.count_nonzero(np.isinf(data2))\n",
    "print 'Mean of surface: ',np.mean(data2)\n",
    "print 'Max and min: ',np.max(data2),np.min(data2)"
   ]
  },
  {
   "cell_type": "code",
   "execution_count": null,
   "metadata": {},
   "outputs": [],
   "source": [
    "contours = np.arange(0, 140, 1)\n",
    "\n",
    "fig = plt.figure(figsize=(10, 15), facecolor='w', edgecolor='k')\n",
    "#fig.suptitle('Density (kg m$^{-3}$)')\n",
    "#fig.subplots_adjust(wspace=0.02,hspace=0.02)\n",
    "\n",
    "m = Basemap(projection='nplaea',boundinglat=70,lon_0=0,resolution='l')\n",
    "x, y = m(mesh.x2, mesh.y2)\n",
    "#map.drawcoastlines()\n",
    "plabels=[False,False,False,False]\n",
    "mlabels=[False,False,False,False]    \n",
    "m.drawparallels(np.arange(-80.,81.,20.), labels=plabels)\n",
    "m.drawmeridians(np.arange(-180.,181.,20.),labels=mlabels) #[0,1,0,0]\n",
    "m.drawmapboundary(fill_color='0.7')\n",
    "m.fillcontinents(color='.5',lake_color='.7')\n",
    "\n",
    "#eps=(contours.max()-contours.min())/100.\n",
    "#data2[data2<=contours.min()]=contours.min()+eps\n",
    "#data2[data2>=contours.max()]=contours.max()-eps\n",
    "\n",
    "im=plt.tricontourf(x, y, elem_no_nan, data2, levels=contours, cmap=cmap.cm.algae, extend='max')\n",
    "\n",
    "plt.annotate(str(first_year)+'-'+str(last_year), xy=(0.7, 0.9), xycoords='axes fraction', fontsize = 20,\n",
    "                     fontweight = 'bold', bbox={'facecolor': 'white', 'alpha': 0.5, 'pad': 10})\n",
    "\n",
    "label = 'ANPP mean (gC m$^{-2}$)'\n",
    "#plt.title(year)\n",
    "cbar=m.colorbar(im,\"bottom\", size=\"5%\", pad=\"2%\")\n",
    "cbar.set_label(label, fontsize=16)\n",
    "cbar.ax.tick_params(labelsize=16)\n",
    "\n",
    "plt.savefig(wd_path+'figures/'+runid+'/meanstate/ANPP.png', dpi = 200, bbox_inches='tight')\n",
    "plt.show()"
   ]
  },
  {
   "cell_type": "code",
   "execution_count": null,
   "metadata": {},
   "outputs": [],
   "source": [
    "data0, elem_no_nan = pf.get_data(ANPP_std,mesh,0)\n",
    "data1, elem_no_nan = pf.get_data(ANPP_trend,mesh,0)\n",
    "data2 = data1 / data0\n",
    "\n",
    "data2=np.copy(data2)\n",
    "data2 = data2 *100\n",
    "\n",
    "print 'Number of nans in tracer: ',np.count_nonzero(np.isnan(data2))\n",
    "print 'Number of inf in tracer: ',np.count_nonzero(np.isinf(data2))\n",
    "print 'Mean of surface: ',np.mean(data2)\n",
    "print 'Max and min: ',np.max(data2),np.min(data2)"
   ]
  },
  {
   "cell_type": "code",
   "execution_count": null,
   "metadata": {},
   "outputs": [],
   "source": [
    "contours = np.arange(-30, 30, 0.5)\n",
    "\n",
    "fig = plt.figure(figsize=(10, 15), facecolor='w', edgecolor='k')\n",
    "#fig.suptitle('Density (kg m$^{-3}$)')\n",
    "#fig.subplots_adjust(wspace=0.02,hspace=0.02)\n",
    "\n",
    "m = Basemap(projection='nplaea',boundinglat=70,lon_0=0,resolution='l')\n",
    "x, y = m(mesh.x2, mesh.y2)\n",
    "#map.drawcoastlines()\n",
    "plabels=[False,False,False,False]\n",
    "mlabels=[False,False,False,False]    \n",
    "m.drawparallels(np.arange(-80.,81.,20.), labels=plabels)\n",
    "m.drawmeridians(np.arange(-180.,181.,20.),labels=mlabels) #[0,1,0,0]\n",
    "m.drawmapboundary(fill_color='0.7')\n",
    "m.fillcontinents(color='.5',lake_color='.7')\n",
    "\n",
    "#eps=(contours.max()-contours.min())/100.\n",
    "#data2[data2<=contours.min()]=contours.min()+eps\n",
    "#data2[data2>=contours.max()]=contours.max()-eps\n",
    "\n",
    "im=plt.tricontourf(x, y, elem_no_nan, data2, levels=contours, cmap=cmap.cm.balance, extend='both')\n",
    "\n",
    "plt.annotate(str(first_year)+'-'+str(last_year), xy=(0.7, 0.9), xycoords='axes fraction', fontsize = 20,\n",
    "                     fontweight = 'bold', bbox={'facecolor': 'white', 'alpha': 0.5, 'pad': 10})\n",
    "\n",
    "\n",
    "label = 'ANPP trend (% yr$^{-1})'\n",
    "#plt.title(year)\n",
    "cbar=m.colorbar(im,\"bottom\", size=\"5%\", pad=\"2%\")\n",
    "cbar.set_label(label, fontsize=16)\n",
    "cbar.ax.tick_params(labelsize=16)\n",
    "\n",
    "plt.savefig(wd_path+'figures/'+runid+'/trend/ANPPrel.png', dpi = 200, bbox_inches='tight')\n",
    "plt.show()"
   ]
  },
  {
   "cell_type": "code",
   "execution_count": null,
   "metadata": {},
   "outputs": [],
   "source": []
  }
 ],
 "metadata": {
  "kernelspec": {
   "display_name": "Python 2",
   "language": "python",
   "name": "python2"
  },
  "language_info": {
   "codemirror_mode": {
    "name": "ipython",
    "version": 2
   },
   "file_extension": ".py",
   "mimetype": "text/x-python",
   "name": "python",
   "nbconvert_exporter": "python",
   "pygments_lexer": "ipython2",
   "version": "2.7.16"
  }
 },
 "nbformat": 4,
 "nbformat_minor": 2
}
