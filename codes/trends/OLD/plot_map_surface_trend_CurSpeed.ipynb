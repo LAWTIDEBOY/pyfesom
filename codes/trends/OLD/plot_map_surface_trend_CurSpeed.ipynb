{
 "cells": [
  {
   "cell_type": "code",
   "execution_count": 1,
   "metadata": {},
   "outputs": [
    {
     "name": "stdout",
     "output_type": "stream",
     "text": [
      "computer =  bcn1192\n",
      "working directory set to /home/hbkoziel/awi-models\n"
     ]
    }
   ],
   "source": [
    "import os\n",
    "from os.path import expanduser\n",
    "import socket\n",
    "import sys\n",
    "\n",
    "\n",
    "# BELOW IS SYSTEM/PATH CONFIGURATION #\n",
    "my_home = expanduser(\"~\")\n",
    "running_system = socket.gethostname()\n",
    "# Configure machine's names here #\n",
    "systemHLRN = 'blogin1'\n",
    "systemLOCAL = 'Laurents-MacBook-Pro.local'\n",
    "my_home = expanduser(\"~\")\n",
    "# Define local pass #\n",
    "if running_system == systemLOCAL:\n",
    "    print \"computer = \", running_system\n",
    "    wd_path = os.path.join(my_home,\"Documents\",\"projects\", \"awi-models\")\n",
    "elif running_system[0:1] == \"b\" or running_system == systemHLRN:\n",
    "    print \"computer = \", running_system\n",
    "    wd_path = os.path.join(my_home,\"awi-models\")\n",
    "else:\n",
    "    print 'please configure your local machine : type socket.gethostname()'\n",
    "print \"working directory set to\", wd_path\n",
    "os.chdir(wd_path)\n",
    "sys.path.append(\"codes/modules\")\n",
    "#########################################"
   ]
  },
  {
   "cell_type": "code",
   "execution_count": 2,
   "metadata": {},
   "outputs": [],
   "source": [
    "import matplotlib.pyplot as plt\n",
    "from mpl_toolkits.basemap import Basemap\n",
    "from pylab import *\n",
    "from load_mesh_data_new import *\n",
    "import numpy as np\n",
    "import datetime as dt\n",
    "from PiecewiseNorm import PiecewiseNorm\n",
    "from netCDF4 import Dataset\n",
    "import colormaps as cmaps\n",
    "from matplotlib.colors import ListedColormap"
   ]
  },
  {
   "cell_type": "code",
   "execution_count": 3,
   "metadata": {},
   "outputs": [
    {
     "name": "stdout",
     "output_type": "stream",
     "text": [
      "directory /home/hbkoziel/awi-models/figures/Arc12/ already existing\n"
     ]
    }
   ],
   "source": [
    "# PLOT CONFIGURATION #\n",
    "\n",
    "# load colormaps #\n",
    "cmap = plt.get_cmap('RdBu_r')\n",
    "# figure export \n",
    "export_plot = True\n",
    "# figure export definition\n",
    "dpicnt=150\n",
    "# type of plot\n",
    "global_plot = True\n",
    "arctic_plot = True\n",
    "# choose simulation\n",
    "runid='Arc12'\n",
    "# choose date\n",
    "first_year = 1990\n",
    "last_year  = 2015\n",
    "years      = np.arange(first_year,last_year+1,1)\n",
    "months =np.linspace(0,11,12).astype(int)\n",
    "# choose depth\n",
    "get3d = False\n",
    "\n",
    "########################\n",
    "\n",
    "# AUTOMATIC DEFINITION OF PATHS\n",
    "resultpath = '/scratch/usr/hbkvsk12/hlrn3_work2/results/'+runid+'/Oldfiles/'\n",
    "savepath    = wd_path+'/figures/'+runid+'/'\n",
    "meshpath    = wd_path+'/data/mesh/meshArc4.5/'\n",
    "\n",
    "# Create figure directory if it does not exist\n",
    "if os.path.exists(savepath) == False:\n",
    "    try:\n",
    "        os.mkdir(savepath)\n",
    "        print (\"Creation of the directory %s successfull\" % savepath)\n",
    "    except OSError:\n",
    "        print (\"Creation of the directory %s failed\" % savepath)\n",
    "else:\n",
    "    print (\"directory %s already existing\" % savepath)"
   ]
  },
  {
   "cell_type": "code",
   "execution_count": 4,
   "metadata": {},
   "outputs": [
    {
     "name": "stdout",
     "output_type": "stream",
     "text": [
      "Load 2d part of the grid in 3 second(s)\n"
     ]
    }
   ],
   "source": [
    "mesh = fesom_mesh(meshpath, get3d = get3d)\n",
    "#mesh = load_mesh(meshpath)"
   ]
  },
  {
   "cell_type": "code",
   "execution_count": null,
   "metadata": {},
   "outputs": [
    {
     "name": "stdout",
     "output_type": "stream",
     "text": [
      "1990\n",
      "1991\n",
      "1992\n",
      "1993\n",
      "1994\n",
      "1995\n",
      "1996\n",
      "1997\n",
      "1998\n",
      "1999\n",
      "2000\n",
      "2001\n",
      "2002\n",
      "2003\n",
      "2004\n",
      "2005\n",
      "2006\n",
      "2007\n",
      "2008\n",
      "2009\n",
      "2010\n",
      "2011\n",
      "2012\n",
      "2013\n",
      "2014\n",
      "2015\n"
     ]
    }
   ],
   "source": [
    "# initlialyze\n",
    "Vspeed = np.empty((len(years),mesh.n2d))\n",
    "#DATE = np.empty((len(years)))\n",
    "\n",
    "# loop over years\n",
    "for ind in range(0,len(years)):\n",
    "     print years[ind]\n",
    "     ncfile = resultpath+runid+'.'+str(years[ind])+'.oce.diag.nc'\n",
    "     f      = Dataset(ncfile, 'r')\n",
    "     #din    = f.variables[var_id][11]\n",
    "     if years[ind] < 2000:\n",
    "         uu    = f.variables['uu'][0:3,0:mesh.n2d].mean(axis=0)\n",
    "         vv    = f.variables['vv'][0:3,0:mesh.n2d].mean(axis=0)\n",
    "     else:\n",
    "         uu    = f.variables['uu'][0:45,0:mesh.n2d].mean(axis=0)\n",
    "         vv    = f.variables['vv'][0:45,0:mesh.n2d].mean(axis=0)\n",
    "     \n",
    "     #date    = f.variables['time'][45]\n",
    "     #nc_attrs, nc_dims, nc_vars = ncdump(nc_file)\n",
    "     #date   = f.dimensions['T'].size\n",
    "     Vspeed[ind,:]=sqrt(uu+vv)\n",
    "     #DATE[ind]=date"
   ]
  },
  {
   "cell_type": "code",
   "execution_count": null,
   "metadata": {},
   "outputs": [],
   "source": [
    "result_fit = np.ma.polyfit(years,Vspeed,1)"
   ]
  },
  {
   "cell_type": "code",
   "execution_count": null,
   "metadata": {},
   "outputs": [],
   "source": [
    "data2 = result_fit[0,:]\n",
    "data2 = data2 * 1000"
   ]
  },
  {
   "cell_type": "code",
   "execution_count": null,
   "metadata": {},
   "outputs": [],
   "source": [
    "contours = [-2, 2, 0.4]\n",
    "contours = np.arange(contours[0], contours[1]+contours[2], contours[2])\n",
    "fig = plt.figure(figsize=(8,8), facecolor='w', edgecolor='k')\n",
    "elem2=mesh.elem#[mesh.no_cyclic_elem,:]\n",
    "d=data2[elem2].mean(axis=1)\n",
    "k = [i for (i, val) in enumerate(d) if not np.isnan(val)]\n",
    "elem2=elem2[k,:]\n",
    "print 'ftriplot, number of dummy points:', len(d)-len(k)\t\t\n",
    "map = Basemap(projection='nplaea',boundinglat=65,lon_0=0,resolution='l')\n",
    "x, y = map(mesh.x2, mesh.y2)\n",
    "#map.drawcoastlines()\n",
    "plabels=[False,False,False,False]\n",
    "mlabels=[True,True,True,True]    \n",
    "map.drawparallels(np.arange(-80.,81.,20.), labels=plabels)\n",
    "map.drawmeridians(np.arange(-180.,181.,20.),labels=mlabels) #[0,1,0,0]\n",
    "map.drawmapboundary(fill_color='0.9')\n",
    "map.fillcontinents(color='.5',lake_color='.7')\n",
    "eps=(contours.max()-contours.min())/100.\n",
    "data2[data2<=contours.min()]=contours.min()+eps\n",
    "data2[data2>=contours.max()]=contours.max()-eps\n",
    "im=plt.tricontourf(x, y, elem2, data2, levels=contours, cmap=cmap, norm=PiecewiseNorm(contours))\n",
    "label = runid+': Winter surface current velocity trend ('+str(years[0])+' to '+str(years[len(years)-1])+')'\n",
    "plt.title(label,y=1.05)\n",
    "cbar=map.colorbar(im,\"bottom\", size=\"5%\", pad=\"5%\")\n",
    "cbar.set_label(r'Winter surface current velocity trend (mm s$^{-1}$ year$^{-1}$)')\n",
    "    \n",
    "if export_plot == True:\n",
    "    plt.savefig(savepath+'CurrentVelspatialwinter_trend_'+str(years[0])+'_'+str(years[-1])+'.png', dpi = dpicnt, bbox_inches='tight') \n",
    "        \n",
    "plt.show() "
   ]
  },
  {
   "cell_type": "code",
   "execution_count": null,
   "metadata": {},
   "outputs": [],
   "source": []
  },
  {
   "cell_type": "code",
   "execution_count": null,
   "metadata": {},
   "outputs": [],
   "source": []
  }
 ],
 "metadata": {
  "kernelspec": {
   "display_name": "Python 2",
   "language": "python",
   "name": "python2"
  },
  "language_info": {
   "codemirror_mode": {
    "name": "ipython",
    "version": 2
   },
   "file_extension": ".py",
   "mimetype": "text/x-python",
   "name": "python",
   "nbconvert_exporter": "python",
   "pygments_lexer": "ipython2",
   "version": "2.7.16"
  }
 },
 "nbformat": 4,
 "nbformat_minor": 2
}
