{
 "cells": [
  {
   "cell_type": "code",
   "execution_count": 1,
   "metadata": {},
   "outputs": [
    {
     "name": "stdout",
     "output_type": "stream",
     "text": [
      "computer =  bfn1003\n",
      "working directory set to /home/hbkoziel/awi-models\n"
     ]
    }
   ],
   "source": [
    "import os\n",
    "from os.path import expanduser\n",
    "import socket\n",
    "import sys\n",
    "\n",
    "\n",
    "# BELOW IS SYSTEM/PATH CONFIGURATION #\n",
    "my_home = expanduser(\"~\")\n",
    "running_system = socket.gethostname()\n",
    "# Configure machine's names here #\n",
    "systemHLRN = 'blogin1'\n",
    "systemLOCAL = 'Laurents-MacBook-Pro.local'\n",
    "my_home = expanduser(\"~\")\n",
    "# Define local pass #\n",
    "if running_system == systemLOCAL:\n",
    "    print \"computer = \", running_system\n",
    "    wd_path = os.path.join(my_home,\"Documents\",\"projects\", \"awi-models\")\n",
    "elif running_system[0:1] == \"b\" or running_system == systemHLRN:\n",
    "    print \"computer = \", running_system\n",
    "    wd_path = os.path.join(my_home,\"awi-models\")\n",
    "else:\n",
    "    print 'please configure your local machine : type socket.gethostname()'\n",
    "print \"working directory set to\", wd_path\n",
    "os.chdir(wd_path)\n",
    "sys.path.append(\"codes/modules\")\n",
    "#########################################"
   ]
  },
  {
   "cell_type": "code",
   "execution_count": 2,
   "metadata": {},
   "outputs": [],
   "source": [
    "import matplotlib.pyplot as plt\n",
    "from mpl_toolkits.basemap import Basemap\n",
    "from pylab import *\n",
    "from load_mesh_data_new import *\n",
    "import numpy as np\n",
    "import datetime as dt\n",
    "from PiecewiseNorm import PiecewiseNorm\n",
    "from netCDF4 import Dataset\n",
    "import colormaps as cmaps\n",
    "from matplotlib.colors import ListedColormap"
   ]
  },
  {
   "cell_type": "code",
   "execution_count": 3,
   "metadata": {},
   "outputs": [
    {
     "name": "stdout",
     "output_type": "stream",
     "text": [
      "directory /home/hbkoziel/awi-models/figures/Arc12/ already existing\n"
     ]
    }
   ],
   "source": [
    "# PLOT CONFIGURATION #\n",
    "\n",
    "# load colormaps #\n",
    "cmap = plt.get_cmap('RdBu_r')\n",
    "# figure export \n",
    "export_plot = True\n",
    "# figure export definition\n",
    "dpicnt=150\n",
    "# choose simulation\n",
    "runid='Arc12'\n",
    "# choose date\n",
    "first_year = 2000\n",
    "last_year  = 2015\n",
    "years      = np.arange(first_year,last_year+1,1)\n",
    "months =np.linspace(0,11,12).astype(int)\n",
    "# choose depth\n",
    "get3d = True\n",
    "# load the given biological tracer #\n",
    "var_id1, var_id2 = 'tr06', 'tr15'\n",
    "\n",
    "########################\n",
    "\n",
    "# AUTOMATIC DEFINITION OF PATHS\n",
    "resultpath = '/scratch/usr/hbkvsk12/hlrn3_work2/results/'+runid+'/Oldfiles/'\n",
    "savepath    = wd_path+'/figures/'+runid+'/'\n",
    "meshpath    = wd_path+'/data/mesh/meshArc4.5/'\n",
    "\n",
    "# Create figure directory if it does not exist\n",
    "if os.path.exists(savepath) == False:\n",
    "    try:\n",
    "        os.mkdir(savepath)\n",
    "        print (\"Creation of the directory %s successfull\" % savepath)\n",
    "    except OSError:\n",
    "        print (\"Creation of the directory %s failed\" % savepath)\n",
    "else:\n",
    "    print (\"directory %s already existing\" % savepath)\n",
    "    \n",
    "#ncfile      = resultpath+runid+'.initial.mesh.diag.nc'\n",
    "#f           = Dataset(ncfile, 'r')\n",
    "#NodalArea = f.variables['cluster_area'][:]\n",
    "#NodalVol    = f.variables['cluster_vol'][:]\n",
    "#f.close()"
   ]
  },
  {
   "cell_type": "code",
   "execution_count": 4,
   "metadata": {},
   "outputs": [
    {
     "name": "stdout",
     "output_type": "stream",
     "text": [
      "Load 2d part of the grid in 3 second(s)\n",
      "Load 3d part of the grid in 37 seconds\n"
     ]
    }
   ],
   "source": [
    "mesh = fesom_mesh(meshpath, get3d = get3d)\n",
    "#mesh = load_mesh(meshpath)\n",
    "mesh.n32 = mesh.n32-1"
   ]
  },
  {
   "cell_type": "code",
   "execution_count": null,
   "metadata": {},
   "outputs": [
    {
     "name": "stdout",
     "output_type": "stream",
     "text": [
      "2000 106\n",
      "2000 107\n",
      "2000 108\n",
      "2000 109\n",
      "2000 110\n",
      "2000 111\n",
      "2000 112\n",
      "2000 113\n",
      "2000 114\n",
      "2000 115\n",
      "2000 116\n",
      "2000 117\n",
      "2000 118\n",
      "2000 119\n"
     ]
    },
    {
     "name": "stderr",
     "output_type": "stream",
     "text": [
      "/sw/tools/anaconda2/2019.10/skl/lib/python2.7/site-packages/ipykernel_launcher.py:28: RuntimeWarning: divide by zero encountered in divide\n",
      "/sw/tools/anaconda2/2019.10/skl/lib/python2.7/site-packages/ipykernel_launcher.py:28: RuntimeWarning: invalid value encountered in divide\n",
      "/sw/tools/anaconda2/2019.10/skl/lib/python2.7/site-packages/ipykernel_launcher.py:29: RuntimeWarning: divide by zero encountered in divide\n",
      "/sw/tools/anaconda2/2019.10/skl/lib/python2.7/site-packages/ipykernel_launcher.py:29: RuntimeWarning: invalid value encountered in divide\n"
     ]
    },
    {
     "name": "stdout",
     "output_type": "stream",
     "text": [
      "2001 106\n",
      "2001 107\n",
      "2001 108\n",
      "2001 109\n",
      "2001 110\n",
      "2001 111\n",
      "2001 112\n",
      "2001 113\n",
      "2001 114\n",
      "2001 115\n",
      "2001 116\n",
      "2001 117\n",
      "2001 118\n",
      "2001 119\n",
      "2002 106\n",
      "2002 107\n",
      "2002 108\n",
      "2002 109\n",
      "2002 110\n",
      "2002 111\n",
      "2002 112\n",
      "2002 113\n",
      "2002 114\n",
      "2002 115\n",
      "2002 116\n",
      "2002 117\n",
      "2002 118\n",
      "2002 119\n",
      "2003 106\n",
      "2003 107\n",
      "2003 108\n",
      "2003 109\n",
      "2003 110\n",
      "2003 111\n",
      "2003 112\n",
      "2003 113\n",
      "2003 114\n",
      "2003 115\n",
      "2003 116\n",
      "2003 117\n",
      "2003 118\n",
      "2003 119\n",
      "2004 106\n",
      "2004 107\n",
      "2004 108\n",
      "2004 109\n",
      "2004 110\n",
      "2004 111\n",
      "2004 112\n",
      "2004 113\n",
      "2004 114\n",
      "2004 115\n",
      "2004 116\n",
      "2004 117\n",
      "2004 118\n",
      "2004 119\n",
      "2005 106\n",
      "2005 107\n",
      "2005 108\n",
      "2005 109\n",
      "2005 110\n",
      "2005 111\n",
      "2005 112\n",
      "2005 113\n",
      "2005 114\n",
      "2005 115\n",
      "2005 116\n",
      "2005 117\n"
     ]
    }
   ],
   "source": [
    "NUMDAYS = np.empty((len(years),mesh.n2d))\n",
    "DEPTHS  = np.empty((len(years),mesh.n2d))\n",
    "CONC    = np.empty((len(years),mesh.n2d))\n",
    "\n",
    "for ye in range(0,len(years)):\n",
    "  numdays = np.zeros(len(mesh.x2))\n",
    "  depths  = np.zeros(len(mesh.x2))\n",
    "  conc    = np.zeros(len(mesh.x2))\n",
    "  ncfile  = resultpath+runid+'.'+str(years[ye])+'.oce.mean.nc'\n",
    "  f       = Dataset(ncfile, 'r') \n",
    "\n",
    "  for ind in range(106,120):# month of August\n",
    "    print years[ye], ind\n",
    "    chl     = f.variables[var_id1][ind,:] + f.variables[var_id2][ind,:]\n",
    "    \n",
    "    for i in range(0,len(mesh.x2)):\n",
    "        deep_ind = mesh.n32[i,:]\n",
    "        deep_ind = deep_ind[deep_ind>-10]\n",
    "        loc_chl  = chl[deep_ind] # All chl in the water column\n",
    "        loc_chl  = loc_chl[loc_chl>0.01]\n",
    "        if (len(loc_chl)>0 and loc_chl.argmax(axis=0)>0):\n",
    "          scm_i = loc_chl.argmax(axis=0)\n",
    "          depths[i]  = depths[i] + mesh.zlevs[scm_i]\n",
    "          numdays[i] = numdays[i] + 2.\n",
    "          conc[i]    = conc[i] + loc_chl[scm_i]\n",
    "\n",
    "  NUMDAYS[ye,:] = numdays\n",
    "  DEPTHS[ye,:]  = depths/((numdays/2.))\n",
    "  CONC[ye,:]    = conc/((numdays/2.))"
   ]
  },
  {
   "cell_type": "code",
   "execution_count": null,
   "metadata": {},
   "outputs": [],
   "source": [
    "CONC = np.nan_to_num(CONC)\n",
    "DEPTHS = np.nan_to_num(DEPTHS)\n",
    "\n",
    "numpy.savetxt(wd_path+'data/SCM_concentration.csv', CONC, delimiter=\";\")\n",
    "numpy.savetxt(wd_path+'data/SCM_depth.csv', DEPTHS, delimiter=\";\")"
   ]
  },
  {
   "cell_type": "code",
   "execution_count": null,
   "metadata": {},
   "outputs": [],
   "source": [
    "result_fit_conc = np.ma.polyfit(years,CONC,1)\n",
    "result_fit_depths = np.ma.polyfit(years,DEPTHS,1)"
   ]
  },
  {
   "cell_type": "raw",
   "metadata": {},
   "source": [
    "#contours=np.array([0, 0.1,0.2,0.3,0.4,0.5,0.6,0.7,0.8,0.9,1,1.25,1.5,2.,2.5])\n",
    "data2 = result_fit_conc[0,:]\n",
    "contours = [0, 2.1, 0.1]\n",
    "contours = np.arange(contours[0], contours[1]+contours[2], contours[2])\n",
    "fig = plt.figure(figsize=(8,8), facecolor='w', edgecolor='k')\n",
    "elem2=mesh.elem#[mesh.no_cyclic_elem,:]\n",
    "d=data2[elem2].mean(axis=1)\n",
    "k = [i for (i, val) in enumerate(d) if not np.isnan(val)]\n",
    "elem2=elem2[k,:]\n",
    "print 'ftriplot, number of dummy points:', len(d)-len(k)\t\t\n",
    "map = Basemap(projection='nplaea',boundinglat=65,lon_0=0,resolution='l')\n",
    "x, y = map(mesh.x2, mesh.y2)\n",
    "plabels=[False,False,False,False]\n",
    "mlabels=[True,True,True,True]    \n",
    "map.drawparallels(np.arange(-80.,81.,20.), labels=plabels)\n",
    "map.drawmeridians(np.arange(-180.,181.,20.),labels=mlabels) #[0,1,0,0]\n",
    "map.drawmapboundary(fill_color='0.9')\n",
    "map.fillcontinents(color='.5',lake_color='.7')\n",
    "eps=(contours.max()-contours.min())/100.\n",
    "data2[data2<=contours.min()]=contours.min()+eps\n",
    "data2[data2>=contours.max()]=contours.max()-eps\n",
    "im=plt.tricontourf(x, y, elem2, data2, levels=contours, cmap=cmap, norm=PiecewiseNorm(contours))\n",
    "label = runid+': [Chl a]_S_C_M August trend ('+str(years[0])+' to '+str(years[len(years)-1])+')'\n",
    "plt.title(label,y=1.05)\n",
    "cbar=map.colorbar(im,\"bottom\", size=\"5%\", pad=\"5%\")\n",
    "cbar.set_label(r'[Chl a]_S_C_M August trend (mg Chl a m$^{-3}$ year$^{-1}$)')\n",
    "    \n",
    "if export_plot == True:\n",
    "    plt.savefig(savepath+'CHLSCM_august_trend_'+str(years[0])+'_'+str(years[-1])+'.png', dpi = dpicnt, bbox_inches='tight') \n",
    "        \n",
    "plt.show() "
   ]
  },
  {
   "cell_type": "code",
   "execution_count": null,
   "metadata": {},
   "outputs": [],
   "source": []
  }
 ],
 "metadata": {
  "kernelspec": {
   "display_name": "Python 2",
   "language": "python",
   "name": "python2"
  },
  "language_info": {
   "codemirror_mode": {
    "name": "ipython",
    "version": 2
   },
   "file_extension": ".py",
   "mimetype": "text/x-python",
   "name": "python",
   "nbconvert_exporter": "python",
   "pygments_lexer": "ipython2",
   "version": "2.7.16"
  }
 },
 "nbformat": 4,
 "nbformat_minor": 2
}
