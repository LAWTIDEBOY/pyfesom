{
 "cells": [
  {
   "cell_type": "code",
   "execution_count": 1,
   "metadata": {},
   "outputs": [
    {
     "name": "stdout",
     "output_type": "stream",
     "text": [
      "computer =  bfn1003\n",
      "working directory set to /home/hbkoziel/awi-models\n"
     ]
    }
   ],
   "source": [
    "import os\n",
    "from os.path import expanduser\n",
    "import socket\n",
    "import sys\n",
    "\n",
    "\n",
    "# BELOW IS SYSTEM/PATH CONFIGURATION #\n",
    "my_home = expanduser(\"~\")\n",
    "running_system = socket.gethostname()\n",
    "# Configure machine's names here #\n",
    "systemHLRN = 'blogin1'\n",
    "systemLOCAL = 'Laurents-MacBook-Pro.local'\n",
    "my_home = expanduser(\"~\")\n",
    "# Define local pass #\n",
    "if running_system == systemLOCAL:\n",
    "    print \"computer = \", running_system\n",
    "    wd_path = os.path.join(my_home,\"Documents\",\"projects\", \"awi-models\")\n",
    "elif running_system[0:1] == \"b\" or running_system == systemHLRN:\n",
    "    print \"computer = \", running_system\n",
    "    wd_path = os.path.join(my_home,\"awi-models\")\n",
    "else:\n",
    "    print 'please configure your local machine : type socket.gethostname()'\n",
    "print \"working directory set to\", wd_path\n",
    "os.chdir(wd_path)\n",
    "sys.path.append(\"codes/modules\")\n",
    "#########################################"
   ]
  },
  {
   "cell_type": "code",
   "execution_count": 2,
   "metadata": {},
   "outputs": [],
   "source": [
    "import matplotlib.pyplot as plt\n",
    "from mpl_toolkits.basemap import Basemap\n",
    "from pylab import *\n",
    "from load_mesh_data_new import *\n",
    "import numpy as np\n",
    "import datetime as dt\n",
    "from PiecewiseNorm import PiecewiseNorm\n",
    "from netCDF4 import Dataset\n",
    "import colormaps as cmaps\n",
    "from matplotlib.colors import ListedColormap"
   ]
  },
  {
   "cell_type": "code",
   "execution_count": null,
   "metadata": {},
   "outputs": [],
   "source": [
    "# PLOT CONFIGURATION #\n",
    "\n",
    "\n",
    "# figure export definition\n",
    "dpicnt=150\n",
    "# choose simulation\n",
    "runid='Arc12'\n",
    "# choose date\n",
    "first_year = 1990\n",
    "last_year  = 2015\n",
    "years      = np.arange(first_year,last_year+1,1)\n",
    "months =np.linspace(0,11,12).astype(int)\n",
    "# choose depth\n",
    "get3d = True\n",
    "# load the given biological tracer #\n",
    "var_id1, var_id2 = 'tr06', 'tr15'\n",
    "\n",
    "########################\n",
    "\n",
    "# AUTOMATIC DEFINITION OF PATHS\n",
    "resultpath = '/scratch/usr/hbkvsk12/hlrn3_work2/results/'+runid+'/Oldfiles/'\n",
    "savepath    = wd_path+'/figures/'+runid+'/'\n",
    "meshpath    = wd_path+'/data/mesh/meshArc4.5/'\n",
    "\n",
    "# Create figure directory if it does not exist\n",
    "if os.path.exists(savepath) == False:\n",
    "    try:\n",
    "        os.mkdir(savepath)\n",
    "        print (\"Creation of the directory %s successfull\" % savepath)\n",
    "    except OSError:\n",
    "        print (\"Creation of the directory %s failed\" % savepath)\n",
    "else:\n",
    "    print (\"directory %s already existing\" % savepath)\n",
    "    \n",
    "ncfile      = resultpath+runid+'.initial.mesh.diag.nc'\n",
    "f           = Dataset(ncfile, 'r')\n",
    "NodalVol3D = f.variables['cluster_vol'][:]"
   ]
  },
  {
   "cell_type": "code",
   "execution_count": null,
   "metadata": {},
   "outputs": [],
   "source": [
    "mesh = fesom_mesh(meshpath, get3d = get3d)"
   ]
  },
  {
   "cell_type": "code",
   "execution_count": null,
   "metadata": {},
   "outputs": [],
   "source": [
    "# initlialyze\n",
    "Chl2D   = np.zeros((len(years),len(mesh.x2)))\n",
    "DATE = np.empty((len(years)))\n",
    "\n",
    "# loop over years\n",
    "for ind_year in range(0,len(years)):\n",
    "     print years[ind_year]\n",
    "     ncfile = resultpath+runid+'.'+str(years[ind_year])+'.oce.mean.nc'\n",
    "     f      = Dataset(ncfile, 'r')\n",
    "     chl1    = f.variables[var_id1][:,:].sum(axis=0)\n",
    "     chl2    = f.variables[var_id2][:,:].sum(axis=0)\n",
    "     if years[ind_year]<2000:\n",
    "         Chl3D   = 30*(chl1+chl2)\n",
    "     else:\n",
    "         Chl3D   = 2*(chl1+chl2)\n",
    "     Chl3D = Chl3D / 365\n",
    "     #NPPtotal       = 365 * NPPtotal # Conversion from [mg/m2/day]   => [mg/m2/yr]\n",
    "     #NPPtotal1 = np.sum(NPPtotal*NodalArea2D[:,0:mesh.n2d])/1e18 # [Pg C/year]\n",
    "     for i, val in enumerate(Chl3D[0:len(mesh.x2)]):\n",
    "        if i % 100000 == 0:\n",
    "            print i\n",
    "        ind      = mesh.n32[i,0:20]-1 # 20 = until 500m depth\n",
    "        ind2     = ind[np.where(ind>-1)] # Only positive indices\n",
    "        Chl2D[ind_year,i] = np.sum(Chl3D[ind2]*NodalVol3D[ind2])/np.sum(NodalVol3D[ind2])"
   ]
  },
  {
   "cell_type": "code",
   "execution_count": null,
   "metadata": {},
   "outputs": [],
   "source": [
    "if do_export_csv == True:\n",
    "    np.savetxt(\"/home/hbkoziel/awi-models/data/Arc12/CHLA_annual_integrated.csv\", Chl2D, delimiter=\";\")"
   ]
  }
 ],
 "metadata": {
  "kernelspec": {
   "display_name": "Python 2",
   "language": "python",
   "name": "python2"
  },
  "language_info": {
   "codemirror_mode": {
    "name": "ipython",
    "version": 2
   },
   "file_extension": ".py",
   "mimetype": "text/x-python",
   "name": "python",
   "nbconvert_exporter": "python",
   "pygments_lexer": "ipython2",
   "version": "2.7.16"
  }
 },
 "nbformat": 4,
 "nbformat_minor": 2
}
