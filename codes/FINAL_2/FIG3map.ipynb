{
 "cells": [
  {
   "cell_type": "code",
   "execution_count": 1,
   "metadata": {},
   "outputs": [
    {
     "name": "stdout",
     "output_type": "stream",
     "text": [
      "No joblib\n",
      "no cmocean\n"
     ]
    }
   ],
   "source": [
    "import sys \n",
    "#sys.path.append(\"codes/modules\") # add custom Vibe 's modules\n",
    "sys.path.append('../..') # add standard 's modules\n",
    "sys.path.append('../modules')\n",
    "\n",
    "import pyfesom as pf\n",
    "import matplotlib.pyplot as plt\n",
    "from matplotlib import cm\n",
    "from mpl_toolkits.basemap import Basemap\n",
    "import numpy as np\n",
    "from netCDF4 import Dataset\n",
    "import os\n",
    "import time\n",
    "import pandas as pd\n",
    "import xarray as xr\n",
    "sys.path.append('/home/hbkoziel/pyfesom/pyfesom/cmocean/')\n",
    "import cmocean as cmap"
   ]
  },
  {
   "cell_type": "code",
   "execution_count": 3,
   "metadata": {},
   "outputs": [
    {
     "name": "stdout",
     "output_type": "stream",
     "text": [
      "/scratch/usr/hbkoziel/mesh/meshArc4.5/pickle_mesh\n",
      "2\n",
      "The usepickle == True)\n",
      "The pickle file for python 2 exists.\n",
      "The mesh will be loaded from /scratch/usr/hbkoziel/mesh/meshArc4.5/pickle_mesh\n"
     ]
    }
   ],
   "source": [
    "# Loading mesh for run\n",
    "\n",
    "mesh_id    = 'meshArc4.5'\n",
    "meshpath   = '/scratch/usr/hbkoziel/mesh/'+mesh_id+'/'              # Defining path where mesh is stored\n",
    "mesh = pf.load_mesh(meshpath, usepickle=True, get3d=True)                                    # Loading mesh, stores it in mesh.****  \n",
    "#mesh = pf.fesom_mesh(meshpath, get3d=True)\n",
    "#mesh.zlevs = -mesh.zlevs                                            # Depth is made negative\n",
    "\n",
    "tracername = 'LIM'\n",
    "first_year = 1985\n",
    "last_year  = 2015\n",
    "years      = np.arange(first_year,last_year+1,1)\n",
    "runid\t= 'Arc12'\n",
    "\n",
    "data_path  = '/scratch/usr/hbkoziel/'+runid+'/netcdf/'"
   ]
  },
  {
   "cell_type": "code",
   "execution_count": 4,
   "metadata": {},
   "outputs": [
    {
     "ename": "IOError",
     "evalue": "no files to open",
     "output_type": "error",
     "traceback": [
      "\u001b[0;31m---------------------------------------------------------------------------\u001b[0m",
      "\u001b[0;31mIOError\u001b[0m                                   Traceback (most recent call last)",
      "\u001b[0;32m<ipython-input-4-f465042af2b2>\u001b[0m in \u001b[0;36m<module>\u001b[0;34m()\u001b[0m\n\u001b[1;32m      1\u001b[0m \u001b[0mdates\u001b[0m \u001b[0;34m=\u001b[0m \u001b[0mpd\u001b[0m\u001b[0;34m.\u001b[0m\u001b[0mdate_range\u001b[0m\u001b[0;34m(\u001b[0m\u001b[0;34m'1985'\u001b[0m\u001b[0;34m,\u001b[0m \u001b[0mfreq\u001b[0m\u001b[0;34m=\u001b[0m\u001b[0;34m\"M\"\u001b[0m\u001b[0;34m,\u001b[0m \u001b[0mperiods\u001b[0m\u001b[0;34m=\u001b[0m \u001b[0;36m12\u001b[0m\u001b[0;34m*\u001b[0m\u001b[0mlen\u001b[0m\u001b[0;34m(\u001b[0m\u001b[0mnp\u001b[0m\u001b[0;34m.\u001b[0m\u001b[0marange\u001b[0m\u001b[0;34m(\u001b[0m\u001b[0;36m1985\u001b[0m\u001b[0;34m,\u001b[0m\u001b[0;36m2016\u001b[0m\u001b[0;34m,\u001b[0m\u001b[0;36m1\u001b[0m\u001b[0;34m)\u001b[0m\u001b[0;34m)\u001b[0m\u001b[0;34m)\u001b[0m\u001b[0;34m\u001b[0m\u001b[0m\n\u001b[0;32m----> 2\u001b[0;31m \u001b[0mdata\u001b[0m \u001b[0;34m=\u001b[0m \u001b[0mxr\u001b[0m\u001b[0;34m.\u001b[0m\u001b[0mopen_mfdataset\u001b[0m\u001b[0;34m(\u001b[0m\u001b[0mdata_path\u001b[0m\u001b[0;34m+\u001b[0m\u001b[0mtracername\u001b[0m\u001b[0;34m+\u001b[0m\u001b[0;34m'*.nc'\u001b[0m\u001b[0;34m,\u001b[0m \u001b[0mconcat_dim\u001b[0m\u001b[0;34m=\u001b[0m\u001b[0;34m'time'\u001b[0m\u001b[0;34m)\u001b[0m\u001b[0;34m\u001b[0m\u001b[0m\n\u001b[0m\u001b[1;32m      3\u001b[0m \u001b[0mdata\u001b[0m\u001b[0;34m[\u001b[0m\u001b[0;34m'time'\u001b[0m\u001b[0;34m]\u001b[0m \u001b[0;34m=\u001b[0m \u001b[0mdates\u001b[0m\u001b[0;34m\u001b[0m\u001b[0m\n\u001b[1;32m      4\u001b[0m \u001b[0;31m#data.time.data = dates\u001b[0m\u001b[0;34m\u001b[0m\u001b[0;34m\u001b[0m\u001b[0m\n",
      "\u001b[0;32m/sw/tools/anaconda2/2019.10/skl/lib/python2.7/site-packages/xarray/backends/api.pyc\u001b[0m in \u001b[0;36mopen_mfdataset\u001b[0;34m(paths, chunks, concat_dim, compat, preprocess, engine, lock, data_vars, coords, autoclose, parallel, **kwargs)\u001b[0m\n\u001b[1;32m    600\u001b[0m \u001b[0;34m\u001b[0m\u001b[0m\n\u001b[1;32m    601\u001b[0m     \u001b[0;32mif\u001b[0m \u001b[0;32mnot\u001b[0m \u001b[0mpaths\u001b[0m\u001b[0;34m:\u001b[0m\u001b[0;34m\u001b[0m\u001b[0m\n\u001b[0;32m--> 602\u001b[0;31m         \u001b[0;32mraise\u001b[0m \u001b[0mIOError\u001b[0m\u001b[0;34m(\u001b[0m\u001b[0;34m'no files to open'\u001b[0m\u001b[0;34m)\u001b[0m\u001b[0;34m\u001b[0m\u001b[0m\n\u001b[0m\u001b[1;32m    603\u001b[0m \u001b[0;34m\u001b[0m\u001b[0m\n\u001b[1;32m    604\u001b[0m     \u001b[0;31m# Coerce 1D input into ND to maintain backwards-compatible API until API\u001b[0m\u001b[0;34m\u001b[0m\u001b[0;34m\u001b[0m\u001b[0m\n",
      "\u001b[0;31mIOError\u001b[0m: no files to open"
     ]
    }
   ],
   "source": [
    "dates = pd.date_range('1985', freq=\"M\", periods= 12*len(np.arange(1985,2016,1)))\n",
    "data = xr.open_mfdataset(data_path+tracername+'*.nc', concat_dim='time')\n",
    "data['time'] = dates\n",
    "#data.time.data = dates"
   ]
  },
  {
   "cell_type": "code",
   "execution_count": null,
   "metadata": {},
   "outputs": [],
   "source": [
    "data"
   ]
  },
  {
   "cell_type": "code",
   "execution_count": null,
   "metadata": {},
   "outputs": [],
   "source": [
    "data2 = data.sel(time=data.time.dt.month.isin([7, 8, 9]))\n",
    "data2 = data2.compute()\n",
    "data2\n",
    "\n",
    "data2 = data2.resample(time='YS').mean(dim='time')\n",
    "data2 = data2.compute()\n",
    "data2"
   ]
  },
  {
   "cell_type": "code",
   "execution_count": null,
   "metadata": {},
   "outputs": [],
   "source": [
    "data_np = data2.Nlimphy.sel(time=slice(str(first_year)+'-01-01', str(last_year)+'-12-31'))\n",
    "data_np = data_np.compute()\n",
    "\n",
    "data_nd = data2.Nlimdia.sel(time=slice(str(first_year)+'-01-01', str(last_year)+'-12-31'))\n",
    "data_nd = data_nd.compute()\n",
    "\n",
    "data_si = data2.Silim.sel(time=slice(str(first_year)+'-01-01', str(last_year)+'-12-31'))\n",
    "data_si = data_si.compute()\n",
    "\n",
    "data_lp = data2.Phy_Light_limiter.sel(time=slice(str(first_year)+'-01-01', str(last_year)+'-12-31'))\n",
    "data_lp = data_lp.compute()\n",
    "\n",
    "data_ld = data2.Dia_Light_limiter.sel(time=slice(str(first_year)+'-01-01', str(last_year)+'-12-31'))\n",
    "data_ld = data_ld.compute()"
   ]
  },
  {
   "cell_type": "code",
   "execution_count": null,
   "metadata": {},
   "outputs": [],
   "source": [
    "ncfile      = meshpath+'Arc4.5.initial.mesh.diag.nc'\n",
    "f           = Dataset(ncfile, 'r')\n",
    "NodalAreaModel = f.variables['cluster_area'][:]"
   ]
  },
  {
   "cell_type": "code",
   "execution_count": null,
   "metadata": {},
   "outputs": [],
   "source": [
    "data_lim_sertemp = 100 - 100*(data_np + data_nd)/2 #+ data_si_mean\n",
    "data_lim_mean = data_lim_sertemp.mean(dim='time')\n",
    "pff = np.polyfit(years, data_lim_sertemp, 1)\n",
    "data_lim_trend = pff[0]"
   ]
  },
  {
   "cell_type": "code",
   "execution_count": null,
   "metadata": {},
   "outputs": [],
   "source": [
    "print data_lim_mean.shape\n",
    "print data_lim_trend.shape\n",
    "print data_lim_sertemp.shape"
   ]
  },
  {
   "cell_type": "code",
   "execution_count": null,
   "metadata": {},
   "outputs": [],
   "source": [
    "fig = plt.figure(figsize=(15, 10), facecolor='w', edgecolor='k')\n",
    "\n",
    "#MLD_sept_mean[MLD_sept_mean == 0] = np.nan\n",
    "data, elem_no_nan = pf.get_data(data_lim_mean,mesh,0)\n",
    "ax1      = fig.add_subplot(121)\n",
    "contours = np.arange(0, 101, 10)\n",
    "m = Basemap(projection='nplaea',boundinglat=70,lon_0=0,resolution='l')\n",
    "x, y = m(mesh.x2, mesh.y2)\n",
    "plabels=[False,False,False,False]\n",
    "mlabels=[False,False,False,False]    \n",
    "m.drawparallels(np.arange(-80.,81.,20.), labels=plabels)\n",
    "m.drawmeridians(np.arange(-180.,181.,20.),labels=mlabels) #[0,1,0,0]\n",
    "m.drawmapboundary(fill_color='0.7')\n",
    "m.fillcontinents(color='.5',lake_color='.7')\n",
    "im=plt.tricontourf(x, y, elem_no_nan, (data) , levels=contours, cmap=cmap.cm.thermal, extend='both')\n",
    "label = 'DIN limitation occurence [%]'\n",
    "cbar=m.colorbar(im,\"bottom\", size=\"5%\", pad=\"2%\")\n",
    "cbar.set_label(label, fontsize=14)\n",
    "cbar.ax.tick_params(labelsize=12)\n",
    "plt.title('Nutrient limitation', fontsize=16)\n",
    "\n",
    "ax2      = fig.add_subplot(122)\n",
    "data, elem_no_nan = pf.get_data(data_lim_trend,mesh,0)\n",
    "contours = np.arange(-2, 2.01, .01)\n",
    "m = Basemap(projection='nplaea',boundinglat=70,lon_0=0,resolution='l')\n",
    "x, y = m(mesh.x2, mesh.y2)\n",
    "plabels=[False,False,False,False]\n",
    "mlabels=[False,False,False,False]    \n",
    "m.drawparallels(np.arange(-80.,81.,20.), labels=plabels)\n",
    "m.drawmeridians(np.arange(-180.,181.,20.),labels=mlabels) #[0,1,0,0]\n",
    "m.drawmapboundary(fill_color='0.7')\n",
    "m.fillcontinents(color='.5',lake_color='.7')\n",
    "im=plt.tricontourf(x, y, elem_no_nan, (data) , levels=contours, cmap=cmap.cm.balance, extend='both')\n",
    "label = 'Nutrient limitation occurence trend [% yr$^{-1}$]'\n",
    "cbar=m.colorbar(im,\"bottom\", size=\"5%\", pad=\"2%\")\n",
    "cbar.set_label(label, fontsize=14)\n",
    "cbar.ax.tick_params(labelsize=12)\n",
    "plt.title('Nutrient limitation trend', fontsize=16)\n",
    "\n",
    "plt.savefig('FIG3_map.png', dpi = 300, bbox_inches='tight') "
   ]
  },
  {
   "cell_type": "code",
   "execution_count": 6,
   "metadata": {},
   "outputs": [
    {
     "data": {
      "text/plain": [
       "array([-30, -25, -20, -15, -10,  -5,   0,   5,  10,  15,  20,  25,  30])"
      ]
     },
     "execution_count": 6,
     "metadata": {},
     "output_type": "execute_result"
    }
   ],
   "source": [
    "np.arange(-30,35,5)"
   ]
  },
  {
   "cell_type": "code",
   "execution_count": 156,
   "metadata": {},
   "outputs": [],
   "source": [
    "# data_lp_mean = data_lp.resample(time='YS').mean(dim='time')\n",
    "# data_ld_mean = data_ld.resample(time='YS').mean(dim='time')\n",
    "\n",
    "# data_lim_sertemp = 100 - 100*(data_lp_mean + data_ld_mean)/2\n",
    "# data_lim_mean = data_lim_sertemp.mean(dim='time')\n",
    "# pff = np.polyfit(years, data_lim_sertemp, 1)\n",
    "# data_lim_trend = pff[0]"
   ]
  },
  {
   "cell_type": "code",
   "execution_count": 4,
   "metadata": {},
   "outputs": [],
   "source": [
    "# fig = plt.figure(figsize=(15, 15), facecolor='w', edgecolor='k')\n",
    "\n",
    "# #MLD_sept_mean[MLD_sept_mean == 0] = np.nan\n",
    "# data, elem_no_nan = pf.get_data(data_lim_mean,mesh,0)\n",
    "# ax1      = fig.add_subplot(111)\n",
    "# contours = np.arange(50, 101, 1)\n",
    "# m = Basemap(projection='nplaea',boundinglat=70,lon_0=0,resolution='l')\n",
    "# x, y = m(mesh.x2, mesh.y2)\n",
    "# plabels=[False,False,False,False]\n",
    "# mlabels=[False,False,False,False]    \n",
    "# m.drawparallels(np.arange(-80.,81.,20.), labels=plabels)\n",
    "# m.drawmeridians(np.arange(-180.,181.,20.),labels=mlabels) #[0,1,0,0]\n",
    "# m.drawmapboundary(fill_color='0.7')\n",
    "# m.fillcontinents(color='.5',lake_color='.7')\n",
    "# im=plt.tricontourf(x, y, elem_no_nan, (data) , levels=contours, cmap=cmap.cm.thermal, extend='min')\n",
    "# label = 'Light limitation occurence [%]'\n",
    "# cbar=m.colorbar(im,\"bottom\", size=\"5%\", pad=\"2%\")\n",
    "# cbar.set_label(label, fontsize=14)\n",
    "# cbar.ax.tick_params(labelsize=12)\n",
    "# plt.title('Light limitation occurence [%]', fontsize=16)"
   ]
  },
  {
   "cell_type": "code",
   "execution_count": 5,
   "metadata": {},
   "outputs": [],
   "source": [
    "# fig = plt.figure(figsize=(15, 15), facecolor='w', edgecolor='k')\n",
    "\n",
    "# #MLD_sept_mean[MLD_sept_mean == 0] = np.nan\n",
    "# data, elem_no_nan = pf.get_data(data_lim_trend,mesh,0)\n",
    "# ax1      = fig.add_subplot(111)\n",
    "# contours = np.arange(-2, 2.01, .01)\n",
    "# m = Basemap(projection='nplaea',boundinglat=70,lon_0=0,resolution='l')\n",
    "# x, y = m(mesh.x2, mesh.y2)\n",
    "# plabels=[False,False,False,False]\n",
    "# mlabels=[False,False,False,False]    \n",
    "# m.drawparallels(np.arange(-80.,81.,20.), labels=plabels)\n",
    "# m.drawmeridians(np.arange(-180.,181.,20.),labels=mlabels) #[0,1,0,0]\n",
    "# m.drawmapboundary(fill_color='0.7')\n",
    "# m.fillcontinents(color='.5',lake_color='.7')\n",
    "# im=plt.tricontourf(x, y, elem_no_nan, (data) , levels=contours, cmap=cmap.cm.balance, extend='both')\n",
    "# label = 'Light limitation occurence trend [% yr$^{-1}$]'\n",
    "# cbar=m.colorbar(im,\"bottom\", size=\"5%\", pad=\"2%\")\n",
    "# cbar.set_label(label, fontsize=14)\n",
    "# cbar.ax.tick_params(labelsize=12)\n",
    "# plt.title('Light limitation occurence trend [% yr$^{-1}$]', fontsize=16)"
   ]
  },
  {
   "cell_type": "code",
   "execution_count": null,
   "metadata": {},
   "outputs": [],
   "source": []
  }
 ],
 "metadata": {
  "kernelspec": {
   "display_name": "Python 2",
   "language": "python",
   "name": "python2"
  },
  "language_info": {
   "codemirror_mode": {
    "name": "ipython",
    "version": 2
   },
   "file_extension": ".py",
   "mimetype": "text/x-python",
   "name": "python",
   "nbconvert_exporter": "python",
   "pygments_lexer": "ipython2",
   "version": "2.7.16"
  }
 },
 "nbformat": 4,
 "nbformat_minor": 2
}
