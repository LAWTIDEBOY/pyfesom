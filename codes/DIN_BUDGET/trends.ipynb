{
 "cells": [
  {
   "cell_type": "code",
   "execution_count": 219,
   "metadata": {},
   "outputs": [],
   "source": [
    "import os\n",
    "import sys\n",
    "\n",
    "# Define local pass #\n",
    "#wd_path = '/home/hbkoziel/pyfesom/'\n",
    "\n",
    "sys.path.append('../..') # add standard 's modules\n",
    "sys.path.append('../modules')\n",
    "#sys.path.append(wd_path)\n",
    "#########################################"
   ]
  },
  {
   "cell_type": "code",
   "execution_count": 220,
   "metadata": {},
   "outputs": [],
   "source": [
    "import pyfesom as pf\n",
    "import matplotlib.pyplot as plt\n",
    "from matplotlib import cm\n",
    "#sys.path.append('/home/hbkoziel/pyfesom/pyfesom/cmocean/')\n",
    "#import cmocean as cmap\n",
    "#from mpl_toolkits.basemap import Basemap\n",
    "import numpy as np\n",
    "from netCDF4 import Dataset\n",
    "import time\n",
    "#import seaborn as sns\n",
    "\n",
    "import xarray as xr\n",
    "import pandas as pd"
   ]
  },
  {
   "cell_type": "code",
   "execution_count": 221,
   "metadata": {},
   "outputs": [
    {
     "name": "stdout",
     "output_type": "stream",
     "text": [
      "/scratch/usr/hbkoziel/mesh/meshArc4.5/pickle_mesh\n",
      "2\n",
      "The usepickle == True)\n",
      "The pickle file for python 2 exists.\n",
      "The mesh will be loaded from /scratch/usr/hbkoziel/mesh/meshArc4.5/pickle_mesh\n"
     ]
    }
   ],
   "source": [
    "# Loading mesh for run\n",
    "\n",
    "mesh_id    = 'meshArc4.5'\n",
    "meshpath   = '/scratch/usr/hbkoziel/mesh/'+mesh_id+'/'            # Defining path where mesh is stored\n",
    "mesh = pf.load_mesh(meshpath, usepickle=True, get3d=False)                                    # Loading mesh, stores it in mesh.****  \n",
    "#mesh = pf.fesom_mesh(meshpath, get3d=True)\n",
    "#mesh.zlevs = -mesh.zlevs                                            # Depth is made negative\n",
    "\n",
    "first_year = 1985\n",
    "last_year  = 2015\n",
    "years      = np.arange(first_year,last_year+1,1)\n",
    "runid\t= 'Arc12'\n",
    "\n",
    "data_path  = '/scratch/usr/hbkoziel/'+runid+'/netcdf_monthly/'"
   ]
  },
  {
   "cell_type": "code",
   "execution_count": 222,
   "metadata": {},
   "outputs": [
    {
     "name": "stdout",
     "output_type": "stream",
     "text": [
      "loading index...\n",
      "LOADING DONE\n",
      "SORTING...\n",
      "CLEANING DONE...\n"
     ]
    }
   ],
   "source": [
    "print('loading index...')\n",
    "df = pd.read_csv(meshpath+'/bioregion_index_latlon.csv', delimiter=',',header=0)\n",
    "print('LOADING DONE')\n",
    "df.sort_values(by ='Unique_ID',inplace=True)\n",
    "index = df[\"Unique_ID\"]\n",
    "index_unique = df.Unique_ID.unique().tolist()\n",
    "index_unique.pop(-1)\n",
    "print('SORTING...')\n",
    "names = df.Name.unique().tolist()\n",
    "names.pop(-1)\n",
    "names[3]='Beaufort Sea - shelf'\n",
    "names[4]='Amundsen-Viscount'\n",
    "names.append('All Arctic Ocean (>66N)')\n",
    "print('CLEANING DONE...')"
   ]
  },
  {
   "cell_type": "code",
   "execution_count": 223,
   "metadata": {},
   "outputs": [],
   "source": [
    "ncfile      = meshpath+'Arc4.5.initial.mesh.diag.nc'\n",
    "f           = Dataset(ncfile, 'r')\n",
    "NodalAreaModel = f.variables['cluster_area'][:]"
   ]
  },
  {
   "cell_type": "code",
   "execution_count": 224,
   "metadata": {},
   "outputs": [],
   "source": [
    "colors = plt.get_cmap(\"tab10\")"
   ]
  },
  {
   "cell_type": "markdown",
   "metadata": {},
   "source": [
    "# pan-Arctic continental slope"
   ]
  },
  {
   "cell_type": "code",
   "execution_count": 225,
   "metadata": {},
   "outputs": [],
   "source": [
    "ind_bio = np.load('index_slope.npy')"
   ]
  },
  {
   "cell_type": "code",
   "execution_count": 226,
   "metadata": {},
   "outputs": [],
   "source": [
    "first_year = 1985\n",
    "last_year  = 2015\n",
    "years      = np.arange(first_year,last_year+1,1)\n",
    "tracer = 'VADVv2'\n",
    "df1_sl = pd.DataFrame()\n",
    "dates = pd.date_range('1985', freq=\"MS\", periods= 12*len(np.arange(1985,2016,1)))\n",
    "data = xr.open_mfdataset(data_path+tracer+'.*.nc', concat_dim='time')\n",
    "data['time'] = dates\n",
    "    \n",
    "data_sel = data['VADV'].sel(time=slice(str(first_year)+'-01-01', str(last_year)+'-12-31'))\n",
    "data_sel = data_sel.compute()\n",
    "data_reg = np.sum(data_sel[:,ind_bio]*NodalAreaModel[ind_bio],axis=1)/np.sum(NodalAreaModel[ind_bio])\n",
    "df1_sl[tracer] = data_reg.data*30\n",
    "\n",
    "df1_sl['time'] = dates\n",
    "df1_sl.set_index('time', inplace= True)"
   ]
  },
  {
   "cell_type": "code",
   "execution_count": 227,
   "metadata": {},
   "outputs": [],
   "source": [
    "df1_sl_yearly = pd.DataFrame()\n",
    "yearly_data = data_sel.resample(time='1A').mean(dim='time')\n",
    "data_reg = np.sum(yearly_data[:,ind_bio]*NodalAreaModel[ind_bio],axis=1)/np.sum(NodalAreaModel[ind_bio])\n",
    "df1_sl_yearly[tracer] = data_reg.data*30\n",
    "\n",
    "dates = pd.date_range('1985', freq=\"1A\", periods= len(np.arange(1985,2016,1)))\n",
    "df1_sl_yearly['time'] = dates\n",
    "df1_sl_yearly.set_index('time', inplace= True)\n",
    "df1_sl_yearly.to_pickle('VADV_sl')"
   ]
  },
  {
   "cell_type": "code",
   "execution_count": 228,
   "metadata": {},
   "outputs": [],
   "source": [
    "tracer = 'HADVv2'\n",
    "df3_sl = pd.DataFrame()\n",
    "dates = pd.date_range('1985', freq=\"MS\", periods= 12*len(np.arange(1985,2016,1)))\n",
    "data = xr.open_mfdataset(data_path+tracer+'.*.nc', concat_dim='time')\n",
    "data['time'] = dates\n",
    "    \n",
    "data_sel = data['ADVH'].sel(time=slice(str(first_year)+'-01-01', str(last_year)+'-12-31'))\n",
    "data_sel = data_sel.compute()\n",
    "data_reg = np.sum(data_sel[:,ind_bio]*NodalAreaModel[ind_bio],axis=1)/np.sum(NodalAreaModel[ind_bio])\n",
    "df3_sl[tracer] = data_reg.data*30\n",
    "\n",
    "df3_sl['time'] = dates\n",
    "df3_sl.set_index('time', inplace= True)"
   ]
  },
  {
   "cell_type": "code",
   "execution_count": 229,
   "metadata": {},
   "outputs": [],
   "source": [
    "df3_sl_yearly = pd.DataFrame()\n",
    "yearly_data = data_sel.resample(time='1A').mean(dim='time')\n",
    "data_reg = np.sum(yearly_data[:,ind_bio]*NodalAreaModel[ind_bio],axis=1)/np.sum(NodalAreaModel[ind_bio])\n",
    "df3_sl_yearly[tracer] = data_reg.data*30\n",
    "\n",
    "dates = pd.date_range('1985', freq=\"1A\", periods= len(np.arange(1985,2016,1)))\n",
    "df3_sl_yearly['time'] = dates\n",
    "df3_sl_yearly.set_index('time', inplace= True)\n",
    "df3_sl_yearly.to_pickle('HADV_sl')"
   ]
  },
  {
   "cell_type": "code",
   "execution_count": 230,
   "metadata": {},
   "outputs": [],
   "source": [
    "first_year = 2000\n",
    "last_year  = 2015\n",
    "years      = np.arange(first_year,last_year+1,1)\n",
    "\n",
    "tracer = 'VEDYv2'\n",
    "df2_sl = pd.DataFrame()\n",
    "dates = pd.date_range('2000', freq=\"MS\", periods= 12*len(np.arange(2000,2016,1)))\n",
    "data = xr.open_mfdataset(data_path+tracer+'.*.nc', concat_dim='time')\n",
    "data['time'] = dates\n",
    "    \n",
    "data_sel = data['VEDY'].sel(time=slice(str(first_year)+'-01-01', str(last_year)+'-12-31'))\n",
    "data_sel = data_sel.compute()\n",
    "data_reg = np.sum(data_sel[:,ind_bio]*NodalAreaModel[ind_bio],axis=1)/np.sum(NodalAreaModel[ind_bio])\n",
    "df2_sl[tracer] = data_reg.data*30\n",
    "\n",
    "df2_sl['time'] = dates\n",
    "df2_sl.set_index('time', inplace= True)\n",
    "#df2.head()"
   ]
  },
  {
   "cell_type": "code",
   "execution_count": 231,
   "metadata": {},
   "outputs": [],
   "source": [
    "df2_sl_yearly = pd.DataFrame()\n",
    "yearly_data = data_sel.resample(time='1A').mean(dim='time')\n",
    "data_reg = np.sum(yearly_data[:,ind_bio]*NodalAreaModel[ind_bio],axis=1)/np.sum(NodalAreaModel[ind_bio])\n",
    "df2_sl_yearly[tracer] = data_reg.data*30\n",
    "\n",
    "dates = pd.date_range('2000', freq=\"1A\", periods= len(np.arange(2000,2016,1)))\n",
    "df2_sl_yearly['time'] = dates\n",
    "df2_sl_yearly.set_index('time', inplace= True)\n",
    "df2_sl_yearly.to_pickle('VEDY_sl')"
   ]
  },
  {
   "cell_type": "code",
   "execution_count": 232,
   "metadata": {},
   "outputs": [],
   "source": [
    "tracer = 'HEDYv2'\n",
    "df4_sl = pd.DataFrame()\n",
    "dates = pd.date_range('2000', freq=\"MS\", periods= 12*len(np.arange(2000,2016,1)))\n",
    "data = xr.open_mfdataset(data_path+tracer+'.*.nc', concat_dim='time')\n",
    "data['time'] = dates\n",
    "    \n",
    "data_sel = data['HEDY'].sel(time=slice(str(first_year)+'-01-01', str(last_year)+'-12-31'))\n",
    "data_sel = data_sel.compute()\n",
    "data_reg = np.sum(data_sel[:,ind_bio]*NodalAreaModel[ind_bio],axis=1)/np.sum(NodalAreaModel[ind_bio])\n",
    "df4[tracer] = data_reg.data*30\n",
    "\n",
    "df4_sl['time'] = dates\n",
    "df4_sl.set_index('time', inplace= True)\n",
    "#df2.head()"
   ]
  },
  {
   "cell_type": "code",
   "execution_count": 233,
   "metadata": {},
   "outputs": [],
   "source": [
    "df4_sl_yearly = pd.DataFrame()\n",
    "yearly_data = data_sel.resample(time='1A').mean(dim='time')\n",
    "data_reg = np.sum(yearly_data[:,ind_bio]*NodalAreaModel[ind_bio],axis=1)/np.sum(NodalAreaModel[ind_bio])\n",
    "df4_sl_yearly[tracer] = data_reg.data*30\n",
    "\n",
    "dates = pd.date_range('2000', freq=\"1A\", periods= len(np.arange(2000,2016,1)))\n",
    "df4_sl_yearly['time'] = dates\n",
    "df4_sl_yearly.set_index('time', inplace= True)\n",
    "df4_sl_yearly.to_pickle('HEDY_sl')"
   ]
  },
  {
   "cell_type": "markdown",
   "metadata": {},
   "source": [
    "# Eurasian basin"
   ]
  },
  {
   "cell_type": "code",
   "execution_count": 256,
   "metadata": {},
   "outputs": [],
   "source": [
    "ind_bio = np.load('index_eurasian.npy')"
   ]
  },
  {
   "cell_type": "code",
   "execution_count": 257,
   "metadata": {},
   "outputs": [],
   "source": [
    "first_year = 1985\n",
    "last_year  = 2015\n",
    "years      = np.arange(first_year,last_year+1,1)\n",
    "tracer = 'VADVv2'\n",
    "df1_eu = pd.DataFrame()\n",
    "dates = pd.date_range('1985', freq=\"MS\", periods= 12*len(np.arange(1985,2016,1)))\n",
    "data = xr.open_mfdataset(data_path+tracer+'.*.nc', concat_dim='time')\n",
    "data['time'] = dates\n",
    "    \n",
    "data_sel = data['VADV'].sel(time=slice(str(first_year)+'-01-01', str(last_year)+'-12-31'))\n",
    "data_sel = data_sel.compute()\n",
    "data_reg = np.sum(data_sel[:,ind_bio]*NodalAreaModel[ind_bio],axis=1)/np.sum(NodalAreaModel[ind_bio])\n",
    "df1_eu[tracer] = data_reg.data*30\n",
    "\n",
    "df1_eu['time'] = dates\n",
    "df1_eu.set_index('time', inplace= True)"
   ]
  },
  {
   "cell_type": "code",
   "execution_count": 258,
   "metadata": {},
   "outputs": [],
   "source": [
    "df1_eu_yearly = pd.DataFrame()\n",
    "yearly_data = data_sel.resample(time='1A').mean(dim='time')\n",
    "data_reg = np.sum(yearly_data[:,ind_bio]*NodalAreaModel[ind_bio],axis=1)/np.sum(NodalAreaModel[ind_bio])\n",
    "df1_eu_yearly[tracer] = data_reg.data*30\n",
    "\n",
    "dates = pd.date_range('1985', freq=\"1A\", periods= len(np.arange(1985,2016,1)))\n",
    "df1_eu_yearly['time'] = dates\n",
    "df1_eu_yearly.set_index('time', inplace= True)\n",
    "df1_eu_yearly.to_pickle('VADV_eu')"
   ]
  },
  {
   "cell_type": "code",
   "execution_count": 237,
   "metadata": {},
   "outputs": [],
   "source": [
    "tracer = 'HADVv2'\n",
    "df3_eu = pd.DataFrame()\n",
    "dates = pd.date_range('1985', freq=\"MS\", periods= 12*len(np.arange(1985,2016,1)))\n",
    "data = xr.open_mfdataset(data_path+tracer+'.*.nc', concat_dim='time')\n",
    "data['time'] = dates\n",
    "    \n",
    "data_sel = data['ADVH'].sel(time=slice(str(first_year)+'-01-01', str(last_year)+'-12-31'))\n",
    "data_sel = data_sel.compute()\n",
    "data_reg = np.sum(data_sel[:,ind_bio]*NodalAreaModel[ind_bio],axis=1)/np.sum(NodalAreaModel[ind_bio])\n",
    "df3_eu[tracer] = data_reg.data*30\n",
    "\n",
    "df3_eu['time'] = dates\n",
    "df3_eu.set_index('time', inplace= True)"
   ]
  },
  {
   "cell_type": "code",
   "execution_count": 238,
   "metadata": {},
   "outputs": [],
   "source": [
    "df3_eu_yearly = pd.DataFrame()\n",
    "yearly_data = data_sel.resample(time='1A').mean(dim='time')\n",
    "data_reg = np.sum(yearly_data[:,ind_bio]*NodalAreaModel[ind_bio],axis=1)/np.sum(NodalAreaModel[ind_bio])\n",
    "df3_eu_yearly[tracer] = data_reg.data*30\n",
    "\n",
    "dates = pd.date_range('1985', freq=\"1A\", periods= len(np.arange(1985,2016,1)))\n",
    "df3_eu_yearly['time'] = dates\n",
    "df3_eu_yearly.set_index('time', inplace= True)\n",
    "df3_eu_yearly.to_pickle('HADV_eu')"
   ]
  },
  {
   "cell_type": "code",
   "execution_count": 239,
   "metadata": {},
   "outputs": [],
   "source": [
    "first_year = 2000\n",
    "last_year  = 2015\n",
    "years      = np.arange(first_year,last_year+1,1)\n",
    "\n",
    "tracer = 'VEDYv2'\n",
    "df2_eu = pd.DataFrame()\n",
    "dates = pd.date_range('2000', freq=\"MS\", periods= 12*len(np.arange(2000,2016,1)))\n",
    "data = xr.open_mfdataset(data_path+tracer+'.*.nc', concat_dim='time')\n",
    "data['time'] = dates\n",
    "    \n",
    "data_sel = data['VEDY'].sel(time=slice(str(first_year)+'-01-01', str(last_year)+'-12-31'))\n",
    "data_sel = data_sel.compute()\n",
    "data_reg = np.sum(data_sel[:,ind_bio]*NodalAreaModel[ind_bio],axis=1)/np.sum(NodalAreaModel[ind_bio])\n",
    "df2_eu[tracer] = data_reg.data*30\n",
    "\n",
    "df2_eu['time'] = dates\n",
    "df2_eu.set_index('time', inplace= True)\n",
    "#df2.head()"
   ]
  },
  {
   "cell_type": "code",
   "execution_count": 240,
   "metadata": {},
   "outputs": [],
   "source": [
    "df2_eu_yearly = pd.DataFrame()\n",
    "yearly_data = data_sel.resample(time='1A').mean(dim='time')\n",
    "data_reg = np.sum(yearly_data[:,ind_bio]*NodalAreaModel[ind_bio],axis=1)/np.sum(NodalAreaModel[ind_bio])\n",
    "df2_eu_yearly[tracer] = data_reg.data*30\n",
    "\n",
    "dates = pd.date_range('2000', freq=\"1A\", periods= len(np.arange(2000,2016,1)))\n",
    "df2_eu_yearly['time'] = dates\n",
    "df2_eu_yearly.set_index('time', inplace= True)\n",
    "df2_eu_yearly.to_pickle('VEDY_eu')"
   ]
  },
  {
   "cell_type": "code",
   "execution_count": 241,
   "metadata": {},
   "outputs": [],
   "source": [
    "tracer = 'HEDYv2'\n",
    "df4_eu = pd.DataFrame()\n",
    "dates = pd.date_range('2000', freq=\"MS\", periods= 12*len(np.arange(2000,2016,1)))\n",
    "data = xr.open_mfdataset(data_path+tracer+'.*.nc', concat_dim='time')\n",
    "data['time'] = dates\n",
    "    \n",
    "data_sel = data['HEDY'].sel(time=slice(str(first_year)+'-01-01', str(last_year)+'-12-31'))\n",
    "data_sel = data_sel.compute()\n",
    "data_reg = np.sum(data_sel[:,ind_bio]*NodalAreaModel[ind_bio],axis=1)/np.sum(NodalAreaModel[ind_bio])\n",
    "df4_eu[tracer] = data_reg.data*30\n",
    "\n",
    "df4_eu['time'] = dates\n",
    "df4_eu.set_index('time', inplace= True)\n",
    "#df2.head()"
   ]
  },
  {
   "cell_type": "code",
   "execution_count": 242,
   "metadata": {},
   "outputs": [],
   "source": [
    "df4_eu_yearly = pd.DataFrame()\n",
    "yearly_data = data_sel.resample(time='1A').mean(dim='time')\n",
    "data_reg = np.sum(yearly_data[:,ind_bio]*NodalAreaModel[ind_bio],axis=1)/np.sum(NodalAreaModel[ind_bio])\n",
    "df4_eu_yearly[tracer] = data_reg.data*30\n",
    "\n",
    "dates = pd.date_range('2000', freq=\"1A\", periods= len(np.arange(2000,2016,1)))\n",
    "df4_eu_yearly['time'] = dates\n",
    "df4_eu_yearly.set_index('time', inplace= True)\n",
    "df4_eu_yearly.to_pickle('HEDY_eu')"
   ]
  },
  {
   "cell_type": "markdown",
   "metadata": {},
   "source": [
    "# Amerasian Basin"
   ]
  },
  {
   "cell_type": "code",
   "execution_count": 243,
   "metadata": {},
   "outputs": [],
   "source": [
    "ind_bio = np.load('index_amerasian.npy')"
   ]
  },
  {
   "cell_type": "code",
   "execution_count": 244,
   "metadata": {},
   "outputs": [],
   "source": [
    "first_year = 1985\n",
    "last_year  = 2015\n",
    "years      = np.arange(first_year,last_year+1,1)\n",
    "tracer = 'VADVv2'\n",
    "df1_am = pd.DataFrame()\n",
    "dates = pd.date_range('1985', freq=\"MS\", periods= 12*len(np.arange(1985,2016,1)))\n",
    "data = xr.open_mfdataset(data_path+tracer+'.*.nc', concat_dim='time')\n",
    "data['time'] = dates\n",
    "    \n",
    "data_sel = data['VADV'].sel(time=slice(str(first_year)+'-01-01', str(last_year)+'-12-31'))\n",
    "data_sel = data_sel.compute()\n",
    "data_reg = np.sum(data_sel[:,ind_bio]*NodalAreaModel[ind_bio],axis=1)/np.sum(NodalAreaModel[ind_bio])\n",
    "df1_am[tracer] = data_reg.data *30\n",
    "\n",
    "df1_am['time'] = dates\n",
    "df1_am.set_index('time', inplace= True)"
   ]
  },
  {
   "cell_type": "code",
   "execution_count": 245,
   "metadata": {},
   "outputs": [],
   "source": [
    "df1_am_yearly = pd.DataFrame()\n",
    "yearly_data = data_sel.resample(time='1A').mean(dim='time')\n",
    "data_reg = np.sum(yearly_data[:,ind_bio]*NodalAreaModel[ind_bio],axis=1)/np.sum(NodalAreaModel[ind_bio])\n",
    "df1_am_yearly[tracer] = data_reg.data*30\n",
    "\n",
    "dates = pd.date_range('1985', freq=\"1A\", periods= len(np.arange(1985,2016,1)))\n",
    "df1_am_yearly['time'] = dates\n",
    "df1_am_yearly.set_index('time', inplace= True)\n",
    "df1_am_yearly.to_pickle('VADV_am')"
   ]
  },
  {
   "cell_type": "code",
   "execution_count": 246,
   "metadata": {},
   "outputs": [],
   "source": [
    "tracer = 'HADVv2'\n",
    "df3_am = pd.DataFrame()\n",
    "dates = pd.date_range('1985', freq=\"MS\", periods= 12*len(np.arange(1985,2016,1)))\n",
    "data = xr.open_mfdataset(data_path+tracer+'.*.nc', concat_dim='time')\n",
    "data['time'] = dates\n",
    "    \n",
    "data_sel = data['ADVH'].sel(time=slice(str(first_year)+'-01-01', str(last_year)+'-12-31'))\n",
    "data_sel = data_sel.compute()\n",
    "data_reg = np.sum(data_sel[:,ind_bio]*NodalAreaModel[ind_bio],axis=1)/np.sum(NodalAreaModel[ind_bio])\n",
    "df3_am[tracer] = data_reg.data*30\n",
    "\n",
    "df3_am['time'] = dates\n",
    "df3_am.set_index('time', inplace= True)"
   ]
  },
  {
   "cell_type": "code",
   "execution_count": 247,
   "metadata": {},
   "outputs": [],
   "source": [
    "df3_am_yearly = pd.DataFrame()\n",
    "yearly_data = data_sel.resample(time='1A').mean(dim='time')\n",
    "data_reg = np.sum(yearly_data[:,ind_bio]*NodalAreaModel[ind_bio],axis=1)/np.sum(NodalAreaModel[ind_bio])\n",
    "df3_am_yearly[tracer] = data_reg.data*30\n",
    "\n",
    "dates = pd.date_range('1985', freq=\"1A\", periods= len(np.arange(1985,2016,1)))\n",
    "df3_am_yearly['time'] = dates\n",
    "df3_am_yearly.set_index('time', inplace= True)\n",
    "df3_am_yearly.to_pickle('HADV_am')"
   ]
  },
  {
   "cell_type": "code",
   "execution_count": 248,
   "metadata": {},
   "outputs": [],
   "source": [
    "first_year = 2000\n",
    "last_year  = 2015\n",
    "years      = np.arange(first_year,last_year+1,1)\n",
    "\n",
    "tracer = 'VEDYv2'\n",
    "df2_am = pd.DataFrame()\n",
    "dates = pd.date_range('2000', freq=\"MS\", periods= 12*len(np.arange(2000,2016,1)))\n",
    "data = xr.open_mfdataset(data_path+tracer+'.*.nc', concat_dim='time')\n",
    "data['time'] = dates\n",
    "    \n",
    "data_sel = data['VEDY'].sel(time=slice(str(first_year)+'-01-01', str(last_year)+'-12-31'))\n",
    "data_sel = data_sel.compute()\n",
    "data_reg = np.sum(data_sel[:,ind_bio]*NodalAreaModel[ind_bio],axis=1)/np.sum(NodalAreaModel[ind_bio])\n",
    "df2_am[tracer] = data_reg.data*30\n",
    "\n",
    "df2_am['time'] = dates\n",
    "df2_am.set_index('time', inplace= True)\n",
    "#df2.head()"
   ]
  },
  {
   "cell_type": "code",
   "execution_count": 249,
   "metadata": {},
   "outputs": [],
   "source": [
    "df2_am_yearly = pd.DataFrame()\n",
    "yearly_data = data_sel.resample(time='1A').mean(dim='time')\n",
    "data_reg = np.sum(yearly_data[:,ind_bio]*NodalAreaModel[ind_bio],axis=1)/np.sum(NodalAreaModel[ind_bio])\n",
    "df2_am_yearly[tracer] = data_reg.data*30\n",
    "\n",
    "dates = pd.date_range('2000', freq=\"1A\", periods= len(np.arange(2000,2016,1)))\n",
    "df2_am_yearly['time'] = dates\n",
    "df2_am_yearly.set_index('time', inplace= True)\n",
    "df2_am_yearly.to_pickle('VEDY_am')"
   ]
  },
  {
   "cell_type": "code",
   "execution_count": 250,
   "metadata": {},
   "outputs": [],
   "source": [
    "tracer = 'HEDYv2'\n",
    "df4_am = pd.DataFrame()\n",
    "dates = pd.date_range('2000', freq=\"MS\", periods= 12*len(np.arange(2000,2016,1)))\n",
    "data = xr.open_mfdataset(data_path+tracer+'.*.nc', concat_dim='time')\n",
    "data['time'] = dates\n",
    "    \n",
    "data_sel = data['HEDY'].sel(time=slice(str(first_year)+'-01-01', str(last_year)+'-12-31'))\n",
    "data_sel = data_sel.compute()\n",
    "data_reg = np.sum(data_sel[:,ind_bio]*NodalAreaModel[ind_bio],axis=1)/np.sum(NodalAreaModel[ind_bio])\n",
    "df4_am[tracer] = data_reg.data*30\n",
    "\n",
    "df4_am['time'] = dates\n",
    "df4_am.set_index('time', inplace= True)\n",
    "#df2.head()"
   ]
  },
  {
   "cell_type": "code",
   "execution_count": 251,
   "metadata": {},
   "outputs": [],
   "source": [
    "df4_am_yearly = pd.DataFrame()\n",
    "yearly_data = data_sel.resample(time='1A').mean(dim='time')\n",
    "data_reg = np.sum(yearly_data[:,ind_bio]*NodalAreaModel[ind_bio],axis=1)/np.sum(NodalAreaModel[ind_bio])\n",
    "df4_am_yearly[tracer] = data_reg.data*30\n",
    "\n",
    "dates = pd.date_range('2000', freq=\"1A\", periods= len(np.arange(2000,2016,1)))\n",
    "df4_am_yearly['time'] = dates\n",
    "df4_am_yearly.set_index('time', inplace= True)\n",
    "df4_am_yearly.to_pickle('HEDY_am')"
   ]
  },
  {
   "cell_type": "markdown",
   "metadata": {},
   "source": [
    "# Visualization"
   ]
  },
  {
   "cell_type": "code",
   "execution_count": 259,
   "metadata": {},
   "outputs": [],
   "source": [
    "df1_sl_yearly = pd.read_pickle('VADV_sl')\n",
    "df2_sl_yearly = pd.read_pickle('VEDY_sl')\n",
    "df3_sl_yearly = pd.read_pickle('HADV_sl')\n",
    "\n",
    "df1_eu_yearly = pd.read_pickle('VADV_eu')\n",
    "df2_eu_yearly = pd.read_pickle('VEDY_eu')\n",
    "df3_eu_yearly = pd.read_pickle('HADV_eu')\n",
    "\n",
    "df1_am_yearly = pd.read_pickle('VADV_am')\n",
    "df2_am_yearly = pd.read_pickle('VEDY_am')\n",
    "df3_am_yearly = pd.read_pickle('HADV_am')"
   ]
  },
  {
   "cell_type": "code",
   "execution_count": 260,
   "metadata": {},
   "outputs": [
    {
     "data": {
      "text/plain": [
       "Text(0.5,0,'time [years]')"
      ]
     },
     "execution_count": 260,
     "metadata": {},
     "output_type": "execute_result"
    },
    {
     "data": {
      "image/png": "[encoded data removed]",
      "text/plain": [
       "<Figure size 1224x720 with 6 Axes>"
      ]
     },
     "metadata": {},
     "output_type": "display_data"
    }
   ],
   "source": [
    "first_year = 1985\n",
    "last_year  = 2015\n",
    "years      = np.arange(first_year,last_year+1,1)\n",
    "figsize=(17, 10)\n",
    "\n",
    "rows,cols = 2,3\n",
    "fig, ((ax1, ax2, ax3), (ax4, ax5, ax6)) = plt.subplots(rows, cols, figsize=figsize, constrained_layout=False, sharex=False, sharey='row')#sharey='row'\n",
    "\n",
    "# fig = plt.figure(figsize=(17, 10), facecolor='w', edgecolor='k', sharex = True, sharey=True)\n",
    "# axs = fig.subplots(rows,cols,sharey=False,sharex=True)\n",
    "\n",
    "plt.style.use('seaborn-whitegrid')\n",
    "\n",
    "df1_sl_yearly['VADVv2'].plot(kind = 'line',style='.-',markersize = 10, lw = 3, ax = ax1, legend = False, label='V$_{mean+meso}$',color=colors(0))\n",
    "df2_sl_yearly['VEDYv2'].plot(kind = 'line',style='.-',markersize = 10, lw = 3, ax = ax1, legend = False, label='V$_{submeso}$',color=colors(1))\n",
    "df3_sl_yearly['HADVv2'].plot(kind = 'line',style='.-',markersize = 10, lw = 3, ax = ax1, legend = False, label='H$_{mean+meso}$',color=colors(2))\n",
    "#df4_yearly['HEDYv2'].plot(kind = 'line',style='.-',markersize = 10, lw = 3, ax = ax2, legend = True)\n",
    "ax1.set_title('pan-Arctic Slope')\n",
    "ax1.set_ylabel('Nitrate supply [mmol/m$^{2}$/d]')\n",
    "ax1.xaxis.label.set_visible(False)\n",
    "\n",
    "ax4.plot(years,df1_sl_yearly['VADVv2']+df3_sl_yearly['HADVv2'],'--k',lw=2,label='mesoscale+mean')\n",
    "ax4.plot(years,df3_sl_yearly['HADVv2']+df2_sl_yearly['VEDYv2']+df1_sl_yearly['VADVv2'],'k',lw=2,label='submesoscale')\n",
    "ax4.set_xlim(1985,2015)\n",
    "ax4.set_ylabel('Nitrate supply [mmol/m$^{2}$/d]')\n",
    "ax4.set_xlabel('time [years]')\n",
    "\n",
    "df1_eu_yearly['VADVv2'].plot(kind = 'line',style='.-',markersize = 10, lw = 3, ax = ax2, legend = False, label='V$_{mean+meso}$',color=colors(0))\n",
    "df2_eu_yearly['VEDYv2'].plot(kind = 'line',style='.-',markersize = 10, lw = 3, ax = ax2, legend = False, label='V$_{submeso}$',color=colors(1))\n",
    "df3_eu_yearly['HADVv2'].plot(kind = 'line',style='.-',markersize = 10, lw = 3, ax = ax2, legend = False, label='H$_{mean+meso}$',color=colors(2))\n",
    "#df4_yearly['HEDYv2'].plot(kind = 'line',style='.-',markersize = 10, lw = 3, ax = ax2, legend = True)\n",
    "ax2.set_title('Eurasian Basin')\n",
    "ax2.xaxis.label.set_visible(False)\n",
    "\n",
    "ax5.plot(years,df1_eu_yearly['VADVv2']+df3_eu_yearly['HADVv2'],'--k',lw=2,label='mesoscale+mean')\n",
    "ax5.plot(years,df3_eu_yearly['HADVv2']+df2_eu_yearly['VEDYv2']+df1_eu_yearly['VADVv2'],'k',lw=2,label='submesoscale')\n",
    "ax5.set_xlim(1985,2015)\n",
    "ax5.set_xlabel('time [years]')\n",
    "\n",
    "df1_am_yearly['VADVv2'].plot(kind = 'line',style='.-',markersize = 10, lw = 3, ax = ax3, legend = True, label='V$_{mean+meso}$',color=colors(0))\n",
    "df2_am_yearly['VEDYv2'].plot(kind = 'line',style='.-',markersize = 10, lw = 3, ax = ax3, legend = True, label='V$_{submeso}$',color=colors(1))\n",
    "df3_am_yearly['HADVv2'].plot(kind = 'line',style='.-',markersize = 10, lw = 3, ax = ax3, legend = True, label='H$_{mean+meso}$',color=colors(2))\n",
    "#df4_yearly['HEDYv2'].plot(kind = 'line',style='.-',markersize = 10, lw = 3, ax = ax2, legend = True)\n",
    "ax3.set_title('Amerasian Basin')\n",
    "ax3.legend(frameon=True,facecolor= 'lightgray',edgecolor='k',framealpha=.5)\n",
    "ax3.xaxis.label.set_visible(False)\n",
    "\n",
    "ax6.plot(years, df1_am_yearly['VADVv2']+df3_am_yearly['HADVv2'],'--k',lw=2,label='mesoscale+mean')\n",
    "ax6.plot(years, df3_am_yearly['HADVv2']+df2_am_yearly['VEDYv2']+df1_am_yearly['VADVv2'],'k',lw=2,label='submesoscale')\n",
    "ax6.legend(frameon=True,facecolor= 'lightgray',edgecolor='k',framealpha=.5)\n",
    "ax6.set_xlim(1985,2015)\n",
    "ax6.set_xlabel('time [years]')\n",
    "\n",
    "#plt.savefig(save_path+'FIG9.png', dpi = 300, bbox_inches='tight') "
   ]
  },
  {
   "cell_type": "code",
   "execution_count": 254,
   "metadata": {},
   "outputs": [],
   "source": [
    "# fig = plt.figure(figsize=(10, 17), facecolor='w', edgecolor='k')\n",
    "# plt.style.use('seaborn')\n",
    "\n",
    "# first_year = 1985\n",
    "# last_year  = 2015\n",
    "# years      = np.arange(first_year,last_year+1,1)\n",
    "\n",
    "# ax1      = fig.add_subplot(311)\n",
    "# df1['VADVv2'].plot(kind = 'line',style='.-',markersize = 10, lw = 3, ax = ax1, legend = True)\n",
    "# df2['VEDYv2'].plot(kind = 'line',style='.-',markersize = 10, lw = 3, ax = ax1, legend = True)\n",
    "# df3['HADVv2'].plot(kind = 'line',style='.-',markersize = 10, lw = 3, ax = ax1, legend = True)\n",
    "# #df4['HEDYv2'].plot(kind = 'line',style='.-',markersize = 10, lw = 3, ax = ax1, legend = True)\n",
    "# plt.title('Eurasian basin')\n",
    "# ax1.set_ylim(-0.015,0.025)\n",
    "\n",
    "# ax2      = fig.add_subplot(312)\n",
    "# df1_yearly['VADVv2'].plot(kind = 'line',style='.-',markersize = 10, lw = 3, ax = ax2, legend = True)\n",
    "# df2_yearly['VEDYv2'].plot(kind = 'line',style='.-',markersize = 10, lw = 3, ax = ax2, legend = True)\n",
    "# df3_yearly['HADVv2'].plot(kind = 'line',style='.-',markersize = 10, lw = 3, ax = ax2, legend = True)\n",
    "# #df4_yearly['HEDYv2'].plot(kind = 'line',style='.-',markersize = 10, lw = 3, ax = ax2, legend = True)\n",
    "# ax2.set_ylim(-0.006,0.011)\n",
    "\n",
    "# ax3      = fig.add_subplot(313)\n",
    "# plt.plot(years,df1_yearly['VADVv2']+df3_yearly['HADVv2'],'--k',lw=2)\n",
    "# plt.plot(years,df4_yearly['HEDYv2']+df3_yearly['HADVv2']+df2_yearly['VEDYv2']+df1_yearly['VADVv2'],'k',lw=2)"
   ]
  },
  {
   "cell_type": "code",
   "execution_count": 255,
   "metadata": {},
   "outputs": [],
   "source": [
    "# first_year = 1985\n",
    "# last_year  = 2015\n",
    "# years      = np.arange(first_year,last_year+1,1)\n",
    "\n",
    "\n",
    "# fig = plt.figure(figsize=(10, 17), facecolor='w', edgecolor='k')\n",
    "# plt.style.use('seaborn')\n",
    "\n",
    "# ax1      = fig.add_subplot(311)\n",
    "# df1['VADVv2'].plot(kind = 'line',style='.-',markersize = 10, lw = 3, ax = ax1, legend = True)\n",
    "# df2['VEDYv2'].plot(kind = 'line',style='.-',markersize = 10, lw = 3, ax = ax1, legend = True)\n",
    "# df3['HADVv2'].plot(kind = 'line',style='.-',markersize = 10, lw = 3, ax = ax1, legend = True)\n",
    "# #df4['HEDYv2'].plot(kind = 'line',style='.-',markersize = 10, lw = 3, ax = ax1, legend = True)\n",
    "# plt.title('Amerasian basin')\n",
    "# ax1.set_ylim(-0.015,0.025)\n",
    "\n",
    "# ax2      = fig.add_subplot(312)\n",
    "# df1_yearly['VADVv2'].plot(kind = 'line',style='.-',markersize = 10, lw = 3, ax = ax2, legend = True)\n",
    "# df2_yearly['VEDYv2'].plot(kind = 'line',style='.-',markersize = 10, lw = 3, ax = ax2, legend = True)\n",
    "# df3_yearly['HADVv2'].plot(kind = 'line',style='.-',markersize = 10, lw = 3, ax = ax2, legend = True)\n",
    "# #df4_yearly['HEDYv2'].plot(kind = 'line',style='.-',markersize = 10, lw = 3, ax = ax2, legend = True)\n",
    "# ax2.plot(years,df4_yearly['HEDYv2']+df3_yearly['HADVv2']+df2_yearly['VEDYv2']+df1_yearly['VADVv2'],'k',lw=2)\n",
    "# ax2.set_ylim(-0.006,0.011)\n",
    "\n",
    "# ax3      = fig.add_subplot(313)\n",
    "# plt.plot(years,df1_yearly['VADVv2']+df3_yearly['HADVv2'],'--k',lw=2)\n",
    "# plt.plot(years,df4_yearly['HEDYv2']+df3_yearly['HADVv2']+df2_yearly['VEDYv2']+df1_yearly['VADVv2'],'k',lw=2)"
   ]
  },
  {
   "cell_type": "code",
   "execution_count": null,
   "metadata": {},
   "outputs": [],
   "source": []
  },
  {
   "cell_type": "code",
   "execution_count": null,
   "metadata": {},
   "outputs": [],
   "source": []
  }
 ],
 "metadata": {
  "kernelspec": {
   "display_name": "Python 2",
   "language": "python",
   "name": "python2"
  },
  "language_info": {
   "codemirror_mode": {
    "name": "ipython",
    "version": 2
   },
   "file_extension": ".py",
   "mimetype": "text/x-python",
   "name": "python",
   "nbconvert_exporter": "python",
   "pygments_lexer": "ipython2",
   "version": "2.7.16"
  }
 },
 "nbformat": 4,
 "nbformat_minor": 2
}
