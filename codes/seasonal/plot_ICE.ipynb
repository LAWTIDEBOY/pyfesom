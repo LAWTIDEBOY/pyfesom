{
 "cells": [
  {
   "cell_type": "code",
   "execution_count": 1,
   "metadata": {},
   "outputs": [
    {
     "name": "stdout",
     "output_type": "stream",
     "text": [
      "computer =  blogin1\n",
      "working directory set to /home/hbkoziel/pyfesom\n"
     ]
    }
   ],
   "source": [
    "import os\n",
    "from os.path import expanduser\n",
    "import socket\n",
    "import sys\n",
    "\n",
    "\n",
    "# BELOW IS SYSTEM/PATH CONFIGURATION #\n",
    "my_home = expanduser(\"~\")\n",
    "running_system = socket.gethostname()\n",
    "# Configure machine's names here #\n",
    "systemHLRN = 'blogin1'\n",
    "systemLOCAL = 'Laurents-MacBook-Pro.local'\n",
    "my_home = expanduser(\"~\")\n",
    "# Define local pass #\n",
    "if running_system == systemLOCAL:\n",
    "    print \"computer = \", running_system\n",
    "    wd_path = os.path.join(my_home,\"Documents\",\"projects\", \"pyfesom\")\n",
    "elif running_system[0:1] == \"b\" or running_system == systemHLRN:\n",
    "    print \"computer = \", running_system\n",
    "    wd_path = os.path.join(my_home,\"pyfesom\")\n",
    "else:\n",
    "    print 'please configure your local machine : type socket.gethostname()'\n",
    "print \"working directory set to\", wd_path\n",
    "os.chdir(wd_path)\n",
    "# IMPORT PY-FESOM MODULES\n",
    "sys.path.append(\"codes/modules\")\n",
    "sys.path.append(\"codes/pyfesom-master/\") # add pyfesom to search path\n",
    "#########################################"
   ]
  },
  {
   "cell_type": "code",
   "execution_count": 2,
   "metadata": {},
   "outputs": [
    {
     "name": "stdout",
     "output_type": "stream",
     "text": [
      "No joblib\n",
      "no cmocean\n"
     ]
    }
   ],
   "source": [
    "import matplotlib.pyplot as plt\n",
    "from mpl_toolkits.basemap import Basemap\n",
    "from pylab import *\n",
    "from load_mesh_data_new import *\n",
    "import numpy as np\n",
    "import datetime as dt\n",
    "from PiecewiseNorm import PiecewiseNorm\n",
    "from netCDF4 import Dataset\n",
    "#import colormaps as cmaps\n",
    "from matplotlib.colors import ListedColormap\n",
    "import pyfesom as pf"
   ]
  },
  {
   "cell_type": "code",
   "execution_count": 12,
   "metadata": {},
   "outputs": [
    {
     "name": "stdout",
     "output_type": "stream",
     "text": [
      "directory /home/hbkoziel/pyfesom/figures/Arc12/ already existing\n"
     ]
    }
   ],
   "source": [
    "# PLOT CONFIGURATION #\n",
    "\n",
    "\n",
    "# figure export \n",
    "export_plot = True\n",
    "# figure export definition\n",
    "dpicnt=150\n",
    "# choose simulation\n",
    "runid='Arc12'\n",
    "# choose date\n",
    "first_year = 1980\n",
    "last_year  = 2015\n",
    "years      = np.arange(first_year,last_year+1,1)\n",
    "months =np.linspace(0,11,12).astype(int)\n",
    "# choose depth\n",
    "get3d = False\n",
    "# export CSV\n",
    "export_csv = True\n",
    "# load the given biological tracer #\n",
    "var_id= 'area'\n",
    "# load colormaps #\n",
    "cmap = plt.get_cmap('RdYlBu_r',len(years))\n",
    "\n",
    "########################\n",
    "\n",
    "# AUTOMATIC DEFINITION OF PATHS\n",
    "resultpath = '/scratch/usr/hbkvsk12/hlrn3_work2/results/'+runid+'/Oldfiles/'\n",
    "savepath    = wd_path+'/figures/'+runid+'/'\n",
    "meshpath    = wd_path+'/data/mesh/meshArc4.5/'\n",
    "outputpath = '/scratch/usr/hbkoziel/Arc12/CSV/'\n",
    "\n",
    "# Create figure directory if it does not exist\n",
    "if os.path.exists(savepath) == False:\n",
    "    try:\n",
    "        os.mkdir(savepath)\n",
    "        print (\"Creation of the directory %s successfull\" % savepath)\n",
    "    except OSError:\n",
    "        print (\"Creation of the directory %s failed\" % savepath)\n",
    "else:\n",
    "    print (\"directory %s already existing\" % savepath)"
   ]
  },
  {
   "cell_type": "code",
   "execution_count": 4,
   "metadata": {},
   "outputs": [
    {
     "name": "stdout",
     "output_type": "stream",
     "text": [
      "/home/hbkoziel/pyfesom/data/mesh/meshArc4.5/pickle_mesh\n",
      "2\n",
      "The usepickle == True)\n",
      "The pickle file for python 2 exists.\n",
      "The mesh will be loaded from /home/hbkoziel/pyfesom/data/mesh/meshArc4.5/pickle_mesh\n"
     ]
    }
   ],
   "source": [
    "mesh = pf.load_mesh(meshpath, usepickle=True,get3d=get3d)"
   ]
  },
  {
   "cell_type": "code",
   "execution_count": 5,
   "metadata": {},
   "outputs": [],
   "source": [
    "ncfile      = meshpath+'Arc4.5.initial.mesh.diag.nc'\n",
    "f           = Dataset(ncfile, 'r')\n",
    "NodalAreaModel = f.variables['cluster_area'][:]"
   ]
  },
  {
   "cell_type": "code",
   "execution_count": 6,
   "metadata": {},
   "outputs": [
    {
     "name": "stdout",
     "output_type": "stream",
     "text": [
      "loading index...\n",
      "DONE\n"
     ]
    }
   ],
   "source": [
    "print('loading index...')\n",
    "df = pd.read_csv('/home/hbkoziel/awi-models/data/mesh/meshArc4.5/bioregion_index_latlon.csv', delimiter=',',header=0)\n",
    "print('DONE')\n",
    "#df.head()"
   ]
  },
  {
   "cell_type": "code",
   "execution_count": 7,
   "metadata": {},
   "outputs": [],
   "source": [
    "df.sort_values(by ='Unique_ID',inplace=True)\n",
    "index = df[\"Unique_ID\"]\n",
    "index_unique = df.Unique_ID.unique().tolist()\n",
    "index_unique.pop(-1)\n",
    "names = df.Name.unique().tolist()\n",
    "names.pop(-1)\n",
    "names[3]='Beaufort Sea - shelf'\n",
    "names[4]='Amundsen-Viscount'\n",
    "names.append('All Arctic Ocean (>66N)')"
   ]
  },
  {
   "cell_type": "code",
   "execution_count": 8,
   "metadata": {},
   "outputs": [],
   "source": [
    "def trim_axs(axs, N):\n",
    "    \"\"\"\n",
    "    Reduce *axs* to *N* Axes. All further Axes are removed from the figure.\n",
    "    \"\"\"\n",
    "    axs = axs.flat\n",
    "    for ax in axs[N:]:\n",
    "        ax.remove()\n",
    "    return axs[:N]"
   ]
  },
  {
   "cell_type": "code",
   "execution_count": null,
   "metadata": {},
   "outputs": [
    {
     "name": "stdout",
     "output_type": "stream",
     "text": [
      "1980\n",
      "1981\n",
      "1982\n",
      "1983\n",
      "1984\n",
      "1985\n",
      "1986\n",
      "1987\n",
      "1988\n",
      "1989\n",
      "1990\n",
      "1991\n",
      "1992\n",
      "1993\n",
      "1994\n",
      "1995\n",
      "1996\n",
      "1997\n",
      "1998\n",
      "1999\n",
      "2000\n",
      "2001\n",
      "2002\n",
      "2003\n",
      "2004\n",
      "2005\n",
      "2006\n",
      "2007\n",
      "2008\n",
      "2009\n",
      "2010\n",
      "2011\n",
      "2012\n",
      "2013\n",
      "2014\n"
     ]
    }
   ],
   "source": [
    "figsize = (14, 16)\n",
    "rows,cols = 7,4\n",
    "regions = range(0,28)\n",
    "\n",
    "fig = plt.figure(figsize=figsize, constrained_layout=False)\n",
    "axs = fig.subplots(rows,cols,sharey=False,sharex=True)\n",
    "axs = trim_axs(axs, len(regions))\n",
    "\n",
    "for ind in range(0,len(years)):\n",
    "    print years[ind]\n",
    "    ncfile  = resultpath+runid+'.'+str(years[ind])+'.ice.mean.nc'\n",
    "    f       = Dataset(ncfile, 'r')  \n",
    "    var     = f.variables[var_id][:,0:mesh.n2d]\n",
    "    for ax, bio_id in zip(axs, regions):\n",
    "        #print names[bio_id]\n",
    "        if bio_id ==27:\n",
    "            ind_arc = np.nonzero((mesh.y2>66))\n",
    "            pp = np.sum(np.squeeze(var[:,ind_arc])*NodalAreaModel[ind_arc], axis=1)/np.sum(NodalAreaModel[ind_arc])\n",
    "        else:\n",
    "            #df_lon.lon[df.full_index[index==num_id]]\n",
    "            ind_arc = df.full_index[df.Unique_ID == bio_id+24]\n",
    "            pp = np.sum(var[:,ind_arc]*NodalAreaModel[ind_arc], axis=1)/np.sum(NodalAreaModel[ind_arc])\n",
    "        \n",
    "        if ((years[ind] >= 2000) & (years[ind]<2015)):\n",
    "            ax.plot(np.arange(0,350,2),pp, color = cmap(ind))\n",
    "        elif years[ind] == 2015:\n",
    "            ax.plot(np.arange(0,334,2),pp, color = cmap(ind))\n",
    "        elif years[ind] <2000:\n",
    "            ax.plot(np.arange(15,350,30),pp, color = cmap(ind))\n",
    "        ax.set_title(names[bio_id])\n",
    "        \n",
    "        if bio_id in np.arange(0,28,4):\n",
    "            ax.set_ylabel('ice-con (%)')\n",
    "        if bio_id in np.arange(24,28):\n",
    "            ax.set_xlabel('time (years)')\n",
    "\n",
    "fig.subplots_adjust(right=0.9)\n",
    "\n",
    "cbar_ax = fig.add_axes([0.14, 0.07, 0.75, 0.02])\n",
    "norm = matplotlib.colors.BoundaryNorm(np.arange(len(years)+1)+0.5,len(years))\n",
    "sm = plt.cm.ScalarMappable(norm=norm, cmap=cmap)\n",
    "sm.set_array([])  # this line may be ommitted for matplotlib >= 3.1\n",
    "cb = fig.colorbar(sm, ticks=years, cax=cbar_ax, orientation='horizontal')\n",
    "\n",
    "cb.ax.tick_params(labelsize='large', rotation=90)\n",
    "cb.set_label(label='years', size='large')\n",
    "cb.set_ticks([np.arange(0,37)])\n",
    "cb.set_ticklabels(years)\n",
    "\n",
    "fig.savefig(savepath+'seasonal/bioregional_ICE_'+str(first_year)+'_'+str(last_year)+'.png', dpi = dpicnt, bbox_inches='tight')      "
   ]
  },
  {
   "cell_type": "code",
   "execution_count": null,
   "metadata": {},
   "outputs": [],
   "source": []
  }
 ],
 "metadata": {
  "kernelspec": {
   "display_name": "Python 2",
   "language": "python",
   "name": "python2"
  },
  "language_info": {
   "codemirror_mode": {
    "name": "ipython",
    "version": 2
   },
   "file_extension": ".py",
   "mimetype": "text/x-python",
   "name": "python",
   "nbconvert_exporter": "python",
   "pygments_lexer": "ipython2",
   "version": "2.7.16"
  }
 },
 "nbformat": 4,
 "nbformat_minor": 2
}
