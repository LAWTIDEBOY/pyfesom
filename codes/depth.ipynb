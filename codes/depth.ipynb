{
 "cells": [
  {
   "cell_type": "code",
   "execution_count": 7,
   "metadata": {},
   "outputs": [
    {
     "name": "stdout",
     "output_type": "stream",
     "text": [
      "computer =  ollie0\n",
      "working directory set to /home/ollie/loziel/pyfesom\n"
     ]
    }
   ],
   "source": [
    "import os\n",
    "from os.path import expanduser\n",
    "import socket\n",
    "import sys\n",
    "\n",
    "\n",
    "# BELOW IS SYSTEM/PATH CONFIGURATION #\n",
    "my_home = expanduser(\"~\")\n",
    "running_system = socket.gethostname()\n",
    "# Configure machine's names here #\n",
    "systemHLRN = 'blogin1'\n",
    "systemOLLIE = 'ollie0'\n",
    "systemLOCAL = 'Laurents-MacBook-Pro.local'\n",
    "my_home = expanduser(\"~\")\n",
    "# Define local pass #\n",
    "if running_system == systemLOCAL:\n",
    "    print \"computer = \", running_system\n",
    "    wd_path = os.path.join(my_home,\"Documents\",\"projects\", \"awi-models\")\n",
    "elif running_system[0] == \"b\" or running_system == systemHLRN:\n",
    "    print \"computer = \", running_system\n",
    "    wd_path = os.path.join(my_home,\"pyfesom\")\n",
    "elif running_system[0:5] == \"ollie\" or running_system == systemOLLIE:\n",
    "    print \"computer = \", running_system\n",
    "    wd_path = os.path.join(my_home,\"pyfesom\")\n",
    "else:\n",
    "    print 'please configure your local machine : type socket.gethostname()'\n",
    "print \"working directory set to\", wd_path\n",
    "os.chdir(wd_path)\n",
    "sys.path.append(\"codes/modules\")\n",
    "#########################################\n",
    "# APR = "
   ]
  },
  {
   "cell_type": "code",
   "execution_count": 8,
   "metadata": {},
   "outputs": [
    {
     "data": {
      "text/plain": [
       "'ollie0'"
      ]
     },
     "execution_count": 8,
     "metadata": {},
     "output_type": "execute_result"
    }
   ],
   "source": [
    "running_system"
   ]
  },
  {
   "cell_type": "code",
   "execution_count": 9,
   "metadata": {},
   "outputs": [],
   "source": [
    "import matplotlib.pyplot as plt\n",
    "from mpl_toolkits.basemap import Basemap\n",
    "from pylab import *\n",
    "from load_mesh_data_new import *\n",
    "import numpy as np\n",
    "import datetime as dt\n",
    "from PiecewiseNorm import PiecewiseNorm\n",
    "from netCDF4 import Dataset\n",
    "import colormaps as cmaps\n",
    "from matplotlib.colors import ListedColormap"
   ]
  },
  {
   "cell_type": "code",
   "execution_count": 6,
   "metadata": {},
   "outputs": [
    {
     "name": "stdout",
     "output_type": "stream",
     "text": [
      "directory /home/hbkoziel/awi-models/figures/Arc12/ already existing\n"
     ]
    }
   ],
   "source": [
    "# PLOT CONFIGURATION #\n",
    "\n",
    "# load colormaps #\n",
    "cmap = plt.get_cmap('RdBu_r')\n",
    "# figure export \n",
    "export_plot = True\n",
    "# figure export definition\n",
    "dpicnt=150\n",
    "# choose simulation\n",
    "runid='Arc12'\n",
    "# choose date\n",
    "first_year = 2000\n",
    "last_year  = 2000\n",
    "years      = np.arange(first_year,last_year+1,1)\n",
    "months =np.linspace(0,11,12).astype(int)\n",
    "# choose depth\n",
    "get3d = True\n",
    "\n",
    "########################\n",
    "\n",
    "# AUTOMATIC DEFINITION OF PATHS\n",
    "resultpath = '/scratch/usr/hbkvsk12/hlrn3_work2/results/'+runid+'/Oldfiles/'\n",
    "savepath    = wd_path+'/figures/'+runid+'/'\n",
    "meshpath    = wd_path+'/data/mesh/meshArc4.5/'\n",
    "\n",
    "# Create figure directory if it does not exist\n",
    "if os.path.exists(savepath) == False:\n",
    "    try:\n",
    "        os.mkdir(savepath)\n",
    "        print (\"Creation of the directory %s successfull\" % savepath)\n",
    "    except OSError:\n",
    "        print (\"Creation of the directory %s failed\" % savepath)\n",
    "else:\n",
    "    print (\"directory %s already existing\" % savepath)"
   ]
  },
  {
   "cell_type": "code",
   "execution_count": 7,
   "metadata": {},
   "outputs": [
    {
     "name": "stdout",
     "output_type": "stream",
     "text": [
      "Load 2d part of the grid in 5 second(s)\n",
      "Load 3d part of the grid in 58 seconds\n"
     ]
    }
   ],
   "source": [
    "mesh = fesom_mesh(meshpath, get3d = get3d)"
   ]
  },
  {
   "cell_type": "code",
   "execution_count": 9,
   "metadata": {},
   "outputs": [
    {
     "data": {
      "text/plain": [
       "[<matplotlib.lines.Line2D at 0x2aaae1eb5bd0>]"
      ]
     },
     "execution_count": 9,
     "metadata": {},
     "output_type": "execute_result"
    },
    {
     "data": {
      "image/png": "[encoded data removed]",
      "text/plain": [
       "<Figure size 432x288 with 1 Axes>"
      ]
     },
     "metadata": {
      "needs_background": "light"
     },
     "output_type": "display_data"
    }
   ],
   "source": [
    "plt.plot(mesh.zlevs)"
   ]
  },
  {
   "cell_type": "code",
   "execution_count": 11,
   "metadata": {},
   "outputs": [
    {
     "name": "stdout",
     "output_type": "stream",
     "text": [
      " 0 -0.0\n",
      "1 10.0\n",
      "2 20.0\n",
      "3 30.0\n",
      "4 40.0\n",
      "5 50.0\n",
      "6 60.0\n",
      "7 70.0\n",
      "8 80.0\n",
      "9 90.0\n",
      "10 100.0\n",
      "11 115.0\n",
      "12 135.0\n",
      "13 160.0\n",
      "14 190.0\n",
      "15 230.0\n",
      "16 280.0\n",
      "17 340.0\n",
      "18 410.0\n",
      "19 490.0\n",
      "20 580.0\n",
      "21 680.0\n",
      "22 790.0\n",
      "23 910.0\n",
      "24 1040.0\n",
      "25 1180.0\n",
      "26 1330.0\n",
      "27 1500.0\n",
      "28 1700.0\n",
      "29 1920.0\n",
      "30 2150.0\n",
      "31 2400.0\n",
      "32 2650.0\n",
      "33 2900.0\n",
      "34 3150.0\n",
      "35 3400.0\n",
      "36 3650.0\n",
      "37 3900.0\n",
      "38 4150.0\n",
      "39 4400.0\n",
      "40 4650.0\n",
      "41 4900.0\n",
      "42 5150.0\n",
      "43 5400.0\n",
      "44 5650.0\n"
     ]
    }
   ],
   "source": [
    "for i in range(0,45):\n",
    "    print i, mesh.zlevs[i]"
   ]
  },
  {
   "cell_type": "code",
   "execution_count": null,
   "metadata": {
    "collapsed": true
   },
   "outputs": [],
   "source": []
  }
 ],
 "metadata": {
  "kernelspec": {
   "display_name": "Python 2",
   "language": "python",
   "name": "python2"
  },
  "language_info": {
   "codemirror_mode": {
    "name": "ipython",
    "version": 2
   },
   "file_extension": ".py",
   "mimetype": "text/x-python",
   "name": "python",
   "nbconvert_exporter": "python",
   "pygments_lexer": "ipython2",
   "version": "2.7.14"
  }
 },
 "nbformat": 4,
 "nbformat_minor": 2
}
